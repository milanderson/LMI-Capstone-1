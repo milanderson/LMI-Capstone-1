{
 "cells": [
  {
   "cell_type": "markdown",
   "metadata": {},
   "source": [
    "# Rule Splitting & ElasticSearch Uploads\n",
    "## LMI Capstone Team\n",
    "## Summer Chambers | Steve Morris | Kaleb Shikur"
   ]
  },
  {
   "cell_type": "markdown",
   "metadata": {},
   "source": [
    "### Setup"
   ]
  },
  {
   "cell_type": "code",
   "execution_count": null,
   "metadata": {},
   "outputs": [],
   "source": [
    "import pandas as pd\n",
    "import elasticsearch\n",
    "from elasticsearch import Elasticsearch, RequestsHttpConnection, ElasticsearchException\n",
    "import regex as re\n",
    "from bs4 import BeautifulSoup\n",
    "import numpy as np\n",
    "import requests #gets urls\n",
    "import time\n",
    "import json\n",
    "import csv\n",
    "import os\n",
    "import sys"
   ]
  },
  {
   "cell_type": "code",
   "execution_count": null,
   "metadata": {},
   "outputs": [],
   "source": [
    "# 173.79.72.92, port 9200\n",
    "# host = '173.79.72.92'\n",
    "endpoint = 'https://search-lmi-capstone-2-525zkk33t4z5iy6ozqd63ctgmq.us-east-1.es.amazonaws.com/'"
   ]
  },
  {
   "cell_type": "code",
   "execution_count": null,
   "metadata": {},
   "outputs": [],
   "source": [
    "es = Elasticsearch(endpoint, timeout = 45)\n",
    "\n",
    "print(es.info())\n",
    "\n",
    "# es = Elasticsearch(\n",
    "#     hosts=[{'host': host, 'port': 443}],\n",
    "#     http_auth=auth,\n",
    "#     use_ssl=True,\n",
    "#     verify_certs=True,\n",
    "#     connection_class=RequestsHttpConnection\n",
    "# )\n",
    "# print(es.info())"
   ]
  },
  {
   "cell_type": "markdown",
   "metadata": {},
   "source": [
    "### Define Rule Splits"
   ]
  },
  {
   "cell_type": "code",
   "execution_count": null,
   "metadata": {},
   "outputs": [],
   "source": [
    "rule_url = \"https://mikeanders.org/data/CMS/CMS-2018-0101-0001/Rule/CMS-2018-0101-0001.txt\""
   ]
  },
  {
   "cell_type": "code",
   "execution_count": null,
   "metadata": {},
   "outputs": [],
   "source": [
    "def splitRule_headers(rule_url):\n",
    "\n",
    "    alltxt = requests.get(rule_url).text.lower()#.encode('unicode_escape').decode() #encodes like raw strings\n",
    "    \n",
    "    #Isolate Section 2\n",
    "    initialsplit = alltxt.split(\"ii. provisions of the proposed regulations\") #split before section 2\n",
    "    sec2andon = initialsplit[1] #choose latter half\n",
    "    sec2list = sec2andon.split(\"iii. collection of information requirements\") #split before section 3\n",
    "    splitlist = sec2list[0] #choose first half\n",
    "    \n",
    "    rulechunks = {}\n",
    "    \n",
    "    startdict = {'a2':['2. proposals for modified participation options under 5-year agreement periods', '3. creating a basic track with glide path to performance-based risk'], \\\n",
    "     'a3':['3. creating a basic track with glide path to performance-based risk', '4. permitting annual participation elections'], \\\n",
    "    'a4b':['b. proposals for permitting election of differing levels of risk within the basic track\\'s glide path', 'c. proposals for permitting annual election of beneficiary assignment methodology'], \\\n",
    "    'a4c':['c. proposals for permitting annual election of beneficiary assignment methodology', '5. determining participation options based on medicare ffs revenue and prior participation '], \\\n",
    "    'a5b':['b. differentiating between low revenue acos and high revenue acos', 'c. determining participation options based on prior participation of aco legal entity and aco participants'], \\\n",
    "    'a5c':['c. determining participation options based on prior participation of aco legal entity and aco participants', 'd. monitoring for financial performance'], \\\n",
    "    'a5d': ['d. monitoring for financial performance', '6. requirements for aco participation in two-sided models'], \\\n",
    "    'a6b': ['b. election of msr/mlr by acos', 'c. aco repayment mechanisms'], \\\n",
    "    'a6c': ['c. aco repayment mechanisms', 'd. advance notice for and payment consequences of termination '], \\\n",
    "    'a6d2': ['(2) proposals for advance notice of voluntary termination', '(3) proposals for payment consequences of termination'], \\\n",
    "    'a6d3': ['(3) proposals for payment consequences of termination', '7. participation options for agreement periods beginning in 2019'], \\\n",
    "    'a7b': ['b. methodology for determining financial and quality performance for the 6-month performance years during 2019', 'c. applicability of program policies to acos participating in a 6-month performance year'], \\\n",
    "    'a7c': ['c. applicability of program policies to acos participating in a 6-month performance year', 'b. fee-for-service benefit enhancements'], \\\n",
    "    'b2a': ['a. shared savings program snf 3-day rule waiver', 'b. billing and payment for telehealth services'], \\\n",
    "    'b2b': ['b. billing and payment for telehealth services', 'c. providing tools to strengthen beneficiary engagement'], \\\n",
    "    'c2': ['2. beneficiary incentives', '3. empowering beneficiary choice'], \\\n",
    "    'c3a': ['3. empowering beneficiary choice', 'b. beneficiary opt-in based assignment methodology'], \\\n",
    "    'c3b': ['b. beneficiary opt-in based assignment methodology', 'd. benchmarking methodology refinements'],  \\\n",
    "    'd2': ['2. risk adjustment methodology for adjusting historical benchmark each performance year', '3. use of regional factors when establishing and resetting acos\\' benchmarks'], \\\n",
    "    'd3b': ['b. proposals to apply regional expenditures in determining the benchmark for an aco\\'s first agreement period', 'c. proposals for modifying the regional adjustment'], \\\n",
    "    'd3c': ['c. proposals for modifying the regional adjustment', 'd. proposals for modifying the methodology for calculating growth rates used in establishing, resetting, and updating the benchmark'], \\\n",
    "    'd3d': ['d. proposals for modifying the methodology for calculating growth rates used in establishing, resetting, and updating the benchmark', '4. technical changes to incorporate references to benchmark rebasing policies'], \\\n",
    "    'd4': ['4. technical changes to incorporate references to benchmark rebasing policies', 'e. updating program policies'], \\\n",
    "    'e2': ['2. revisions to policies on voluntary alignment', '3. revisions to the definition of primary care services used in beneficiary assignment'], \\\n",
    "    'e3': ['3. revisions to the definition of primary care services used in beneficiary assignment', '4. extreme and uncontrollable circumstances policies for the shared savings program'], \\\n",
    "    'e4': ['4. extreme and uncontrollable circumstances policies for the shared savings program', '5. program data and quality measures'], \\\n",
    "    'e5':['5. program data and quality measures', '6. promoting interoperability'], \\\n",
    "    'e6':['6. promoting interoperability', '7. coordination of pharmacy care for aco beneficiaries'], \\\n",
    "    'e7':['7. coordination of pharmacy care for aco beneficiaries', 'f. applicability of proposed policies to track 1+ model acos'], \\\n",
    "    'f2':['2. unavailability of application cycles for entry into the track 1+ model in 2019 and 2020', '3. applicability of proposed policies to track 1+ model acos through revised program regulations or revisions to track 1+ model participation agreements'], \\\n",
    "    'f3':['3. applicability of proposed policies to track 1+ model acos through revised program regulations or revisions to track 1+ model participation agreements', 'g. summary of proposed timing of applicability']}\n",
    "    \n",
    "    for key, value in startdict.items():    \n",
    "       splitlist = splitlist.split(value[0]) #split on start of desired section\n",
    "       split_further = splitlist[1].split(value[1]) #split again on start of undesired section\n",
    "       rulechunks[key] = {\"text\": (value[0]+split_further[0])} #choose only first half to upload to dict\n",
    "       splitlist = splitlist[1] #choose second half to prepare for next split\n",
    "        \n",
    "    #lengths = [len(chunk) for chunk in rulechunks.values()]\n",
    "\n",
    "    return rulechunks"
   ]
  },
  {
   "cell_type": "markdown",
   "metadata": {},
   "source": [
    "#Updated Character-Count Split\n",
    "\n",
    "def splitRule_line_chars(rule_url):\n",
    "    #get rule\n",
    "    alltxt = requests.get(rule_url).text.lower()#.encode('unicode_escape').decode() #encodes like raw strings\n",
    "\n",
    "    #Isolate Section 2\n",
    "    initialsplit = alltxt.split(\"ii. provisions of the proposed regulations\") #split before section 2\n",
    "    sec2andon = initialsplit[1] #choose latter half\n",
    "    sec2list = sec2andon.split(\"iii. collection of information requirements\") #split before section 3\n",
    "    splitlist = sec2list[0] #choose first half\n",
    "    \n",
    "    #Split on new paragraphs\n",
    "    paragraphs = splitlist.split('\\r\\n')\n",
    "    \n",
    "    #add new lines while under 2000 characters\n",
    "    for i in range(len(paragraphs) - 1):\n",
    "        while i < (len(paragraphs)-1) and len(paragraphs[i]) < 2000:\n",
    "            paragraphs[i] += paragraphs[i+1]\n",
    "            del(paragraphs[i+1])\n",
    "\n",
    "    #add to dictionary\n",
    "    rulechunks = {}\n",
    "    keys = range(len(paragraphs))\n",
    "    for i in keys:\n",
    "        rulechunks[i] = {\"text\": paragraphs[i]}\n",
    "\n",
    "    return rulechunks"
   ]
  },
  {
   "cell_type": "markdown",
   "metadata": {},
   "source": [
    "splitchars = splitRule_line_chars(rule_url)\n",
    "lengths = {key: len(value2) for key, value in splitchars.items() for key2, value2 in value.items()}"
   ]
  },
  {
   "cell_type": "markdown",
   "metadata": {},
   "source": [
    "'''\n",
    "def splitRule_chars(rule_url):\n",
    "    alltxt = requests.get(rule_url).text.lower()#.encode('unicode_escape').decode() #encodes like raw strings\n",
    "    \n",
    "    #Isolate Section 2\n",
    "    initialsplit = alltxt.split(\"ii. provisions of the proposed regulations\") #split before section 2\n",
    "    sec2andon = initialsplit[1] #choose latter half\n",
    "    sec2list = sec2andon.split(\"iii. collection of information requirements\") #split before section 3\n",
    "    splitlist = sec2list[0] #choose first half\n",
    "    \n",
    "    #chunk by num chars\n",
    "    #chunklist = []\n",
    "    \n",
    "    chunklist = [(splitlist[i:i+8000]) for i in range(0, len(splitlist), 8000)]\n",
    "    \n",
    "    #make dict\n",
    "    rulechunks = {}\n",
    "    keys = range(len(chunklist))\n",
    "    for i in keys:\n",
    "        rulechunks[i] = {\"text\": chunklist[i]}\n",
    "\n",
    "    return rulechunks\n",
    "'''"
   ]
  },
  {
   "cell_type": "markdown",
   "metadata": {},
   "source": [
    "'''\n",
    "def splitRule_headchars(rule_url):\n",
    "    chunks = splitRule_headers(rule_url) #call first method\n",
    "    for key, value in chunks.items():\n",
    "        if len(value[\"text\"]) > 50000: #check to see if chunk is really long\n",
    "            smalldict = {}\n",
    "            chunklist = [value[\"text\"][i:i+25000] for i in range(0, len(value[\"text\"]), 25000)] #split chunk\n",
    "            keys = range(len(chunklist))\n",
    "            for i in keys:\n",
    "                smalldict[key+str(i)] = {\"text\": chunklist[i]} #add to sub-dictionary\n",
    "            chunks[key] = smalldict #add to big dictionary\n",
    "        else:\n",
    "            chunks[key] = {key+str(0): value} #add to big dictionary\n",
    "    return chunks\n",
    "'''"
   ]
  },
  {
   "cell_type": "code",
   "execution_count": null,
   "metadata": {},
   "outputs": [],
   "source": [
    "def splitRule_line_hybrid(rule_url):\n",
    "    new_rule_chunks = {}\n",
    "    chunks = splitRule_headers(rule_url)\n",
    "    for key, value in chunks.items():\n",
    "        for text, real_value in value.items():\n",
    "            paragraphs = real_value.split('\\r\\n')\n",
    "            #add new lines while under 2000 characters\n",
    "            for i in range(len(paragraphs) - 1):\n",
    "                while i < (len(paragraphs)-1) and len(paragraphs[i]) < 6000:\n",
    "                    paragraphs[i] += paragraphs[i+1]\n",
    "                    del(paragraphs[i+1])\n",
    "            for i in range(len(paragraphs)):\n",
    "                new_rule_chunks[key+str(i)] = {text: paragraphs[i]}\n",
    "    return new_rule_chunks"
   ]
  },
  {
   "cell_type": "code",
   "execution_count": null,
   "metadata": {},
   "outputs": [],
   "source": [
    "result = splitRule_line_hybrid(rule_url)\n",
    "lengths = {key: len(small_value) for key, value in result.items() for small_key, small_value in value.items()}"
   ]
  },
  {
   "cell_type": "markdown",
   "metadata": {},
   "source": [
    "### Uploading Rule Splits to ES"
   ]
  },
  {
   "cell_type": "code",
   "execution_count": null,
   "metadata": {},
   "outputs": [],
   "source": [
    "##es.indices.refresh(index=\"hybrid_4000\")"
   ]
  },
  {
   "cell_type": "code",
   "execution_count": null,
   "metadata": {},
   "outputs": [],
   "source": [
    "def rulesplit_toES(rulechunks, es_index, idnum):\n",
    "    for key, value in rulechunks.items():\n",
    "            res = es.index(index=es_index, id=idnum, body={key:value}, doc_type='_doc')\n",
    "            idnum += 1\n",
    "            es.indices.refresh(index=es_index)\n",
    "    print(f\"Last id uploaded: {idnum-1}\")"
   ]
  },
  {
   "cell_type": "markdown",
   "metadata": {},
   "source": [
    "'''\n",
    "def ruletoES_hybrid(rulechunks, es_index, idnum):\n",
    "    for key, value in rulechunks.items():\n",
    "        for small_key, small_value in value.items():\n",
    "            res = es.index(index=es_index, id=idnum, body={small_key:small_value})\n",
    "            idnum += 1\n",
    "            es.indices.refresh(index=es_index)\n",
    "    print(f\"Last id uploaded: {idnum-1}\")\n",
    "'''"
   ]
  },
  {
   "cell_type": "code",
   "execution_count": null,
   "metadata": {},
   "outputs": [],
   "source": [
    "rulesplit_test1 = splitRule_headers(rule_url)\n",
    "test_upload1 = rulesplit_toES(rulesplit_test1, \"headers\", 1)"
   ]
  },
  {
   "cell_type": "code",
   "execution_count": null,
   "metadata": {},
   "outputs": [],
   "source": [
    "rulesplit_test2 = splitRule_line_hybrid(rule_url)\n",
    "test_upload2 = rulesplit_toES(rulesplit_test2, \"hybrid_6000\", 1)"
   ]
  },
  {
   "cell_type": "markdown",
   "metadata": {},
   "source": [
    "### More Utilities:"
   ]
  },
  {
   "cell_type": "markdown",
   "metadata": {},
   "source": [
    "Delete an index:\n",
    "es.indices.delete(index='index_name', ignore=[400, 404])"
   ]
  },
  {
   "cell_type": "markdown",
   "metadata": {},
   "source": [
    "## Retrieve Comment Documents"
   ]
  },
  {
   "cell_type": "markdown",
   "metadata": {},
   "source": [
    "### Scrape comments"
   ]
  },
  {
   "cell_type": "code",
   "execution_count": null,
   "metadata": {},
   "outputs": [],
   "source": [
    "comment_url = \"https://mikeanders.org/data/CMS/CMS-2018-0101-0001/Comments/\""
   ]
  },
  {
   "cell_type": "code",
   "execution_count": null,
   "metadata": {},
   "outputs": [],
   "source": [
    "def retrieve_comments(comment_url):\n",
    "    comment_url = \"https://mikeanders.org/data/CMS/CMS-2018-0101-0001/Comments/\"\n",
    "    response = requests.get(comment_url)\n",
    "    soup = BeautifulSoup(response.text, 'html.parser')\n",
    "    a_tags = soup.findAll(\"a\")\n",
    "    links = [tag[\"href\"] for tag in a_tags]\n",
    "    txt_links = [link for link in links if '.txt' in link]\n",
    "    comments = {}\n",
    "    for suffix in txt_links:\n",
    "        comments[suffix] = requests.get(comment_url+suffix).text.lower()\n",
    "        #print(f\"scraping comment {suffix}\")\n",
    "    print(f\"scraped {len(txt_links)} comments\")\n",
    "    return comments"
   ]
  },
  {
   "cell_type": "code",
   "execution_count": null,
   "metadata": {},
   "outputs": [],
   "source": [
    "comments2018 = retrieve_comments(comment_url)"
   ]
  },
  {
   "cell_type": "code",
   "execution_count": null,
   "metadata": {},
   "outputs": [],
   "source": [
    "comment_lengths = {key: len(value) for key, value in comments2018.items()}\n",
    "sorted_comment_lengths = dict(sorted(comment_lengths.items(), key=lambda x: x[1]))"
   ]
  },
  {
   "cell_type": "code",
   "execution_count": null,
   "metadata": {},
   "outputs": [],
   "source": [
    "comments2018 = {(key[14:20]): value for key, value in comments2018.items()}\n",
    "sorted_keys = sorted(list(comments2018.keys()))\n",
    "\n",
    "# now for each key in the list\n",
    "for i in range(len(comments2018)-1):\n",
    "    # get key at index i and key at index i+1 and compare them\n",
    "    if sorted_keys[i+1][0:4] == sorted_keys[i][0:4]:\n",
    "        comments2018[sorted_keys[i+1]] = comments2018[sorted_keys[i]] + comments2018[sorted_keys[i+1]]\n",
    "        del(comments2018[sorted_keys[i]])"
   ]
  },
  {
   "cell_type": "code",
   "execution_count": null,
   "metadata": {},
   "outputs": [],
   "source": [
    "comments2018 = {key[0:4]:value for key, value in comments2018.items()}"
   ]
  },
  {
   "cell_type": "code",
   "execution_count": null,
   "metadata": {},
   "outputs": [],
   "source": [
    "len(comments2018)"
   ]
  },
  {
   "cell_type": "markdown",
   "metadata": {},
   "source": [
    "### Write to .json"
   ]
  },
  {
   "cell_type": "code",
   "execution_count": null,
   "metadata": {},
   "outputs": [],
   "source": [
    "comment_json = json.dumps(comments2018)\n",
    "f = open('comments2018.json','w')\n",
    "f.write(comment_json)\n",
    "f.close()"
   ]
  },
  {
   "cell_type": "markdown",
   "metadata": {},
   "source": [
    "## Read .json (avoid scraping comments)"
   ]
  },
  {
   "cell_type": "code",
   "execution_count": null,
   "metadata": {},
   "outputs": [],
   "source": [
    "with open('comments2018.json') as f:\n",
    "    comments2018 = json.load(f)"
   ]
  },
  {
   "cell_type": "markdown",
   "metadata": {},
   "source": [
    "### Remove duplicate comments, comments less than 30 characters long"
   ]
  },
  {
   "cell_type": "code",
   "execution_count": null,
   "metadata": {},
   "outputs": [],
   "source": [
    "reduced_comments2018 = {key: comment for key, comment in comments2018.items() if len(comment) >= 30}\n",
    "short_ones = {key: comment for key, comment in comments2018.items() if len(comment) < 30}\n",
    "list_reduced_comments2018 = list(reduced_comments2018.values())\n",
    "len(reduced_comments2018)\n",
    "short_ones #these seem okay to remove"
   ]
  },
  {
   "cell_type": "code",
   "execution_count": null,
   "metadata": {},
   "outputs": [],
   "source": [
    "#from DeDuper import *"
   ]
  },
  {
   "cell_type": "code",
   "execution_count": 316,
   "metadata": {},
   "outputs": [],
   "source": [
    "from Levenshtein import distance\n",
    "def getDupes(texts):\n",
    "    toProcess = [(i, t) for i, t in enumerate(texts)]\n",
    "    groups = []\n",
    "    curIdx, curText = toProcess.pop()\n",
    "    while toProcess:\n",
    "        toComb = []\n",
    "        for i, (compIdx, compText) in enumerate([tup for tup in toProcess]):\n",
    "            targetLen = max(len(curText), len(compText)) if not len(curText) < 60 and len(compText) < 60 else min(len(curText), len(compText))\n",
    "            textDist = distance(curText, compText)\n",
    "            if textDist < (targetLen * 0.30) + max(0, (targetLen/2) - 30):\n",
    "                toComb.append((i, compIdx, textDist))\n",
    "        if toComb:\n",
    "            newGroup = [curIdx]\n",
    "            for idx, _, _ in toComb:\n",
    "                try:\n",
    "                    newGroup.append(toProcess.pop(idx)[0])\n",
    "                except Exception as e:\n",
    "                    print(e, \"at\", idx)\n",
    "                    continue\n",
    "            groups.append(newGroup)\n",
    "        if toProcess:\n",
    "            curIdx, curText = toProcess.pop()\n",
    "    return groups"
   ]
  },
  {
   "cell_type": "code",
   "execution_count": 317,
   "metadata": {},
   "outputs": [
    {
     "name": "stdout",
     "output_type": "stream",
     "text": [
      "pop index out of range at 450\n",
      "pop index out of range at 231\n",
      "pop index out of range at 232\n",
      "pop index out of range at 234\n",
      "pop index out of range at 235\n",
      "pop index out of range at 236\n",
      "pop index out of range at 237\n",
      "pop index out of range at 239\n",
      "pop index out of range at 240\n",
      "pop index out of range at 248\n",
      "pop index out of range at 253\n",
      "pop index out of range at 262\n",
      "pop index out of range at 263\n",
      "pop index out of range at 362\n",
      "pop index out of range at 364\n",
      "pop index out of range at 365\n",
      "pop index out of range at 143\n",
      "pop index out of range at 220\n",
      "pop index out of range at 222\n",
      "pop index out of range at 138\n",
      "pop index out of range at 57\n",
      "pop index out of range at 17\n",
      "pop index out of range at 18\n",
      "pop index out of range at 19\n",
      "pop index out of range at 12\n",
      "pop index out of range at 13\n"
     ]
    }
   ],
   "source": [
    "duplicates = getDupes(list_reduced_comments2018)"
   ]
  },
  {
   "cell_type": "code",
   "execution_count": 318,
   "metadata": {},
   "outputs": [
    {
     "name": "stdout",
     "output_type": "stream",
     "text": [
      "29\n"
     ]
    },
    {
     "data": {
      "text/plain": [
       "[[457, 412],\n",
       " [456,\n",
       "  1,\n",
       "  162,\n",
       "  167,\n",
       "  172,\n",
       "  175,\n",
       "  182,\n",
       "  185,\n",
       "  196,\n",
       "  234,\n",
       "  241,\n",
       "  256,\n",
       "  261,\n",
       "  266,\n",
       "  270,\n",
       "  281,\n",
       "  285,\n",
       "  303,\n",
       "  313,\n",
       "  317,\n",
       "  341,\n",
       "  347,\n",
       "  373,\n",
       "  443,\n",
       "  447,\n",
       "  449],\n",
       " [454, 253, 342, 391, 406, 419, 425, 453],\n",
       " [452, 336],\n",
       " [451,\n",
       "  165,\n",
       "  170,\n",
       "  173,\n",
       "  176,\n",
       "  178,\n",
       "  180,\n",
       "  184,\n",
       "  188,\n",
       "  192,\n",
       "  198,\n",
       "  200,\n",
       "  202,\n",
       "  208,\n",
       "  210,\n",
       "  224,\n",
       "  226,\n",
       "  244,\n",
       "  251,\n",
       "  268,\n",
       "  272,\n",
       "  275,\n",
       "  278,\n",
       "  283,\n",
       "  286,\n",
       "  288,\n",
       "  295,\n",
       "  297,\n",
       "  316,\n",
       "  322,\n",
       "  328,\n",
       "  332,\n",
       "  344,\n",
       "  355,\n",
       "  361,\n",
       "  365],\n",
       " [450, 186, 201, 214, 243, 249, 290, 337, 379, 385, 410, 445],\n",
       " [448, 314, 405],\n",
       " [446,\n",
       "  13,\n",
       "  16,\n",
       "  18,\n",
       "  20,\n",
       "  22,\n",
       "  24,\n",
       "  26,\n",
       "  28,\n",
       "  30,\n",
       "  32,\n",
       "  34,\n",
       "  36,\n",
       "  38,\n",
       "  40,\n",
       "  42,\n",
       "  44,\n",
       "  46,\n",
       "  48,\n",
       "  50,\n",
       "  52,\n",
       "  54,\n",
       "  56,\n",
       "  58,\n",
       "  60,\n",
       "  62,\n",
       "  64,\n",
       "  67,\n",
       "  69,\n",
       "  71,\n",
       "  73,\n",
       "  75,\n",
       "  77,\n",
       "  79,\n",
       "  81,\n",
       "  83,\n",
       "  85,\n",
       "  87,\n",
       "  89,\n",
       "  92,\n",
       "  94,\n",
       "  96,\n",
       "  98,\n",
       "  100,\n",
       "  102,\n",
       "  104,\n",
       "  106,\n",
       "  108,\n",
       "  110,\n",
       "  112,\n",
       "  114,\n",
       "  116,\n",
       "  118,\n",
       "  120,\n",
       "  122,\n",
       "  124,\n",
       "  126,\n",
       "  128,\n",
       "  130,\n",
       "  132,\n",
       "  135,\n",
       "  137,\n",
       "  139,\n",
       "  143,\n",
       "  145,\n",
       "  147,\n",
       "  149,\n",
       "  151,\n",
       "  153,\n",
       "  155,\n",
       "  157,\n",
       "  159,\n",
       "  161,\n",
       "  164,\n",
       "  168,\n",
       "  171,\n",
       "  177,\n",
       "  181,\n",
       "  187,\n",
       "  190,\n",
       "  193,\n",
       "  195,\n",
       "  199,\n",
       "  204,\n",
       "  206,\n",
       "  209,\n",
       "  212,\n",
       "  215,\n",
       "  217,\n",
       "  220,\n",
       "  222,\n",
       "  225,\n",
       "  228,\n",
       "  231,\n",
       "  233,\n",
       "  236,\n",
       "  238,\n",
       "  240,\n",
       "  245,\n",
       "  248,\n",
       "  252,\n",
       "  255,\n",
       "  259,\n",
       "  262,\n",
       "  264,\n",
       "  267,\n",
       "  271,\n",
       "  274,\n",
       "  277,\n",
       "  282,\n",
       "  287,\n",
       "  291,\n",
       "  294,\n",
       "  299,\n",
       "  301,\n",
       "  304,\n",
       "  306,\n",
       "  308,\n",
       "  310,\n",
       "  312,\n",
       "  318,\n",
       "  320,\n",
       "  323,\n",
       "  325,\n",
       "  329,\n",
       "  331,\n",
       "  334,\n",
       "  339,\n",
       "  343,\n",
       "  346,\n",
       "  349,\n",
       "  351,\n",
       "  354,\n",
       "  358,\n",
       "  370,\n",
       "  390,\n",
       "  395,\n",
       "  397,\n",
       "  402,\n",
       "  407,\n",
       "  411,\n",
       "  415,\n",
       "  427],\n",
       " [442,\n",
       "  15,\n",
       "  19,\n",
       "  23,\n",
       "  27,\n",
       "  31,\n",
       "  35,\n",
       "  39,\n",
       "  43,\n",
       "  47,\n",
       "  51,\n",
       "  55,\n",
       "  59,\n",
       "  63,\n",
       "  66,\n",
       "  70,\n",
       "  74,\n",
       "  78,\n",
       "  82,\n",
       "  86,\n",
       "  91,\n",
       "  95,\n",
       "  99,\n",
       "  103,\n",
       "  107,\n",
       "  111,\n",
       "  115,\n",
       "  119,\n",
       "  123,\n",
       "  127,\n",
       "  131,\n",
       "  134,\n",
       "  138,\n",
       "  142,\n",
       "  146,\n",
       "  150,\n",
       "  154,\n",
       "  158,\n",
       "  163,\n",
       "  169,\n",
       "  179,\n",
       "  189,\n",
       "  194,\n",
       "  203,\n",
       "  207,\n",
       "  213,\n",
       "  219,\n",
       "  223,\n",
       "  229,\n",
       "  232,\n",
       "  237,\n",
       "  246,\n",
       "  254,\n",
       "  258,\n",
       "  263,\n",
       "  273,\n",
       "  279,\n",
       "  284,\n",
       "  292,\n",
       "  296,\n",
       "  300,\n",
       "  305,\n",
       "  309,\n",
       "  315,\n",
       "  321,\n",
       "  326,\n",
       "  330,\n",
       "  335,\n",
       "  340,\n",
       "  348,\n",
       "  352,\n",
       "  356,\n",
       "  376,\n",
       "  381,\n",
       "  383,\n",
       "  386,\n",
       "  388,\n",
       "  398,\n",
       "  420,\n",
       "  423,\n",
       "  426,\n",
       "  430,\n",
       "  436],\n",
       " [441,\n",
       "  17,\n",
       "  25,\n",
       "  33,\n",
       "  41,\n",
       "  49,\n",
       "  57,\n",
       "  65,\n",
       "  72,\n",
       "  80,\n",
       "  90,\n",
       "  97,\n",
       "  105,\n",
       "  113,\n",
       "  121,\n",
       "  129,\n",
       "  140,\n",
       "  144,\n",
       "  152,\n",
       "  160,\n",
       "  174,\n",
       "  191,\n",
       "  205,\n",
       "  216,\n",
       "  221,\n",
       "  230,\n",
       "  239,\n",
       "  247,\n",
       "  257,\n",
       "  265,\n",
       "  276,\n",
       "  289,\n",
       "  298,\n",
       "  307,\n",
       "  319,\n",
       "  327,\n",
       "  338,\n",
       "  350,\n",
       "  369,\n",
       "  372,\n",
       "  393,\n",
       "  396,\n",
       "  404],\n",
       " [440, 378],\n",
       " [439,\n",
       "  21,\n",
       "  37,\n",
       "  53,\n",
       "  68,\n",
       "  88,\n",
       "  101,\n",
       "  117,\n",
       "  133,\n",
       "  141,\n",
       "  156,\n",
       "  183,\n",
       "  211,\n",
       "  227,\n",
       "  242,\n",
       "  260,\n",
       "  280,\n",
       "  302,\n",
       "  324,\n",
       "  345,\n",
       "  364,\n",
       "  375],\n",
       " [438, 357, 360, 368, 416],\n",
       " [437, 429],\n",
       " [435, 432],\n",
       " [434, 371, 380, 403],\n",
       " [433, 421],\n",
       " [431, 293],\n",
       " [422, 11],\n",
       " [418, 3, 394, 401],\n",
       " [414, 235],\n",
       " [413, 10, 353, 377],\n",
       " [409, 359],\n",
       " [399, 392],\n",
       " [384, 362],\n",
       " [269, 29, 61, 84, 109, 136, 166, 218],\n",
       " [250, 197],\n",
       " [148, 45, 93],\n",
       " [125, 76]]"
      ]
     },
     "execution_count": 318,
     "metadata": {},
     "output_type": "execute_result"
    }
   ],
   "source": [
    "print(len(duplicates))\n",
    "duplicates"
   ]
  },
  {
   "cell_type": "markdown",
   "metadata": {},
   "source": [
    "## Examine Duplicates"
   ]
  },
  {
   "cell_type": "code",
   "execution_count": 308,
   "metadata": {},
   "outputs": [],
   "source": [
    "dupdict = {}\n",
    "for i, dup in enumerate(duplicates):\n",
    "    dupdict[i] = [list_reduced_comments2018[idx][0:120] for idx in dup]"
   ]
  },
  {
   "cell_type": "code",
   "execution_count": 309,
   "metadata": {},
   "outputs": [
    {
     "data": {
      "text/plain": [
       "{0: ['please see attached. 1\\n october 16th, 2018\\n the honorable seema verma administrator centers for medicare & medicaid serv',\n",
       "  'trinity health appreciates the opportunity to respond to the centers for medicare & medicaid services (cms) proposed rul'],\n",
       " 1: ['dear administrator verma:\\r\\n\\r\\nthink is pleased to provide comments on the rfi on proposed changes to the mssp rules to al',\n",
       "  'dear ms. verma and the team,\\r\\n\\r\\ni can make this very long and detailed with references and evidence to support claims. b',\n",
       "  'as you know, under the current medicare shared savings program (mssp) beneficiary assignment regulations, an np is an au',\n",
       "  'i respectfully request cms change their input to reflect that rural acos should not be required to take risk.\\r\\n\\r\\nmy conc',\n",
       "  'see attached file(s)the honorable seema verma\\nadministrator\\ncenters for medicare & medicaid services\\nu.s. department of ',\n",
       "  'as you know, under the current medicare shared savings program (mssp) beneficiary assignment regulations, an np is an au',\n",
       "  'see attached file(s) the honorable seema verma administrator centers for medicare & medicaid services\\nu.s. department of',\n",
       "  'please see attached file.agency:  department of health and human services; centers for medicare & medicaid services\\ntitl',\n",
       "  'see attached document for detailed comments.seema verma\\nadministrator\\ncenters for medicare & medicaid services\\ndepartmen',\n",
       "  'attached please find aacap comments on the medicare shared savings program - pathways to success program (cms-1701-p).\\r\\n',\n",
       "  'see attached file(s) a central minnesota aco, llc\\n october 12, 2018\\n seema verma\\n administrator\\n centers for medicare an',\n",
       "  'see attached file(s)\\n1. buena vida \\n lt,buena vida y salijd (am good life & health ti\\n\\n',\n",
       "  \"see attached file(s) st luke s university health network 801 ['strum street bethlehem, pa 18015 484-526-4000 october 15,\",\n",
       "  'see attached file(s)\\n\\n 3800 kilroy airport way, suite 400, long beach, ca 90806 | tel: 888-569-7226 | fax: 562-308-2707 ',\n",
       "  'the honorable seema verma\\r\\nadministrator\\r\\ncenters for medicare & medicaid services\\r\\nu.s. department of health and human ',\n",
       "  'see attached file(s) october 15, 2018\\n re: comments related to mssp proposed rule, entitled medicare program; medicare s',\n",
       "  'as you know, under the current medicare shared savings program (mssp) beneficiary assignment regulations, an np is an au',\n",
       "  'the honorable seema verma\\r\\nadministrator\\r\\ncenters for medicare & medicaid services\\r\\nu.s. department of health and human ',\n",
       "  'please find the attached comments submitted on behalf of the california hospital association. if you have any questions,',\n",
       "  'see attached file(s).\\n 612 e. lamar blvd., suite 900, arlington, texas 76011-4130 | 682.236.6970\\n october 16, 2018\\n\\nms. ',\n",
       "  'ms. seema verma\\r\\nadministrator\\r\\ncenters for medicare and medicaid services\\r\\nu.s. department of health and human services',\n",
       "  'see attached file(s)\\r\\n\\r\\nwe ask that cms re-evaluate their proposed methodology for determining high revenue vs low reven',\n",
       "  'see attached 1\\n\\n october 16, 2018 seema verma, mph centers for medicare & medicaid services department of health and hum',\n",
       "  'attached please find the comment letter from unitypoint accountable care. unitypoint accountable care\\n 1776 west lakes p',\n",
       "  'the patient-centered primary care collaborative (pcpcc) appreciates this opportunity to provide comment on the administr',\n",
       "  'the elimination of track 1 and the introduction of the new 5-year basic and enhanced tracks as presented will stunt the '],\n",
       " 2: ['see attached file(s)october 16, 2018\\nthe honorable seema verma\\nadministrator\\ncenters for medicare & medicaid services\\nde',\n",
       "  'please see attached file. mom october 15, 2018 seema verma administrator centers for medicare & medicaid services depart',\n",
       "  'attached are comments on behalf of unitedhealth group.\\n\\n unitedhealth group comments medicare program: medicare shared s',\n",
       "  'see attached files. october 16, 2018\\nms. seema verma \\n administrator centers for medicare & medicaid services 200 indepe',\n",
       "  'see attached file(s)october 16, 2018\\r\\rvia electronic submission\\r\\rseema verma, administrator\\rcenters for medicare & medic',\n",
       "  'see attached file(s)\\n\\n\\n 10 s. academy st., suite 300 greenville, sc 29601\\n o: 864-241-5132\\n\\n october 16, 2018\\n\\n\\nms. seem',\n",
       "  'create a distinct set of participation levels for mssp acos that serve as the safety-net, and/or community health center',\n",
       "  'create a distinct set of participation levels for mssp acos that serve as safety-net and are community based and operate'],\n",
       " 3: ['the proposed rule specifies that it will reduce the maximum regional benchmarking from 70% to 50% and apply it during th',\n",
       "  'please find the attached comments of the american association of nurse practitioners 3 ensure that the template states t'],\n",
       " 4: ['the honorable seema verma\\r\\nadministrator\\r\\ncenters for medicare & medicaid services\\r\\nu.s. department of health and human ',\n",
       "  'the honorable seema verma\\r\\nadministrator\\r\\ncenters for medicare & medicaid services\\r\\nu.s. department of health and human ',\n",
       "  'the honorable seema verma\\r\\nadministrator\\r\\ncenters for medicare & medicaid services\\r\\nu.s. department of health and human ',\n",
       "  'see attached file(s)the honorable seema verma\\nadministrator\\ncenters for medicare & medicaid services\\nu.s. department of ',\n",
       "  'as you know, under the current medicare shared savings program (mssp) beneficiary assignment regulations, an np is an au',\n",
       "  're: cms-1701-p, medicare program; medicare shared savings program; accountable care organizationspathways to success\\r\\n\\r\\n',\n",
       "  'as you know, under the current medicare shared savings program (mssp) beneficiary assignment regulations, an np is an au',\n",
       "  'it is my opinion that the proposed rule pathways to success primarily focuses on moving those accountable care organizat',\n",
       "  'the honorable seema verma\\r\\nadministrator\\r\\ncenters for medicare & medicaid services\\r\\nu.s. department of health and human ',\n",
       "  'as you know, under the current medicare shared savings program (mssp) beneficiary assignment regulations, an np is an au',\n",
       "  '1.the survivability of small physician owned acos is being threatened by aggressive marketing and inducement of existing',\n",
       "  'please see attached pdf. brookings\\n 1775 massachusetts avenue, nw washington, dc 20036\\n telephone 202.797.6000\\n fax 202.',\n",
       "  'as you know, under the current medicare shared savings program (mssp) beneficiary assignment regulations, an np is an au',\n",
       "  'see attached file(s)mssp proposed rule comment re: cmsâ\\x80\\x931701â\\x80\\x93p, medicare program; medicare shared savings program; ac',\n",
       "  'the honorable seema verma\\r\\nadministrator\\r\\ncenters for medicare & medicaid services\\r\\nu.s. department of health and human ',\n",
       "  'as you know, under the current medicare shared savings program (mssp) beneficiary assignment regulations, an np is an au',\n",
       "  'the honorable seema verma\\r\\nadministrator\\r\\ncenters for medicare &amp; medicaid services\\r\\nu.s. department of health and hu',\n",
       "  'see attached file(s) high value healthcare collaborative october 16, 2018 seema verma administrator centers for medicare',\n",
       "  'our questions have been around reporting. if possible, we think it would be valuable if medicare would transition away f',\n",
       "  'the honorable seema verma\\r\\nadministrator\\r\\ncenters for medicare & medicaid services\\r\\nu.s. department of health and human ',\n",
       "  'as you know, under the current medicare shared savings program (mssp) beneficiary assignment regulations, an np is an au',\n",
       "  'as you know, under the current medicare shared savings program (mssp) beneficiary assignment regulations, an np is an au',\n",
       "  'as you know, under the current medicare shared savings program (mssp) beneficiary assignment regulations, an np is an au',\n",
       "  'as you know, under the current medicare shared savings program (mssp) beneficiary assignment regulations, an np is an au',\n",
       "  'as you know, under the current medicare shared savings program (mssp) beneficiary assignment regulations, an np is an au',\n",
       "  \"attached, please find wellcare's comments on the proposed rule, medicare program: medicare shared savings program; accou\",\n",
       "  'please see attached. bakerhostetler october 16, 2018 via electronic submission seema verma administrator centers for med',\n",
       "  'please see attached file.\\n\\n october 16, 2018\\n seema verma, administrator centers for medicare & medicaid services, depar',\n",
       "  'see attached file(s)the honorable seema verma\\nadministrator\\ncenters for medicare & medicaid services\\ndepartment of healt',\n",
       "  'attached is the comment letter from the minnesota hospital association.\\n\\n\\n october 16, 2018\\n\\n seema verma centers for me',\n",
       "  'hello,\\r\\n\\r\\nthank you for the opportunity to comment on this proposed rule. the west health institute encourages cms to mo',\n",
       "  're: proposed rural track for the medicare shared savings program\\r\\n\\r\\nstanton county hospital is an 18-bed critical access',\n",
       "  '1) for those acos that went into mssp track 1+ in 2018 as a pilot year, with the expectation that it would be offered fo',\n",
       "  'attached are the comments on the proposed rule from caravan health.\\n\\n\\n\\n\\n\\n october 16, 2018\\n\\n submitted electronically\\n s',\n",
       "  'on behalf of wilems resource group, a boutique health care firm that has supported over 100 acos nationwide, we are plea',\n",
       "  'comments from richmond good help aco, llc - dr. john mccurley\\nni. bon secours \\n october 16, 2018\\nms. seema verma \\n ni 1 '],\n",
       " 5: ['see attached i alliance ) sound policy. quality care.\\n of specialty \\\\ medicine\\n october 16, 2018\\n\\n\\n seema verma, mph\\n ce',\n",
       "  'banner health network, based in phoenix, az participated in pioneer aco for all 5 years before moving to mssp track 3 ac',\n",
       "  'see attached file(s)\\n\\n\\n october 11, 2018\\n seema verma, administrator centers for medicare and medicaid services departme',\n",
       "  'as you know, under the current medicare shared savings program (mssp) beneficiary assignment regulations, an np is an au',\n",
       "  'see attached : 425 | street, n.w. â\\x94¬ã³ suite 701\\n medicare : washington, dc 20001 mi = a payment advisory : 202-220-370',\n",
       "  'see attached file(s)\\n\\n\\n\\n sworpllais,\\n\\n\\n sy healthcare partners 2 of the north country\\n a collaborative vision - a single',\n",
       "  'allow acos to start a level a even regardless of risk experience level. this would allow the aco to acclimate to the new',\n",
       "  'attached are comments submitted on behalf of the surety & fidelity association of america 7 a  serving the industry sinc',\n",
       "  'dear administrator verma,\\r\\nas the executive director for a track 1 accountable care organization (aco), i wanted to shar',\n",
       "  'please see the attached comments from the california medical association.     \\npage | \\x13 page   \\\\* mergeformat \\x1411\\x15\\noctob',\n",
       "  'please see attached.\\n\\n by electronic submission\\n october 16, 2018\\n\\nms. seema verma \\n administrator, centers for medicare',\n",
       "  'please see attached.\\n 500 montgomery street, suite 820, alexandria va 22314 703.838.7500\\n october 16, 2018 the honorable'],\n",
       " 6: [\"this supplemental comment shares a submission to cms's annual call for measures from mental health america and several o\",\n",
       "  'on behalf of the american health care association/national center for assisted living, please find attached our comments',\n",
       "  'see attached file(s)\\n 800 n. glebe road  â\\x80¢  suite 500  â\\x80¢  arlington, virginia 22203  â\\x80¢  evolenthealth.com october '],\n",
       " 7: ['as you know, under the current medicare shared savings program (mssp) beneficiary assignment regulations, an np is an au',\n",
       "  'as you know, under the current medicare shared savings program (mssp) beneficiary assignment regulations, an np is an au',\n",
       "  'as you know, under the current medicare shared savings program (mssp) beneficiary assignment regulations, an np is an au',\n",
       "  'as you know, under the current medicare shared savings program (mssp) beneficiary assignment regulations, an np is an au',\n",
       "  'as you know, under the current medicare shared savings program (mssp) beneficiary assignment regulations, an np is an au',\n",
       "  'as you know, under the current medicare shared savings program (mssp) beneficiary assignment regulations, an np is an au',\n",
       "  'many elderly patients, such as i am, are not medically complex and are extremely well cared for by nps and pas as primar',\n",
       "  'as you know, under the current medicare shared savings program (mssp) beneficiary assignment regulations, an np is an au',\n",
       "  'as you know, under the current medicare shared savings program (mssp) beneficiary assignment regulations, an np is an au',\n",
       "  'as you know, under the current medicare shared savings program (mssp) beneficiary assignment regulations, an np is an au',\n",
       "  'as you know, under the current medicare shared savings program (mssp) beneficiary assignment regulations, an np is an au',\n",
       "  'as you know, under the current medicare shared savings program (mssp) beneficiary assignment regulations, an np is an au',\n",
       "  'as you know, under the current medicare shared savings program (mssp) beneficiary assignment regulations, an np is an au',\n",
       "  'as you know, under the current medicare shared savings program (mssp) beneficiary assignment regulations, an np is an au',\n",
       "  'how exactly does this two sided model reduce gaming opportunities?',\n",
       "  'as you know, under the current medicare shared savings program (mssp) beneficiary assignment regulations, an np is an au',\n",
       "  'as you know, under the current medicare shared savings program (mssp) beneficiary assignment regulations, an np is an au',\n",
       "  'as you know, under the current medicare shared savings program (mssp) beneficiary assignment regulations, an np is an au',\n",
       "  'as you know, under the current medicare shared savings program (mssp) beneficiary assignment regulations, an np is an au',\n",
       "  'please minimize unnecessary delays in care.\\r\\n\\r\\nas you know, under the current medicare shared savings program (mssp) ben',\n",
       "  'as you know, under the current medicare shared savings program (mssp) beneficiary assignment regulations, an np is an au',\n",
       "  'as you know, under the current medicare shared savings program (mssp) beneficiary assignment regulations, an np is an au',\n",
       "  'as you know, under the current medicare shared savings program (mssp) beneficiary assignment regulations, an np is an au',\n",
       "  'as you know, under the current medicare shared savings program (mssp) beneficiary assignment regulations, an np is an au',\n",
       "  'as you know, under the current medicare shared savings program (mssp) beneficiary assignment regulations, an np is an au',\n",
       "  'as you know, under the current medicare shared savings program (mssp) beneficiary assignment regulations, an np is an au',\n",
       "  'as you know, under the current medicare shared savings program (mssp) beneficiary assignment regulations, an np is an au',\n",
       "  'as you know, under the current medicare shared savings program (mssp) beneficiary assignment regulations, an np is an au',\n",
       "  'as you know, under the current medicare shared savings program (mssp) beneficiary assignment regulations, an np is an au',\n",
       "  'as you know, under the current medicare shared savings program (mssp) beneficiary assignment regulations, an np is an au',\n",
       "  'as you know, under the current medicare shared savings program (mssp) beneficiary assignment regulations, an np is an au',\n",
       "  'clarification in the final rule is requested regarding when the complete implementation of 2015 cehrt edition is require',\n",
       "  'as you know, under the current medicare shared savings program (mssp) beneficiary assignment regulations, an np is an au',\n",
       "  'see attached file for the comments from the american academy of neurology. 201 chicago avenue minneapolis, minnesota 554',\n",
       "  'as you know, under the current medicare shared savings program (mssp) beneficiary assignment regulations, an np is an au',\n",
       "  'as you know, under the current medicare shared savings program (mssp) beneficiary assignment regulations, an np is an au',\n",
       "  'as you know, under the current medicare shared savings program (mssp) beneficiary assignment regulations, an np is an au',\n",
       "  'as you know, under the current medicare shared savings program (mssp) beneficiary assignment regulations, an np is an au',\n",
       "  'as you know, under the current medicare shared savings program (mssp) beneficiary assignment regulations, an np is an au',\n",
       "  'as you know, under the current medicare shared savings program (mssp) beneficiary assignment regulations, an np is an au',\n",
       "  'nurse practitioners have been providing high quality, cost effective and culturally competent care since 1965. today, nu',\n",
       "  'as you know, under the current medicare shared savings program (mssp) beneficiary assignment regulations, an np is an au',\n",
       "  'as you know, under the current medicare shared savings program (mssp) beneficiary assignment regulations, an np is an au',\n",
       "  'as you know, under the current medicare shared savings program (mssp) beneficiary assignment regulations, an np is an au',\n",
       "  'as you know, under the current medicare shared savings program (mssp) beneficiary assignment regulations, an np is an au',\n",
       "  'as you know, under the current medicare shared savings program (mssp) beneficiary assignment regulations, an np is an au',\n",
       "  'as you know, under the current medicare shared savings program (mssp) beneficiary assignment regulations, an np is an au',\n",
       "  'as you know, under the current medicare shared savings program (mssp) beneficiary assignment regulations, an np is an au',\n",
       "  'as you know, under the current medicare shared savings program (mssp) beneficiary assignment regulations, an np is an au',\n",
       "  'as you know, under the current medicare shared savings program (mssp) beneficiary assignment regulations, an np is an au',\n",
       "  'as you know, under the current medicare shared savings program (mssp) beneficiary assignment regulations, an np is an au',\n",
       "  'as you know, under the current medicare shared savings program (mssp) beneficiary assignment regulations, an np is an au',\n",
       "  'as you know, under the current medicare shared savings program (mssp) beneficiary assignment regulations, an np is an au',\n",
       "  'as you know, under the current medicare shared savings program (mssp) beneficiary assignment regulations, an np is an au',\n",
       "  'as you know, under the current medicare shared savings program (mssp) beneficiary assignment regulations, an np is an au',\n",
       "  'as you know, under the current medicare shared savings program (mssp) beneficiary assignment regulations, an np is an au',\n",
       "  'as you know, under the current medicare shared savings program (mssp) beneficiary assignment regulations, an np is an au',\n",
       "  'as you know, under the current medicare shared savings program (mssp) beneficiary assignment regulations, an np is an au',\n",
       "  'as you know, under the current medicare shared savings program (mssp) beneficiary assignment regulations, an np is an au',\n",
       "  'as you know, under the current medicare shared savings program (mssp) beneficiary assignment regulations, an np is an au',\n",
       "  'as an rn care coordinator for delta hospital clinics in rural western colorado, i believe the proposed rule as written w',\n",
       "  'cms-1701-p995 east highway 33, suite 2 â\\x99¦ crete, ne 68333\\np: 402-826-3737 â\\x99¦ toll free 888-917-3772 â\\x99¦ f: 402-826-374',\n",
       "  'as you know, under the current medicare shared savings program (mssp) beneficiary assignment regulations, an np is an au',\n",
       "  'as you know, under the current medicare shared savings program (mssp) beneficiary assignment regulations, an np is an au',\n",
       "  'as you know, under the current medicare shared savings program (mssp) beneficiary assignment regulations, an np is an au',\n",
       "  'as you know, under the current medicare shared savings program (mssp) beneficiary assignment regulations, an np is an au',\n",
       "  'see attached file(s) below     as a family nurse practitioner with a specific interest in primary care, i would like to ',\n",
       "  'as you know, under the current medicare shared savings program (mssp) beneficiary assignment regulations, an np is an au',\n",
       "  'we have following comments on the proposed rule: changes under sections pertaining to assignment of medicare beneficiari',\n",
       "  'as you know, under the current medicare shared savings program (mssp) beneficiary assignment regulations, an np is an au',\n",
       "  'as you know, under the current medicare shared savings program (mssp) beneficiary assignment regulations, an np is an au',\n",
       "  \"a concern for this new proposed rule is that rural aco's should not have to take risk. our rural aco is a high -quality \",\n",
       "  'i am writing to express support for proposed changes outlined in document cms-1701-p as they relate to beneficiary engag',\n",
       "  'october 10, 2018\\r\\n\\r\\nseema verma\\r\\nadministrator\\r\\ncenters for medicare and medicaid services\\r\\ndepartment of health and hum',\n",
       "  'the honorable seema verma\\r\\nadministrator\\r\\ncenters for medicare & medicaid services\\r\\nu.s. department of health and human ',\n",
       "  'the honorable seema verma10/10/2018\\r\\nadministrator\\r\\ncenters for medicare & medicaid services\\r\\nu.s. department of health ',\n",
       "  'the honorable seema verma\\r\\nadministrator\\r\\ncenters for medicare & medicaid services\\r\\nu.s. department of health and human ',\n",
       "  'as you know, under the current medicare shared savings program (mssp) beneficiary assignment regulations, an np is an au',\n",
       "  'to medicare,\\r\\n\\r\\nas the medical director of a primary care physician led aco we are excited to have the opportunity to mo',\n",
       "  'dear administrator verma,\\r\\naugusta care partners is an accountable care organization (aco) based in rural virginia that ',\n",
       "  'see attached file(s)\\n\\n 1\\n\\n\\n october 1, 2018\\n\\n\\n seema verma, administrator centers for medicare & medicaid services depar',\n",
       "  'see attached file(s)the honorable seema verma\\nadministrator\\ncenters for medicare & medicaid services\\nu.s. department of ',\n",
       "  'see attached file(s) b ad\\n : 4*- caravanhealth\\n >\\n py\\n 4\\n october 12, 2018\\n submitted electronically\\n seema verma\\n admin',\n",
       "  'see attached file(s) seema verma administrator centers for medicare & medicaid services department of health & human ser',\n",
       "  'see attached file(s) fr\\n bipartisan policy center\\n october 12, 2018\\n the honorable seema verma\\n administrator\\n centers f',\n",
       "  'as you know, under the current medicare shared savings program (mssp) beneficiary assignment regulations, an np is an au',\n",
       "  'see attached file(s) 2200 river plaza drive\\n i sutter health sacramento, ca 95833\\n october 10, 2018\\n seema verma\\n admini',\n",
       "  'as you know, under the current medicare shared savings program (mssp) beneficiary assignment regulations, an np is an au',\n",
       "  'the proposed rule states one-sided model acos, which are not accountable for sharing in losses, have actually increased ',\n",
       "  'beneficiary notification\\r\\n\\r\\nadding a requirement for physicians to notify beneficiaries about aco participation at their',\n",
       "  'there seems to be a lack of clarity around the definition and impact of high revenue and low revenue acos within the pro',\n",
       "  'on behalf of henry ford health system (hfhs), i am pleased to submit our comment letter (attached) on the cms proposed r',\n",
       "  'good morning:\\r\\n\\r\\nthe medicare shared savings track has been very beneficial for patients and hospitals in rural america.',\n",
       "  'i am the chief executive officer of lincoln county hospital, which is located in a frontier county in northcentral kansa',\n",
       "  'caribbean accountable care ( a3446), in response to the notice of proposed rulemaking for: pathways to success for the m',\n",
       "  'see attached file(s) genesis october 15, 2018 seema verma administrator centers for medicare & medicaid services departm',\n",
       "  'see attached file(s) 9312 old georgetown road bethesda, md 20814-1621 tel: 301-571-9200\\n fax: 301-530-2752 wwww.apma.org',\n",
       "  'see attached file(s) bluecross blueshield association\\n an association of independent blue cross and blue shield plans\\n 1',\n",
       "  'see attached file(s) ccri) community care\\n october 10, 2018\\n centers for medicare & medicaid services department of heal',\n",
       "  'see attached file(s)\\n\\n signature\\n october 15, 2018\\n centers for medicare and medicaid services, department of health and',\n",
       "  'the honorable seema verma\\r\\nadministrator\\r\\ncenters for medicare & medicaid services\\r\\nu.s. department of health and human ',\n",
       "  'see attached file(s) the\\n mm ealthcare mebbquality mecoalition\\n\\n\\n\\n october 15, 2018\\n centers for medicare & medicaid ser',\n",
       "  'see attached file(s)the honorable seema verma\\nadministrator\\ncenters for medicare & medicaid services\\nu.s. department of ',\n",
       "  'see attached file(s) cms should modify the medicare shared savings progam based on a data-driven and evidence-based appr',\n",
       "  'see attached file(s)\\n\\n\\n\\n\\n\\n october 15, 2018\\n seema verma, administrator centers for medicare & medicaid services departm',\n",
       "  'the honorable seema verma\\r\\nadministrator\\r\\ncenters for medicare & medicaid services\\r\\nu.s. department of health and human ',\n",
       "  'as you know, under the current medicare shared savings program (mssp) beneficiary assignment regulations, an np is an au',\n",
       "  'as you know, under the current medicare shared savings program (mssp) beneficiary assignment regulations, an np is an au',\n",
       "  'as you know, under the current medicare shared savings program (mssp) beneficiary assignment regulations, an np is an au',\n",
       "  'as you know, under the current medicare shared savings program (mssp) beneficiary assignment regulations, an np is an au',\n",
       "  'the honorable seema verma\\r\\nadministrator\\r\\ncenters for medicare &amp; medicaid services\\r\\nu.s. department of health and hu',\n",
       "  'please see attached file for my comment.the honorable seema verma\\nadministrator\\ncenters for medicare & medicaid services',\n",
       "  'see attached file(s)\\x13page  \\x14\\x15\\nwww.ruralhealthweb.org\\ngovernment affairs office\\r1025 vermont avenue\\rsuite 1100\\rwashington',\n",
       "  'the honorable seema verma\\r\\nadministrator\\r\\ncenters for medicare & medicaid services\\r\\nu.s. department of health and human ',\n",
       "  'cms-1701-p, medicare program; medicare shared savings program; accountable care organizations--pathways to success.\\n\\n oc',\n",
       "  'as you know, under the current medicare shared savings program (mssp) beneficiary assignment regulations, an np is an au',\n",
       "  'see attached file(s)page \\x13 page   \\\\* mergeformat \\x146\\x15 | \\x13 numpages  \\\\* arabic  \\\\* mergeformat \\x146\\x15\\noctober 15, 2018\\ncenter',\n",
       "  'the honorable seema verma\\r\\nadministrator\\r\\ncenters for medicare & medicaid services\\r\\nu.s. department of health and human ',\n",
       "  'please see the attached comment letter from the american college of cardiology\\n\\n\\n\\n\\n\\n october 16, 2018\\n seema verma admin',\n",
       "  'seema verma\\r\\nadministrator\\r\\ncenters for medicare & medicaid services\\r\\ndepartment of health & human services\\r\\nattention: ',\n",
       "  'as you know, under the current medicare shared savings program (mssp) beneficiary assignment regulations, an np is an au',\n",
       "  'attached, please find comments from the college of american pathologists.\\n\\n 1\\n college of american pathologists 1001 g s',\n",
       "  'comments from the association of american medical colleges (aamc) are attached. ana:\\n\\n via electronic submission (www.re',\n",
       "  'on behalf of dignity health, i respectfully submit the attached comments.\\n\\n\\n\\n\\n october 16, 2018\\n\\n\\n\\nms. seema verma \\n adm',\n",
       "  'see attached letter\\n\\n\\n october 16, 2018\\n\\n seema verma administrator centers for medicare and medicaid services departmen',\n",
       "  'see attached file(s).\\n\\n\\n\\n october 16, 2018\\n\\n\\nms. seema verma  \\n administrator centers for medicare & medicaid services d',\n",
       "  'see attached file(s) los angeles office â\\x80¢ 915 wilshire blvd, suite 1620, los angeles, ca 90017 â\\x80¢ (213) 624-2274 sacr',\n",
       "  'see attached file(s)\\n october 16, 2018\\n seema verma, administrator centers for medicare & medicaid services 7500 securit',\n",
       "  'see attached file(s)\\n\\n october 16, 2018\\n\\nms. seema verma \\n administrator centers for medicare & medicaid services depart',\n",
       "  \"please accept amga's comments on the proposed medicare shared savings rule (cms-1701-p).     \\x13 page   \\\\* mergeformat \\x1417\",\n",
       "  'determining participant options based on prior participation of aco legal entity - entering into new agreement on 7/1/20',\n",
       "  \"please find attached comments on behalf of america's essential hospitals in response to cms-1701-p.\",\n",
       "  'please find attached comments from the federation of american hospitals. 750 9th street, nw, suite 600, washington, dc  ',\n",
       "  'see attached file(s)\\n\\n\\n\\n\\n\\n\\n\\n\\n\\n 110500 little patuxent parkway suite 210 columbia, md  21044-3585 (410) 740-9743\\n\\n washin',\n",
       "  'please find attached comments from the partnership to empower physician-led care (pepc). pepg\\n partnership to empower ph',\n",
       "  'see attached file(s)\\x07\\n\\x07\\ncomments on mssp proposed rule (cms-1701-p)\\npathways to success comment\\ncms must seriously consi',\n",
       "  'on behalf of the healthcare information and management systems society (himss), we are pleased to provide written commen',\n",
       "  'diabetic eye exam measure should be retired. this is a measure that is not normally rendered by the pcp and is not a cov',\n",
       "  \"attached please find the biotechnology innovation organization's comments on the centers for medicare & medicaid service\",\n",
       "  'see attached.\\n\\n\\n\\n 20 f street, nw, suite 200 washington, d.c. 20001 202.558.3000   â\\x80¢   fax 202.628.9244 www.businessgr',\n",
       "  'official comments from the american academy of pas.\\x13 page   \\\\* mergeformat \\x142\\x15\\x07\\n[type text]\\x07\\n\\x07\\n\\x07\\n\\x07\\n\\x07\\nâ© american academy',\n",
       "  'see attached file(s) west florida aco, llc 3543 little rd., suite c trinity, fl  34655 p:  1-855-955-west f:  727-498-50',\n",
       "  'baptist physician partners does not feel that 2 years is sufficient time in an upside-only model prior to moving to down'],\n",
       " 8: ['as you know, under the current medicare shared savings program (mssp) beneficiary assignment regulations, an np is an au',\n",
       "  'as you know, under the current medicare shared savings program (mssp) beneficiary assignment regulations, an np is an au',\n",
       "  'as you know, under the current medicare shared savings program (mssp) beneficiary assignment regulations, an np is an au',\n",
       "  'as you know, under the current medicare shared savings program (mssp) beneficiary assignment regulations, an np is an au',\n",
       "  'as you know, under the current medicare shared savings program (mssp) beneficiary assignment regulations, an np is an au',\n",
       "  'as you know, under the current medicare shared savings program (mssp) beneficiary assignment regulations, an np is an au',\n",
       "  'as you know, under the current medicare shared savings program (mssp) beneficiary assignment regulations, an np is an au',\n",
       "  'as you know, under the current medicare shared savings program (mssp) beneficiary assignment regulations, an np is an au',\n",
       "  'as you know, under the current medicare shared savings program (mssp) beneficiary assignment regulations, an np is an au',\n",
       "  'as you know, under the current medicare shared savings program (mssp) beneficiary assignment regulations, an np is an au',\n",
       "  'as you know, under the current medicare shared savings program (mssp) beneficiary assignment regulations, an np is an au',\n",
       "  'as you know, under the current medicare shared savings program (mssp) beneficiary assignment regulations, an np is an au',\n",
       "  'as you know, under the current medicare shared savings program (mssp) beneficiary assignment regulations, an np is an au',\n",
       "  'as you know, under the current medicare shared savings program (mssp) beneficiary assignment regulations, an np is an au',\n",
       "  'as you know, under the current medicare shared savings program (mssp) beneficiary assignment regulations, an np is an au',\n",
       "  'as you know, under the current medicare shared savings program (mssp) beneficiary assignment regulations, an np is an au',\n",
       "  'as you know, under the current medicare shared savings program (mssp) beneficiary assignment regulations, an np is an au',\n",
       "  'as you know, under the current medicare shared savings program (mssp) beneficiary assignment regulations, an np is an au',\n",
       "  'as you know, under the current medicare shared savings program (mssp) beneficiary assignment regulations, an np is an au',\n",
       "  'as you know, under the current medicare shared savings program (mssp) beneficiary assignment regulations, an np is an au',\n",
       "  'as you know, under the current medicare shared savings program (mssp) beneficiary assignment regulations, an np is an au',\n",
       "  'as you know, under the current medicare shared savings program (mssp) beneficiary assignment regulations, an np is an au',\n",
       "  'as you know, under the current medicare shared savings program (mssp) beneficiary assignment regulations, an np is an au',\n",
       "  'as you know, under the current medicare shared savings program (mssp) beneficiary assignment regulations, an np is an au',\n",
       "  'i lost my social security card',\n",
       "  'as you know, under the current medicare shared savings program (mssp) beneficiary assignment regulations, an np is an au',\n",
       "  'as you know, under the current medicare shared savings program (mssp) beneficiary assignment regulations, an np is an au',\n",
       "  'as medical director of a rural health clinic in lake city, co i would like to voice some serious concerns i have with th',\n",
       "  'value based care and population health strategies have been slow to move into rural communities in the \"middle\" of ameri',\n",
       "  'as you know, under the current medicare shared savings program (mssp) beneficiary assignment regulations, an np is an au',\n",
       "  'medicare program: medicare shared savings program; accountable care organizations pathways to success\\r\\nproposed rule by ',\n",
       "  'as you know, under the current medicare shared savings program (mssp) beneficiary assignment regulations, an np is an au',\n",
       "  'as you know, under the current medicare shared savings program (mssp) beneficiary assignment regulations, an np is an au',\n",
       "  'as you know, under the current medicare shared savings program (mssp) beneficiary assignment regulations, an np is an au',\n",
       "  'as you know, under the current medicare shared savings program (mssp) beneficiary assignment regulations, an np is an au',\n",
       "  'as you know, under the current medicare shared savings program (mssp) beneficiary assignment regulations, an np is an au',\n",
       "  'as you know, under the current medicare shared savings program (mssp) beneficiary assignment regulations, an np is an au',\n",
       "  'as you know, under the current medicare shared savings program (mssp) beneficiary assignment regulations, an np is an au',\n",
       "  'as you know, under the current medicare shared savings program (mssp) beneficiary assignment regulations, an np is an au',\n",
       "  'the honorable seema verma\\r\\nadministrator\\r\\ncenters for medicare & medicaid services\\r\\nu.s. department of health and human ',\n",
       "  'the honorable seema verma\\r\\nadministrator\\r\\ncenters for medicare &amp; medicaid services\\r\\nu.s. department of health and hu',\n",
       "  'the honorable seema verma\\r\\nadministrator\\r\\ncenters for medicare & medicaid services\\r\\nu.s. department of health and human ',\n",
       "  'i agree with the proposed rule to redesign the shared savings program into the two-sided model. for too long healthcare ',\n",
       "  'see attached file(s) mayo clinic 200 first street sw rochester, minnesota 55905 507-284-2511 mayoclinic.org october 12, ',\n",
       "  'i am in favor of shared risk. most chronic disease and failure of chronic disease management comes from 6 lifestyle beha',\n",
       "  'as you know, under the current medicare shared savings program (mssp) beneficiary assignment regulations, an np is an au',\n",
       "  'as you know, under the current medicare shared savings program (mssp) beneficiary assignment regulations, an np is an au',\n",
       "  'as you know, under the current medicare shared savings program (mssp) beneficiary assignment regulations, an np is an au',\n",
       "  \"rural participation in mssp and aco's is of vital importance to over 85 million americans living and working in rural or\",\n",
       "  'dear administrator verma,\\r\\n\\r\\nthe accountable care organizations that we have been associated with since 2012, atlantic a',\n",
       "  'as you know, under the current medicare shared savings program (mssp) beneficiary assignment regulations, an np is an au',\n",
       "  'the honorable seema verma\\r\\nadministrator\\r\\ncenters for medicare & medicaid services\\r\\nu.s. department of health and human ',\n",
       "  'while the cms revised aco and bundled payment models reflect the current leaderships continued commitment to develop sol',\n",
       "  'dear administrator verma,\\r\\naugusta care partners is an accountable care organization (aco) based in rural virginia that ',\n",
       "  'cms must seriously consider options strictly for rural providers when finalizing the proposed rule (cms-1707-p). the pro',\n",
       "  'attached please find comments on the mssp aco pathways to success proposed rule from the california primary care associa',\n",
       "  'as you know, under the current medicare shared savings program (mssp) beneficiary assignment regulations, an np is an au',\n",
       "  'as you know, under the current medicare shared savings program (mssp) beneficiary assignment regulations, an np is an au',\n",
       "  'as you know, under the current medicare shared savings program (mssp) beneficiary assignment regulations, an np is an au',\n",
       "  'the honorable seema verma\\r\\nadministrator\\r\\ncenters for medicare & medicaid services\\r\\nu.s. department of health and human ',\n",
       "  'see attached file(s)\\n\\n october 16, 2018\\n\\nms. seema verma \\n administrator centers for medicare & medicaid services depart',\n",
       "  'see attached file(s)\\n\\n 1\\n gary stuck, do faafp chief medical officer, advocate aurora health 3075 highland parkway, suit',\n",
       "  'please see the attached comment letter from the national health council. board of directors\\n chairperson robert t. gebbi',\n",
       "  'as you know, under the current medicare shared savings program (mssp) beneficiary assignment regulations, an np is an au',\n",
       "  'see attached file(s)page \\x13 page \\x142\\x15 of \\x13 numpages  \\x142\\x15\\na2551 physicians aco, llc\\n10238 sw 86th circle, suite 200\\nocala, ',\n",
       "  'please see attached letter. steward health care system llc 111 huntington ave. suite 1800 boston, ma 02199 t: 617-419-47',\n",
       "  'regional adjustment\\r\\n\\r\\nthe current regional adjustment proposal includes a decrease in the weights that are applied to t',\n",
       "  \"attached, please find america's health insurance plans' (ahip) comment letter in response to cms-1701-p, the 2019 medica\",\n",
       "  \"please see the attached file for providence st. joseph health's comment letter. page 1 of 7\\n\\n\\n october 16, 2018\\n\\n seema \",\n",
       "  \"please see ochin's attached comments.\\n 1881 sw naito parkway, portland, or 97201    |    t: 503.943.2500    |    f: 503.\",\n",
       "  'dear administrator verma,\\r\\ni write in opposition to a few key aspects of the recent cms proposed \"pathways to success\" r',\n",
       "  'on behalf of the american college of emergency physicians (acep) and our 38,000 members, thank you for the opportunity t',\n",
       "  \"justice in aging's comments are attached.\\n\\n\\n october 16, 2018\\n centers for medicare & medicaid services department of he\",\n",
       "  'attached revised comments from the partnership to empower physician-led care. please disregard the previously submitted ',\n",
       "  'please read attached letter, attachment 1: cms-1701-p medicare program comments letter, for formal comments regarding cm',\n",
       "  'see attached file(s) october 16, 2018\\n the honorable seema verma administrator centers for medicare & medicaid services ',\n",
       "  'see attached files.\\n\\nms. seema verma \\n administrator centers for medicare & medicaid services 200 independence ave., s.w',\n",
       "  'please see philips healthcare comments attached.{d0799707.docx / 3 }\\nphilips, chief medical office\\noctober 16 2018\\non be',\n",
       "  'see attached file(s)\\nwww.nextgenaco.com \\n\\n\\n\\n october 16, 2018\\n the honorable seema verma administrator centers for medic',\n",
       "  'attached please find comments filed by lifespan health system. please let us know if you have any questions related to t',\n",
       "  'centers for medicare and medicaid services\\r\\ndepartment of health and human services\\r\\nattn: cms-1701-p\\r\\np.o. box 8013\\r\\nba',\n",
       "  'please find attached comments from the american medical rehabilitation providers association (amrpa).\\n richard kathrins,',\n",
       "  'see attached file(s)great plains of smith county, inc., dba smith county memorial hospital is a 16-bed critical access h'],\n",
       " 9: ['as you know, under the current medicare shared savings program (mssp) beneficiary assignment regulations, an np is an au',\n",
       "  'as you know, under the current medicare shared savings program (mssp) beneficiary assignment regulations, an np is an au',\n",
       "  'as you know, under the current medicare shared savings program (mssp) beneficiary assignment regulations, an np is an au',\n",
       "  'as you know, under the current medicare shared savings program (mssp) beneficiary assignment regulations, an np is an au',\n",
       "  'as you know, under the current medicare shared savings program (mssp) beneficiary assignment regulations, an np is an au',\n",
       "  'as you know, under the current medicare shared savings program (mssp) beneficiary assignment regulations, an np is an au',\n",
       "  'i practice in a rural area without enough physicians. wait times for an appointment for a physician can be as long as 4 ',\n",
       "  'as you know, under the current medicare shared savings program (mssp) beneficiary assignment regulations, an np is an au',\n",
       "  'as you know, under the current medicare shared savings program (mssp) beneficiary assignment regulations, an np is an au',\n",
       "  'see attached file for the comments from the american academy of neurology. 201 chicago avenue minneapolis, minnesota 554',\n",
       "  'as you know, under the current medicare shared savings program (mssp) beneficiary assignment regulations, an np is an au',\n",
       "  'as you know, under the current medicare shared savings program (mssp) beneficiary assignment regulations, an np is an au',\n",
       "  'as you know, under the current medicare shared savings program (mssp) beneficiary assignment regulations, an np is an au',\n",
       "  'as you know, under the current medicare shared savings program (mssp) beneficiary assignment regulations, an np is an au',\n",
       "  'as you know, under the current medicare shared savings program (mssp) beneficiary assignment regulations, an np is an au',\n",
       "  'as you know, under the current medicare shared savings program (mssp) beneficiary assignment regulations, an np is an au',\n",
       "  'as you know, under the current medicare shared savings program (mssp) beneficiary assignment regulations, an np is an au',\n",
       "  'as you know, under the current medicare shared savings program (mssp) beneficiary assignment regulations, an np is an au',\n",
       "  'as you know, under the current medicare shared savings program (mssp) beneficiary assignment regulations, an np is an au',\n",
       "  'as you know, under the current medicare shared savings program (mssp) beneficiary assignment regulations, an np is an au',\n",
       "  'see attached file(s)the honorable seema verma\\nadministrator\\ncenters for medicare & medicaid services\\nu.s. department of ',\n",
       "  \"please see the attached document with epic's comments on the proposed rule.\\n public comments on proposed pathways to suc\",\n",
       "  'please accept this comment letter, submitted on behalf of cigna. david schwartz head of global policy public policy and ',\n",
       "  '2019 agreements already cms-approved and signed\\r\\n\\r\\nwe are a 2016 track 1 physician-led aco and are very concerned about ',\n",
       "  'under the current medicare shared savings program (mssp) beneficiary assignment regulations, an np is an authorized aco ',\n",
       "  'novartis appreciates the opportunity to submit this letter regarding the medicare shared savings program and accountable',\n",
       "  'proposed rural track for the medicare shared savings program - kansas clinical improvement collaborative kansas clinical',\n",
       "  'ccc pathways to success proposed rule response (cms-1701-p)\\r\\n\\r\\n1.typically, in a risk bearing contract, the payor or the',\n",
       "  'the honorable seema verma\\r\\nadministrator\\r\\ncenters for medicare & medicaid services\\r\\nu.s. department of health and human ',\n",
       "  'see attached file(s) tri-coun health care clinics in: baxter bertha henning ottertail sebeka verndale we believe that ac',\n",
       "  'as you know, under the current medicare shared savings program (mssp) beneficiary assignment regulations, an np is an au',\n",
       "  'nosorh appreciates the opportunity to improve the mssp and to ensure high quality care for rural americans.\\n\\n\\n october 1',\n",
       "  'as you know, under the current medicare shared savings program (mssp) beneficiary assignment regulations, an np is an au',\n",
       "  're: cms-1701-p\\r\\n\\r\\n1. we are a mssp track 1 aco currently in the first year (py 2018) of a second three year agreement pe',\n",
       "  'the honorable seema verma\\r\\nadministrator\\r\\ncenters for medicare & medicaid services\\r\\nu.s. department of health and human ',\n",
       "  'see attached file(s)\\n october 16, 2018\\n\\nms. seema verma \\n administrator centers for medicare and medicaid services\\nu.s. ',\n",
       "  'see attached file(s)\\x07\\n\\x07\\n\\x07\\nmembers\\nclallam county phd no 1\\nforks community hospital\\njefferson county phd no 2\\njefferson h',\n",
       "  'on behalf of u.s. medical management, i am pleased to submit the attached comments in response to the medicare program: ',\n",
       "  'see attached\\n\\n\\n october 16, 2018\\n\\n seema verma, mph centers for medicare & medicaid services department of health and hu',\n",
       "  \"please find attached adventist health system's comments in response to cms' proposed changes to the medicare shared savi\",\n",
       "  \"see attached file j , -' \\x00 ceic4 nys  defining new directions 4 community health care association of new york state www.\",\n",
       "  'determining experienced vs. inexperienced based on participant providers (tin and npi) rather than the aco puts new acos',\n",
       "  'see attached file(s)\\n\\n october 16, 2018\\n via electronic submission\\n administrator seema verma centers for medicare & med'],\n",
       " 10: ['apha is pleased to submit comments to cmss proposed rule medicare program: medicare shared savings program; accountable ',\n",
       "  'see attached file(s)\\n 1\\nwww.hcttf.org \\n\\n october 16, 2018 via electronic mail seema verma administrator centers for medi'],\n",
       " 11: ['as you know, under the current medicare shared savings program (mssp) beneficiary assignment regulations, an np is an au',\n",
       "  'as you know, under the current medicare shared savings program (mssp) beneficiary assignment regulations, an np is an au',\n",
       "  'as you know, under the current medicare shared savings program (mssp) beneficiary assignment regulations, an np is an au',\n",
       "  'failure is not an option was the culture of nasa during the apollo missions and paraphrased from an interview with jerry',\n",
       "  'as you know, under the current medicare shared savings program (mssp) beneficiary assignment regulations, an np is an au',\n",
       "  'as you know, under the current medicare shared savings program (mssp) beneficiary assignment regulations, an np is an au',\n",
       "  'as you know, under the current medicare shared savings program (mssp) beneficiary assignment regulations, an np is an au',\n",
       "  'as you know, under the current medicare shared savings program (mssp) beneficiary assignment regulations, an np is an au',\n",
       "  'as you know, under the current medicare shared savings program (mssp) beneficiary assignment regulations, an np is an au',\n",
       "  'as you know, under the current medicare shared savings program (mssp) beneficiary assignment regulations, an np is an au',\n",
       "  'as you know, under the current medicare shared savings program (mssp) beneficiary assignment regulations, an np is an au',\n",
       "  'the honorable seema verma\\r\\nadministrator\\r\\ncenters for medicare & medicaid services\\r\\nu.s. department of health and human ',\n",
       "  'the honorable seema verma\\r\\nadministrator\\r\\ncenters for medicare & medicaid services\\r\\nu.s. department of health and human ',\n",
       "  'as you know, under the current medicare shared savings program (mssp) beneficiary assignment regulations, an np is an au',\n",
       "  'see attachment am ag james l. madara, md rt\\n e ve vice president. ceo t (312) 464-5000 american medica executive via e p',\n",
       "  'the current proposal is to cap risk score benchmark adjustments at +/- 3% from the baseline year 3 (by3) to the performa',\n",
       "  're: medicare program; medicare shared savings program; accountable care organizations-pathways to success [cms-1701-p]\\r\\n',\n",
       "  're: proposed rural track for the medicare shared savings program\\r\\n\\r\\nashland health center is a 25-bed critical access ho',\n",
       "  'the honorable seema verma\\r\\nadministrator\\r\\ncenters for medicare & medicaid services\\r\\nu.s. department of health and human ',\n",
       "  'on behalf of northern light health (formerly emhs) member organizations and our accountable care organization, beacon he',\n",
       "  'please find comments from the national association of community health centers attached. main office\\n 7501 wisconsin ave',\n",
       "  'the national association of acos (naacos) is pleased to submit the attached comments in response to the proposed rule, m'],\n",
       " 12: ['the comments of the catholic health association of the united states are attached.\\n 1875 eye street nw, ste. 1000   wash',\n",
       "  'see attached file(s)\\n\\n\\n\\n\\n\\n\\n\\n\\n\\n\\n\\n\\n\\n october 16, 2018\\n\\n the honorable seema verma administrator centers for medicare and m',\n",
       "  'monitoring and termination for poor financial performance\\r\\n\\r\\nthe current proposal includes for performance years beginni',\n",
       "  'please accept the attached comments from amita health regarding the cms proposed rule: medicare program: medicare shared',\n",
       "  'we appreciate the opportunity to comment on the centers for medicare and medicaid services (cms) proposed rule to make c'],\n",
       " 13: ['see attached file(s) october 16, 2018\\nms. seema verma \\n\\nms. seema verma \\n october 16, 2018 page 2 of 16 4https://www.hea',\n",
       "  'please comments attached.\\n\\n\\n\\n\\n\\n\\n october 16, 2018\\n\\n\\nms. seema verma  \\n administrator centers for medicare & medicaid ser'],\n",
       " 14: ['see attached file(s)this letter offers comment from coastal medical, inc. on the recent mssp proposed rule. coastalâ\\x80\\x99s ',\n",
       "  'please see attached from the bjc aco, llc, an affiliate of bjc healthcare in st. louis. accountable care organization be'],\n",
       " 15: ['please see attached comment from the center for medication optimization.\\n\\n october 16, 2018\\n [submitted electronically t',\n",
       "  'see attached october 15, 2018 seema verma administrator centers for medicare & medicaid services department of health & ',\n",
       "  'see attached file(s)\\n 247 station drive, suite nw1 (617) 754-1000 phone westwood, ma 02090 (617) 754-1040 fax www.bidco.',\n",
       "  'please accept these comments on behalf of the next gen aco coalition.\\nwww.nextgenaco.com \\n\\n\\n\\n october 16, 2018\\n the hono'],\n",
       " 16: ['dear ms. verma,\\r\\n\\r\\nwe appreciate the opportunity to provide feedback on medicares proposed rule entitled, medicare share',\n",
       "  'the ohio state university wexner medical center (osuwmc) welcomes the opportunity to comment on cmss proposed rule entit'],\n",
       " 17: ['this comment is requesting additional rule changes for the snf 3-day waiver. we agree with the expansion to include swin',\n",
       "  'cms-1701-p\\r\\nproposed rule comment. please see attachment from prairie health ventures-npg health collaborative aco.\\r\\n\\r\\nt'],\n",
       " 18: ['please see attached letter.\\n\\n\\n\\n october 16, 2018\\n seema verma administrator centers for medicare and medicaid services\\nu',\n",
       "  'please see attached file harvard medical school department of health care policy\\n\\n 180 longwood avenue boston, ma 02115-'],\n",
       " 19: ['seema verma, administrator\\r\\ncenters for medicare & medicaid services\\r\\ndepartment of health and human services\\r\\nattention',\n",
       "  'comments regarding pathways to successcms-1701-p\\r\\n\\r\\nas president of the hackensack alliance aco, a track 1 mssp particip',\n",
       "  'in an effort to engage beneficiaries, this proposed rule intends to require that patients receive written notification a',\n",
       "  \"good afternoon -- please find summa health's comments to the proposed rule that evolves the medicare shared savings prog\"],\n",
       " 20: ['see attached file(s)\\n\\n\\n october 16, 2018\\n seema verma administrator centers for medicare & medicaid services department ',\n",
       "  'see attached october 12, 2018 seema verma, administrator centers for medicare & medicaid services department of health a'],\n",
       " 21: ['please see attached comments from anthem, inc.\\n\\n\\n\\n\\n\\n antheminc.com anthony mader vice president, public policy anthem, i',\n",
       "  'we have attached a pdf for your convience. centers for medicare & medicaid services, department of health and human serv',\n",
       "  'see attached file(s) nm northwestern medicine october 16, 2018 seema verma administrator centers for medicare and medica',\n",
       "  'october 16, 2018\\r\\n\\r\\nseema verma\\r\\nadministrator\\r\\ncenters for medicare & medicaid services\\r\\ndepartment of health and human'],\n",
       " 22: ['see attached file(s)\\n\\n\\n\\n 4600 edmundson road, st. louis, mo 63134 | 314-733-8800 | www.ascension.org\\n\\n october 16, 2018\\n',\n",
       "  'thank you for your consideration of the attached comments from the medical group management association.      1717 penns'],\n",
       " 23: ['see attached file(s)\\n 2800 rockcreek parkway kansas city, mo  64117 direct:  (816) 201-1024 fax:  (816) 474-1742\\n\\n octob',\n",
       "  'i.basic track\\r\\na.acos predominantly made up of critical access hospitals (cahs) are not in a position to take on downsid'],\n",
       " 24: ['please see the attached comment letter from the advanced medical technology association (advamed). thank you for the opp',\n",
       "  'see attached file for comments from novant health medical group in response to cms-1701-p, medicare program; medicare sh'],\n",
       " 25: ['as you know, under the current medicare shared savings program (mssp) beneficiary assignment regulations, an np is an au',\n",
       "  'as you know, under the current medicare shared savings program (mssp) beneficiary assignment regulations, an np is an au',\n",
       "  'as you know, under the current medicare shared savings program (mssp) beneficiary assignment regulations, an np is an au',\n",
       "  'as you know, under the current medicare shared savings program (mssp) beneficiary assignment regulations, an np is an au',\n",
       "  'as you know, under the current medicare shared savings program (mssp) beneficiary assignment regulations, an np is an au',\n",
       "  'as you know, under the current medicare shared savings program (mssp) beneficiary assignment regulations, an np is an au',\n",
       "  'please see attached letter with baptist health care partners, llc comments to the centers for medicare medicaid services',\n",
       "  'investment by rural physicians\\r\\n\\r\\nwe are a 2016 track 1 physician-led aco that operates with independent practices in ru'],\n",
       " 26: ['the honorable seema verma\\r\\nadministrator\\r\\ncenters for medicare & medicaid services\\r\\nu.s. department of health and human ',\n",
       "  'see attachementthe honorable seema verma\\nadministrator\\ncenters for medicare & medicaid services\\nu.s. department of healt'],\n",
       " 27: ['as you know, under the current medicare shared savings program (mssp) beneficiary assignment regulations, an np is an au',\n",
       "  'as you know, under the current medicare shared savings program (mssp) beneficiary assignment regulations, an np is an au',\n",
       "  'as you know, under the current medicare shared savings program (mssp) beneficiary assignment regulations, an np is an au'],\n",
       " 28: ['as you know, under the current medicare shared savings program (mssp) beneficiary assignment regulations, an np is an au',\n",
       "  'as you know, under the current medicare shared savings program (mssp) beneficiary assignment regulations, an np is an au']}"
      ]
     },
     "execution_count": 309,
     "metadata": {},
     "output_type": "execute_result"
    }
   ],
   "source": [
    "dupdict"
   ]
  },
  {
   "cell_type": "code",
   "execution_count": null,
   "metadata": {},
   "outputs": [],
   "source": [
    "tb_deleted = []\n",
    "for num, duplist in enumerate(duplicates):\n",
    "    for idx, comment in enumerate(list_reduced_comments2018):\n",
    "        if idx in duplist[:-1]:\n",
    "            tb_deleted.append(comment)"
   ]
  },
  {
   "cell_type": "code",
   "execution_count": null,
   "metadata": {},
   "outputs": [],
   "source": [
    "len(tb_deleted)"
   ]
  },
  {
   "cell_type": "code",
   "execution_count": null,
   "metadata": {},
   "outputs": [],
   "source": [
    "unique_comments2018 = {key:value for key, value in reduced_comments2018.items() if value not in tb_deleted}"
   ]
  },
  {
   "cell_type": "code",
   "execution_count": null,
   "metadata": {},
   "outputs": [],
   "source": [
    "len(unique_comments2018)"
   ]
  },
  {
   "cell_type": "code",
   "execution_count": 312,
   "metadata": {},
   "outputs": [],
   "source": [
    "dump = json.dumps(unique_comments2018)\n",
    "f = open('unique_comments2018.json','w')\n",
    "f.write(dump)\n",
    "f.close()"
   ]
  },
  {
   "cell_type": "markdown",
   "metadata": {},
   "source": [
    "### Testing other basic API Features"
   ]
  },
  {
   "cell_type": "markdown",
   "metadata": {},
   "source": [
    "Check to see if document_id exists in index"
   ]
  },
  {
   "cell_type": "code",
   "execution_count": null,
   "metadata": {},
   "outputs": [],
   "source": [
    "es.exists(index=\"headers\", id=17)"
   ]
  },
  {
   "cell_type": "markdown",
   "metadata": {},
   "source": [
    "View term vectors for a document"
   ]
  },
  {
   "cell_type": "code",
   "execution_count": null,
   "metadata": {},
   "outputs": [],
   "source": [
    "es.termvectors(index=\"headers\", id=6)"
   ]
  },
  {
   "cell_type": "markdown",
   "metadata": {},
   "source": [
    "See an explanation for a query's score"
   ]
  },
  {
   "cell_type": "code",
   "execution_count": null,
   "metadata": {},
   "outputs": [],
   "source": [
    "es.explain(index=\"hybrid_6000\", id=6, body={\"query\": test_comment0002_query}) "
   ]
  },
  {
   "cell_type": "markdown",
   "metadata": {},
   "source": [
    "### Test-Querying ES"
   ]
  },
  {
   "cell_type": "code",
   "execution_count": null,
   "metadata": {},
   "outputs": [],
   "source": [
    "#Single query\n",
    "def ES_search(es_index, querydict):\n",
    "    search = es.search(index=es_index, doc_type=\"_doc\", body={\"query\": querydict})\n",
    "    test_dict = {}\n",
    "    if search['hits']['hits'] != []:\n",
    "        for h in search['hits']['hits']:\n",
    "            key = list((h['_source'].keys()))\n",
    "            test_dict[key[0]]=h['_score']\n",
    "    return test_dict"
   ]
  },
  {
   "cell_type": "markdown",
   "metadata": {},
   "source": [
    "With \"Simple Query String\""
   ]
  },
  {
   "cell_type": "code",
   "execution_count": null,
   "metadata": {},
   "outputs": [],
   "source": [
    "test_comment0002_query = {\"simple_query_string\": {\"query\": comments2018[\"0002\"]}}"
   ]
  },
  {
   "cell_type": "code",
   "execution_count": null,
   "metadata": {},
   "outputs": [],
   "source": [
    "ES_search(\"hybrid_6000\", test_comment0002_query)"
   ]
  },
  {
   "cell_type": "markdown",
   "metadata": {},
   "source": [
    "With \"Query String\""
   ]
  },
  {
   "cell_type": "code",
   "execution_count": null,
   "metadata": {},
   "outputs": [],
   "source": [
    "query_string_test0002 = {\"query_string\": {\"query\": comments2018[\"0002\"],  \"minimum_should_match\": \"65%\"}}"
   ]
  },
  {
   "cell_type": "code",
   "execution_count": null,
   "metadata": {},
   "outputs": [],
   "source": [
    "ES_search(\"hybrid_6000\", query_string_test0002)"
   ]
  },
  {
   "cell_type": "markdown",
   "metadata": {},
   "source": [
    "With \"More Like This\""
   ]
  },
  {
   "cell_type": "code",
   "execution_count": null,
   "metadata": {},
   "outputs": [],
   "source": [
    "mlt_test0002 = {\"more_like_this\": {\"fields\": [\"text\"], \"like\": comments2018[\"0002\"], \"min_term_freq\": 2, \"max_query_terms\": 30}}"
   ]
  },
  {
   "cell_type": "code",
   "execution_count": null,
   "metadata": {},
   "outputs": [],
   "source": [
    "ES_search(\"hybrid_6000\", mlt_test0002)"
   ]
  },
  {
   "cell_type": "markdown",
   "metadata": {},
   "source": [
    "With \"Match\" or \"Match_Phrase\""
   ]
  },
  {
   "cell_type": "code",
   "execution_count": null,
   "metadata": {},
   "outputs": [],
   "source": [
    "match_test0002 = {\"match_phrase\" : {\"text\" : comments2018[\"0002\"]}}"
   ]
  },
  {
   "cell_type": "code",
   "execution_count": null,
   "metadata": {},
   "outputs": [],
   "source": [
    "ES_search(\"hybrid_6000\", match_test0002)"
   ]
  },
  {
   "cell_type": "markdown",
   "metadata": {},
   "source": [
    "### Querying Many Comments"
   ]
  },
  {
   "cell_type": "code",
   "execution_count": null,
   "metadata": {},
   "outputs": [],
   "source": [
    "es.indices.refresh(index='hybrid_6000')"
   ]
  },
  {
   "cell_type": "code",
   "execution_count": null,
   "metadata": {},
   "outputs": [],
   "source": [
    "def run_large_query(comment_dict, es_index):\n",
    "    results = {}\n",
    "    for key, value in comment_dict.items():\n",
    "        query = {\"simple_query_string\": {\"query\": value}}\n",
    "        try:\n",
    "            search1 = ES_search(es_index, query)\n",
    "        except ElasticsearchException as es1:\n",
    "            print(f'max clause error at {key}', end=' ')\n",
    "            #print(es1)\n",
    "        results[key] = list(search1.keys())\n",
    "        time.sleep(1)\n",
    "        es.indices.refresh(index=es_index)\n",
    "        print(key, end=' ')\n",
    "    return results"
   ]
  },
  {
   "cell_type": "code",
   "execution_count": null,
   "metadata": {},
   "outputs": [],
   "source": [
    "# dict_first3 = {key:value for key,value in comments2018}\n",
    "dict_first3 = {}\n",
    "for key in list(comments2018.keys())[0:3]:\n",
    "    dict_first3[key] = comments2018[key]"
   ]
  },
  {
   "cell_type": "code",
   "execution_count": null,
   "metadata": {},
   "outputs": [],
   "source": [
    "# Test CHARACTERS on dictionary of 3 key/value\n",
    "run_large_query(dict_first3, \"char_25000\")"
   ]
  },
  {
   "cell_type": "code",
   "execution_count": null,
   "metadata": {},
   "outputs": [],
   "source": [
    "# Test HEADERS on dictionary of 3 key/value\n",
    "run_large_query(dict_first3, \"headers_new\")"
   ]
  },
  {
   "cell_type": "code",
   "execution_count": null,
   "metadata": {},
   "outputs": [],
   "source": [
    "# Test HYBRID on dictionary of 3 key/value\n",
    "run_large_query(dict_first3, \"hybrid_6000\")"
   ]
  },
  {
   "cell_type": "markdown",
   "metadata": {},
   "source": [
    "#### CHARCTER Full dictionary Query"
   ]
  },
  {
   "cell_type": "code",
   "execution_count": null,
   "metadata": {},
   "outputs": [],
   "source": [
    "# CHARACTER Full dictionary Query\n",
    "char_results = run_large_query(comments2018, \"char_25000\")"
   ]
  },
  {
   "cell_type": "code",
   "execution_count": null,
   "metadata": {},
   "outputs": [],
   "source": [
    "# Capture CHARACTER results in CSV\n",
    "w = csv.writer(open('char_results.csv', 'w'))\n",
    "for key, val in results.items():\n",
    "    w.writerow([key,val])"
   ]
  },
  {
   "cell_type": "code",
   "execution_count": null,
   "metadata": {},
   "outputs": [],
   "source": [
    "# Capture CHARACTER results in JSON\n",
    "json = json.dumps(results)\n",
    "f = open('char_results.json','w')\n",
    "f.write(json)\n",
    "f.close()"
   ]
  },
  {
   "cell_type": "markdown",
   "metadata": {},
   "source": [
    "#### HEADERS Full dictionary Query"
   ]
  },
  {
   "cell_type": "code",
   "execution_count": null,
   "metadata": {},
   "outputs": [],
   "source": [
    "header_results = run_large_query(comments2018, \"headers_new\")"
   ]
  },
  {
   "cell_type": "code",
   "execution_count": null,
   "metadata": {},
   "outputs": [],
   "source": [
    "w = csv.writer(open('header_results2.csv', 'w'))\n",
    "for key, val in results.items():\n",
    "    w.writerow([key,val])"
   ]
  },
  {
   "cell_type": "code",
   "execution_count": null,
   "metadata": {},
   "outputs": [],
   "source": [
    "json = json.dumps(results)\n",
    "f = open('header_results2.json','w')\n",
    "f.write(json)\n",
    "f.close()"
   ]
  },
  {
   "cell_type": "markdown",
   "metadata": {},
   "source": [
    "#### HEADERS Unique dictionary Query"
   ]
  },
  {
   "cell_type": "code",
   "execution_count": 313,
   "metadata": {},
   "outputs": [
    {
     "name": "stdout",
     "output_type": "stream",
     "text": [
      "0002 0004 0006 0007 0008 0009 0010 0011 max clause error at 0013 0013 max clause error at 0014 0014 max clause error at 0016 0016 max clause error at 0201 0201 0222 0240 0300 0318 0344 0347 0370 0373 0374 0376 0377 max clause error at 0378 0378 0385 max clause error at 0386 0386 max clause error at 0388 0388 max clause error at 0389 0389 max clause error at 0393 0393 max clause error at 0398 0398 max clause error at 0400 0400 max clause error at 0403 0403 max clause error at 0411 0411 max clause error at 0412 0412 max clause error at 0414 0414 max clause error at 0415 0415 max clause error at 0416 0416 max clause error at 0419 0419 max clause error at 0423 0423 max clause error at 0427 0427 max clause error at 0428 0428 max clause error at 0432 0432 max clause error at 0435 0435 max clause error at 0438 0438 max clause error at 0439 0439 max clause error at 0440 0440 max clause error at 0443 0443 max clause error at 0448 0448 max clause error at 0456 0456 max clause error at 0457 0457 max clause error at 0461 0461 max clause error at 0465 0465 max clause error at 0467 0467 "
     ]
    }
   ],
   "source": [
    "header_results = run_large_query(unique_comments2018, \"headers\")"
   ]
  },
  {
   "cell_type": "code",
   "execution_count": 314,
   "metadata": {},
   "outputs": [],
   "source": [
    "dump = json.dumps(header_results)\n",
    "f = open('unique_header_results.json','w')\n",
    "f.write(dump)\n",
    "f.close()"
   ]
  },
  {
   "cell_type": "markdown",
   "metadata": {},
   "source": [
    "#### HYBRID Full dictionary Query"
   ]
  },
  {
   "cell_type": "code",
   "execution_count": null,
   "metadata": {},
   "outputs": [],
   "source": [
    "hybrid_results = run_large_query(comments2018, \"hybrid_6000\")"
   ]
  },
  {
   "cell_type": "code",
   "execution_count": null,
   "metadata": {},
   "outputs": [],
   "source": [
    "# Capture HYBRID results in CSV\n",
    "w = csv.writer(open('hybrid_results.csv', 'w'))\n",
    "for key, val in hybrid_results.items():\n",
    "    w.writerow([key,val])"
   ]
  },
  {
   "cell_type": "code",
   "execution_count": null,
   "metadata": {},
   "outputs": [],
   "source": [
    "# Capture HYBRID results in JSON\n",
    "json = json.dumps(hybrid_results)\n",
    "f = open('hybrid_results.json','w')\n",
    "f.write(json)\n",
    "f.close()"
   ]
  },
  {
   "cell_type": "code",
   "execution_count": null,
   "metadata": {},
   "outputs": [],
   "source": []
  }
 ],
 "metadata": {
  "kernelspec": {
   "display_name": "Python 3",
   "language": "python",
   "name": "python3"
  },
  "language_info": {
   "codemirror_mode": {
    "name": "ipython",
    "version": 3
   },
   "file_extension": ".py",
   "mimetype": "text/x-python",
   "name": "python",
   "nbconvert_exporter": "python",
   "pygments_lexer": "ipython3",
   "version": "3.8.3"
  }
 },
 "nbformat": 4,
 "nbformat_minor": 4
}
