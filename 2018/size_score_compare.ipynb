{
 "cells": [
  {
   "cell_type": "markdown",
   "metadata": {},
   "source": [
    "# Scoring Elaticsearch Results\n",
    "### LMI Capstone Team\n",
    "### Summer Chambers | Steve Morris | Kaleb Shikur"
   ]
  },
  {
   "cell_type": "markdown",
   "metadata": {},
   "source": [
    "## Setup"
   ]
  },
  {
   "cell_type": "code",
   "execution_count": 1,
   "metadata": {},
   "outputs": [],
   "source": [
    "import pandas as pd\n",
    "import numpy as np\n",
    "import json\n",
    "import math\n",
    "from statistics import mode\n",
    "from sklearn.metrics import ndcg_score, f1_score, average_precision_score\n",
    "from matplotlib import pyplot as plt\n",
    "import seaborn as sns"
   ]
  },
  {
   "cell_type": "code",
   "execution_count": 55,
   "metadata": {},
   "outputs": [
    {
     "data": {
      "text/plain": [
       "'C:\\\\Users\\\\steph\\\\Desktop\\\\Capstone\\\\LMI-Capstone-1\\\\2018'"
      ]
     },
     "execution_count": 55,
     "metadata": {},
     "output_type": "execute_result"
    }
   ],
   "source": [
    "import os\n",
    "os.getcwd()"
   ]
  },
  {
   "cell_type": "code",
   "execution_count": 2,
   "metadata": {},
   "outputs": [],
   "source": [
    "metadata_url = \"https://mikeanders.org/data/CMS/CMS-2018-0101-0001/CMS-1701-P%20Comment%20MetaData.csv\"\n",
    "data = pd.read_csv(metadata_url, usecols=range(0,36))[:468] #ignore last few columns and blank rows at end of csv \n",
    "data = data.rename(columns=lambda x: x.strip()) #strip whitespace from columns"
   ]
  },
  {
   "cell_type": "code",
   "execution_count": 3,
   "metadata": {},
   "outputs": [],
   "source": [
    "data10 = data.fillna(0) #fill NaN with 0\n",
    "\n",
    "section_cols = data10.columns[3:] \n",
    "data10[section_cols] = data10[section_cols].replace([\"Y\"], 1) #replace Y with 1 in approriate columns\n",
    "data11 = data10.copy()\n",
    "section_cols1  = data11.columns[3:] \n",
    "data11[section_cols1] = np.where((data11[section_cols1]  != 1), 0, data11[section_cols1])\n",
    "\n",
    "# Combining columns for index matching: (A6b, A6b.1, = A6b),  (C3b, C3b.1'= C3b) ('A7', 'A7.1', 'A7.2', = A7b, a7c),  (F = F2, F3)\n",
    "\n",
    "data11['A6b'] = (data11['A6b'] + data11['A6b.1'])\n",
    "data11['A6b'] = data11['A6b'].replace(2,1)\n",
    "data11['C3b'] = (data11['C3b'] + data11['C3b.1'])\n",
    "data11['C3b'] = data11['C3b'].replace(2,1)\n",
    "data11['A7'] = (data11['A7'] + data11['A7.1'] + data11['A7.2'])\n",
    "data11['A7'] = data11['A7'].replace(2,1)\n",
    "data11['A7'] = data11['A7'].replace(3,1)\n",
    "\n",
    "data11 = data11.drop(['A6b.1', 'C3b.1', 'A7.1', 'A7.2'], axis=1)\n",
    "data11.Name = [name.split('DRAFT-')[1].split('-')[0] for name in data11.Name]\n",
    "data11 = data11.rename(columns=lambda x: x.lower())\n",
    "section_cols1 = data11.columns[3:]"
   ]
  },
  {
   "cell_type": "code",
   "execution_count": 4,
   "metadata": {},
   "outputs": [
    {
     "data": {
      "text/html": [
       "<div>\n",
       "<style scoped>\n",
       "    .dataframe tbody tr th:only-of-type {\n",
       "        vertical-align: middle;\n",
       "    }\n",
       "\n",
       "    .dataframe tbody tr th {\n",
       "        vertical-align: top;\n",
       "    }\n",
       "\n",
       "    .dataframe thead th {\n",
       "        text-align: right;\n",
       "    }\n",
       "</style>\n",
       "<table border=\"1\" class=\"dataframe\">\n",
       "  <thead>\n",
       "    <tr style=\"text-align: right;\">\n",
       "      <th></th>\n",
       "      <th>name</th>\n",
       "      <th>organization name / submitter name</th>\n",
       "      <th>submitter state</th>\n",
       "      <th>a2</th>\n",
       "      <th>a3</th>\n",
       "      <th>a4b</th>\n",
       "      <th>a4c</th>\n",
       "      <th>a5b</th>\n",
       "      <th>a5c</th>\n",
       "      <th>a5d</th>\n",
       "      <th>...</th>\n",
       "      <th>d3c</th>\n",
       "      <th>d3d</th>\n",
       "      <th>d4</th>\n",
       "      <th>e2</th>\n",
       "      <th>e3</th>\n",
       "      <th>e4</th>\n",
       "      <th>e5</th>\n",
       "      <th>e6</th>\n",
       "      <th>e7</th>\n",
       "      <th>f</th>\n",
       "    </tr>\n",
       "  </thead>\n",
       "  <tbody>\n",
       "    <tr>\n",
       "      <th>0</th>\n",
       "      <td>0002</td>\n",
       "      <td>Erick Meleher</td>\n",
       "      <td>NC</td>\n",
       "      <td>0</td>\n",
       "      <td>0</td>\n",
       "      <td>0</td>\n",
       "      <td>0</td>\n",
       "      <td>0</td>\n",
       "      <td>0</td>\n",
       "      <td>0</td>\n",
       "      <td>...</td>\n",
       "      <td>0</td>\n",
       "      <td>0</td>\n",
       "      <td>0</td>\n",
       "      <td>0</td>\n",
       "      <td>0</td>\n",
       "      <td>0</td>\n",
       "      <td>0</td>\n",
       "      <td>0</td>\n",
       "      <td>0</td>\n",
       "      <td>0</td>\n",
       "    </tr>\n",
       "    <tr>\n",
       "      <th>1</th>\n",
       "      <td>0003</td>\n",
       "      <td>Mayank Shah</td>\n",
       "      <td>IL</td>\n",
       "      <td>0</td>\n",
       "      <td>0</td>\n",
       "      <td>0</td>\n",
       "      <td>0</td>\n",
       "      <td>0</td>\n",
       "      <td>0</td>\n",
       "      <td>0</td>\n",
       "      <td>...</td>\n",
       "      <td>1</td>\n",
       "      <td>0</td>\n",
       "      <td>0</td>\n",
       "      <td>0</td>\n",
       "      <td>0</td>\n",
       "      <td>0</td>\n",
       "      <td>1</td>\n",
       "      <td>0</td>\n",
       "      <td>0</td>\n",
       "      <td>0</td>\n",
       "    </tr>\n",
       "    <tr>\n",
       "      <th>2</th>\n",
       "      <td>0004</td>\n",
       "      <td>Mayank Shah</td>\n",
       "      <td>IL</td>\n",
       "      <td>0</td>\n",
       "      <td>0</td>\n",
       "      <td>0</td>\n",
       "      <td>0</td>\n",
       "      <td>0</td>\n",
       "      <td>0</td>\n",
       "      <td>0</td>\n",
       "      <td>...</td>\n",
       "      <td>0</td>\n",
       "      <td>0</td>\n",
       "      <td>0</td>\n",
       "      <td>0</td>\n",
       "      <td>0</td>\n",
       "      <td>0</td>\n",
       "      <td>0</td>\n",
       "      <td>0</td>\n",
       "      <td>0</td>\n",
       "      <td>0</td>\n",
       "    </tr>\n",
       "    <tr>\n",
       "      <th>3</th>\n",
       "      <td>0005</td>\n",
       "      <td>Morey Menacker</td>\n",
       "      <td>NJ</td>\n",
       "      <td>0</td>\n",
       "      <td>0</td>\n",
       "      <td>0</td>\n",
       "      <td>0</td>\n",
       "      <td>1</td>\n",
       "      <td>0</td>\n",
       "      <td>0</td>\n",
       "      <td>...</td>\n",
       "      <td>0</td>\n",
       "      <td>0</td>\n",
       "      <td>0</td>\n",
       "      <td>0</td>\n",
       "      <td>0</td>\n",
       "      <td>0</td>\n",
       "      <td>0</td>\n",
       "      <td>0</td>\n",
       "      <td>0</td>\n",
       "      <td>0</td>\n",
       "    </tr>\n",
       "    <tr>\n",
       "      <th>4</th>\n",
       "      <td>0006</td>\n",
       "      <td>Todd Rapoza</td>\n",
       "      <td>MA</td>\n",
       "      <td>0</td>\n",
       "      <td>0</td>\n",
       "      <td>0</td>\n",
       "      <td>0</td>\n",
       "      <td>0</td>\n",
       "      <td>0</td>\n",
       "      <td>0</td>\n",
       "      <td>...</td>\n",
       "      <td>0</td>\n",
       "      <td>0</td>\n",
       "      <td>0</td>\n",
       "      <td>0</td>\n",
       "      <td>0</td>\n",
       "      <td>0</td>\n",
       "      <td>0</td>\n",
       "      <td>0</td>\n",
       "      <td>0</td>\n",
       "      <td>1</td>\n",
       "    </tr>\n",
       "    <tr>\n",
       "      <th>...</th>\n",
       "      <td>...</td>\n",
       "      <td>...</td>\n",
       "      <td>...</td>\n",
       "      <td>...</td>\n",
       "      <td>...</td>\n",
       "      <td>...</td>\n",
       "      <td>...</td>\n",
       "      <td>...</td>\n",
       "      <td>...</td>\n",
       "      <td>...</td>\n",
       "      <td>...</td>\n",
       "      <td>...</td>\n",
       "      <td>...</td>\n",
       "      <td>...</td>\n",
       "      <td>...</td>\n",
       "      <td>...</td>\n",
       "      <td>...</td>\n",
       "      <td>...</td>\n",
       "      <td>...</td>\n",
       "      <td>...</td>\n",
       "      <td>...</td>\n",
       "    </tr>\n",
       "    <tr>\n",
       "      <th>463</th>\n",
       "      <td>0465</td>\n",
       "      <td>Morehouse Choice Accountable Care Organization...</td>\n",
       "      <td>GA</td>\n",
       "      <td>1</td>\n",
       "      <td>1</td>\n",
       "      <td>0</td>\n",
       "      <td>0</td>\n",
       "      <td>1</td>\n",
       "      <td>0</td>\n",
       "      <td>1</td>\n",
       "      <td>...</td>\n",
       "      <td>1</td>\n",
       "      <td>0</td>\n",
       "      <td>0</td>\n",
       "      <td>0</td>\n",
       "      <td>0</td>\n",
       "      <td>0</td>\n",
       "      <td>0</td>\n",
       "      <td>1</td>\n",
       "      <td>0</td>\n",
       "      <td>0</td>\n",
       "    </tr>\n",
       "    <tr>\n",
       "      <th>464</th>\n",
       "      <td>0466</td>\n",
       "      <td>Liberty ACO</td>\n",
       "      <td>TX</td>\n",
       "      <td>0</td>\n",
       "      <td>1</td>\n",
       "      <td>0</td>\n",
       "      <td>0</td>\n",
       "      <td>0</td>\n",
       "      <td>0</td>\n",
       "      <td>0</td>\n",
       "      <td>...</td>\n",
       "      <td>0</td>\n",
       "      <td>0</td>\n",
       "      <td>0</td>\n",
       "      <td>0</td>\n",
       "      <td>0</td>\n",
       "      <td>0</td>\n",
       "      <td>0</td>\n",
       "      <td>0</td>\n",
       "      <td>0</td>\n",
       "      <td>0</td>\n",
       "    </tr>\n",
       "    <tr>\n",
       "      <th>465</th>\n",
       "      <td>0467</td>\n",
       "      <td>Washington State Hospital Association</td>\n",
       "      <td>WA</td>\n",
       "      <td>0</td>\n",
       "      <td>0</td>\n",
       "      <td>0</td>\n",
       "      <td>0</td>\n",
       "      <td>0</td>\n",
       "      <td>0</td>\n",
       "      <td>0</td>\n",
       "      <td>...</td>\n",
       "      <td>0</td>\n",
       "      <td>0</td>\n",
       "      <td>0</td>\n",
       "      <td>0</td>\n",
       "      <td>0</td>\n",
       "      <td>0</td>\n",
       "      <td>0</td>\n",
       "      <td>0</td>\n",
       "      <td>0</td>\n",
       "      <td>0</td>\n",
       "    </tr>\n",
       "    <tr>\n",
       "      <th>466</th>\n",
       "      <td>0468</td>\n",
       "      <td>Think Whole Person Healthcare</td>\n",
       "      <td>NE</td>\n",
       "      <td>1</td>\n",
       "      <td>0</td>\n",
       "      <td>0</td>\n",
       "      <td>0</td>\n",
       "      <td>0</td>\n",
       "      <td>0</td>\n",
       "      <td>0</td>\n",
       "      <td>...</td>\n",
       "      <td>0</td>\n",
       "      <td>0</td>\n",
       "      <td>0</td>\n",
       "      <td>0</td>\n",
       "      <td>0</td>\n",
       "      <td>0</td>\n",
       "      <td>0</td>\n",
       "      <td>0</td>\n",
       "      <td>0</td>\n",
       "      <td>0</td>\n",
       "    </tr>\n",
       "    <tr>\n",
       "      <th>467</th>\n",
       "      <td>0469</td>\n",
       "      <td>Palm Beach Accountable Care Organization</td>\n",
       "      <td>FL</td>\n",
       "      <td>0</td>\n",
       "      <td>1</td>\n",
       "      <td>0</td>\n",
       "      <td>1</td>\n",
       "      <td>1</td>\n",
       "      <td>1</td>\n",
       "      <td>0</td>\n",
       "      <td>...</td>\n",
       "      <td>1</td>\n",
       "      <td>0</td>\n",
       "      <td>0</td>\n",
       "      <td>0</td>\n",
       "      <td>1</td>\n",
       "      <td>1</td>\n",
       "      <td>0</td>\n",
       "      <td>1</td>\n",
       "      <td>0</td>\n",
       "      <td>0</td>\n",
       "    </tr>\n",
       "  </tbody>\n",
       "</table>\n",
       "<p>468 rows × 32 columns</p>\n",
       "</div>"
      ],
      "text/plain": [
       "     name                 organization name / submitter name submitter state  \\\n",
       "0    0002                                      Erick Meleher              NC   \n",
       "1    0003                                        Mayank Shah              IL   \n",
       "2    0004                                        Mayank Shah              IL   \n",
       "3    0005                                     Morey Menacker              NJ   \n",
       "4    0006                                        Todd Rapoza              MA   \n",
       "..    ...                                                ...             ...   \n",
       "463  0465  Morehouse Choice Accountable Care Organization...              GA   \n",
       "464  0466                                        Liberty ACO              TX   \n",
       "465  0467              Washington State Hospital Association              WA   \n",
       "466  0468                      Think Whole Person Healthcare              NE   \n",
       "467  0469           Palm Beach Accountable Care Organization              FL   \n",
       "\n",
       "     a2  a3  a4b  a4c  a5b  a5c  a5d  ...  d3c  d3d  d4  e2  e3  e4  e5  e6  \\\n",
       "0     0   0    0    0    0    0    0  ...    0    0   0   0   0   0   0   0   \n",
       "1     0   0    0    0    0    0    0  ...    1    0   0   0   0   0   1   0   \n",
       "2     0   0    0    0    0    0    0  ...    0    0   0   0   0   0   0   0   \n",
       "3     0   0    0    0    1    0    0  ...    0    0   0   0   0   0   0   0   \n",
       "4     0   0    0    0    0    0    0  ...    0    0   0   0   0   0   0   0   \n",
       "..   ..  ..  ...  ...  ...  ...  ...  ...  ...  ...  ..  ..  ..  ..  ..  ..   \n",
       "463   1   1    0    0    1    0    1  ...    1    0   0   0   0   0   0   1   \n",
       "464   0   1    0    0    0    0    0  ...    0    0   0   0   0   0   0   0   \n",
       "465   0   0    0    0    0    0    0  ...    0    0   0   0   0   0   0   0   \n",
       "466   1   0    0    0    0    0    0  ...    0    0   0   0   0   0   0   0   \n",
       "467   0   1    0    1    1    1    0  ...    1    0   0   0   1   1   0   1   \n",
       "\n",
       "     e7  f  \n",
       "0     0  0  \n",
       "1     0  0  \n",
       "2     0  0  \n",
       "3     0  0  \n",
       "4     0  1  \n",
       "..   .. ..  \n",
       "463   0  0  \n",
       "464   0  0  \n",
       "465   0  0  \n",
       "466   0  0  \n",
       "467   0  0  \n",
       "\n",
       "[468 rows x 32 columns]"
      ]
     },
     "execution_count": 4,
     "metadata": {},
     "output_type": "execute_result"
    }
   ],
   "source": [
    "data11"
   ]
  },
  {
   "cell_type": "code",
   "execution_count": 5,
   "metadata": {},
   "outputs": [],
   "source": [
    "truth_dict = {} # initiate dict\n",
    "for i, name in enumerate(data11.name): # iterate through Comment Names\n",
    "    dict1 = {col:data11[col].iloc[i] for col in section_cols1} # locate this row's values for each column\n",
    "    list1 = [key for key,value in dict1.items() if value==1] # create list of matching sections for this row\n",
    "    truth_dict[name] = list1 # add Comment Name and list of matching sections to dict"
   ]
  },
  {
   "cell_type": "code",
   "execution_count": 6,
   "metadata": {},
   "outputs": [],
   "source": [
    "with open(\"unique_comments2018.json\") as f:\n",
    "    unique_comments2018 = json.load(f)"
   ]
  },
  {
   "cell_type": "code",
   "execution_count": 7,
   "metadata": {},
   "outputs": [],
   "source": [
    "unique_data = data11.loc[data11['name'].isin(unique_comments2018.keys())]"
   ]
  },
  {
   "cell_type": "code",
   "execution_count": 8,
   "metadata": {},
   "outputs": [],
   "source": [
    "unique_truth_dict = {} # initiate dict\n",
    "for i, name in enumerate(unique_data.name): # iterate through Comment Names\n",
    "    dict1 = {col:unique_data[col].iloc[i] for col in section_cols1} # locate this row's values for each column\n",
    "    list1 = [key for key,value in dict1.items() if value==1] # create list of matching sections for this row\n",
    "    unique_truth_dict[name] = list1 # add Comment Name and list of matching sections to dict"
   ]
  },
  {
   "cell_type": "code",
   "execution_count": 9,
   "metadata": {},
   "outputs": [],
   "source": [
    "#define true rule section names\n",
    "truth_keys = list(section_cols1)\n",
    "truth_keys = [key1.lower() for key1 in truth_keys]"
   ]
  },
  {
   "cell_type": "code",
   "execution_count": 10,
   "metadata": {},
   "outputs": [
    {
     "data": {
      "text/plain": [
       "name                                  0002000300040005000600070008000900100011001200...\n",
       "organization name / submitter name    Erick MeleherMayank ShahMayank ShahMorey Menac...\n",
       "a2                                                                                  109\n",
       "a3                                                                                  153\n",
       "a4b                                                                                  19\n",
       "a4c                                                                                 109\n",
       "a5b                                                                                  86\n",
       "a5c                                                                                  50\n",
       "a5d                                                                                  38\n",
       "a6b                                                                                  21\n",
       "a6c                                                                                  20\n",
       "a6d2                                                                                  5\n",
       "a6d3                                                                                 18\n",
       "a7                                                                                   51\n",
       "b2a                                                                                 116\n",
       "b2b                                                                                  83\n",
       "c2                                                                                  119\n",
       "c3a                                                                                  95\n",
       "c3b                                                                                  56\n",
       "d2                                                                                  140\n",
       "d3b                                                                                  81\n",
       "d3c                                                                                  54\n",
       "d3d                                                                                   9\n",
       "d4                                                                                    3\n",
       "e2                                                                                  219\n",
       "e3                                                                                   28\n",
       "e4                                                                                   18\n",
       "e5                                                                                   74\n",
       "e6                                                                                   59\n",
       "e7                                                                                   25\n",
       "f                                                                                     6\n",
       "dtype: object"
      ]
     },
     "execution_count": 10,
     "metadata": {},
     "output_type": "execute_result"
    }
   ],
   "source": [
    "data11.sum()"
   ]
  },
  {
   "cell_type": "markdown",
   "metadata": {},
   "source": [
    "## Headers Standard Index Testing"
   ]
  },
  {
   "cell_type": "code",
   "execution_count": 11,
   "metadata": {},
   "outputs": [],
   "source": [
    "with open('match_header_results.json') as f:\n",
    "    unique_header_results = json.load(f)"
   ]
  },
  {
   "cell_type": "code",
   "execution_count": 12,
   "metadata": {},
   "outputs": [],
   "source": [
    "#tranlate ES keys to true rule section names, MAINTAINING ORDER\n",
    "for key, value in unique_header_results.items(): #iterate through json results\n",
    "    value_list = []\n",
    "    for val_idx, score in value.items(): #iterate through one query's results\n",
    "        for true_key in truth_keys: #iterate through names of true keys\n",
    "            if true_key in val_idx and true_key not in value_list: #add true key names to list of results, maintaining order \n",
    "                value_list.append(true_key)\n",
    "        unique_header_results[key]={true_key: score for (val_idx, score), true_key in zip(value.items(),value_list)} #keep scores"
   ]
  },
  {
   "cell_type": "markdown",
   "metadata": {},
   "source": [
    "### Normalize scores (divide by mean score of each query result)"
   ]
  },
  {
   "cell_type": "code",
   "execution_count": 13,
   "metadata": {},
   "outputs": [],
   "source": [
    "normalized_results = {}\n",
    "for comment_idx, result in unique_header_results.items(): #iterate through results\n",
    "    score_mean = np.mean(list(result.values())) #get mean of scores\n",
    "    score_dict = {}\n",
    "    for rule_idx, score in result.items(): #iterate through scores in one result\n",
    "        score_dict[rule_idx] = score/score_mean #normalize score\n",
    "    normalized_results[comment_idx] = score_dict"
   ]
  },
  {
   "cell_type": "markdown",
   "metadata": {},
   "source": [
    "### Make scores a list of tuples rather than dictionar key/values, to avoid problems with uniqueness later"
   ]
  },
  {
   "cell_type": "code",
   "execution_count": 14,
   "metadata": {},
   "outputs": [],
   "source": [
    "normalized_lists = {comment_idx:list(score_dict.items()) for comment_idx, score_dict in normalized_results.items()}"
   ]
  },
  {
   "cell_type": "markdown",
   "metadata": {},
   "source": [
    "### Merge results for comment chunks that came from the same comment"
   ]
  },
  {
   "cell_type": "code",
   "execution_count": 15,
   "metadata": {},
   "outputs": [],
   "source": [
    "merged_results = {}\n",
    "for key in unique_truth_dict.keys(): #for true comment names (0013, 0014, etc.)\n",
    "    merged_list = []\n",
    "    for comment_idx, result_list in normalized_lists.items(): #for each result\n",
    "        if key in comment_idx:\n",
    "            merged_list.extend(result_list) #add all returned rule sections to mergeable list\n",
    "    merged_results[key] = merged_list\n",
    "#sort by highest scores\n",
    "merged_results = {comment_idx:sorted(result, key=lambda x:x[1], reverse=True) for comment_idx, result in merged_results.items()}"
   ]
  },
  {
   "cell_type": "code",
   "execution_count": 16,
   "metadata": {},
   "outputs": [],
   "source": [
    "for comment_idx, tup_list in merged_results.items(): #for each result\n",
    "    score_dict = {}\n",
    "    for tup in tup_list: #for each tuple\n",
    "        if tup[0] in score_dict.keys(): #if the rule section is already in list,\n",
    "            score_dict[tup[0]] += tup[1] #merge rule section names but add scores together\n",
    "        else: #if not already in list\n",
    "            score_dict[tup[0]] = tup[1] #put score in dict\n",
    "    merged_results[comment_idx] = score_dict"
   ]
  },
  {
   "cell_type": "code",
   "execution_count": 17,
   "metadata": {},
   "outputs": [],
   "source": [
    "merged_results = {comment_idx:dict(sorted(result.items(), key = lambda x:x[1], reverse=True))\\\n",
    "                  for comment_idx, result in merged_results.items()} #sort by highest scores"
   ]
  },
  {
   "cell_type": "code",
   "execution_count": 18,
   "metadata": {},
   "outputs": [],
   "source": [
    "merged_results_threshold = {comment_idx:{rule_sect: score for rule_sect, score in value.items() if score > 1.5} \\\n",
    "                            for comment_idx, value, in merged_results.items()}"
   ]
  },
  {
   "cell_type": "markdown",
   "metadata": {},
   "source": [
    "### Scoring"
   ]
  },
  {
   "cell_type": "code",
   "execution_count": 19,
   "metadata": {},
   "outputs": [],
   "source": [
    "merged_result_lists = {key:list(value.keys()) for key, value in merged_results.items()}"
   ]
  },
  {
   "cell_type": "code",
   "execution_count": 20,
   "metadata": {},
   "outputs": [
    {
     "name": "stderr",
     "output_type": "stream",
     "text": [
      "C:\\Users\\steph\\anaconda3\\envs\\python385\\lib\\site-packages\\numpy\\core\\fromnumeric.py:3372: RuntimeWarning: Mean of empty slice.\n",
      "  return _methods._mean(a, axis=axis, dtype=dtype,\n",
      "C:\\Users\\steph\\anaconda3\\envs\\python385\\lib\\site-packages\\numpy\\core\\_methods.py:170: RuntimeWarning: invalid value encountered in double_scalars\n",
      "  ret = ret.dtype.type(ret / rcount)\n"
     ]
    }
   ],
   "source": [
    "from ml_metrics import mapk\n",
    "ap_results = {}\n",
    "for (key, truth) in unique_truth_dict.items():\n",
    "    k = len(truth)\n",
    "    ap_results[key] = {\"k\": k, \"ap\": mapk(k=k, actual=truth, predicted=list(merged_results[key]))}"
   ]
  },
  {
   "cell_type": "code",
   "execution_count": 21,
   "metadata": {},
   "outputs": [
    {
     "data": {
      "text/plain": [
       "0.3463858351402018"
      ]
     },
     "execution_count": 21,
     "metadata": {},
     "output_type": "execute_result"
    }
   ],
   "source": [
    "np.mean([value[\"ap\"] for key, value in ap_results.items() if value[\"k\"] != 0])"
   ]
  },
  {
   "cell_type": "code",
   "execution_count": 22,
   "metadata": {},
   "outputs": [],
   "source": [
    "unique_truth_dict_all = unique_truth_dict.copy()   #make a copy of the truth dictionary\n",
    "for key, value in unique_truth_dict.items(): #for true key/val pair in dictionary\n",
    "    new_value_list = np.zeros(len(truth_keys)) #make array of zeros, of length 29 (29 rule sections)\n",
    "    for val in value: #for each rule section\n",
    "        for i in range(len(truth_keys)): #for each of 29 spots in array\n",
    "            if val == truth_keys[i]: #if rule section in current array index,\n",
    "                new_value_list[i] = 1 #set to 1, else 0\n",
    "    unique_truth_dict_all[key] = new_value_list"
   ]
  },
  {
   "cell_type": "code",
   "execution_count": 23,
   "metadata": {},
   "outputs": [],
   "source": [
    "#create header results dict with values equal to sparse array length=29, (discounted and binary versions)\n",
    "unique_header_results_all = merged_results.copy() #make copy of results\n",
    "unique_binary_header_results_all = merged_results.copy() #make copy of results\n",
    "for key, value in merged_results.items(): #for each comment\n",
    "    new_value_list_discounted = np.zeros(len(truth_keys)) #make array of zeros, of length 29 (29 rule sections)\n",
    "    new_value_list_binary = np.zeros(len(truth_keys)) #make array of zeros, of length 29 (29 rule sections)\n",
    "    counter = 1 #initiate counter for a query result at 1\n",
    "    for rule_section in value.keys(): #go through all rule sections in query\n",
    "        for i in range(len(truth_keys)): #for each of 29 spots in array\n",
    "            if rule_section == truth_keys[i]: #if rule section in current array index\n",
    "                counter += 1 #add to counter\n",
    "                #assign value to 1 for first rule section, but penalize lower scored rule sections with scores progressively lower than one\n",
    "                new_value_list_discounted[i] = 1/math.log(counter, 2) \n",
    "                new_value_list_binary[i] = 1 #binary means we lose the order ES returned rules in, just weights all sections equally\n",
    "    unique_header_results_all[key] = new_value_list_discounted\n",
    "    unique_binary_header_results_all[key] = new_value_list_binary"
   ]
  },
  {
   "cell_type": "code",
   "execution_count": 24,
   "metadata": {},
   "outputs": [],
   "source": [
    "unique_headers_ndcg = {}\n",
    "unique_headers_f1 = {}\n",
    "for (true_key, true_value), (es_key, es_value) in zip(unique_truth_dict_all.items(), unique_header_results_all.items()):\n",
    "    unique_headers_ndcg[true_key] = ndcg_score([true_value], [es_value])\n",
    "for (true_key, true_value), (es_key, es_value) in zip(unique_truth_dict_all.items(), unique_binary_header_results_all.items()):\n",
    "    unique_headers_f1[true_key] = f1_score(true_value, es_value, zero_division=0)"
   ]
  },
  {
   "cell_type": "code",
   "execution_count": 25,
   "metadata": {},
   "outputs": [],
   "source": [
    "unique_headers_eval = pd.DataFrame(data=[unique_headers_ndcg, unique_headers_f1]).T\n",
    "unique_headers_eval = unique_headers_eval.rename({0:\"NDCG\", 1:\"F1\"}, axis=1)"
   ]
  },
  {
   "cell_type": "code",
   "execution_count": 26,
   "metadata": {},
   "outputs": [
    {
     "data": {
      "text/html": [
       "<div>\n",
       "<style scoped>\n",
       "    .dataframe tbody tr th:only-of-type {\n",
       "        vertical-align: middle;\n",
       "    }\n",
       "\n",
       "    .dataframe tbody tr th {\n",
       "        vertical-align: top;\n",
       "    }\n",
       "\n",
       "    .dataframe thead th {\n",
       "        text-align: right;\n",
       "    }\n",
       "</style>\n",
       "<table border=\"1\" class=\"dataframe\">\n",
       "  <thead>\n",
       "    <tr style=\"text-align: right;\">\n",
       "      <th></th>\n",
       "      <th>NDCG</th>\n",
       "      <th>F1</th>\n",
       "    </tr>\n",
       "  </thead>\n",
       "  <tbody>\n",
       "    <tr>\n",
       "      <th>count</th>\n",
       "      <td>94.000000</td>\n",
       "      <td>94.000000</td>\n",
       "    </tr>\n",
       "    <tr>\n",
       "      <th>mean</th>\n",
       "      <td>0.566270</td>\n",
       "      <td>0.341308</td>\n",
       "    </tr>\n",
       "    <tr>\n",
       "      <th>std</th>\n",
       "      <td>0.243063</td>\n",
       "      <td>0.232241</td>\n",
       "    </tr>\n",
       "    <tr>\n",
       "      <th>min</th>\n",
       "      <td>0.000000</td>\n",
       "      <td>0.000000</td>\n",
       "    </tr>\n",
       "    <tr>\n",
       "      <th>25%</th>\n",
       "      <td>0.435279</td>\n",
       "      <td>0.181818</td>\n",
       "    </tr>\n",
       "    <tr>\n",
       "      <th>50%</th>\n",
       "      <td>0.549032</td>\n",
       "      <td>0.320513</td>\n",
       "    </tr>\n",
       "    <tr>\n",
       "      <th>75%</th>\n",
       "      <td>0.754886</td>\n",
       "      <td>0.494048</td>\n",
       "    </tr>\n",
       "    <tr>\n",
       "      <th>max</th>\n",
       "      <td>0.998650</td>\n",
       "      <td>0.897959</td>\n",
       "    </tr>\n",
       "  </tbody>\n",
       "</table>\n",
       "</div>"
      ],
      "text/plain": [
       "            NDCG         F1\n",
       "count  94.000000  94.000000\n",
       "mean    0.566270   0.341308\n",
       "std     0.243063   0.232241\n",
       "min     0.000000   0.000000\n",
       "25%     0.435279   0.181818\n",
       "50%     0.549032   0.320513\n",
       "75%     0.754886   0.494048\n",
       "max     0.998650   0.897959"
      ]
     },
     "execution_count": 26,
     "metadata": {},
     "output_type": "execute_result"
    }
   ],
   "source": [
    "unique_headers_eval.describe()"
   ]
  },
  {
   "cell_type": "code",
   "execution_count": 27,
   "metadata": {},
   "outputs": [
    {
     "data": {
      "image/png": "[encoded data removed]",
      "text/plain": [
       "<Figure size 576x360 with 1 Axes>"
      ]
     },
     "metadata": {
      "needs_background": "light"
     },
     "output_type": "display_data"
    }
   ],
   "source": [
    "plt.figure(figsize = (8,5))\n",
    "sns.kdeplot(unique_headers_eval.NDCG, alpha=.1, shade=True, label='NDCG')\n",
    "sns.kdeplot(unique_headers_eval.F1,  alpha=.1, shade=True,label='F1')\n",
    "plt.legend()\n",
    "plt.title('Ranking Metric Performance, Headers Index', fontsize=20)\n",
    "plt.xlabel('Score Distribution', fontsize=16)\n",
    "plt.ylabel('Score Density', fontsize=16)\n",
    "plt.xlim(0,1);"
   ]
  },
  {
   "cell_type": "markdown",
   "metadata": {},
   "source": [
    "### Which comments were scored poorly?"
   ]
  },
  {
   "cell_type": "code",
   "execution_count": 28,
   "metadata": {},
   "outputs": [],
   "source": [
    "with open('expanded.json') as f1:\n",
    "    comments = json.load(f1)"
   ]
  },
  {
   "cell_type": "code",
   "execution_count": 29,
   "metadata": {},
   "outputs": [
    {
     "data": {
      "text/html": [
       "<div>\n",
       "<style scoped>\n",
       "    .dataframe tbody tr th:only-of-type {\n",
       "        vertical-align: middle;\n",
       "    }\n",
       "\n",
       "    .dataframe tbody tr th {\n",
       "        vertical-align: top;\n",
       "    }\n",
       "\n",
       "    .dataframe thead th {\n",
       "        text-align: right;\n",
       "    }\n",
       "</style>\n",
       "<table border=\"1\" class=\"dataframe\">\n",
       "  <thead>\n",
       "    <tr style=\"text-align: right;\">\n",
       "      <th></th>\n",
       "      <th>NDCG</th>\n",
       "      <th>F1</th>\n",
       "    </tr>\n",
       "  </thead>\n",
       "  <tbody>\n",
       "    <tr>\n",
       "      <th>0110</th>\n",
       "      <td>0.0</td>\n",
       "      <td>0.0</td>\n",
       "    </tr>\n",
       "    <tr>\n",
       "      <th>0126</th>\n",
       "      <td>0.0</td>\n",
       "      <td>0.0</td>\n",
       "    </tr>\n",
       "    <tr>\n",
       "      <th>0240</th>\n",
       "      <td>0.0</td>\n",
       "      <td>0.0</td>\n",
       "    </tr>\n",
       "    <tr>\n",
       "      <th>0256</th>\n",
       "      <td>0.0</td>\n",
       "      <td>0.0</td>\n",
       "    </tr>\n",
       "    <tr>\n",
       "      <th>0287</th>\n",
       "      <td>0.0</td>\n",
       "      <td>0.0</td>\n",
       "    </tr>\n",
       "    <tr>\n",
       "      <th>0408</th>\n",
       "      <td>0.0</td>\n",
       "      <td>0.0</td>\n",
       "    </tr>\n",
       "    <tr>\n",
       "      <th>0467</th>\n",
       "      <td>0.0</td>\n",
       "      <td>0.0</td>\n",
       "    </tr>\n",
       "  </tbody>\n",
       "</table>\n",
       "</div>"
      ],
      "text/plain": [
       "      NDCG   F1\n",
       "0110   0.0  0.0\n",
       "0126   0.0  0.0\n",
       "0240   0.0  0.0\n",
       "0256   0.0  0.0\n",
       "0287   0.0  0.0\n",
       "0408   0.0  0.0\n",
       "0467   0.0  0.0"
      ]
     },
     "execution_count": 29,
     "metadata": {},
     "output_type": "execute_result"
    }
   ],
   "source": [
    "unique_headers_eval.query(\"NDCG == 0\")"
   ]
  },
  {
   "cell_type": "code",
   "execution_count": 293,
   "metadata": {},
   "outputs": [
    {
     "data": {
      "text/plain": [
       "0002    0.000000\n",
       "0003    0.125000\n",
       "0004    0.181818\n",
       "0005    0.181818\n",
       "0006    0.000000\n",
       "          ...   \n",
       "0419    0.166667\n",
       "0428    0.333333\n",
       "0437    0.333333\n",
       "0438    0.333333\n",
       "0467    0.000000\n",
       "Name: F1, Length: 70, dtype: float64"
      ]
     },
     "execution_count": 293,
     "metadata": {},
     "output_type": "execute_result"
    }
   ],
   "source": [
    "poorf1 = unique_headers_eval.query(\"F1 < 0.5\").F1\n",
    "poorf1"
   ]
  },
  {
   "cell_type": "code",
   "execution_count": 294,
   "metadata": {},
   "outputs": [
    {
     "data": {
      "text/plain": [
       "0002    0.23243\n",
       "0006    0.23243\n",
       "0110    0.00000\n",
       "0126    0.00000\n",
       "0211    0.23243\n",
       "0240    0.00000\n",
       "0256    0.00000\n",
       "0287    0.00000\n",
       "0408    0.00000\n",
       "0467    0.00000\n",
       "Name: NDCG, dtype: float64"
      ]
     },
     "execution_count": 294,
     "metadata": {},
     "output_type": "execute_result"
    }
   ],
   "source": [
    "poorndcg = unique_headers_eval.query(\"NDCG < 0.3\").NDCG\n",
    "poorndcg"
   ]
  },
  {
   "cell_type": "code",
   "execution_count": null,
   "metadata": {},
   "outputs": [],
   "source": [
    "poorf1_comments_truth = {key:matches for key, matches in truth_dict.items() if key in poorf1}\n",
    "poorf1_comments_truth"
   ]
  },
  {
   "cell_type": "code",
   "execution_count": 296,
   "metadata": {},
   "outputs": [
    {
     "data": {
      "text/plain": [
       "{'0002': ['d2'],\n",
       " '0006': ['f'],\n",
       " '0110': [],\n",
       " '0126': [],\n",
       " '0211': ['a2'],\n",
       " '0240': [],\n",
       " '0256': [],\n",
       " '0287': [],\n",
       " '0408': [],\n",
       " '0467': []}"
      ]
     },
     "execution_count": 296,
     "metadata": {},
     "output_type": "execute_result"
    }
   ],
   "source": [
    "poorndcg_comments_truth = {key:matches for key, matches in truth_dict.items() if key in poorndcg}\n",
    "poorndcg_comments_truth"
   ]
  },
  {
   "cell_type": "markdown",
   "metadata": {},
   "source": [
    "## Hybrid Standard Index Testing"
   ]
  },
  {
   "cell_type": "code",
   "execution_count": 30,
   "metadata": {},
   "outputs": [],
   "source": [
    "with open('match_hybrid_results.json') as f1:\n",
    "    unique_hybrid_results = json.load(f1)"
   ]
  },
  {
   "cell_type": "code",
   "execution_count": 31,
   "metadata": {},
   "outputs": [],
   "source": [
    "#tranlate ES keys to true rule section names, MAINTAINING ORDER\n",
    "for key, value in unique_hybrid_results.items():\n",
    "    value_list = []\n",
    "    for val_idx in value:\n",
    "        for true_key in truth_keys:\n",
    "            if true_key in val_idx[0:4]:\n",
    "                    value_list.append(true_key)\n",
    "        unique_hybrid_results[key]=[(true_key, score) for (val_idx, score), true_key in zip(value.items(),value_list)]"
   ]
  },
  {
   "cell_type": "code",
   "execution_count": 32,
   "metadata": {},
   "outputs": [],
   "source": [
    "for comment_idx, tup_list in unique_hybrid_results.items():\n",
    "    score_dict = {}\n",
    "    for tup in tup_list:\n",
    "        if tup[0] in score_dict.keys():\n",
    "            score_dict[tup[0]] += tup[1]\n",
    "        else:\n",
    "            score_dict[tup[0]] = tup[1]\n",
    "    unique_hybrid_results[comment_idx] = score_dict"
   ]
  },
  {
   "cell_type": "markdown",
   "metadata": {},
   "source": [
    "### Normalize scores (divide by mean)"
   ]
  },
  {
   "cell_type": "code",
   "execution_count": 33,
   "metadata": {},
   "outputs": [],
   "source": [
    "normalized_results = {}\n",
    "for comment_idx, result in unique_hybrid_results.items():\n",
    "    score_mean = np.mean(list(result.values()))\n",
    "    score_dict = {}\n",
    "    for rule_idx, score in result.items():\n",
    "        score_dict[rule_idx] = score/score_mean\n",
    "    normalized_results[comment_idx] = score_dict"
   ]
  },
  {
   "cell_type": "code",
   "execution_count": 34,
   "metadata": {},
   "outputs": [],
   "source": [
    "normalized_lists = {comment_idx:list(score_dict.items()) for comment_idx, score_dict in normalized_results.items()}"
   ]
  },
  {
   "cell_type": "markdown",
   "metadata": {},
   "source": [
    "### Merge results for same comment chunks"
   ]
  },
  {
   "cell_type": "code",
   "execution_count": 35,
   "metadata": {},
   "outputs": [],
   "source": [
    "merged_results = {}\n",
    "for key in unique_truth_dict.keys():\n",
    "    merged_list = []\n",
    "    for comment_idx, result_list in normalized_lists.items():\n",
    "        if key in comment_idx:\n",
    "            merged_list.extend(result_list)\n",
    "    merged_results[key] = merged_list\n",
    "merged_results = {comment_idx:sorted(result, key=lambda x:x[1], reverse=True) for comment_idx, result in merged_results.items()}"
   ]
  },
  {
   "cell_type": "code",
   "execution_count": 36,
   "metadata": {},
   "outputs": [],
   "source": [
    "for comment_idx, tup_list in merged_results.items():\n",
    "    score_dict = {}\n",
    "    for tup in tup_list:\n",
    "        if tup[0] in score_dict.keys():\n",
    "            score_dict[tup[0]] += tup[1]\n",
    "        else:\n",
    "            score_dict[tup[0]] = tup[1]\n",
    "    merged_results[comment_idx] = score_dict"
   ]
  },
  {
   "cell_type": "code",
   "execution_count": 37,
   "metadata": {},
   "outputs": [],
   "source": [
    "merged_results = {comment_idx:dict(sorted(result.items(), key = lambda x:x[1], reverse=True))\\\n",
    "                  for comment_idx, result in merged_results.items()}"
   ]
  },
  {
   "cell_type": "markdown",
   "metadata": {},
   "source": [
    "### Sklearn"
   ]
  },
  {
   "cell_type": "code",
   "execution_count": 38,
   "metadata": {},
   "outputs": [],
   "source": [
    "unique_truth_dict_all = unique_truth_dict.copy()   #make a copy of the truth dictionary\n",
    "for key, value in unique_truth_dict.items(): #for true key/val pair in dictionary\n",
    "    new_value_list = np.zeros(len(truth_keys)) #make array of zeros, of length 29 (29 rule sections)\n",
    "    for val in value: #for each rule section\n",
    "        for i in range(len(truth_keys)): #for each of 29 spots in array\n",
    "            if val == truth_keys[i]: #if rule section in current array index,\n",
    "                new_value_list[i] = 1 #set to 1, else 0\n",
    "    unique_truth_dict_all[key] = new_value_list"
   ]
  },
  {
   "cell_type": "code",
   "execution_count": 39,
   "metadata": {},
   "outputs": [],
   "source": [
    "#create hybrid results dict with values equal to sparse array length=29, (discounted and binary versions)\n",
    "unique_hybrid_results_all = merged_results.copy() #make copy of results\n",
    "unique_binary_hybrid_results_all = merged_results.copy() #make copy of results\n",
    "for key, value in merged_results.items(): #for each comment\n",
    "    new_value_list_discounted = np.zeros(len(truth_keys)) #make array of zeros, of length 29 (29 rule sections)\n",
    "    new_value_list_binary = np.zeros(len(truth_keys)) #make array of zeros, of length 29 (29 rule sections)\n",
    "    counter = 1 #initiate counter for a query result at 1\n",
    "    for rule_section in value.keys(): #go through all rule sections in query\n",
    "        for i in range(len(truth_keys)): #for each of 29 spots in array\n",
    "            if rule_section == truth_keys[i]: #if rule section in current array index\n",
    "                counter += 1 #add to counter\n",
    "                #assign value to 1 for first rule section, but penalize lower scored rule sections with scores progressively lower than one\n",
    "                new_value_list_discounted[i] = 1/math.log(counter, 2) \n",
    "                new_value_list_binary[i] = 1 #binary means we lose the order ES returned rules in, just weights all sections equally\n",
    "    unique_hybrid_results_all[key] = new_value_list_discounted\n",
    "    unique_binary_hybrid_results_all[key] = new_value_list_binary"
   ]
  },
  {
   "cell_type": "code",
   "execution_count": 40,
   "metadata": {},
   "outputs": [],
   "source": [
    "unique_hybrid_ndcg = {}\n",
    "unique_hybrid_f1 = {}\n",
    "for (true_key, true_value), (es_key, es_value) in zip(unique_truth_dict_all.items(), unique_hybrid_results_all.items()):\n",
    "    unique_hybrid_ndcg[true_key] = ndcg_score([true_value], [es_value])\n",
    "for (true_key, true_value), (es_key, es_value) in zip(unique_truth_dict_all.items(), unique_binary_hybrid_results_all.items()):\n",
    "    unique_hybrid_f1[true_key] = f1_score(true_value, es_value, zero_division=0)"
   ]
  },
  {
   "cell_type": "code",
   "execution_count": 41,
   "metadata": {},
   "outputs": [],
   "source": [
    "unique_hybrid_eval = pd.DataFrame(data=[unique_hybrid_ndcg, unique_hybrid_f1]).T\n",
    "unique_hybrid_eval = unique_hybrid_eval.rename({0:\"NDCG\", 1:\"F1\"}, axis=1)"
   ]
  },
  {
   "cell_type": "code",
   "execution_count": 42,
   "metadata": {},
   "outputs": [
    {
     "data": {
      "text/html": [
       "<div>\n",
       "<style scoped>\n",
       "    .dataframe tbody tr th:only-of-type {\n",
       "        vertical-align: middle;\n",
       "    }\n",
       "\n",
       "    .dataframe tbody tr th {\n",
       "        vertical-align: top;\n",
       "    }\n",
       "\n",
       "    .dataframe thead th {\n",
       "        text-align: right;\n",
       "    }\n",
       "</style>\n",
       "<table border=\"1\" class=\"dataframe\">\n",
       "  <thead>\n",
       "    <tr style=\"text-align: right;\">\n",
       "      <th></th>\n",
       "      <th>NDCG</th>\n",
       "      <th>F1</th>\n",
       "    </tr>\n",
       "  </thead>\n",
       "  <tbody>\n",
       "    <tr>\n",
       "      <th>count</th>\n",
       "      <td>94.000000</td>\n",
       "      <td>94.000000</td>\n",
       "    </tr>\n",
       "    <tr>\n",
       "      <th>mean</th>\n",
       "      <td>0.561436</td>\n",
       "      <td>0.326001</td>\n",
       "    </tr>\n",
       "    <tr>\n",
       "      <th>std</th>\n",
       "      <td>0.261366</td>\n",
       "      <td>0.227458</td>\n",
       "    </tr>\n",
       "    <tr>\n",
       "      <th>min</th>\n",
       "      <td>0.000000</td>\n",
       "      <td>0.000000</td>\n",
       "    </tr>\n",
       "    <tr>\n",
       "      <th>25%</th>\n",
       "      <td>0.426921</td>\n",
       "      <td>0.181818</td>\n",
       "    </tr>\n",
       "    <tr>\n",
       "      <th>50%</th>\n",
       "      <td>0.562672</td>\n",
       "      <td>0.333333</td>\n",
       "    </tr>\n",
       "    <tr>\n",
       "      <th>75%</th>\n",
       "      <td>0.769505</td>\n",
       "      <td>0.440476</td>\n",
       "    </tr>\n",
       "    <tr>\n",
       "      <th>max</th>\n",
       "      <td>1.000000</td>\n",
       "      <td>0.880000</td>\n",
       "    </tr>\n",
       "  </tbody>\n",
       "</table>\n",
       "</div>"
      ],
      "text/plain": [
       "            NDCG         F1\n",
       "count  94.000000  94.000000\n",
       "mean    0.561436   0.326001\n",
       "std     0.261366   0.227458\n",
       "min     0.000000   0.000000\n",
       "25%     0.426921   0.181818\n",
       "50%     0.562672   0.333333\n",
       "75%     0.769505   0.440476\n",
       "max     1.000000   0.880000"
      ]
     },
     "execution_count": 42,
     "metadata": {},
     "output_type": "execute_result"
    }
   ],
   "source": [
    "unique_hybrid_eval.describe()"
   ]
  },
  {
   "cell_type": "code",
   "execution_count": 43,
   "metadata": {},
   "outputs": [
    {
     "data": {
      "image/png": "[encoded data removed]",
      "text/plain": [
       "<Figure size 576x360 with 1 Axes>"
      ]
     },
     "metadata": {
      "needs_background": "light"
     },
     "output_type": "display_data"
    }
   ],
   "source": [
    "plt.figure(figsize = (8,5))\n",
    "sns.kdeplot(unique_hybrid_eval.NDCG, alpha=.1, shade=True, label='NDCG')\n",
    "sns.kdeplot(unique_hybrid_eval.F1,  alpha=.1, shade=True,label='F1')\n",
    "plt.legend()\n",
    "plt.title('Ranking Metric Performance, Hybrid Index', fontsize=20)\n",
    "plt.xlabel('Score Distribution', fontsize=16)\n",
    "plt.ylabel('Score Density', fontsize=16)\n",
    "plt.xlim(0,1);"
   ]
  },
  {
   "cell_type": "markdown",
   "metadata": {},
   "source": [
    "### Which comments were scored poorly?"
   ]
  },
  {
   "cell_type": "code",
   "execution_count": 44,
   "metadata": {},
   "outputs": [],
   "source": [
    "with open('expanded.json') as f1:\n",
    "    comments = json.load(f1)"
   ]
  },
  {
   "cell_type": "code",
   "execution_count": 45,
   "metadata": {},
   "outputs": [
    {
     "data": {
      "text/html": [
       "<div>\n",
       "<style scoped>\n",
       "    .dataframe tbody tr th:only-of-type {\n",
       "        vertical-align: middle;\n",
       "    }\n",
       "\n",
       "    .dataframe tbody tr th {\n",
       "        vertical-align: top;\n",
       "    }\n",
       "\n",
       "    .dataframe thead th {\n",
       "        text-align: right;\n",
       "    }\n",
       "</style>\n",
       "<table border=\"1\" class=\"dataframe\">\n",
       "  <thead>\n",
       "    <tr style=\"text-align: right;\">\n",
       "      <th></th>\n",
       "      <th>NDCG</th>\n",
       "      <th>F1</th>\n",
       "    </tr>\n",
       "  </thead>\n",
       "  <tbody>\n",
       "    <tr>\n",
       "      <th>0110</th>\n",
       "      <td>0.0</td>\n",
       "      <td>0.0</td>\n",
       "    </tr>\n",
       "    <tr>\n",
       "      <th>0126</th>\n",
       "      <td>0.0</td>\n",
       "      <td>0.0</td>\n",
       "    </tr>\n",
       "    <tr>\n",
       "      <th>0240</th>\n",
       "      <td>0.0</td>\n",
       "      <td>0.0</td>\n",
       "    </tr>\n",
       "    <tr>\n",
       "      <th>0256</th>\n",
       "      <td>0.0</td>\n",
       "      <td>0.0</td>\n",
       "    </tr>\n",
       "    <tr>\n",
       "      <th>0287</th>\n",
       "      <td>0.0</td>\n",
       "      <td>0.0</td>\n",
       "    </tr>\n",
       "    <tr>\n",
       "      <th>0408</th>\n",
       "      <td>0.0</td>\n",
       "      <td>0.0</td>\n",
       "    </tr>\n",
       "    <tr>\n",
       "      <th>0467</th>\n",
       "      <td>0.0</td>\n",
       "      <td>0.0</td>\n",
       "    </tr>\n",
       "  </tbody>\n",
       "</table>\n",
       "</div>"
      ],
      "text/plain": [
       "      NDCG   F1\n",
       "0110   0.0  0.0\n",
       "0126   0.0  0.0\n",
       "0240   0.0  0.0\n",
       "0256   0.0  0.0\n",
       "0287   0.0  0.0\n",
       "0408   0.0  0.0\n",
       "0467   0.0  0.0"
      ]
     },
     "execution_count": 45,
     "metadata": {},
     "output_type": "execute_result"
    }
   ],
   "source": [
    "unique_hybrid_eval.query(\"NDCG == 0\")"
   ]
  },
  {
   "cell_type": "code",
   "execution_count": 346,
   "metadata": {},
   "outputs": [],
   "source": [
    "poorf1 = unique_hybrid_eval.query(\"F1 < 0.5\").F1\n",
    "#poorf1"
   ]
  },
  {
   "cell_type": "code",
   "execution_count": 347,
   "metadata": {},
   "outputs": [],
   "source": [
    "poorndcg = unique_hybrid_eval.query(\"NDCG < 0.3\").NDCG\n",
    "#poorndcg"
   ]
  },
  {
   "cell_type": "code",
   "execution_count": 348,
   "metadata": {},
   "outputs": [],
   "source": [
    "poorf1_comments = {key:comment for key, comment in comments.items() if key[0:4] in poorf1}\n",
    "#{key:len(comment) for key, comment in poorf1_comments.items()}"
   ]
  },
  {
   "cell_type": "code",
   "execution_count": 349,
   "metadata": {},
   "outputs": [],
   "source": [
    "poorf1_comments_truth = {key:matches for key, matches in truth_dict.items() if key in poorf1}\n",
    "#poorf1_comments_truth"
   ]
  },
  {
   "cell_type": "code",
   "execution_count": 350,
   "metadata": {},
   "outputs": [],
   "source": [
    "poorndcg_comments = {key:comment for key, comment in comments.items() if key in poorndcg}\n",
    "#{key:len(comment) for key, comment in poorndcg_comments.items()}"
   ]
  },
  {
   "cell_type": "code",
   "execution_count": 351,
   "metadata": {},
   "outputs": [],
   "source": [
    "poorndcg_comments_truth = {key:matches for key, matches in truth_dict.items() if key in poorndcg}\n",
    "#poorndcg_comments_truth"
   ]
  },
  {
   "cell_type": "markdown",
   "metadata": {},
   "source": [
    "## Compare different indices"
   ]
  },
  {
   "cell_type": "code",
   "execution_count": 46,
   "metadata": {},
   "outputs": [],
   "source": [
    "df_list = [unique_headers_eval, unique_hybrid_eval]\n",
    "mean_df_list = [df.mean() for df in df_list]"
   ]
  },
  {
   "cell_type": "code",
   "execution_count": 47,
   "metadata": {},
   "outputs": [
    {
     "data": {
      "text/html": [
       "<div>\n",
       "<style scoped>\n",
       "    .dataframe tbody tr th:only-of-type {\n",
       "        vertical-align: middle;\n",
       "    }\n",
       "\n",
       "    .dataframe tbody tr th {\n",
       "        vertical-align: top;\n",
       "    }\n",
       "\n",
       "    .dataframe thead th {\n",
       "        text-align: right;\n",
       "    }\n",
       "</style>\n",
       "<table border=\"1\" class=\"dataframe\">\n",
       "  <thead>\n",
       "    <tr style=\"text-align: right;\">\n",
       "      <th></th>\n",
       "      <th>Std Hdr</th>\n",
       "      <th>Std Hyb</th>\n",
       "    </tr>\n",
       "  </thead>\n",
       "  <tbody>\n",
       "    <tr>\n",
       "      <th>NDCG</th>\n",
       "      <td>0.566270</td>\n",
       "      <td>0.561436</td>\n",
       "    </tr>\n",
       "    <tr>\n",
       "      <th>F1</th>\n",
       "      <td>0.341308</td>\n",
       "      <td>0.326001</td>\n",
       "    </tr>\n",
       "  </tbody>\n",
       "</table>\n",
       "</div>"
      ],
      "text/plain": [
       "       Std Hdr   Std Hyb\n",
       "NDCG  0.566270  0.561436\n",
       "F1    0.341308  0.326001"
      ]
     },
     "execution_count": 47,
     "metadata": {},
     "output_type": "execute_result"
    }
   ],
   "source": [
    "comparison = pd.DataFrame(mean_df_list).T.rename({i:df for i, df in enumerate([\"Std Hdr\", \"Std Hyb\", \"Cst Hyb\"])}, axis=1)\n",
    "comparison"
   ]
  },
  {
   "cell_type": "markdown",
   "metadata": {},
   "source": [
    "# Defining a Score_Results Function"
   ]
  },
  {
   "cell_type": "code",
   "execution_count": 48,
   "metadata": {},
   "outputs": [],
   "source": [
    "# def comm_removed(merged_dict):\n",
    "#     new_merged = {}\n",
    "#     for com_id, x in merged_dict.items():\n",
    "#         results = {}\n",
    "#         for key, value in x.items():\n",
    "#             if key not in tb_removed:\n",
    "#                 results[key] = value \n",
    "#             new_merged[com_id] = results\n",
    "#     return new_merged"
   ]
  },
  {
   "cell_type": "code",
   "execution_count": 49,
   "metadata": {},
   "outputs": [],
   "source": [
    "#Kaleb's MAP Function\n",
    "def Map_estimator(tru, pred): \n",
    "    precision = []\n",
    "    for x,y in zip(tru,pred):\n",
    "        wow = 0\n",
    "        counter = 0\n",
    "        for i, z in enumerate(y):\n",
    "            if z in x:\n",
    "                counter += 1\n",
    "                wow += 1/(i+1)\n",
    "            if i >= len(x):\n",
    "                break;\n",
    "        precision.append(wow/(counter+0.0001))\n",
    "    return np.mean(precision)"
   ]
  },
  {
   "cell_type": "code",
   "execution_count": 57,
   "metadata": {},
   "outputs": [],
   "source": [
    "def score_results(json_file, index_type): #takes .json result and \"headers\"/\"hybrid\" as input, gives pandas eval df and map as output\n",
    "    #open file\n",
    "    with open(json_file) as f:\n",
    "        custom_results = json.load(f)\n",
    "    \n",
    "    if index_type == \"hybrid\":\n",
    "        #tranlate ES keys to true rule section names, MAINTAINING ORDER\n",
    "        for key, value in custom_results.items():\n",
    "            value_list = []\n",
    "            for val_idx in value:\n",
    "                for true_key in truth_keys:\n",
    "                    if true_key in val_idx[0:4]:\n",
    "                            value_list.append(true_key)\n",
    "                custom_results[key]=[(true_key, score) for (val_idx, score), true_key in zip(value.items(),value_list)]\n",
    "        for comment_idx, tup_list in custom_results.items():\n",
    "            score_dict = {}\n",
    "            for tup in tup_list:\n",
    "                if tup[0] in score_dict.keys():\n",
    "                    score_dict[tup[0]] += tup[1]\n",
    "                else:\n",
    "                    score_dict[tup[0]] = tup[1]\n",
    "            custom_results[comment_idx] = score_dict\n",
    "    \n",
    "    elif index_type == \"headers\": \n",
    "        #tranlate ES keys to true rule section names, MAINTAINING ORDER\n",
    "        for key, value in custom_results.items():\n",
    "            value_list = []\n",
    "            for val_idx, score in value.items():\n",
    "                for true_key in truth_keys:\n",
    "                    if true_key in val_idx and true_key not in value_list: \n",
    "                        value_list.append(true_key)\n",
    "                custom_results[key]={true_key: score for (val_idx, score), true_key in zip(value.items(),value_list)}     \n",
    "    \n",
    "    def comm_removed(merged_dict):\n",
    "        new_merged = {}\n",
    "        for com_id, x in merged_dict.items():\n",
    "            results = {}\n",
    "            for key, value in x.items():\n",
    "                if key not in tb_removed:\n",
    "                    results[key] = value \n",
    "                new_merged[com_id] = results\n",
    "        return new_merged\n",
    "\n",
    "    #Normalize results by dividing by mean\n",
    "    normalized_results = {}\n",
    "    for comment_idx, result in custom_results.items():\n",
    "        score_mean = np.mean(list(result.values()))\n",
    "        score_dict = {}\n",
    "        for rule_idx, score in result.items():\n",
    "            score_dict[rule_idx] = score/score_mean\n",
    "        normalized_results[comment_idx] = score_dict\n",
    "    normalized_lists = {comment_idx:list(score_dict.items()) for comment_idx, score_dict in normalized_results.items()}\n",
    "    \n",
    "    #Merge results back together\n",
    "    merged_results = {}\n",
    "    for key in unique_truth_dict.keys():\n",
    "        merged_list = []\n",
    "        for comment_idx, result_list in normalized_lists.items():\n",
    "            if key in comment_idx:\n",
    "                merged_list.extend(result_list)\n",
    "        merged_results[key] = merged_list\n",
    "    merged_results = {comment_idx:sorted(result, key=lambda x:x[1], reverse=True) for comment_idx, result in merged_results.items()}\n",
    "    for comment_idx, tup_list in merged_results.items():\n",
    "        score_dict = {}\n",
    "        for tup in tup_list:\n",
    "            if tup[0] in score_dict.keys():\n",
    "                score_dict[tup[0]] += tup[1]\n",
    "            else:\n",
    "                score_dict[tup[0]] = tup[1]\n",
    "        merged_results[comment_idx] = score_dict\n",
    "    merged_results = {comment_idx:dict(sorted(result.items(), key = lambda x:x[1], reverse=True)) for comment_idx, result in merged_results.items()}\n",
    "    \n",
    "    #Remove frequently returned rule sections (in >80% of results)\n",
    "    all_sections = []\n",
    "    for key, result in merged_results.items():\n",
    "        all_sections.extend(section for section in result)\n",
    "    counts = {}\n",
    "    for key in truth_keys:\n",
    "        key_count = all_sections.count(key)\n",
    "        counts[key] = key_count\n",
    "    tb_removed = [section for section, count in counts.items() if count > (.8*len([len(value) for value in unique_truth_dict.values()]))]\n",
    "    clean_merged = comm_removed(merged_results)\n",
    "    \n",
    "    #create truth dict with values equal to sparse array length=29, binary\n",
    "    unique_truth_dict_all = unique_truth_dict.copy()   #make a copy of the truth dictionary\n",
    "    for key, value in unique_truth_dict.items(): #for true key/val pair in dictionary\n",
    "        new_value_list = np.zeros(len(truth_keys)) #make array of zeros, of length 29 (29 rule sections)\n",
    "        for val in value: #for each rule section\n",
    "            for i in range(len(truth_keys)): #for each of 29 spots in array\n",
    "                if val == truth_keys[i]: #if rule section in current array index,\n",
    "                    new_value_list[i] = 1 #set to 1, else 0\n",
    "        unique_truth_dict_all[key] = new_value_list\n",
    "    \n",
    "    #create header results dict with values equal to sparse array length=29, (discounted and binary versions)\n",
    "    custom_results_all = clean_merged.copy() #make copy of results\n",
    "    custom_binary_results_all = clean_merged.copy() #make copy of results\n",
    "    for key, value in clean_merged.items(): #for each comment\n",
    "        new_value_list_discounted = np.zeros(len(truth_keys)) #make array of zeros, of length 29 (29 rule sections)\n",
    "        new_value_list_binary = np.zeros(len(truth_keys)) #make array of zeros, of length 29 (29 rule sections)\n",
    "        counter = 1 #initiate counter for a query result at 1\n",
    "        for rule_section in value.keys(): #go through all rule sections in query\n",
    "            for i in range(len(truth_keys)): #for each of 29 spots in array\n",
    "                if rule_section == truth_keys[i]: #if rule section in current array index\n",
    "                    counter += 1 #add to counter\n",
    "                    #assign value to 1 for first rule section, but penalize lower scored rule sections with scores progressively lower than one\n",
    "                    new_value_list_discounted[i] = 1/math.log(counter, 2) \n",
    "                    new_value_list_binary[i] = 1 #binary means we lose the order ES returned rules in, just weights all sections equally\n",
    "        custom_results_all[key] = new_value_list_discounted\n",
    "        custom_binary_results_all[key] = new_value_list_binary\n",
    "    \n",
    "    #Get NDCG, F1 with SKlearn\n",
    "    custom_ndcg = {}\n",
    "    custom_f1 = {}\n",
    "    for (true_key, true_value), (es_key, es_value) in zip(unique_truth_dict_all.items(), custom_results_all.items()):\n",
    "        custom_ndcg[true_key] = ndcg_score([true_value], [es_value])\n",
    "    for (true_key, true_value), (es_key, es_value) in zip(unique_truth_dict_all.items(), custom_binary_results_all.items()):\n",
    "        custom_f1[true_key] = f1_score(true_value, es_value, zero_division=0)\n",
    "    df_eval = pd.DataFrame(data=[custom_ndcg, custom_f1]).T\n",
    "    df_eval = df_eval.rename({0:\"NDCG\", 1:\"F1\"}, axis=1)\n",
    "    \n",
    "    ap_results = Map_estimator(list(unique_truth_dict.values()), list(clean_merged.values()))\n",
    "    \n",
    "    return df_eval, ap_results"
   ]
  },
  {
   "cell_type": "code",
   "execution_count": 58,
   "metadata": {},
   "outputs": [
    {
     "data": {
      "text/plain": [
       "dict_values([['d2'], ['d2', 'd3c', 'e5'], ['a7'], ['a5b'], ['f'], ['e3'], ['c3b'], ['a5b'], ['a3', 'a5b'], ['a3', 'a5b'], ['a2', 'a4c', 'a5b', 'a7', 'c2', 'd2', 'd3b', 'e5'], ['a2', 'a3', 'a5b', 'c2', 'd2', 'd3b', 'd3c', 'd3d'], ['a2', 'a3', 'a4c', 'c3a', 'd2', 'd3b', 'd3c', 'e6'], ['e5'], ['a5c'], ['e6', 'f'], ['a2', 'a4c', 'd2', 'e2'], [], ['e2'], [], ['a3', 'a5b'], ['a4c', 'e2'], ['a2', 'a3', 'a5b', 'a5d', 'a6d2', 'a7', 'c2', 'c3a', 'c3b', 'd2', 'd3c', 'e2', 'e5'], ['a2', 'a4c', 'b2a', 'c2', 'c3a', 'd2'], ['a2', 'a4c', 'b2a', 'c2', 'c3a', 'd2'], ['a2', 'a3', 'a4c', 'a5b', 'b2a', 'b2b', 'c2', 'd2', 'd3b', 'd3c', 'e6'], ['e6'], ['c2', 'e5', 'e6'], ['a7'], ['c3a', 'e5'], ['a2', 'a3', 'a4c', 'a5d', 'a6b', 'a6c', 'a6d3', 'a7', 'b2a', 'b2b', 'c2', 'c3b', 'd2', 'e2'], ['a2', 'a3', 'a5b', 'd2', 'd3b', 'd3c', 'd3d'], ['b2b'], ['a3', 'a4c', 'b2a', 'c3a', 'd2', 'e2', 'e3'], ['a2', 'a3', 'a4c', 'a5d', 'a6b', 'a6c', 'a6d3', 'a7', 'b2a', 'b2b', 'c2', 'c3b', 'd2', 'e2'], ['a3', 'a4c', 'a5b', 'a5c', 'a5d', 'a6c', 'a6d3', 'c2', 'c3a', 'd2', 'e6'], ['a2'], ['a2', 'a3', 'a4b', 'a4c', 'a5b', 'a5c', 'a5d', 'a6b', 'a6c', 'a6d3', 'a7', 'b2a', 'b2b', 'c2', 'c3a', 'c3b', 'd2', 'd3b', 'e2', 'e3', 'e5', 'e6', 'e7'], ['a3', 'a5d'], ['a6c'], ['a5b', 'a7'], ['a2', 'a3', 'a5b', 'a6c', 'b2a', 'b2b', 'c2', 'c3a', 'd2', 'd3b'], ['a3'], ['e5', 'e7'], ['a2', 'e5'], [], ['a2', 'a3', 'a4c', 'a5c', 'a5d', 'a7', 'b2a', 'b2b', 'c3b', 'd2', 'd3b', 'e2'], ['e5'], ['a3', 'a4c', 'a5b', 'a5c', 'a5d', 'b2a', 'b2b', 'c2', 'c3b', 'd2', 'd3b', 'e2', 'e5', 'e6', 'e7'], ['a2', 'a3', 'a4c', 'a5b', 'a5d', 'b2a', 'b2b', 'd2', 'e5'], ['a3', 'a4c', 'a7', 'c2', 'd2'], ['a3', 'a5b', 'e6'], ['a3'], [], ['a3', 'a6b', 'a7', 'b2a', 'c2', 'c3b'], ['a2', 'a3', 'a4c', 'a5b', 'a5c', 'a5d', 'a6b', 'a6c', 'a6d3', 'a7', 'b2a', 'b2b', 'c2', 'c3a', 'c3b', 'd2', 'd3b', 'd3c', 'e6', 'e7'], ['a4c', 'b2a', 'c2', 'c3a', 'd2', 'e5'], ['d2'], ['a2', 'a3', 'a4c', 'a5b'], ['a3', 'a5b', 'a7', 'c3a', 'd2', 'e6'], ['a5c'], [], ['a5c'], ['a3', 'a5b', 'c2', 'c3a', 'd2', 'd3b'], ['e5', 'e7'], ['a2', 'a3', 'a4c', 'a5b', 'a5c', 'a5d', 'a6b', 'a7', 'b2a', 'b2b', 'c3b', 'd2', 'd3b', 'e3', 'e5'], ['a2', 'a3', 'a5b', 'a5d', 'a7', 'b2b', 'c3a', 'c3b', 'd2', 'd3b', 'e5', 'e6'], ['a2', 'a4c', 'b2a', 'b2b', 'e6'], ['a3', 'b2a', 'd3c', 'e3', 'e5'], ['a2', 'a3', 'a4b', 'a4c', 'a5b', 'a5c', 'a5d', 'a6b', 'a7', 'b2a', 'b2b', 'c2', 'c3a', 'c3b', 'd2', 'd3b', 'd3c', 'e2', 'e3', 'e4', 'e5', 'e6', 'e7'], ['a2', 'a4c', 'a7', 'b2a', 'b2b'], ['a2', 'a6c', 'c3a', 'd2'], ['a2', 'a3', 'a4c', 'a5b', 'a5c', 'b2a', 'b2b', 'c2', 'c3b', 'd2', 'd3b', 'd3c', 'e2', 'e4', 'e5', 'e6', 'e7'], ['a2', 'a3', 'b2a', 'b2b', 'c3a', 'c3b', 'e2'], ['a2', 'a3', 'a5c', 'a5d', 'a7', 'b2b', 'd2', 'd3b', 'd3c', 'e2', 'e5', 'e6'], ['a3', 'a4c', 'a5b', 'a5c', 'a5d', 'a6b', 'a7', 'b2a', 'b2b', 'c2', 'c3b', 'd2', 'd3b', 'd3c', 'e2', 'e3', 'e4', 'e5', 'e6', 'e7'], ['a5c', 'a7'], ['a4c', 'a6b', 'a7', 'd2', 'd3b'], ['a2', 'a3', 'a4c', 'a5b', 'd2', 'd3b', 'e5', 'e6'], ['a3', 'a5b', 'd3b'], ['a3', 'a5b', 'a5c', 'c2', 'c3a', 'd2', 'd3b', 'e3'], ['a3', 'a4b', 'a6b', 'a6d3', 'b2a', 'b2b', 'c2', 'd3b'], ['e3'], ['a2', 'a3', 'a4b', 'a4c', 'a5b', 'a5c', 'a5d', 'a6b', 'a6c', 'a6d2', 'a6d3', 'a7', 'b2a', 'b2b', 'c2', 'c3a', 'c3b', 'd2', 'd3b', 'd3c', 'd3d', 'd4', 'e2', 'e3', 'e4', 'e5', 'e6'], ['a7', 'b2a', 'b2b', 'c2', 'd2', 'd3b', 'd3c'], ['a2', 'a3'], ['a3', 'b2b', 'c2', 'd3b', 'd3c'], [], ['e5', 'e7'], ['a2', 'a3', 'a4c', 'a5b', 'a5c', 'a6b', 'a7', 'b2a', 'b2b', 'c2', 'c3a', 'c3b', 'd2', 'd3b', 'd3c', 'e4', 'e5', 'e6'], ['a3', 'b2a'], ['a3', 'a6c'], ['a3', 'a5b'], []])"
      ]
     },
     "execution_count": 58,
     "metadata": {},
     "output_type": "execute_result"
    }
   ],
   "source": [
    "unique_truth_dict.values()"
   ]
  },
  {
   "cell_type": "markdown",
   "metadata": {},
   "source": [
    "# Grid Search"
   ]
  },
  {
   "cell_type": "code",
   "execution_count": 59,
   "metadata": {},
   "outputs": [],
   "source": [
    "headers_narrowsyn_basestop_eval, headers_narrowsyn_basestop_map = score_results('headers_narrowsyn_basestop_results.json', \"headers\")"
   ]
  },
  {
   "cell_type": "code",
   "execution_count": 60,
   "metadata": {},
   "outputs": [],
   "source": [
    "headers_narrowsyn_custstop_eval, headers_narrowsyn_custstop_map = score_results('headers_narrowsyn_custstop_results.json', \"headers\")"
   ]
  },
  {
   "cell_type": "code",
   "execution_count": 61,
   "metadata": {},
   "outputs": [],
   "source": [
    "headers_nosyn_custstop_eval, headers_nosyn_custstop_map = score_results('headers_nosyn_custstop_results.json', \"headers\")"
   ]
  },
  {
   "cell_type": "code",
   "execution_count": 62,
   "metadata": {},
   "outputs": [],
   "source": [
    "headers_expsyn_basestop_eval, headers_expsyn_basestop_map = score_results('headers_expsyn_basestop_results.json', \"headers\")"
   ]
  },
  {
   "cell_type": "code",
   "execution_count": 63,
   "metadata": {},
   "outputs": [],
   "source": [
    "headers_expsyn_customstop_eval, headers_expsyn_customstop_map = score_results('headers_expsyn_customstop_results.json', \"headers\")"
   ]
  },
  {
   "cell_type": "code",
   "execution_count": 64,
   "metadata": {},
   "outputs": [],
   "source": [
    "headers_broadsyn_basestop_eval, headers_broadsyn_basestop_map = score_results('headers_broadsyn_basestop_results.json', \"headers\")"
   ]
  },
  {
   "cell_type": "code",
   "execution_count": 65,
   "metadata": {},
   "outputs": [],
   "source": [
    "headers_broadsyn_custstop_eval, headers_broadsyn_custstop_map = score_results('headers_broadsyn_custstop_results.json', \"headers\")"
   ]
  },
  {
   "cell_type": "code",
   "execution_count": 66,
   "metadata": {},
   "outputs": [
    {
     "ename": "FileNotFoundError",
     "evalue": "[Errno 2] No such file or directory: 'headers_nosyn_basestop_results.json'",
     "output_type": "error",
     "traceback": [
      "\u001b[1;31m---------------------------------------------------------------------------\u001b[0m",
      "\u001b[1;31mFileNotFoundError\u001b[0m                         Traceback (most recent call last)",
      "\u001b[1;32m<ipython-input-66-d70ec23e10c2>\u001b[0m in \u001b[0;36m<module>\u001b[1;34m\u001b[0m\n\u001b[1;32m----> 1\u001b[1;33m \u001b[0mheaders_nosyn_basestop_eval\u001b[0m\u001b[1;33m,\u001b[0m \u001b[0mheaders_nosyn_basestop_map\u001b[0m \u001b[1;33m=\u001b[0m \u001b[0mscore_results\u001b[0m\u001b[1;33m(\u001b[0m\u001b[1;34m'headers_nosyn_basestop_results.json'\u001b[0m\u001b[1;33m,\u001b[0m \u001b[1;34m\"headers\"\u001b[0m\u001b[1;33m)\u001b[0m\u001b[1;33m\u001b[0m\u001b[1;33m\u001b[0m\u001b[0m\n\u001b[0m",
      "\u001b[1;32m<ipython-input-57-3bebdac0f3b3>\u001b[0m in \u001b[0;36mscore_results\u001b[1;34m(json_file, index_type)\u001b[0m\n\u001b[0;32m      1\u001b[0m \u001b[1;32mdef\u001b[0m \u001b[0mscore_results\u001b[0m\u001b[1;33m(\u001b[0m\u001b[0mjson_file\u001b[0m\u001b[1;33m,\u001b[0m \u001b[0mindex_type\u001b[0m\u001b[1;33m)\u001b[0m\u001b[1;33m:\u001b[0m \u001b[1;31m#takes .json result and \"headers\"/\"hybrid\" as input, gives pandas eval df and map as output\u001b[0m\u001b[1;33m\u001b[0m\u001b[1;33m\u001b[0m\u001b[0m\n\u001b[0;32m      2\u001b[0m     \u001b[1;31m#open file\u001b[0m\u001b[1;33m\u001b[0m\u001b[1;33m\u001b[0m\u001b[1;33m\u001b[0m\u001b[0m\n\u001b[1;32m----> 3\u001b[1;33m     \u001b[1;32mwith\u001b[0m \u001b[0mopen\u001b[0m\u001b[1;33m(\u001b[0m\u001b[0mjson_file\u001b[0m\u001b[1;33m)\u001b[0m \u001b[1;32mas\u001b[0m \u001b[0mf\u001b[0m\u001b[1;33m:\u001b[0m\u001b[1;33m\u001b[0m\u001b[1;33m\u001b[0m\u001b[0m\n\u001b[0m\u001b[0;32m      4\u001b[0m         \u001b[0mcustom_results\u001b[0m \u001b[1;33m=\u001b[0m \u001b[0mjson\u001b[0m\u001b[1;33m.\u001b[0m\u001b[0mload\u001b[0m\u001b[1;33m(\u001b[0m\u001b[0mf\u001b[0m\u001b[1;33m)\u001b[0m\u001b[1;33m\u001b[0m\u001b[1;33m\u001b[0m\u001b[0m\n\u001b[0;32m      5\u001b[0m \u001b[1;33m\u001b[0m\u001b[0m\n",
      "\u001b[1;31mFileNotFoundError\u001b[0m: [Errno 2] No such file or directory: 'headers_nosyn_basestop_results.json'"
     ]
    }
   ],
   "source": [
    "headers_nosyn_basestop_eval, headers_nosyn_basestop_map = score_results('headers_nosyn_basestop_results.json', \"headers\")"
   ]
  },
  {
   "cell_type": "code",
   "execution_count": 67,
   "metadata": {},
   "outputs": [],
   "source": [
    "headers_expsyn_comsyn_basestop_eval, headers_expsyn_comsyn_basestop_map = score_results('headers_expsyn_comsyn_basestop_results.json',\\\n",
    "                                                                                                \"headers\")"
   ]
  },
  {
   "cell_type": "code",
   "execution_count": 78,
   "metadata": {},
   "outputs": [],
   "source": [
    "hybrid_narrowsyn_custstop_eval, hybrid_narrowsyn_custstop_map = score_results('hybrid_narrowsyn_custstop_results.json', \"hybrid\")"
   ]
  },
  {
   "cell_type": "code",
   "execution_count": 81,
   "metadata": {},
   "outputs": [
    {
     "data": {
      "text/plain": [
       "NDCG    0.643667\n",
       "F1      0.348616\n",
       "dtype: float64"
      ]
     },
     "execution_count": 81,
     "metadata": {},
     "output_type": "execute_result"
    }
   ],
   "source": [
    "hybrid_narrowsyn_custstop_eval.mean()"
   ]
  },
  {
   "cell_type": "code",
   "execution_count": 82,
   "metadata": {},
   "outputs": [
    {
     "data": {
      "text/plain": [
       "0.4424795460337652"
      ]
     },
     "execution_count": 82,
     "metadata": {},
     "output_type": "execute_result"
    }
   ],
   "source": [
    "hybrid_narrowsyn_custstop_map"
   ]
  },
  {
   "cell_type": "markdown",
   "metadata": {},
   "source": [
    "## Updated: \"Grid Search\" Compare different indices"
   ]
  },
  {
   "cell_type": "code",
   "execution_count": 575,
   "metadata": {},
   "outputs": [],
   "source": [
    "# df_list = [headers_narrowsyn_basestop_eval, headers_narrowsyn_custstop_eval, headers_nosyn_custstop_eval, \\\n",
    "#            headers_expsyn_basestop_eval, headers_expsyn_customstop_eval, headers_broadsyn_basestop_eval, \\\n",
    "#           headers_broadsyn_custstop_eval, headers_nosyn_basestop_eval, headers_expsyn_comsyn_basestop_eval]\n",
    "# mean_df_list = [df.mean() for df in df_list]"
   ]
  },
  {
   "cell_type": "code",
   "execution_count": 68,
   "metadata": {},
   "outputs": [],
   "source": [
    "df_list = [headers_narrowsyn_basestop_eval, headers_narrowsyn_custstop_eval, headers_nosyn_custstop_eval, \\\n",
    "           headers_expsyn_basestop_eval, headers_expsyn_customstop_eval, headers_broadsyn_basestop_eval, \\\n",
    "          headers_broadsyn_custstop_eval, headers_expsyn_comsyn_basestop_eval]\n",
    "mean_df_list = [df.mean() for df in df_list]"
   ]
  },
  {
   "cell_type": "code",
   "execution_count": 69,
   "metadata": {},
   "outputs": [],
   "source": [
    "comparison = pd.DataFrame(mean_df_list).T.rename({i:df for i, df in enumerate([\"Narrow-Base\", \"Narrow-Cust\", \\\n",
    "                                                                               \"No-Cust\", \"Exp-Base\", \"Exp-Cust\", \\\n",
    "                                                                              \"Broad-Base\", \"Broad-Cust\", \"Exp-Comment-Base\"] \\\n",
    "                                                                             )},axis=1)\n",
    "comparison = comparison.T"
   ]
  },
  {
   "cell_type": "code",
   "execution_count": 70,
   "metadata": {},
   "outputs": [
    {
     "name": "stdout",
     "output_type": "stream",
     "text": [
      "Narrow-Cust\n"
     ]
    }
   ],
   "source": [
    "aps = [headers_narrowsyn_basestop_map, headers_narrowsyn_custstop_map, headers_nosyn_custstop_map, \\\n",
    "           headers_expsyn_basestop_map, headers_expsyn_customstop_map, headers_broadsyn_basestop_map, \\\n",
    "          headers_broadsyn_custstop_map,  headers_expsyn_comsyn_basestop_map]\n",
    "\n",
    "comparison[\"MAP\"] = [ap for ap in aps]\n",
    "comparison = comparison.T\n",
    "print(comparison.columns[np.argmax(comparison.T.NDCG)])"
   ]
  },
  {
   "cell_type": "code",
   "execution_count": 579,
   "metadata": {},
   "outputs": [
    {
     "data": {
      "text/html": [
       "<div>\n",
       "<style scoped>\n",
       "    .dataframe tbody tr th:only-of-type {\n",
       "        vertical-align: middle;\n",
       "    }\n",
       "\n",
       "    .dataframe tbody tr th {\n",
       "        vertical-align: top;\n",
       "    }\n",
       "\n",
       "    .dataframe thead th {\n",
       "        text-align: right;\n",
       "    }\n",
       "</style>\n",
       "<table border=\"1\" class=\"dataframe\">\n",
       "  <thead>\n",
       "    <tr style=\"text-align: right;\">\n",
       "      <th></th>\n",
       "      <th>Narrow-Base</th>\n",
       "      <th>Narrow-Cust</th>\n",
       "      <th>No-Cust</th>\n",
       "      <th>Exp-Base</th>\n",
       "      <th>Exp-Cust</th>\n",
       "      <th>Broad-Base</th>\n",
       "      <th>Broad-Cust</th>\n",
       "      <th>No-Base</th>\n",
       "      <th>Exp-Comment-Base</th>\n",
       "    </tr>\n",
       "  </thead>\n",
       "  <tbody>\n",
       "    <tr>\n",
       "      <th>NDCG</th>\n",
       "      <td>0.666990</td>\n",
       "      <td>0.667985</td>\n",
       "      <td>0.675090</td>\n",
       "      <td>0.667224</td>\n",
       "      <td>0.666749</td>\n",
       "      <td>0.663495</td>\n",
       "      <td>0.666356</td>\n",
       "      <td>0.674992</td>\n",
       "      <td>0.649408</td>\n",
       "    </tr>\n",
       "    <tr>\n",
       "      <th>F1</th>\n",
       "      <td>0.335047</td>\n",
       "      <td>0.336255</td>\n",
       "      <td>0.345156</td>\n",
       "      <td>0.338313</td>\n",
       "      <td>0.336606</td>\n",
       "      <td>0.335951</td>\n",
       "      <td>0.337204</td>\n",
       "      <td>0.344282</td>\n",
       "      <td>0.334544</td>\n",
       "    </tr>\n",
       "    <tr>\n",
       "      <th>MAP</th>\n",
       "      <td>0.445218</td>\n",
       "      <td>0.448514</td>\n",
       "      <td>0.456612</td>\n",
       "      <td>0.452231</td>\n",
       "      <td>0.449896</td>\n",
       "      <td>0.434225</td>\n",
       "      <td>0.445936</td>\n",
       "      <td>0.451304</td>\n",
       "      <td>0.410598</td>\n",
       "    </tr>\n",
       "  </tbody>\n",
       "</table>\n",
       "</div>"
      ],
      "text/plain": [
       "      Narrow-Base  Narrow-Cust   No-Cust  Exp-Base  Exp-Cust  Broad-Base  \\\n",
       "NDCG     0.666990     0.667985  0.675090  0.667224  0.666749    0.663495   \n",
       "F1       0.335047     0.336255  0.345156  0.338313  0.336606    0.335951   \n",
       "MAP      0.445218     0.448514  0.456612  0.452231  0.449896    0.434225   \n",
       "\n",
       "      Broad-Cust   No-Base  Exp-Comment-Base  \n",
       "NDCG    0.666356  0.674992          0.649408  \n",
       "F1      0.337204  0.344282          0.334544  \n",
       "MAP     0.445936  0.451304          0.410598  "
      ]
     },
     "execution_count": 579,
     "metadata": {},
     "output_type": "execute_result"
    }
   ],
   "source": [
    "comparison"
   ]
  },
  {
   "cell_type": "code",
   "execution_count": 71,
   "metadata": {},
   "outputs": [
    {
     "data": {
      "text/html": [
       "<div>\n",
       "<style scoped>\n",
       "    .dataframe tbody tr th:only-of-type {\n",
       "        vertical-align: middle;\n",
       "    }\n",
       "\n",
       "    .dataframe tbody tr th {\n",
       "        vertical-align: top;\n",
       "    }\n",
       "\n",
       "    .dataframe thead th {\n",
       "        text-align: right;\n",
       "    }\n",
       "</style>\n",
       "<table border=\"1\" class=\"dataframe\">\n",
       "  <thead>\n",
       "    <tr style=\"text-align: right;\">\n",
       "      <th></th>\n",
       "      <th>Narrow-Base</th>\n",
       "      <th>Narrow-Cust</th>\n",
       "      <th>No-Cust</th>\n",
       "      <th>Exp-Base</th>\n",
       "      <th>Exp-Cust</th>\n",
       "      <th>Broad-Base</th>\n",
       "      <th>Broad-Cust</th>\n",
       "      <th>Exp-Comment-Base</th>\n",
       "    </tr>\n",
       "  </thead>\n",
       "  <tbody>\n",
       "    <tr>\n",
       "      <th>NDCG</th>\n",
       "      <td>0.657511</td>\n",
       "      <td>0.658434</td>\n",
       "      <td>0.656947</td>\n",
       "      <td>0.649743</td>\n",
       "      <td>0.648385</td>\n",
       "      <td>0.645974</td>\n",
       "      <td>0.649499</td>\n",
       "      <td>0.649408</td>\n",
       "    </tr>\n",
       "    <tr>\n",
       "      <th>F1</th>\n",
       "      <td>0.339141</td>\n",
       "      <td>0.336907</td>\n",
       "      <td>0.327111</td>\n",
       "      <td>0.319972</td>\n",
       "      <td>0.318182</td>\n",
       "      <td>0.317325</td>\n",
       "      <td>0.318641</td>\n",
       "      <td>0.334544</td>\n",
       "    </tr>\n",
       "    <tr>\n",
       "      <th>MAP</th>\n",
       "      <td>0.424982</td>\n",
       "      <td>0.428848</td>\n",
       "      <td>0.435094</td>\n",
       "      <td>0.430685</td>\n",
       "      <td>0.426011</td>\n",
       "      <td>0.421199</td>\n",
       "      <td>0.432387</td>\n",
       "      <td>0.410598</td>\n",
       "    </tr>\n",
       "  </tbody>\n",
       "</table>\n",
       "</div>"
      ],
      "text/plain": [
       "      Narrow-Base  Narrow-Cust   No-Cust  Exp-Base  Exp-Cust  Broad-Base  \\\n",
       "NDCG     0.657511     0.658434  0.656947  0.649743  0.648385    0.645974   \n",
       "F1       0.339141     0.336907  0.327111  0.319972  0.318182    0.317325   \n",
       "MAP      0.424982     0.428848  0.435094  0.430685  0.426011    0.421199   \n",
       "\n",
       "      Broad-Cust  Exp-Comment-Base  \n",
       "NDCG    0.649499          0.649408  \n",
       "F1      0.318641          0.334544  \n",
       "MAP     0.432387          0.410598  "
      ]
     },
     "execution_count": 71,
     "metadata": {},
     "output_type": "execute_result"
    }
   ],
   "source": [
    "comparison"
   ]
  },
  {
   "cell_type": "code",
   "execution_count": 72,
   "metadata": {},
   "outputs": [],
   "source": [
    "narrow_cust_10_results = score_results('headers_narrowsyn_custstop_results.json', \"headers\")"
   ]
  },
  {
   "cell_type": "code",
   "execution_count": 73,
   "metadata": {},
   "outputs": [
    {
     "data": {
      "text/plain": [
       "NDCG    0.658434\n",
       "F1      0.336907\n",
       "dtype: float64"
      ]
     },
     "execution_count": 73,
     "metadata": {},
     "output_type": "execute_result"
    }
   ],
   "source": [
    "narrow_cust_10_results[0].mean()"
   ]
  },
  {
   "cell_type": "code",
   "execution_count": 74,
   "metadata": {},
   "outputs": [
    {
     "data": {
      "text/plain": [
       "0.42884764376967616"
      ]
     },
     "execution_count": 74,
     "metadata": {},
     "output_type": "execute_result"
    }
   ],
   "source": [
    "narrow_cust_10_results[1]"
   ]
  },
  {
   "cell_type": "markdown",
   "metadata": {},
   "source": [
    "## Testing `size` parameter on hybrid index:"
   ]
  },
  {
   "cell_type": "code",
   "execution_count": 97,
   "metadata": {},
   "outputs": [],
   "source": [
    "hybrid_narrow_cust_8_eval, hybrid_narrow_cust_8_map = score_results('hybrid_narrowsyn_custstop_results_8.json', \"hybrid\")"
   ]
  },
  {
   "cell_type": "code",
   "execution_count": 98,
   "metadata": {},
   "outputs": [],
   "source": [
    "hybrid_narrow_cust_10_eval, hybrid_narrow_cust_10_map = score_results('hybrid_narrowsyn_custstop_results.json', \"hybrid\")"
   ]
  },
  {
   "cell_type": "code",
   "execution_count": 99,
   "metadata": {},
   "outputs": [],
   "source": [
    "hybrid_narrow_cust_12_eval, hybrid_narrow_cust_12_map = score_results('hybrid_narrowsyn_custstop_results_12.json', \"hybrid\")"
   ]
  },
  {
   "cell_type": "code",
   "execution_count": 100,
   "metadata": {},
   "outputs": [],
   "source": [
    "hybrid_narrow_cust_15_eval, hybrid_narrow_cust_15_map = score_results('hybrid_narrowsyn_custstop_results_15.json', \"hybrid\")"
   ]
  },
  {
   "cell_type": "code",
   "execution_count": 101,
   "metadata": {},
   "outputs": [],
   "source": [
    "hybrid_narrow_cust_20_eval, hybrid_narrow_cust_20_map = score_results('hybrid_narrowsyn_custstop_results_20.json', \"hybrid\")"
   ]
  },
  {
   "cell_type": "code",
   "execution_count": 113,
   "metadata": {},
   "outputs": [],
   "source": [
    "hybrid_narrow_cust_25_eval, hybrid_narrow_cust_25_map = score_results('hybrid_narrowsyn_custstop_results_25.json', \"hybrid\")"
   ]
  },
  {
   "cell_type": "code",
   "execution_count": 123,
   "metadata": {},
   "outputs": [],
   "source": [
    "hybrid_narrow_cust_30_eval, hybrid_narrow_cust_30_map = score_results('hybrid_narrowsyn_custstop_results_30.json', \"hybrid\")"
   ]
  },
  {
   "cell_type": "code",
   "execution_count": 86,
   "metadata": {},
   "outputs": [],
   "source": [
    "# hybrid_narrow_cust_12_results = score_results('hybrid_narrowsyn_custstop_results_12.json', \"hybrid\")"
   ]
  },
  {
   "cell_type": "code",
   "execution_count": null,
   "metadata": {},
   "outputs": [],
   "source": [
    "# hybrid_narrow_cust_12_results[0].mean()"
   ]
  },
  {
   "cell_type": "code",
   "execution_count": null,
   "metadata": {},
   "outputs": [],
   "source": [
    "# hybrid_narrow_cust_12_results[1]"
   ]
  },
  {
   "cell_type": "code",
   "execution_count": 124,
   "metadata": {},
   "outputs": [],
   "source": [
    "df_list = [hybrid_narrow_cust_8_eval, hybrid_narrow_cust_10_eval, hybrid_narrow_cust_12_eval, \\\n",
    "           hybrid_narrow_cust_15_eval, hybrid_narrow_cust_20_eval, hybrid_narrow_cust_25_eval, \\\n",
    "          hybrid_narrow_cust_30_eval]\n",
    "mean_df_list = [df.mean() for df in df_list]"
   ]
  },
  {
   "cell_type": "code",
   "execution_count": 125,
   "metadata": {},
   "outputs": [],
   "source": [
    "comparison = pd.DataFrame(mean_df_list).T.rename({i:df for i, df in enumerate([\"Size_8\", \"Size_10\",  \"Size_12\", \"Size_15\", \"Size_20\", \"Size_25\", \"Size_30\"])},axis=1)\n",
    "comparison = comparison.T"
   ]
  },
  {
   "cell_type": "code",
   "execution_count": 126,
   "metadata": {},
   "outputs": [
    {
     "name": "stdout",
     "output_type": "stream",
     "text": [
      "Size_30\n"
     ]
    }
   ],
   "source": [
    "aps = [hybrid_narrow_cust_8_map, hybrid_narrow_cust_10_map, hybrid_narrow_cust_12_map, \\\n",
    "           hybrid_narrow_cust_15_map, hybrid_narrow_cust_20_map, hybrid_narrow_cust_25_map, \\\n",
    "      hybrid_narrow_cust_30_map]\n",
    "\n",
    "comparison[\"MAP\"] = [ap for ap in aps]\n",
    "comparison = comparison.T\n",
    "print(comparison.columns[np.argmax(comparison.T.NDCG)])"
   ]
  },
  {
   "cell_type": "code",
   "execution_count": 129,
   "metadata": {},
   "outputs": [
    {
     "data": {
      "text/html": [
       "<div>\n",
       "<style scoped>\n",
       "    .dataframe tbody tr th:only-of-type {\n",
       "        vertical-align: middle;\n",
       "    }\n",
       "\n",
       "    .dataframe tbody tr th {\n",
       "        vertical-align: top;\n",
       "    }\n",
       "\n",
       "    .dataframe thead th {\n",
       "        text-align: right;\n",
       "    }\n",
       "</style>\n",
       "<table border=\"1\" class=\"dataframe\">\n",
       "  <thead>\n",
       "    <tr style=\"text-align: right;\">\n",
       "      <th></th>\n",
       "      <th>NDCG</th>\n",
       "      <th>F1</th>\n",
       "      <th>MAP</th>\n",
       "    </tr>\n",
       "  </thead>\n",
       "  <tbody>\n",
       "    <tr>\n",
       "      <th>Size_8</th>\n",
       "      <td>0.639518</td>\n",
       "      <td>0.360684</td>\n",
       "      <td>0.447005</td>\n",
       "    </tr>\n",
       "    <tr>\n",
       "      <th>Size_10</th>\n",
       "      <td>0.643667</td>\n",
       "      <td>0.348616</td>\n",
       "      <td>0.442480</td>\n",
       "    </tr>\n",
       "    <tr>\n",
       "      <th>Size_12</th>\n",
       "      <td>0.649032</td>\n",
       "      <td>0.361047</td>\n",
       "      <td>0.443399</td>\n",
       "    </tr>\n",
       "    <tr>\n",
       "      <th>Size_15</th>\n",
       "      <td>0.649595</td>\n",
       "      <td>0.357960</td>\n",
       "      <td>0.426020</td>\n",
       "    </tr>\n",
       "    <tr>\n",
       "      <th>Size_20</th>\n",
       "      <td>0.674251</td>\n",
       "      <td>0.359916</td>\n",
       "      <td>0.448201</td>\n",
       "    </tr>\n",
       "    <tr>\n",
       "      <th>Size_25</th>\n",
       "      <td>0.684683</td>\n",
       "      <td>0.361551</td>\n",
       "      <td>0.438204</td>\n",
       "    </tr>\n",
       "    <tr>\n",
       "      <th>Size_30</th>\n",
       "      <td>0.688027</td>\n",
       "      <td>0.361929</td>\n",
       "      <td>0.429518</td>\n",
       "    </tr>\n",
       "  </tbody>\n",
       "</table>\n",
       "</div>"
      ],
      "text/plain": [
       "             NDCG        F1       MAP\n",
       "Size_8   0.639518  0.360684  0.447005\n",
       "Size_10  0.643667  0.348616  0.442480\n",
       "Size_12  0.649032  0.361047  0.443399\n",
       "Size_15  0.649595  0.357960  0.426020\n",
       "Size_20  0.674251  0.359916  0.448201\n",
       "Size_25  0.684683  0.361551  0.438204\n",
       "Size_30  0.688027  0.361929  0.429518"
      ]
     },
     "execution_count": 129,
     "metadata": {},
     "output_type": "execute_result"
    }
   ],
   "source": [
    "comparison.T"
   ]
  },
  {
   "cell_type": "code",
   "execution_count": 128,
   "metadata": {},
   "outputs": [
    {
     "data": {
      "text/plain": [
       "<AxesSubplot:>"
      ]
     },
     "execution_count": 128,
     "metadata": {},
     "output_type": "execute_result"
    },
    {
     "data": {
      "image/png": "[encoded data removed]",
      "text/plain": [
       "<Figure size 720x360 with 1 Axes>"
      ]
     },
     "metadata": {
      "needs_background": "light"
     },
     "output_type": "display_data"
    }
   ],
   "source": [
    "plt.figure(figsize=(10,5))\n",
    "sns.lineplot(data=comparison.T)"
   ]
  },
  {
   "cell_type": "code",
   "execution_count": null,
   "metadata": {},
   "outputs": [],
   "source": []
  }
 ],
 "metadata": {
  "kernelspec": {
   "display_name": "Python 3",
   "language": "python",
   "name": "python3"
  },
  "language_info": {
   "codemirror_mode": {
    "name": "ipython",
    "version": 3
   },
   "file_extension": ".py",
   "mimetype": "text/x-python",
   "name": "python",
   "nbconvert_exporter": "python",
   "pygments_lexer": "ipython3",
   "version": "3.8.5"
  }
 },
 "nbformat": 4,
 "nbformat_minor": 4
}
