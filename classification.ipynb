{
 "cells": [
  {
   "cell_type": "markdown",
   "metadata": {},
   "source": [
    "# Classification Techniques"
   ]
  },
  {
   "cell_type": "markdown",
   "metadata": {},
   "source": [
    "### Imports"
   ]
  },
  {
   "cell_type": "code",
   "execution_count": 30,
   "metadata": {},
   "outputs": [],
   "source": [
    "import pandas as pd\n",
    "import numpy as np\n",
    "import json\n",
    "from matplotlib import pyplot as plt\n",
    "import seaborn as sns\n",
    "from sklearn.metrics import f1_score as f1, confusion_matrix as confusion, plot_roc_curve as roc\n",
    "from sklearn.linear_model import LogisticRegression, SGDClassifier\n",
    "from sklearn.feature_extraction.text import CountVectorizer, TfidfVectorizer\n",
    "from sklearn.decomposition import TruncatedSVD\n",
    "from sklearn.ensemble import RandomForestClassifier\n",
    "from sklearn.multioutput import MultiOutputClassifier\n",
    "import nltk\n",
    "from nltk.tokenize import word_tokenize, TweetTokenizer\n",
    "from nltk import WordNetLemmatizer\n",
    "from nltk.corpus import stopwords\n",
    "import xgboost as xgb\n",
    "from xgboost import plot_importance\n",
    "from nltk.tokenize.treebank import TreebankWordTokenizer"
   ]
  },
  {
   "cell_type": "markdown",
   "metadata": {},
   "source": [
    "### Read in Comments and True Classifications"
   ]
  },
  {
   "cell_type": "code",
   "execution_count": 2,
   "metadata": {},
   "outputs": [],
   "source": [
    "with open(\"unique_comments2018.json\") as f:\n",
    "    texts = json.load(f)"
   ]
  },
  {
   "cell_type": "code",
   "execution_count": 115,
   "metadata": {},
   "outputs": [],
   "source": [
    "metadata_url = \"https://mikeanders.org/data/CMS/CMS-2018-0101-0001/CMS-1701-P%20Comment%20MetaData.csv\"\n",
    "data = pd.read_csv(metadata_url, usecols=range(0,36))[:469] #ignore last few columns and blank rows at end of csv \n",
    "data = data.rename(columns=lambda x: x.strip()) #strip whitespace from columns"
   ]
  },
  {
   "cell_type": "code",
   "execution_count": 116,
   "metadata": {},
   "outputs": [],
   "source": [
    "data10 = data.fillna(0) #fill NaN with 0\n",
    "section_cols = data10.columns[3:] \n",
    "data10[section_cols] = data10[section_cols].replace([\"Y\"], 1) #replace Y with 1 in approriate columns\n",
    "data11 = data10.copy()\n",
    "section_cols1  = data11.columns[3:] \n",
    "data11[section_cols1] = np.where((data11[section_cols1]  != 1),0,data11[section_cols1] )\n",
    "\n",
    "# Combining columns for index matching: (A6b, A6b.1, = A6b),  (C3b, C3b.1'= C3b) ('A7', 'A7.1', 'A7.2', = A7b, a7c),  (F = F2, F3)\n",
    "data11['A6b'] = (data11['A6b'] + data11['A6b.1'])\n",
    "data11['A6b'] = data11['A6b'].replace(2,1)\n",
    "data11['C3b'] = (data11['C3b'] + data11['C3b.1'])\n",
    "data11['C3b'] = data11['C3b'].replace(2,1)\n",
    "data11['A7'] = (data11['A7'] + data11['A7.1'] + data11['A7.2'])\n",
    "data11['A7'] = data11['A7'].replace(2,1)\n",
    "data11['A7'] = data11['A7'].replace(3,1)\n",
    "data11 = data11.drop(['A6b.1', 'C3b.1', 'A7.1', 'A7.2'], axis = 1)\n",
    "data11 = data11[0:468]\n",
    "\n",
    "data11.Name = [name.split('DRAFT-')[1].split('-')[0] for name in data11.Name]\n",
    "data11 = data11.rename(columns=lambda x: x.lower())\n",
    "section_cols1 = data11.columns[3:]"
   ]
  },
  {
   "cell_type": "code",
   "execution_count": 117,
   "metadata": {},
   "outputs": [],
   "source": [
    "data11 = data11.loc[data11['name'].isin(texts.keys())]\n",
    "data11[\"comment\"] = texts.values() "
   ]
  },
  {
   "cell_type": "markdown",
   "metadata": {},
   "source": [
    "### Train/Test Split"
   ]
  },
  {
   "cell_type": "code",
   "execution_count": 118,
   "metadata": {},
   "outputs": [],
   "source": [
    "train = data11.sample(frac=.75, random_state=44)\n",
    "test = data11.drop(train.index)"
   ]
  },
  {
   "cell_type": "code",
   "execution_count": 119,
   "metadata": {},
   "outputs": [],
   "source": [
    "train_texts = list(train.comment)\n",
    "test_texts = list(test.comment)"
   ]
  },
  {
   "cell_type": "code",
   "execution_count": 120,
   "metadata": {},
   "outputs": [
    {
     "data": {
      "text/html": [
       "<div>\n",
       "<style scoped>\n",
       "    .dataframe tbody tr th:only-of-type {\n",
       "        vertical-align: middle;\n",
       "    }\n",
       "\n",
       "    .dataframe tbody tr th {\n",
       "        vertical-align: top;\n",
       "    }\n",
       "\n",
       "    .dataframe thead th {\n",
       "        text-align: right;\n",
       "    }\n",
       "</style>\n",
       "<table border=\"1\" class=\"dataframe\">\n",
       "  <thead>\n",
       "    <tr style=\"text-align: right;\">\n",
       "      <th></th>\n",
       "      <th>name</th>\n",
       "      <th>organization name / submitter name</th>\n",
       "      <th>submitter state</th>\n",
       "      <th>a2</th>\n",
       "      <th>a3</th>\n",
       "      <th>a4b</th>\n",
       "      <th>a4c</th>\n",
       "      <th>a5b</th>\n",
       "      <th>a5c</th>\n",
       "      <th>a5d</th>\n",
       "      <th>...</th>\n",
       "      <th>d3d</th>\n",
       "      <th>d4</th>\n",
       "      <th>e2</th>\n",
       "      <th>e3</th>\n",
       "      <th>e4</th>\n",
       "      <th>e5</th>\n",
       "      <th>e6</th>\n",
       "      <th>e7</th>\n",
       "      <th>f</th>\n",
       "      <th>comment</th>\n",
       "    </tr>\n",
       "  </thead>\n",
       "  <tbody>\n",
       "    <tr>\n",
       "      <th>269</th>\n",
       "      <td>0271</td>\n",
       "      <td>Tri-County Health Care</td>\n",
       "      <td>MN</td>\n",
       "      <td>0</td>\n",
       "      <td>0</td>\n",
       "      <td>0</td>\n",
       "      <td>0</td>\n",
       "      <td>0</td>\n",
       "      <td>1</td>\n",
       "      <td>0</td>\n",
       "      <td>...</td>\n",
       "      <td>0</td>\n",
       "      <td>0</td>\n",
       "      <td>0</td>\n",
       "      <td>0</td>\n",
       "      <td>0</td>\n",
       "      <td>0</td>\n",
       "      <td>0</td>\n",
       "      <td>0</td>\n",
       "      <td>0</td>\n",
       "      <td>see attached file(s) tri-coun health care clin...</td>\n",
       "    </tr>\n",
       "    <tr>\n",
       "      <th>7</th>\n",
       "      <td>0009</td>\n",
       "      <td>Sherman Jew</td>\n",
       "      <td>WI</td>\n",
       "      <td>0</td>\n",
       "      <td>0</td>\n",
       "      <td>0</td>\n",
       "      <td>0</td>\n",
       "      <td>1</td>\n",
       "      <td>0</td>\n",
       "      <td>0</td>\n",
       "      <td>...</td>\n",
       "      <td>0</td>\n",
       "      <td>0</td>\n",
       "      <td>0</td>\n",
       "      <td>0</td>\n",
       "      <td>0</td>\n",
       "      <td>0</td>\n",
       "      <td>0</td>\n",
       "      <td>0</td>\n",
       "      <td>0</td>\n",
       "      <td>making and enforcing more complex and expensiv...</td>\n",
       "    </tr>\n",
       "    <tr>\n",
       "      <th>417</th>\n",
       "      <td>0419</td>\n",
       "      <td>PhRMA</td>\n",
       "      <td>DC</td>\n",
       "      <td>0</td>\n",
       "      <td>0</td>\n",
       "      <td>0</td>\n",
       "      <td>0</td>\n",
       "      <td>0</td>\n",
       "      <td>0</td>\n",
       "      <td>0</td>\n",
       "      <td>...</td>\n",
       "      <td>0</td>\n",
       "      <td>0</td>\n",
       "      <td>0</td>\n",
       "      <td>0</td>\n",
       "      <td>0</td>\n",
       "      <td>1</td>\n",
       "      <td>0</td>\n",
       "      <td>1</td>\n",
       "      <td>0</td>\n",
       "      <td>see attached file(s) particularly as they rela...</td>\n",
       "    </tr>\n",
       "    <tr>\n",
       "      <th>174</th>\n",
       "      <td>0176</td>\n",
       "      <td>John Ulmer</td>\n",
       "      <td>VA</td>\n",
       "      <td>1</td>\n",
       "      <td>0</td>\n",
       "      <td>0</td>\n",
       "      <td>1</td>\n",
       "      <td>0</td>\n",
       "      <td>0</td>\n",
       "      <td>0</td>\n",
       "      <td>...</td>\n",
       "      <td>0</td>\n",
       "      <td>0</td>\n",
       "      <td>0</td>\n",
       "      <td>0</td>\n",
       "      <td>0</td>\n",
       "      <td>0</td>\n",
       "      <td>0</td>\n",
       "      <td>0</td>\n",
       "      <td>0</td>\n",
       "      <td>see attached file(s)the honorable seema verma ...</td>\n",
       "    </tr>\n",
       "    <tr>\n",
       "      <th>124</th>\n",
       "      <td>0126</td>\n",
       "      <td>Karen Hendren</td>\n",
       "      <td>OK</td>\n",
       "      <td>0</td>\n",
       "      <td>0</td>\n",
       "      <td>0</td>\n",
       "      <td>0</td>\n",
       "      <td>0</td>\n",
       "      <td>0</td>\n",
       "      <td>0</td>\n",
       "      <td>...</td>\n",
       "      <td>0</td>\n",
       "      <td>0</td>\n",
       "      <td>0</td>\n",
       "      <td>0</td>\n",
       "      <td>0</td>\n",
       "      <td>0</td>\n",
       "      <td>0</td>\n",
       "      <td>0</td>\n",
       "      <td>0</td>\n",
       "      <td>value based care and population health strateg...</td>\n",
       "    </tr>\n",
       "    <tr>\n",
       "      <th>...</th>\n",
       "      <td>...</td>\n",
       "      <td>...</td>\n",
       "      <td>...</td>\n",
       "      <td>...</td>\n",
       "      <td>...</td>\n",
       "      <td>...</td>\n",
       "      <td>...</td>\n",
       "      <td>...</td>\n",
       "      <td>...</td>\n",
       "      <td>...</td>\n",
       "      <td>...</td>\n",
       "      <td>...</td>\n",
       "      <td>...</td>\n",
       "      <td>...</td>\n",
       "      <td>...</td>\n",
       "      <td>...</td>\n",
       "      <td>...</td>\n",
       "      <td>...</td>\n",
       "      <td>...</td>\n",
       "      <td>...</td>\n",
       "      <td>...</td>\n",
       "    </tr>\n",
       "    <tr>\n",
       "      <th>256</th>\n",
       "      <td>0258</td>\n",
       "      <td>Memorial Hermann</td>\n",
       "      <td>TX</td>\n",
       "      <td>0</td>\n",
       "      <td>1</td>\n",
       "      <td>0</td>\n",
       "      <td>0</td>\n",
       "      <td>0</td>\n",
       "      <td>0</td>\n",
       "      <td>0</td>\n",
       "      <td>...</td>\n",
       "      <td>0</td>\n",
       "      <td>0</td>\n",
       "      <td>0</td>\n",
       "      <td>0</td>\n",
       "      <td>0</td>\n",
       "      <td>0</td>\n",
       "      <td>0</td>\n",
       "      <td>0</td>\n",
       "      <td>0</td>\n",
       "      <td>please see attached file. mom october 15, 2018...</td>\n",
       "    </tr>\n",
       "    <tr>\n",
       "      <th>334</th>\n",
       "      <td>0336</td>\n",
       "      <td>Steward Health Care System LLC</td>\n",
       "      <td>MA</td>\n",
       "      <td>1</td>\n",
       "      <td>0</td>\n",
       "      <td>0</td>\n",
       "      <td>0</td>\n",
       "      <td>0</td>\n",
       "      <td>0</td>\n",
       "      <td>0</td>\n",
       "      <td>...</td>\n",
       "      <td>0</td>\n",
       "      <td>0</td>\n",
       "      <td>0</td>\n",
       "      <td>0</td>\n",
       "      <td>0</td>\n",
       "      <td>0</td>\n",
       "      <td>0</td>\n",
       "      <td>0</td>\n",
       "      <td>0</td>\n",
       "      <td>please see attached letter. steward health car...</td>\n",
       "    </tr>\n",
       "    <tr>\n",
       "      <th>8</th>\n",
       "      <td>0010</td>\n",
       "      <td>Tyler Downing</td>\n",
       "      <td>CO</td>\n",
       "      <td>0</td>\n",
       "      <td>1</td>\n",
       "      <td>0</td>\n",
       "      <td>0</td>\n",
       "      <td>1</td>\n",
       "      <td>0</td>\n",
       "      <td>0</td>\n",
       "      <td>...</td>\n",
       "      <td>0</td>\n",
       "      <td>0</td>\n",
       "      <td>0</td>\n",
       "      <td>0</td>\n",
       "      <td>0</td>\n",
       "      <td>0</td>\n",
       "      <td>0</td>\n",
       "      <td>0</td>\n",
       "      <td>0</td>\n",
       "      <td>- our rural acos are high-quality performers a...</td>\n",
       "    </tr>\n",
       "    <tr>\n",
       "      <th>265</th>\n",
       "      <td>0267</td>\n",
       "      <td>OneHealth Nebraska ACO, LLC</td>\n",
       "      <td>NE</td>\n",
       "      <td>1</td>\n",
       "      <td>1</td>\n",
       "      <td>0</td>\n",
       "      <td>1</td>\n",
       "      <td>1</td>\n",
       "      <td>0</td>\n",
       "      <td>0</td>\n",
       "      <td>...</td>\n",
       "      <td>0</td>\n",
       "      <td>0</td>\n",
       "      <td>0</td>\n",
       "      <td>0</td>\n",
       "      <td>0</td>\n",
       "      <td>0</td>\n",
       "      <td>0</td>\n",
       "      <td>0</td>\n",
       "      <td>0</td>\n",
       "      <td>see attached file(s) cms should modify the med...</td>\n",
       "    </tr>\n",
       "    <tr>\n",
       "      <th>259</th>\n",
       "      <td>0261</td>\n",
       "      <td>Buena Vida y Salud LLC</td>\n",
       "      <td>TX</td>\n",
       "      <td>1</td>\n",
       "      <td>1</td>\n",
       "      <td>0</td>\n",
       "      <td>1</td>\n",
       "      <td>1</td>\n",
       "      <td>1</td>\n",
       "      <td>1</td>\n",
       "      <td>...</td>\n",
       "      <td>0</td>\n",
       "      <td>0</td>\n",
       "      <td>0</td>\n",
       "      <td>0</td>\n",
       "      <td>0</td>\n",
       "      <td>0</td>\n",
       "      <td>1</td>\n",
       "      <td>1</td>\n",
       "      <td>0</td>\n",
       "      <td>see attached file(s) 1. buena vida   lt,buena ...</td>\n",
       "    </tr>\n",
       "  </tbody>\n",
       "</table>\n",
       "<p>64 rows × 33 columns</p>\n",
       "</div>"
      ],
      "text/plain": [
       "     name organization name / submitter name submitter state  a2  a3  a4b  \\\n",
       "269  0271             Tri-County Health Care              MN   0   0    0   \n",
       "7    0009                        Sherman Jew              WI   0   0    0   \n",
       "417  0419                              PhRMA              DC   0   0    0   \n",
       "174  0176                         John Ulmer              VA   1   0    0   \n",
       "124  0126                      Karen Hendren              OK   0   0    0   \n",
       "..    ...                                ...             ...  ..  ..  ...   \n",
       "256  0258                   Memorial Hermann              TX   0   1    0   \n",
       "334  0336     Steward Health Care System LLC              MA   1   0    0   \n",
       "8    0010                      Tyler Downing              CO   0   1    0   \n",
       "265  0267        OneHealth Nebraska ACO, LLC              NE   1   1    0   \n",
       "259  0261             Buena Vida y Salud LLC              TX   1   1    0   \n",
       "\n",
       "     a4c  a5b  a5c  a5d  ...  d3d  d4  e2  e3  e4  e5  e6  e7  f  \\\n",
       "269    0    0    1    0  ...    0   0   0   0   0   0   0   0  0   \n",
       "7      0    1    0    0  ...    0   0   0   0   0   0   0   0  0   \n",
       "417    0    0    0    0  ...    0   0   0   0   0   1   0   1  0   \n",
       "174    1    0    0    0  ...    0   0   0   0   0   0   0   0  0   \n",
       "124    0    0    0    0  ...    0   0   0   0   0   0   0   0  0   \n",
       "..   ...  ...  ...  ...  ...  ...  ..  ..  ..  ..  ..  ..  .. ..   \n",
       "256    0    0    0    0  ...    0   0   0   0   0   0   0   0  0   \n",
       "334    0    0    0    0  ...    0   0   0   0   0   0   0   0  0   \n",
       "8      0    1    0    0  ...    0   0   0   0   0   0   0   0  0   \n",
       "265    1    1    0    0  ...    0   0   0   0   0   0   0   0  0   \n",
       "259    1    1    1    1  ...    0   0   0   0   0   0   1   1  0   \n",
       "\n",
       "                                               comment  \n",
       "269  see attached file(s) tri-coun health care clin...  \n",
       "7    making and enforcing more complex and expensiv...  \n",
       "417  see attached file(s) particularly as they rela...  \n",
       "174  see attached file(s)the honorable seema verma ...  \n",
       "124  value based care and population health strateg...  \n",
       "..                                                 ...  \n",
       "256  please see attached file. mom october 15, 2018...  \n",
       "334  please see attached letter. steward health car...  \n",
       "8    - our rural acos are high-quality performers a...  \n",
       "265  see attached file(s) cms should modify the med...  \n",
       "259  see attached file(s) 1. buena vida   lt,buena ...  \n",
       "\n",
       "[64 rows x 33 columns]"
      ]
     },
     "execution_count": 120,
     "metadata": {},
     "output_type": "execute_result"
    }
   ],
   "source": [
    "train"
   ]
  },
  {
   "cell_type": "code",
   "execution_count": 121,
   "metadata": {},
   "outputs": [
    {
     "data": {
      "text/plain": [
       "a2      30\n",
       "a3      43\n",
       "a4b      4\n",
       "a4c     27\n",
       "a5b     29\n",
       "a5c     17\n",
       "a5d     15\n",
       "a6b     12\n",
       "a6c     10\n",
       "a6d2     2\n",
       "a6d3     8\n",
       "a7      21\n",
       "b2a     23\n",
       "b2b     20\n",
       "c2      25\n",
       "c3a     19\n",
       "c3b     16\n",
       "d2      35\n",
       "d3b     24\n",
       "d3c     15\n",
       "d3d      3\n",
       "d4       1\n",
       "e2      16\n",
       "e3      11\n",
       "e4       6\n",
       "e5      23\n",
       "e6      18\n",
       "e7       9\n",
       "f        2\n",
       "dtype: object"
      ]
     },
     "execution_count": 121,
     "metadata": {},
     "output_type": "execute_result"
    }
   ],
   "source": [
    "data11.sum(axis=0)[section_cols1]"
   ]
  },
  {
   "cell_type": "markdown",
   "metadata": {},
   "source": [
    "## Classify One Rule Section)"
   ]
  },
  {
   "cell_type": "code",
   "execution_count": 44,
   "metadata": {},
   "outputs": [],
   "source": [
    "#stopwords = ['!', '\"', \"#\", \"$\", \"%\", \"&\", \"(\", \")\", \"*\", \"+\", \",\", \"-\", \".\", \"/\", \":\", \";\", \"<\", \"=\", \">\", \"?\", \"@\", \"[\", \"]\", \"^\", \"_\", \"`\", \"{\", \"|\", \"}\", \"~\", \"i\", \"me\", \"my\", \"myself\", \"we\", \"our\", \"ours\", \"ourselves\", \"you\", \"your\", \"yours\", \"yourself\", \"yourselves\", \"he\", \"him\", \"his\", \"himself\", \"she\", \"her\", \"hers\", \"herself\", \"it\", \"its\", \"itself\", \"they\", \"them\", \"their\", \"theirs\", \"themselves\", \"what\", \"which\", \"who\", \"whom\", \"this\", \"that\", \"these\", \"those\", \"am\", \"is\", \"are\", \"was\", \"were\", \"be\", \"been\", \"being\", \"have\", \"has\", \"had\", \"having\", \"do\", \"does\", \"did\", \"doing\", \"a\", \"an\", \"the\", \"and\", \"but\", \"if\", \"or\", \"because\", \"as\", \"until\", \"while\", \"of\", \"at\", \"by\", \"for\", \"with\", \"about\", \"against\", \"between\", \"into\", \"through\", \"during\", \"before\", \"after\", \"above\", \"below\", \"to\", \"from\", \"up\", \"down\", \"in\", \"out\", \"on\", \"off\", \"over\", \"under\", \"again\", \"further\", \"then\", \"once\", \"here\", \"there\", \"when\", \"where\", \"why\", \"how\", \"all\", \"any\", \"both\", \"each\", \"few\", \"more\", \"most\", \"other\", \"some\", \"such\", \"no\", \"nor\", \"not\", \"only\", \"own\", \"same\", \"so\", \"than\", \"too\", \"very\", \"s\", \"t\", \"can\", \"will\", \"just\", \"don\", \"should\", \"now\"]"
   ]
  },
  {
   "cell_type": "markdown",
   "metadata": {},
   "source": [
    "### BOW Vectorization"
   ]
  },
  {
   "cell_type": "code",
   "execution_count": 122,
   "metadata": {},
   "outputs": [],
   "source": [
    "bow_vector = CountVectorizer(tokenizer=nltk.RegexpTokenizer(r\"\\w+\").tokenize, ngram_range=(1,2), stop_words=\"english\")\n",
    "\n",
    "x_train = bow_vector.fit_transform(train_texts)\n",
    "y_train = np.array(train.a2)\n",
    "\n",
    "x_test = bow_vector.transform(test_texts)\n",
    "y_test = np.array(test.a2)"
   ]
  },
  {
   "cell_type": "markdown",
   "metadata": {},
   "source": [
    "### SVM"
   ]
  },
  {
   "cell_type": "code",
   "execution_count": 123,
   "metadata": {},
   "outputs": [
    {
     "data": {
      "text/plain": [
       "array([1, 0, 1, 1, 0, 0, 0, 1, 1, 0, 1, 0, 0, 0, 1, 1, 1, 0, 0, 1, 1],\n",
       "      dtype=int64)"
      ]
     },
     "execution_count": 123,
     "metadata": {},
     "output_type": "execute_result"
    }
   ],
   "source": [
    "svm = SGDClassifier(random_state=44)\n",
    "svm.fit(X=x_train, y=y_train)\n",
    "svm_preds = svm.predict(x_test)\n",
    "svm_preds"
   ]
  },
  {
   "cell_type": "code",
   "execution_count": 124,
   "metadata": {},
   "outputs": [
    {
     "data": {
      "text/plain": [
       "0.7272727272727273"
      ]
     },
     "execution_count": 124,
     "metadata": {},
     "output_type": "execute_result"
    }
   ],
   "source": [
    "svm_f1 = f1(y_test, svm_preds)\n",
    "svm_f1"
   ]
  },
  {
   "cell_type": "code",
   "execution_count": 125,
   "metadata": {},
   "outputs": [
    {
     "data": {
      "text/plain": [
       "array([[7, 3],\n",
       "       [3, 8]], dtype=int64)"
      ]
     },
     "execution_count": 125,
     "metadata": {},
     "output_type": "execute_result"
    }
   ],
   "source": [
    "svm_confusion = confusion(y_test, svm_preds)\n",
    "svm_confusion"
   ]
  },
  {
   "cell_type": "markdown",
   "metadata": {},
   "source": [
    "#### Identifying Most Significant Words for Classification"
   ]
  },
  {
   "cell_type": "code",
   "execution_count": 126,
   "metadata": {},
   "outputs": [
    {
     "data": {
      "text/plain": [
       "['shared',\n",
       " 'agreement',\n",
       " 'mssp',\n",
       " 'adherence',\n",
       " 'spending',\n",
       " 'medication',\n",
       " 'rural',\n",
       " 'care',\n",
       " 'organizations',\n",
       " 'ama',\n",
       " 'pharmacy',\n",
       " 'program',\n",
       " 'ï',\n",
       " 'shared savings',\n",
       " 'savings']"
      ]
     },
     "execution_count": 126,
     "metadata": {},
     "output_type": "execute_result"
    }
   ],
   "source": [
    "coefs = np.abs(svm.coef_[0])\n",
    "top_fifteen = np.argpartition(coefs, -15)[-15:]\n",
    "[(bow_vector.get_feature_names()[feature]) for feature in top_fifteen] "
   ]
  },
  {
   "cell_type": "markdown",
   "metadata": {},
   "source": [
    "### XGBoost"
   ]
  },
  {
   "cell_type": "code",
   "execution_count": 127,
   "metadata": {},
   "outputs": [],
   "source": [
    "boost = xgb.XGBClassifier(use_label_encoder=False, eval_metric='logloss')\n",
    "boost.fit(x_train, y_train)\n",
    "boost_preds = boost.predict(x_test)"
   ]
  },
  {
   "cell_type": "code",
   "execution_count": 128,
   "metadata": {},
   "outputs": [
    {
     "data": {
      "text/plain": [
       "0.7272727272727273"
      ]
     },
     "execution_count": 128,
     "metadata": {},
     "output_type": "execute_result"
    }
   ],
   "source": [
    "boost_f1 = f1(y_test, svm_preds)\n",
    "boost_f1"
   ]
  },
  {
   "cell_type": "code",
   "execution_count": 129,
   "metadata": {},
   "outputs": [
    {
     "data": {
      "text/plain": [
       "array([[6, 4],\n",
       "       [2, 9]], dtype=int64)"
      ]
     },
     "execution_count": 129,
     "metadata": {},
     "output_type": "execute_result"
    }
   ],
   "source": [
    "boost_confusion = confusion(y_test, boost_preds)\n",
    "boost_confusion"
   ]
  },
  {
   "cell_type": "markdown",
   "metadata": {},
   "source": [
    "#### Identifying Most Significant Words for Classification"
   ]
  },
  {
   "cell_type": "code",
   "execution_count": 130,
   "metadata": {},
   "outputs": [
    {
     "data": {
      "text/plain": [
       "['benchmarking',\n",
       " 'https www',\n",
       " 'choose',\n",
       " 'voluntary',\n",
       " 'flexibility',\n",
       " 'primary',\n",
       " 'g',\n",
       " 'health human',\n",
       " 'attached',\n",
       " 'aco',\n",
       " 'p',\n",
       " 'clinical',\n",
       " 'performance',\n",
       " 'thank',\n",
       " 'care']"
      ]
     },
     "execution_count": 130,
     "metadata": {},
     "output_type": "execute_result"
    }
   ],
   "source": [
    "boost_top15 = np.argsort(-boost.feature_importances_)[0:15]\n",
    "[(bow_vector.get_feature_names()[feature]) for feature in boost_top15] "
   ]
  },
  {
   "cell_type": "markdown",
   "metadata": {},
   "source": [
    "## Classify All Rule Sections"
   ]
  },
  {
   "cell_type": "code",
   "execution_count": 131,
   "metadata": {},
   "outputs": [],
   "source": [
    "bow_vector = CountVectorizer(tokenizer=nltk.RegexpTokenizer(r\"\\w+\").tokenize, ngram_range=(1,2), stop_words=\"english\")\n",
    "\n",
    "x_train = bow_vector.fit_transform(train_texts)\n",
    "y_train = np.array(train[section_cols1])\n",
    "\n",
    "x_test = bow_vector.transform(test_texts)\n",
    "y_test = np.array(test[section_cols1])"
   ]
  },
  {
   "cell_type": "code",
   "execution_count": 132,
   "metadata": {},
   "outputs": [
    {
     "data": {
      "text/plain": [
       "array([[0, 0, 0, 0, 1, 0, 0, 0, 0, 0, 0, 0, 0, 0, 0, 1, 0, 0, 0, 0, 0, 0,\n",
       "        0, 0, 0, 0, 0, 0, 0],\n",
       "       [0, 0, 0, 0, 0, 0, 0, 0, 0, 0, 0, 0, 0, 0, 0, 0, 0, 0, 0, 0, 0, 0,\n",
       "        0, 0, 0, 0, 0, 0, 0],\n",
       "       [0, 0, 0, 0, 0, 0, 0, 0, 0, 0, 0, 0, 0, 0, 0, 0, 0, 0, 0, 0, 0, 0,\n",
       "        0, 0, 0, 0, 0, 0, 0],\n",
       "       [1, 1, 0, 0, 0, 0, 0, 0, 0, 0, 0, 0, 0, 0, 0, 1, 0, 1, 0, 0, 0, 0,\n",
       "        0, 0, 0, 0, 0, 0, 0],\n",
       "       [1, 1, 0, 0, 0, 0, 0, 0, 0, 0, 0, 0, 0, 0, 0, 0, 0, 0, 0, 0, 0, 0,\n",
       "        0, 0, 0, 0, 0, 0, 0],\n",
       "       [0, 1, 0, 0, 0, 0, 0, 0, 0, 0, 0, 0, 0, 0, 0, 0, 0, 0, 0, 0, 0, 0,\n",
       "        0, 0, 0, 0, 0, 0, 0],\n",
       "       [1, 1, 0, 0, 0, 0, 0, 0, 0, 0, 0, 0, 0, 0, 0, 0, 0, 0, 1, 0, 0, 0,\n",
       "        0, 0, 0, 1, 0, 0, 0],\n",
       "       [1, 1, 0, 0, 0, 0, 0, 0, 0, 0, 0, 0, 0, 0, 1, 0, 0, 0, 0, 0, 0, 0,\n",
       "        0, 0, 0, 0, 0, 0, 0],\n",
       "       [1, 1, 0, 0, 0, 0, 0, 0, 0, 0, 0, 0, 0, 0, 0, 0, 0, 1, 1, 1, 0, 0,\n",
       "        0, 0, 0, 0, 0, 0, 0],\n",
       "       [0, 0, 0, 0, 0, 0, 0, 0, 0, 0, 0, 0, 0, 0, 0, 0, 0, 0, 0, 0, 0, 0,\n",
       "        0, 0, 0, 0, 0, 0, 0],\n",
       "       [1, 1, 0, 1, 1, 0, 1, 0, 0, 0, 0, 0, 0, 1, 1, 1, 0, 1, 1, 1, 0, 0,\n",
       "        1, 0, 0, 1, 0, 0, 0],\n",
       "       [0, 1, 0, 1, 0, 0, 0, 0, 0, 0, 0, 0, 0, 0, 1, 0, 0, 1, 0, 0, 0, 0,\n",
       "        0, 0, 0, 1, 0, 0, 0],\n",
       "       [0, 0, 0, 1, 0, 0, 0, 0, 0, 0, 0, 0, 0, 0, 0, 1, 0, 0, 0, 0, 0, 0,\n",
       "        0, 0, 0, 0, 0, 0, 0],\n",
       "       [1, 1, 0, 0, 0, 0, 1, 0, 0, 0, 0, 0, 1, 1, 0, 0, 0, 1, 0, 1, 0, 0,\n",
       "        0, 0, 0, 0, 0, 0, 0],\n",
       "       [1, 1, 0, 1, 1, 0, 1, 0, 0, 0, 0, 1, 1, 1, 1, 0, 1, 1, 1, 1, 0, 0,\n",
       "        1, 0, 0, 1, 1, 0, 0],\n",
       "       [1, 1, 0, 1, 1, 1, 1, 1, 0, 0, 0, 0, 1, 1, 1, 0, 1, 1, 1, 1, 0, 0,\n",
       "        0, 0, 0, 1, 1, 1, 0],\n",
       "       [1, 1, 0, 1, 1, 0, 0, 0, 0, 0, 0, 0, 1, 1, 1, 0, 1, 1, 1, 1, 0, 0,\n",
       "        1, 0, 0, 1, 1, 0, 0],\n",
       "       [1, 0, 0, 1, 0, 0, 0, 0, 0, 0, 0, 0, 0, 0, 0, 0, 0, 1, 1, 0, 0, 0,\n",
       "        0, 0, 0, 1, 1, 0, 0],\n",
       "       [0, 0, 0, 0, 0, 0, 0, 0, 0, 0, 0, 0, 0, 0, 0, 0, 0, 0, 0, 0, 0, 0,\n",
       "        0, 0, 0, 0, 0, 0, 0],\n",
       "       [1, 1, 0, 0, 1, 0, 1, 0, 0, 0, 0, 0, 1, 1, 0, 0, 1, 1, 1, 1, 0, 0,\n",
       "        0, 0, 0, 1, 1, 0, 0],\n",
       "       [1, 1, 0, 1, 1, 0, 1, 0, 0, 0, 0, 0, 1, 1, 1, 0, 0, 1, 1, 1, 0, 0,\n",
       "        1, 0, 0, 1, 1, 0, 0]])"
      ]
     },
     "execution_count": 132,
     "metadata": {},
     "output_type": "execute_result"
    }
   ],
   "source": [
    "boost = xgb.XGBClassifier(objective='binary:logistic', use_label_encoder=False, eval_metric='logloss')\n",
    "\n",
    "multi_boost = MultiOutputClassifier(boost)\n",
    "\n",
    "multi_boost.fit(x_train, y_train)\n",
    "\n",
    "multi_boost_preds = multi_boost.predict(x_test)\n",
    "\n",
    "multi_boost_preds"
   ]
  },
  {
   "cell_type": "code",
   "execution_count": 133,
   "metadata": {},
   "outputs": [],
   "source": [
    "multi_boost_f1 = f1(y_test, multi_boost_preds, zero_division=0, average=None)"
   ]
  },
  {
   "cell_type": "code",
   "execution_count": 134,
   "metadata": {},
   "outputs": [
    {
     "data": {
      "text/plain": [
       "{'a2': 0.7500000000000001,\n",
       " 'a3': 0.8461538461538461,\n",
       " 'a4b': 0.0,\n",
       " 'a4c': 0.7777777777777777,\n",
       " 'a5b': 0.631578947368421,\n",
       " 'a5c': 0.2222222222222222,\n",
       " 'a5d': 0.6153846153846153,\n",
       " 'a6b': 0.25,\n",
       " 'a6c': 0.0,\n",
       " 'a6d2': 0.0,\n",
       " 'a6d3': 0.0,\n",
       " 'a7': 0.19999999999999998,\n",
       " 'b2a': 0.7142857142857143,\n",
       " 'b2b': 0.8571428571428571,\n",
       " 'c2': 0.6666666666666666,\n",
       " 'c3a': 0.18181818181818182,\n",
       " 'c3b': 0.6666666666666666,\n",
       " 'd2': 0.88,\n",
       " 'd3b': 0.7999999999999999,\n",
       " 'd3c': 0.6666666666666666,\n",
       " 'd3d': 0.0,\n",
       " 'd4': 0.0,\n",
       " 'e2': 0.3333333333333333,\n",
       " 'e3': 0.0,\n",
       " 'e4': 0.0,\n",
       " 'e5': 0.823529411764706,\n",
       " 'e6': 0.7272727272727272,\n",
       " 'e7': 0.5,\n",
       " 'f': 0.0}"
      ]
     },
     "execution_count": 134,
     "metadata": {},
     "output_type": "execute_result"
    }
   ],
   "source": [
    "{sec:score for (sec, score) in zip(section_cols1, list(multi_boost_f1))}"
   ]
  },
  {
   "cell_type": "code",
   "execution_count": 135,
   "metadata": {},
   "outputs": [
    {
     "data": {
      "text/plain": [
       "0.41760343567325525"
      ]
     },
     "execution_count": 135,
     "metadata": {},
     "output_type": "execute_result"
    }
   ],
   "source": [
    "np.mean(multi_boost_f1)"
   ]
  },
  {
   "cell_type": "markdown",
   "metadata": {},
   "source": [
    "#### Identifying Most Significant Words for Classification"
   ]
  },
  {
   "cell_type": "code",
   "execution_count": 136,
   "metadata": {},
   "outputs": [
    {
     "name": "stderr",
     "output_type": "stream",
     "text": [
      "C:\\ProgramData\\Anaconda3\\lib\\site-packages\\xgboost\\sklearn.py:749: RuntimeWarning: invalid value encountered in true_divide\n",
      "  return all_features / all_features.sum()\n"
     ]
    }
   ],
   "source": [
    "features = []\n",
    "for boost in multi_boost.estimators_:\n",
    "    boost_top10 = np.argsort(-boost.feature_importances_)[0:10]\n",
    "    features.append([(bow_vector.get_feature_names()[feature]) for feature in boost_top10])"
   ]
  },
  {
   "cell_type": "code",
   "execution_count": 137,
   "metadata": {},
   "outputs": [
    {
     "data": {
      "text/plain": [
       "{'a2': ['benchmarking',\n",
       "  'https www',\n",
       "  'choose',\n",
       "  'voluntary',\n",
       "  'flexibility',\n",
       "  'primary',\n",
       "  'g',\n",
       "  'health human',\n",
       "  'attached',\n",
       "  'aco'],\n",
       " 'a3': ['methodology',\n",
       "  'hospitals',\n",
       "  'losses',\n",
       "  'new',\n",
       "  'time',\n",
       "  'revenue',\n",
       "  'ms',\n",
       "  'low revenue',\n",
       "  '2018',\n",
       "  'attached file'],\n",
       " 'a4b': ['lower',\n",
       "  '25',\n",
       "  '16',\n",
       "  'electronic',\n",
       "  'org',\n",
       "  'assigned',\n",
       "  'taking',\n",
       "  'clinical',\n",
       "  '05',\n",
       "  '000'],\n",
       " 'a4c': ['retrospective',\n",
       "  'benchmarking',\n",
       "  'quality',\n",
       "  'assignment',\n",
       "  'application',\n",
       "  '8013',\n",
       "  'participants',\n",
       "  '1701',\n",
       "  'lower',\n",
       "  'believe'],\n",
       " 'a5b': ['low revenue',\n",
       "  'fewer',\n",
       "  '425',\n",
       "  'entities',\n",
       "  'good',\n",
       "  'accountable care',\n",
       "  'shared',\n",
       "  'currently',\n",
       "  'revenue',\n",
       "  'care'],\n",
       " 'a5c': ['certified',\n",
       "  'determining',\n",
       "  'believe acos',\n",
       "  'www',\n",
       "  'experienced',\n",
       "  'affairs',\n",
       "  'compared',\n",
       "  'aco',\n",
       "  '2018 ms',\n",
       "  'success'],\n",
       " 'a5d': ['outside',\n",
       "  'proposal',\n",
       "  'negative',\n",
       "  'calculation',\n",
       "  'health record',\n",
       "  'infrastructure',\n",
       "  'spending',\n",
       "  'control',\n",
       "  'complete',\n",
       "  'benchmarks'],\n",
       " 'a6b': ['3 3',\n",
       "  'fixed',\n",
       "  'voluntarily',\n",
       "  'disease',\n",
       "  'track 3',\n",
       "  'implement',\n",
       "  'attached file',\n",
       "  's',\n",
       "  'file s',\n",
       "  'health'],\n",
       " 'a6c': ['hcc risk',\n",
       "  'held',\n",
       "  'letter',\n",
       "  'encourage',\n",
       "  'mechanism',\n",
       "  'health human',\n",
       "  'box',\n",
       "  '3',\n",
       "  'file s',\n",
       "  'services department'],\n",
       " 'a6d2': ['0',\n",
       "  'performing doing',\n",
       "  'performing better',\n",
       "  'performing acos',\n",
       "  'performing aco',\n",
       "  'performing',\n",
       "  'performers suffer',\n",
       "  'performers saving',\n",
       "  'performers monitor',\n",
       "  'performers encouraged'],\n",
       " 'a6d3': ['termination',\n",
       "  'account',\n",
       "  'www',\n",
       "  'p',\n",
       "  'populations',\n",
       "  'application',\n",
       "  'access',\n",
       "  'file s',\n",
       "  'general',\n",
       "  'methodology'],\n",
       " 'a7': ['2020',\n",
       "  '30',\n",
       "  'different',\n",
       "  'revenue',\n",
       "  'vs',\n",
       "  'remain',\n",
       "  'physicians',\n",
       "  'file s',\n",
       "  'models',\n",
       "  'acos'],\n",
       " 'b2a': ['time',\n",
       "  'submit',\n",
       "  'methodology',\n",
       "  'waiver',\n",
       "  'snf',\n",
       "  'measure',\n",
       "  'ensure',\n",
       "  'proposal',\n",
       "  'â',\n",
       "  'rule medicare'],\n",
       " 'b2b': ['telehealth',\n",
       "  'proposal',\n",
       "  'association',\n",
       "  'high',\n",
       "  '16',\n",
       "  'attached',\n",
       "  'measure',\n",
       "  'value',\n",
       "  'seema',\n",
       "  'behalf'],\n",
       " 'c2': ['determination',\n",
       "  'acoâ s',\n",
       "  'beneficiary',\n",
       "  'stars',\n",
       "  'verma',\n",
       "  '8013',\n",
       "  'variable',\n",
       "  'department',\n",
       "  'application',\n",
       "  'attention cms'],\n",
       " 'c3a': ['assignment',\n",
       "  'appropriate',\n",
       "  'accurate',\n",
       "  'date',\n",
       "  'care provider',\n",
       "  'states',\n",
       "  'verma',\n",
       "  'letter',\n",
       "  'good',\n",
       "  '2'],\n",
       " 'c3b': ['selection',\n",
       "  'opt',\n",
       "  'waiver',\n",
       "  'advantage',\n",
       "  'assignment',\n",
       "  '42 cfr',\n",
       "  'voluntarily',\n",
       "  'plans',\n",
       "  'experience',\n",
       "  'primary'],\n",
       " 'd2': ['agreement periods',\n",
       "  'encourage',\n",
       "  'd',\n",
       "  'levels',\n",
       "  'www',\n",
       "  'benefit',\n",
       "  'letter',\n",
       "  'adjustment',\n",
       "  'performance years',\n",
       "  'cms 1701'],\n",
       " 'd3b': ['benchmarking',\n",
       "  'incentive',\n",
       "  'low',\n",
       "  'operations',\n",
       "  'association',\n",
       "  'good',\n",
       "  '000',\n",
       "  '50',\n",
       "  'regardless',\n",
       "  'attached'],\n",
       " 'd3c': ['years',\n",
       "  'adjustment',\n",
       "  'maintaining',\n",
       "  'regional',\n",
       "  'consideration',\n",
       "  'association',\n",
       "  'attached',\n",
       "  'state',\n",
       "  'file',\n",
       "  'providers'],\n",
       " 'd3d': ['10',\n",
       "  'ability',\n",
       "  'avenue',\n",
       "  'advanced',\n",
       "  'org',\n",
       "  'www',\n",
       "  'clinical',\n",
       "  'participants',\n",
       "  '1',\n",
       "  'risk'],\n",
       " 'd4': ['0',\n",
       "  'performing doing',\n",
       "  'performing better',\n",
       "  'performing acos',\n",
       "  'performing aco',\n",
       "  'performing',\n",
       "  'performers suffer',\n",
       "  'performers saving',\n",
       "  'performers monitor',\n",
       "  'performers encouraged'],\n",
       " 'e2': ['opt',\n",
       "  'voluntary',\n",
       "  'infrastructure',\n",
       "  'assignment',\n",
       "  'comments proposed',\n",
       "  'increase',\n",
       "  'receive',\n",
       "  '7',\n",
       "  'beneficiary',\n",
       "  'data'],\n",
       " 'e3': ['intent',\n",
       "  'come',\n",
       "  'report',\n",
       "  'aco llc',\n",
       "  'believe acos',\n",
       "  '2018 ms',\n",
       "  'b',\n",
       "  'basic track',\n",
       "  'example',\n",
       "  'beneficiaries'],\n",
       " 'e4': ['2019',\n",
       "  '11',\n",
       "  '5 year',\n",
       "  'medically',\n",
       "  'adjust',\n",
       "  'acos',\n",
       "  'www',\n",
       "  '2017',\n",
       "  'concerned',\n",
       "  'costs'],\n",
       " 'e5': ['measures',\n",
       "  'quality measures',\n",
       "  'development',\n",
       "  'opioid',\n",
       "  'received',\n",
       "  'treatment',\n",
       "  'clinical',\n",
       "  '12',\n",
       "  '1701',\n",
       "  'value'],\n",
       " 'e6': ['cehrt',\n",
       "  'finalize',\n",
       "  'policies',\n",
       "  'accountable',\n",
       "  'revenue',\n",
       "  '50',\n",
       "  'application',\n",
       "  'reporting',\n",
       "  'requirements',\n",
       "  'federal'],\n",
       " 'e7': ['coordination pharmacy',\n",
       "  'adverse',\n",
       "  'events',\n",
       "  'recent',\n",
       "  'development',\n",
       "  'sets',\n",
       "  'specific',\n",
       "  'program',\n",
       "  'healthcare',\n",
       "  'care'],\n",
       " 'f': ['clarification',\n",
       "  'understanding',\n",
       "  'track 1',\n",
       "  'track',\n",
       "  'health',\n",
       "  'current',\n",
       "  'risk',\n",
       "  'medicare',\n",
       "  's',\n",
       "  'performers best']}"
      ]
     },
     "execution_count": 137,
     "metadata": {},
     "output_type": "execute_result"
    }
   ],
   "source": [
    "{sec:feature_list for (sec, feature_list) in zip(section_cols1, features)}"
   ]
  }
 ],
 "metadata": {
  "kernelspec": {
   "display_name": "Python 3",
   "language": "python",
   "name": "python3"
  },
  "language_info": {
   "codemirror_mode": {
    "name": "ipython",
    "version": 3
   },
   "file_extension": ".py",
   "mimetype": "text/x-python",
   "name": "python",
   "nbconvert_exporter": "python",
   "pygments_lexer": "ipython3",
   "version": "3.8.3"
  }
 },
 "nbformat": 4,
 "nbformat_minor": 4
}
