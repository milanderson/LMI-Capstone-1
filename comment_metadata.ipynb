{
 "cells": [
  {
   "cell_type": "markdown",
   "metadata": {},
   "source": [
    "# Scoring Elaticsearch Results\n",
    "### LMI Capstone Team\n",
    "### Summer Chambers | Steve Morris | Kaleb Shikur"
   ]
  },
  {
   "cell_type": "markdown",
   "metadata": {},
   "source": [
    "## Setup"
   ]
  },
  {
   "cell_type": "code",
   "execution_count": 127,
   "metadata": {},
   "outputs": [],
   "source": [
    "import pandas as pd\n",
    "import numpy as np\n",
    "import json\n",
    "import math\n",
    "from statistics import mode\n",
    "from sklearn.metrics import ndcg_score, f1_score, average_precision_score\n",
    "from matplotlib import pyplot as plt\n",
    "import seaborn as sns"
   ]
  },
  {
   "cell_type": "code",
   "execution_count": 128,
   "metadata": {},
   "outputs": [],
   "source": [
    "metadata_url = \"https://mikeanders.org/data/CMS/CMS-2018-0101-0001/CMS-1701-P%20Comment%20MetaData.csv\"\n",
    "data = pd.read_csv(metadata_url, usecols=range(0,36))[:468] #ignore last few columns and blank rows at end of csv \n",
    "data = data.rename(columns=lambda x: x.strip()) #strip whitespace from columns"
   ]
  },
  {
   "cell_type": "code",
   "execution_count": 129,
   "metadata": {},
   "outputs": [],
   "source": [
    "data10 = data.fillna(0) #fill NaN with 0\n",
    "\n",
    "section_cols = data10.columns[3:] \n",
    "data10[section_cols] = data10[section_cols].replace([\"Y\"], 1) #replace Y with 1 in approriate columns\n",
    "data11 = data10.copy()\n",
    "section_cols1  = data11.columns[3:] \n",
    "data11[section_cols1] = np.where((data11[section_cols1]  != 1), 0, data11[section_cols1])\n",
    "\n",
    "# Combining columns for index matching: (A6b, A6b.1, = A6b),  (C3b, C3b.1'= C3b) ('A7', 'A7.1', 'A7.2', = A7b, a7c),  (F = F2, F3)\n",
    "\n",
    "data11['A6b'] = (data11['A6b'] + data11['A6b.1'])\n",
    "data11['A6b'] = data11['A6b'].replace(2,1)\n",
    "data11['C3b'] = (data11['C3b'] + data11['C3b.1'])\n",
    "data11['C3b'] = data11['C3b'].replace(2,1)\n",
    "data11['A7'] = (data11['A7'] + data11['A7.1'] + data11['A7.2'])\n",
    "data11['A7'] = data11['A7'].replace(2,1)\n",
    "data11['A7'] = data11['A7'].replace(3,1)\n",
    "\n",
    "data11 = data11.drop(['A6b.1', 'C3b.1', 'A7.1', 'A7.2'], axis=1)\n",
    "data11.Name = [name.split('DRAFT-')[1].split('-')[0] for name in data11.Name]\n",
    "data11 = data11.rename(columns=lambda x: x.lower())\n",
    "section_cols1 = data11.columns[3:]"
   ]
  },
  {
   "cell_type": "code",
   "execution_count": 130,
   "metadata": {},
   "outputs": [
    {
     "data": {
      "text/html": [
       "<div>\n",
       "<style scoped>\n",
       "    .dataframe tbody tr th:only-of-type {\n",
       "        vertical-align: middle;\n",
       "    }\n",
       "\n",
       "    .dataframe tbody tr th {\n",
       "        vertical-align: top;\n",
       "    }\n",
       "\n",
       "    .dataframe thead th {\n",
       "        text-align: right;\n",
       "    }\n",
       "</style>\n",
       "<table border=\"1\" class=\"dataframe\">\n",
       "  <thead>\n",
       "    <tr style=\"text-align: right;\">\n",
       "      <th></th>\n",
       "      <th>name</th>\n",
       "      <th>organization name / submitter name</th>\n",
       "      <th>submitter state</th>\n",
       "      <th>a2</th>\n",
       "      <th>a3</th>\n",
       "      <th>a4b</th>\n",
       "      <th>a4c</th>\n",
       "      <th>a5b</th>\n",
       "      <th>a5c</th>\n",
       "      <th>a5d</th>\n",
       "      <th>...</th>\n",
       "      <th>d3c</th>\n",
       "      <th>d3d</th>\n",
       "      <th>d4</th>\n",
       "      <th>e2</th>\n",
       "      <th>e3</th>\n",
       "      <th>e4</th>\n",
       "      <th>e5</th>\n",
       "      <th>e6</th>\n",
       "      <th>e7</th>\n",
       "      <th>f</th>\n",
       "    </tr>\n",
       "  </thead>\n",
       "  <tbody>\n",
       "    <tr>\n",
       "      <th>0</th>\n",
       "      <td>0002</td>\n",
       "      <td>Erick Meleher</td>\n",
       "      <td>NC</td>\n",
       "      <td>0</td>\n",
       "      <td>0</td>\n",
       "      <td>0</td>\n",
       "      <td>0</td>\n",
       "      <td>0</td>\n",
       "      <td>0</td>\n",
       "      <td>0</td>\n",
       "      <td>...</td>\n",
       "      <td>0</td>\n",
       "      <td>0</td>\n",
       "      <td>0</td>\n",
       "      <td>0</td>\n",
       "      <td>0</td>\n",
       "      <td>0</td>\n",
       "      <td>0</td>\n",
       "      <td>0</td>\n",
       "      <td>0</td>\n",
       "      <td>0</td>\n",
       "    </tr>\n",
       "    <tr>\n",
       "      <th>1</th>\n",
       "      <td>0003</td>\n",
       "      <td>Mayank Shah</td>\n",
       "      <td>IL</td>\n",
       "      <td>0</td>\n",
       "      <td>0</td>\n",
       "      <td>0</td>\n",
       "      <td>0</td>\n",
       "      <td>0</td>\n",
       "      <td>0</td>\n",
       "      <td>0</td>\n",
       "      <td>...</td>\n",
       "      <td>1</td>\n",
       "      <td>0</td>\n",
       "      <td>0</td>\n",
       "      <td>0</td>\n",
       "      <td>0</td>\n",
       "      <td>0</td>\n",
       "      <td>1</td>\n",
       "      <td>0</td>\n",
       "      <td>0</td>\n",
       "      <td>0</td>\n",
       "    </tr>\n",
       "    <tr>\n",
       "      <th>2</th>\n",
       "      <td>0004</td>\n",
       "      <td>Mayank Shah</td>\n",
       "      <td>IL</td>\n",
       "      <td>0</td>\n",
       "      <td>0</td>\n",
       "      <td>0</td>\n",
       "      <td>0</td>\n",
       "      <td>0</td>\n",
       "      <td>0</td>\n",
       "      <td>0</td>\n",
       "      <td>...</td>\n",
       "      <td>0</td>\n",
       "      <td>0</td>\n",
       "      <td>0</td>\n",
       "      <td>0</td>\n",
       "      <td>0</td>\n",
       "      <td>0</td>\n",
       "      <td>0</td>\n",
       "      <td>0</td>\n",
       "      <td>0</td>\n",
       "      <td>0</td>\n",
       "    </tr>\n",
       "    <tr>\n",
       "      <th>3</th>\n",
       "      <td>0005</td>\n",
       "      <td>Morey Menacker</td>\n",
       "      <td>NJ</td>\n",
       "      <td>0</td>\n",
       "      <td>0</td>\n",
       "      <td>0</td>\n",
       "      <td>0</td>\n",
       "      <td>1</td>\n",
       "      <td>0</td>\n",
       "      <td>0</td>\n",
       "      <td>...</td>\n",
       "      <td>0</td>\n",
       "      <td>0</td>\n",
       "      <td>0</td>\n",
       "      <td>0</td>\n",
       "      <td>0</td>\n",
       "      <td>0</td>\n",
       "      <td>0</td>\n",
       "      <td>0</td>\n",
       "      <td>0</td>\n",
       "      <td>0</td>\n",
       "    </tr>\n",
       "    <tr>\n",
       "      <th>4</th>\n",
       "      <td>0006</td>\n",
       "      <td>Todd Rapoza</td>\n",
       "      <td>MA</td>\n",
       "      <td>0</td>\n",
       "      <td>0</td>\n",
       "      <td>0</td>\n",
       "      <td>0</td>\n",
       "      <td>0</td>\n",
       "      <td>0</td>\n",
       "      <td>0</td>\n",
       "      <td>...</td>\n",
       "      <td>0</td>\n",
       "      <td>0</td>\n",
       "      <td>0</td>\n",
       "      <td>0</td>\n",
       "      <td>0</td>\n",
       "      <td>0</td>\n",
       "      <td>0</td>\n",
       "      <td>0</td>\n",
       "      <td>0</td>\n",
       "      <td>1</td>\n",
       "    </tr>\n",
       "    <tr>\n",
       "      <th>...</th>\n",
       "      <td>...</td>\n",
       "      <td>...</td>\n",
       "      <td>...</td>\n",
       "      <td>...</td>\n",
       "      <td>...</td>\n",
       "      <td>...</td>\n",
       "      <td>...</td>\n",
       "      <td>...</td>\n",
       "      <td>...</td>\n",
       "      <td>...</td>\n",
       "      <td>...</td>\n",
       "      <td>...</td>\n",
       "      <td>...</td>\n",
       "      <td>...</td>\n",
       "      <td>...</td>\n",
       "      <td>...</td>\n",
       "      <td>...</td>\n",
       "      <td>...</td>\n",
       "      <td>...</td>\n",
       "      <td>...</td>\n",
       "      <td>...</td>\n",
       "    </tr>\n",
       "    <tr>\n",
       "      <th>463</th>\n",
       "      <td>0465</td>\n",
       "      <td>Morehouse Choice Accountable Care Organization...</td>\n",
       "      <td>GA</td>\n",
       "      <td>1</td>\n",
       "      <td>1</td>\n",
       "      <td>0</td>\n",
       "      <td>0</td>\n",
       "      <td>1</td>\n",
       "      <td>0</td>\n",
       "      <td>1</td>\n",
       "      <td>...</td>\n",
       "      <td>1</td>\n",
       "      <td>0</td>\n",
       "      <td>0</td>\n",
       "      <td>0</td>\n",
       "      <td>0</td>\n",
       "      <td>0</td>\n",
       "      <td>0</td>\n",
       "      <td>1</td>\n",
       "      <td>0</td>\n",
       "      <td>0</td>\n",
       "    </tr>\n",
       "    <tr>\n",
       "      <th>464</th>\n",
       "      <td>0466</td>\n",
       "      <td>Liberty ACO</td>\n",
       "      <td>TX</td>\n",
       "      <td>0</td>\n",
       "      <td>1</td>\n",
       "      <td>0</td>\n",
       "      <td>0</td>\n",
       "      <td>0</td>\n",
       "      <td>0</td>\n",
       "      <td>0</td>\n",
       "      <td>...</td>\n",
       "      <td>0</td>\n",
       "      <td>0</td>\n",
       "      <td>0</td>\n",
       "      <td>0</td>\n",
       "      <td>0</td>\n",
       "      <td>0</td>\n",
       "      <td>0</td>\n",
       "      <td>0</td>\n",
       "      <td>0</td>\n",
       "      <td>0</td>\n",
       "    </tr>\n",
       "    <tr>\n",
       "      <th>465</th>\n",
       "      <td>0467</td>\n",
       "      <td>Washington State Hospital Association</td>\n",
       "      <td>WA</td>\n",
       "      <td>0</td>\n",
       "      <td>0</td>\n",
       "      <td>0</td>\n",
       "      <td>0</td>\n",
       "      <td>0</td>\n",
       "      <td>0</td>\n",
       "      <td>0</td>\n",
       "      <td>...</td>\n",
       "      <td>0</td>\n",
       "      <td>0</td>\n",
       "      <td>0</td>\n",
       "      <td>0</td>\n",
       "      <td>0</td>\n",
       "      <td>0</td>\n",
       "      <td>0</td>\n",
       "      <td>0</td>\n",
       "      <td>0</td>\n",
       "      <td>0</td>\n",
       "    </tr>\n",
       "    <tr>\n",
       "      <th>466</th>\n",
       "      <td>0468</td>\n",
       "      <td>Think Whole Person Healthcare</td>\n",
       "      <td>NE</td>\n",
       "      <td>1</td>\n",
       "      <td>0</td>\n",
       "      <td>0</td>\n",
       "      <td>0</td>\n",
       "      <td>0</td>\n",
       "      <td>0</td>\n",
       "      <td>0</td>\n",
       "      <td>...</td>\n",
       "      <td>0</td>\n",
       "      <td>0</td>\n",
       "      <td>0</td>\n",
       "      <td>0</td>\n",
       "      <td>0</td>\n",
       "      <td>0</td>\n",
       "      <td>0</td>\n",
       "      <td>0</td>\n",
       "      <td>0</td>\n",
       "      <td>0</td>\n",
       "    </tr>\n",
       "    <tr>\n",
       "      <th>467</th>\n",
       "      <td>0469</td>\n",
       "      <td>Palm Beach Accountable Care Organization</td>\n",
       "      <td>FL</td>\n",
       "      <td>0</td>\n",
       "      <td>1</td>\n",
       "      <td>0</td>\n",
       "      <td>1</td>\n",
       "      <td>1</td>\n",
       "      <td>1</td>\n",
       "      <td>0</td>\n",
       "      <td>...</td>\n",
       "      <td>1</td>\n",
       "      <td>0</td>\n",
       "      <td>0</td>\n",
       "      <td>0</td>\n",
       "      <td>1</td>\n",
       "      <td>1</td>\n",
       "      <td>0</td>\n",
       "      <td>1</td>\n",
       "      <td>0</td>\n",
       "      <td>0</td>\n",
       "    </tr>\n",
       "  </tbody>\n",
       "</table>\n",
       "<p>468 rows × 32 columns</p>\n",
       "</div>"
      ],
      "text/plain": [
       "     name                 organization name / submitter name submitter state  \\\n",
       "0    0002                                      Erick Meleher              NC   \n",
       "1    0003                                        Mayank Shah              IL   \n",
       "2    0004                                        Mayank Shah              IL   \n",
       "3    0005                                     Morey Menacker              NJ   \n",
       "4    0006                                        Todd Rapoza              MA   \n",
       "..    ...                                                ...             ...   \n",
       "463  0465  Morehouse Choice Accountable Care Organization...              GA   \n",
       "464  0466                                        Liberty ACO              TX   \n",
       "465  0467              Washington State Hospital Association              WA   \n",
       "466  0468                      Think Whole Person Healthcare              NE   \n",
       "467  0469           Palm Beach Accountable Care Organization              FL   \n",
       "\n",
       "     a2  a3  a4b  a4c  a5b  a5c  a5d  ...  d3c  d3d  d4  e2  e3  e4  e5  e6  \\\n",
       "0     0   0    0    0    0    0    0  ...    0    0   0   0   0   0   0   0   \n",
       "1     0   0    0    0    0    0    0  ...    1    0   0   0   0   0   1   0   \n",
       "2     0   0    0    0    0    0    0  ...    0    0   0   0   0   0   0   0   \n",
       "3     0   0    0    0    1    0    0  ...    0    0   0   0   0   0   0   0   \n",
       "4     0   0    0    0    0    0    0  ...    0    0   0   0   0   0   0   0   \n",
       "..   ..  ..  ...  ...  ...  ...  ...  ...  ...  ...  ..  ..  ..  ..  ..  ..   \n",
       "463   1   1    0    0    1    0    1  ...    1    0   0   0   0   0   0   1   \n",
       "464   0   1    0    0    0    0    0  ...    0    0   0   0   0   0   0   0   \n",
       "465   0   0    0    0    0    0    0  ...    0    0   0   0   0   0   0   0   \n",
       "466   1   0    0    0    0    0    0  ...    0    0   0   0   0   0   0   0   \n",
       "467   0   1    0    1    1    1    0  ...    1    0   0   0   1   1   0   1   \n",
       "\n",
       "     e7  f  \n",
       "0     0  0  \n",
       "1     0  0  \n",
       "2     0  0  \n",
       "3     0  0  \n",
       "4     0  1  \n",
       "..   .. ..  \n",
       "463   0  0  \n",
       "464   0  0  \n",
       "465   0  0  \n",
       "466   0  0  \n",
       "467   0  0  \n",
       "\n",
       "[468 rows x 32 columns]"
      ]
     },
     "execution_count": 130,
     "metadata": {},
     "output_type": "execute_result"
    }
   ],
   "source": [
    "data11"
   ]
  },
  {
   "cell_type": "code",
   "execution_count": 131,
   "metadata": {},
   "outputs": [],
   "source": [
    "truth_dict = {} # initiate dict\n",
    "for i, name in enumerate(data11.name): # iterate through Comment Names\n",
    "    dict1 = {col:data11[col].iloc[i] for col in section_cols1} # locate this row's values for each column\n",
    "    list1 = [key for key,value in dict1.items() if value==1] # create list of matching sections for this row\n",
    "    truth_dict[name] = list1 # add Comment Name and list of matching sections to dict"
   ]
  },
  {
   "cell_type": "code",
   "execution_count": 132,
   "metadata": {},
   "outputs": [],
   "source": [
    "with open(\"unique_comments2018.json\") as f:\n",
    "    unique_comments2018 = json.load(f)"
   ]
  },
  {
   "cell_type": "code",
   "execution_count": 133,
   "metadata": {},
   "outputs": [],
   "source": [
    "unique_data = data11.loc[data11['name'].isin(unique_comments2018.keys())]"
   ]
  },
  {
   "cell_type": "code",
   "execution_count": 134,
   "metadata": {},
   "outputs": [],
   "source": [
    "unique_truth_dict = {} # initiate dict\n",
    "for i, name in enumerate(unique_data.name): # iterate through Comment Names\n",
    "    dict1 = {col:unique_data[col].iloc[i] for col in section_cols1} # locate this row's values for each column\n",
    "    list1 = [key for key,value in dict1.items() if value==1] # create list of matching sections for this row\n",
    "    unique_truth_dict[name] = list1 # add Comment Name and list of matching sections to dict"
   ]
  },
  {
   "cell_type": "code",
   "execution_count": 135,
   "metadata": {},
   "outputs": [],
   "source": [
    "dump = json.dumps(unique_truth_dict)\n",
    "f = open('unique_truth_dict.json','w')\n",
    "f.write(dump)\n",
    "f.close()"
   ]
  },
  {
   "cell_type": "code",
   "execution_count": 136,
   "metadata": {},
   "outputs": [],
   "source": [
    "#define true rule section names\n",
    "truth_keys = list(section_cols1)\n",
    "truth_keys = [key1.lower() for key1 in truth_keys]"
   ]
  },
  {
   "cell_type": "markdown",
   "metadata": {},
   "source": [
    "## Headers Standard Index Testing"
   ]
  },
  {
   "cell_type": "code",
   "execution_count": 137,
   "metadata": {},
   "outputs": [],
   "source": [
    "with open('match_header_results.json') as f:\n",
    "    unique_header_results = json.load(f)"
   ]
  },
  {
   "cell_type": "code",
   "execution_count": 138,
   "metadata": {},
   "outputs": [],
   "source": [
    "#tranlate ES keys to true rule section names, MAINTAINING ORDER\n",
    "for key, value in unique_header_results.items():\n",
    "    value_list = []\n",
    "    for val_idx, score in value.items():\n",
    "        for true_key in truth_keys:\n",
    "            if true_key in val_idx and true_key not in value_list: \n",
    "                value_list.append(true_key)\n",
    "        unique_header_results[key]={true_key: score for (val_idx, score), true_key in zip(value.items(),value_list)}     "
   ]
  },
  {
   "cell_type": "markdown",
   "metadata": {},
   "source": [
    "### Normalize scores (divide by mean)"
   ]
  },
  {
   "cell_type": "code",
   "execution_count": 139,
   "metadata": {},
   "outputs": [],
   "source": [
    "normalized_results = {}\n",
    "for comment_idx, result in unique_header_results.items():\n",
    "    score_mean = np.mean(list(result.values()))\n",
    "    score_dict = {}\n",
    "    for rule_idx, score in result.items():\n",
    "        score_dict[rule_idx] = score/score_mean\n",
    "    normalized_results[comment_idx] = score_dict"
   ]
  },
  {
   "cell_type": "code",
   "execution_count": 140,
   "metadata": {},
   "outputs": [],
   "source": [
    "normalized_lists = {comment_idx:list(score_dict.items()) for comment_idx, score_dict in normalized_results.items()}"
   ]
  },
  {
   "cell_type": "markdown",
   "metadata": {},
   "source": [
    "### Merge results for same comment chunks"
   ]
  },
  {
   "cell_type": "code",
   "execution_count": 141,
   "metadata": {},
   "outputs": [],
   "source": [
    "merged_results = {}\n",
    "for key in unique_truth_dict.keys():\n",
    "    merged_list = []\n",
    "    for comment_idx, result_list in normalized_lists.items():\n",
    "        if key in comment_idx:\n",
    "            merged_list.extend(result_list)\n",
    "    merged_results[key] = merged_list\n",
    "merged_results = {comment_idx:sorted(result, key=lambda x:x[1], reverse=True) for comment_idx, result in merged_results.items()}"
   ]
  },
  {
   "cell_type": "code",
   "execution_count": 142,
   "metadata": {},
   "outputs": [],
   "source": [
    "for comment_idx, tup_list in merged_results.items():\n",
    "    score_dict = {}\n",
    "    for tup in tup_list:\n",
    "        if tup[0] in score_dict.keys():\n",
    "            score_dict[tup[0]] += tup[1]\n",
    "        else:\n",
    "            score_dict[tup[0]] = tup[1]\n",
    "    merged_results[comment_idx] = score_dict"
   ]
  },
  {
   "cell_type": "code",
   "execution_count": 143,
   "metadata": {},
   "outputs": [],
   "source": [
    "merged_results = {comment_idx:dict(sorted(result.items(), key = lambda x:x[1], reverse=True))\\\n",
    "                  for comment_idx, result in merged_results.items()}"
   ]
  },
  {
   "cell_type": "markdown",
   "metadata": {},
   "source": [
    "### Sklearn"
   ]
  },
  {
   "cell_type": "code",
   "execution_count": 144,
   "metadata": {},
   "outputs": [],
   "source": [
    "#create truth dict with values equal to sparse array length=29, binary\n",
    "unique_truth_dict_all = unique_truth_dict.copy()\n",
    "for key, value in unique_truth_dict.items():\n",
    "    new_value_list = np.zeros(len(truth_keys))\n",
    "    for val in value:\n",
    "        for i in range(len(truth_keys)):\n",
    "            if val == truth_keys[i]:\n",
    "                new_value_list[i] = 1\n",
    "    unique_truth_dict_all[key] = new_value_list"
   ]
  },
  {
   "cell_type": "code",
   "execution_count": 145,
   "metadata": {},
   "outputs": [],
   "source": [
    "#create header results dict with values equal to sparse array length=29, (discounted and binary versions)\n",
    "unique_header_results_all = unique_header_results.copy()\n",
    "unique_binary_header_results_all = unique_header_results.copy()\n",
    "for key, value in unique_header_results.items():\n",
    "    new_value_list_discounted = np.zeros(len(truth_keys))\n",
    "    new_value_list_binary = np.zeros(len(truth_keys))\n",
    "    counter = 1\n",
    "    for rule_section in value.keys():\n",
    "        for i in range(len(truth_keys)):\n",
    "            if rule_section == truth_keys[i]:\n",
    "                counter += 1\n",
    "                new_value_list_discounted[i] = 1/math.log(counter, 2)\n",
    "                new_value_list_binary[i] = 1\n",
    "    unique_header_results_all[key] = new_value_list_discounted\n",
    "    unique_binary_header_results_all[key] = new_value_list_binary"
   ]
  },
  {
   "cell_type": "code",
   "execution_count": 146,
   "metadata": {},
   "outputs": [],
   "source": [
    "unique_headers_ndcg = {}\n",
    "unique_headers_ap = {}\n",
    "unique_headers_f1 = {}\n",
    "for (true_key, true_value), (es_key, es_value) in zip(unique_truth_dict_all.items(), unique_header_results_all.items()):\n",
    "    unique_headers_ndcg[true_key] = ndcg_score([true_value], [es_value])\n",
    "    unique_headers_ap[true_key] = average_precision_score(true_value, es_value, pos_label=0)\n",
    "for (true_key, true_value), (es_key, es_value) in zip(unique_truth_dict_all.items(), unique_binary_header_results_all.items()):\n",
    "    unique_headers_f1[true_key] = f1_score(true_value, es_value, zero_division=0, pos_label=0)"
   ]
  },
  {
   "cell_type": "code",
   "execution_count": 147,
   "metadata": {},
   "outputs": [],
   "source": [
    "unique_headers_eval = pd.DataFrame(data=[unique_headers_ndcg, unique_headers_ap, unique_headers_f1]).T\n",
    "unique_headers_eval = unique_headers_eval.rename({0:\"NDCG\", 1:\"AP\", 2:\"F1\"}, axis=1)"
   ]
  },
  {
   "cell_type": "code",
   "execution_count": 148,
   "metadata": {},
   "outputs": [
    {
     "data": {
      "text/html": [
       "<div>\n",
       "<style scoped>\n",
       "    .dataframe tbody tr th:only-of-type {\n",
       "        vertical-align: middle;\n",
       "    }\n",
       "\n",
       "    .dataframe tbody tr th {\n",
       "        vertical-align: top;\n",
       "    }\n",
       "\n",
       "    .dataframe thead th {\n",
       "        text-align: right;\n",
       "    }\n",
       "</style>\n",
       "<table border=\"1\" class=\"dataframe\">\n",
       "  <thead>\n",
       "    <tr style=\"text-align: right;\">\n",
       "      <th></th>\n",
       "      <th>NDCG</th>\n",
       "      <th>AP</th>\n",
       "      <th>F1</th>\n",
       "    </tr>\n",
       "  </thead>\n",
       "  <tbody>\n",
       "    <tr>\n",
       "      <th>count</th>\n",
       "      <td>94.000000</td>\n",
       "      <td>94.000000</td>\n",
       "      <td>94.000000</td>\n",
       "    </tr>\n",
       "    <tr>\n",
       "      <th>mean</th>\n",
       "      <td>0.497798</td>\n",
       "      <td>0.813862</td>\n",
       "      <td>0.739395</td>\n",
       "    </tr>\n",
       "    <tr>\n",
       "      <th>std</th>\n",
       "      <td>0.257016</td>\n",
       "      <td>0.203793</td>\n",
       "      <td>0.104969</td>\n",
       "    </tr>\n",
       "    <tr>\n",
       "      <th>min</th>\n",
       "      <td>0.000000</td>\n",
       "      <td>0.068966</td>\n",
       "      <td>0.190476</td>\n",
       "    </tr>\n",
       "    <tr>\n",
       "      <th>25%</th>\n",
       "      <td>0.321587</td>\n",
       "      <td>0.767370</td>\n",
       "      <td>0.731707</td>\n",
       "    </tr>\n",
       "    <tr>\n",
       "      <th>50%</th>\n",
       "      <td>0.502037</td>\n",
       "      <td>0.893465</td>\n",
       "      <td>0.765957</td>\n",
       "    </tr>\n",
       "    <tr>\n",
       "      <th>75%</th>\n",
       "      <td>0.679465</td>\n",
       "      <td>0.958766</td>\n",
       "      <td>0.791667</td>\n",
       "    </tr>\n",
       "    <tr>\n",
       "      <th>max</th>\n",
       "      <td>0.993542</td>\n",
       "      <td>1.000000</td>\n",
       "      <td>0.863636</td>\n",
       "    </tr>\n",
       "  </tbody>\n",
       "</table>\n",
       "</div>"
      ],
      "text/plain": [
       "            NDCG         AP         F1\n",
       "count  94.000000  94.000000  94.000000\n",
       "mean    0.497798   0.813862   0.739395\n",
       "std     0.257016   0.203793   0.104969\n",
       "min     0.000000   0.068966   0.190476\n",
       "25%     0.321587   0.767370   0.731707\n",
       "50%     0.502037   0.893465   0.765957\n",
       "75%     0.679465   0.958766   0.791667\n",
       "max     0.993542   1.000000   0.863636"
      ]
     },
     "execution_count": 148,
     "metadata": {},
     "output_type": "execute_result"
    }
   ],
   "source": [
    "unique_headers_eval.describe()"
   ]
  },
  {
   "cell_type": "code",
   "execution_count": 149,
   "metadata": {},
   "outputs": [
    {
     "data": {
      "image/png": "[encoded data removed]",
      "text/plain": [
       "<Figure size 576x360 with 1 Axes>"
      ]
     },
     "metadata": {
      "needs_background": "light"
     },
     "output_type": "display_data"
    }
   ],
   "source": [
    "plt.figure(figsize = (8,5))\n",
    "sns.kdeplot(unique_headers_eval.NDCG, alpha=.1, shade=True, label='NDCG')\n",
    "sns.kdeplot(unique_headers_eval.AP, alpha=.1, shade=True,label='AP')\n",
    "sns.kdeplot(unique_headers_eval.F1,  alpha=.1, shade=True,label='F1')\n",
    "plt.legend()\n",
    "plt.title('Ranking Metric Performance, Headers Index', fontsize=20)\n",
    "plt.xlabel('Score Distribution', fontsize=16)\n",
    "plt.ylabel('Score Density', fontsize=16)\n",
    "plt.xlim(0,1);"
   ]
  },
  {
   "cell_type": "markdown",
   "metadata": {},
   "source": [
    "### Which comments were scored poorly?"
   ]
  },
  {
   "cell_type": "code",
   "execution_count": 150,
   "metadata": {},
   "outputs": [],
   "source": [
    "with open('expanded.json') as f1:\n",
    "    comments = json.load(f1)"
   ]
  },
  {
   "cell_type": "code",
   "execution_count": 151,
   "metadata": {},
   "outputs": [
    {
     "data": {
      "text/html": [
       "<div>\n",
       "<style scoped>\n",
       "    .dataframe tbody tr th:only-of-type {\n",
       "        vertical-align: middle;\n",
       "    }\n",
       "\n",
       "    .dataframe tbody tr th {\n",
       "        vertical-align: top;\n",
       "    }\n",
       "\n",
       "    .dataframe thead th {\n",
       "        text-align: right;\n",
       "    }\n",
       "</style>\n",
       "<table border=\"1\" class=\"dataframe\">\n",
       "  <thead>\n",
       "    <tr style=\"text-align: right;\">\n",
       "      <th></th>\n",
       "      <th>NDCG</th>\n",
       "      <th>AP</th>\n",
       "      <th>F1</th>\n",
       "    </tr>\n",
       "  </thead>\n",
       "  <tbody>\n",
       "    <tr>\n",
       "      <th>0110</th>\n",
       "      <td>0.0</td>\n",
       "      <td>1.0</td>\n",
       "      <td>0.791667</td>\n",
       "    </tr>\n",
       "    <tr>\n",
       "      <th>0126</th>\n",
       "      <td>0.0</td>\n",
       "      <td>1.0</td>\n",
       "      <td>0.791667</td>\n",
       "    </tr>\n",
       "    <tr>\n",
       "      <th>0240</th>\n",
       "      <td>0.0</td>\n",
       "      <td>1.0</td>\n",
       "      <td>0.791667</td>\n",
       "    </tr>\n",
       "    <tr>\n",
       "      <th>0256</th>\n",
       "      <td>0.0</td>\n",
       "      <td>1.0</td>\n",
       "      <td>0.791667</td>\n",
       "    </tr>\n",
       "    <tr>\n",
       "      <th>0287</th>\n",
       "      <td>0.0</td>\n",
       "      <td>1.0</td>\n",
       "      <td>0.791667</td>\n",
       "    </tr>\n",
       "    <tr>\n",
       "      <th>0408</th>\n",
       "      <td>0.0</td>\n",
       "      <td>1.0</td>\n",
       "      <td>0.791667</td>\n",
       "    </tr>\n",
       "    <tr>\n",
       "      <th>0467</th>\n",
       "      <td>0.0</td>\n",
       "      <td>1.0</td>\n",
       "      <td>0.791667</td>\n",
       "    </tr>\n",
       "  </tbody>\n",
       "</table>\n",
       "</div>"
      ],
      "text/plain": [
       "      NDCG   AP        F1\n",
       "0110   0.0  1.0  0.791667\n",
       "0126   0.0  1.0  0.791667\n",
       "0240   0.0  1.0  0.791667\n",
       "0256   0.0  1.0  0.791667\n",
       "0287   0.0  1.0  0.791667\n",
       "0408   0.0  1.0  0.791667\n",
       "0467   0.0  1.0  0.791667"
      ]
     },
     "execution_count": 151,
     "metadata": {},
     "output_type": "execute_result"
    }
   ],
   "source": [
    "unique_headers_eval.query(\"NDCG == 0\")"
   ]
  },
  {
   "cell_type": "code",
   "execution_count": 152,
   "metadata": {},
   "outputs": [],
   "source": [
    "poorf1 = unique_headers_eval.query(\"F1 < 0.5\").F1\n",
    "#poorf1"
   ]
  },
  {
   "cell_type": "code",
   "execution_count": 153,
   "metadata": {},
   "outputs": [],
   "source": [
    "poorndcg = unique_headers_eval.query(\"NDCG < 0.3 & NDCG > 0\").NDCG\n",
    "#poorndcg"
   ]
  },
  {
   "cell_type": "code",
   "execution_count": 154,
   "metadata": {},
   "outputs": [],
   "source": [
    "poorf1_comments = {key:comment for key, comment in comments.items() if key[0:4] in poorf1}\n",
    "#{key:len(comment) for key, comment in poorf1_comments.items()}"
   ]
  },
  {
   "cell_type": "code",
   "execution_count": 155,
   "metadata": {},
   "outputs": [],
   "source": [
    "poorf1_comments_truth = {key:matches for key, matches in truth_dict.items() if key in poorf1}\n",
    "#poorf1_comments_truth"
   ]
  },
  {
   "cell_type": "code",
   "execution_count": 156,
   "metadata": {},
   "outputs": [],
   "source": [
    "poorndcg_comments = {key:comment for key, comment in comments.items() if key in poorndcg}\n",
    "#{key:len(comment) for key, comment in poorndcg_comments.items()}"
   ]
  },
  {
   "cell_type": "code",
   "execution_count": 157,
   "metadata": {},
   "outputs": [],
   "source": [
    "poorndcg_comments_truth = {key:matches for key, matches in truth_dict.items() if key in poorndcg}\n",
    "#poorndcg_comments_truth"
   ]
  },
  {
   "cell_type": "markdown",
   "metadata": {},
   "source": [
    "## Headers Custom Index Testing"
   ]
  },
  {
   "cell_type": "code",
   "execution_count": 158,
   "metadata": {},
   "outputs": [],
   "source": [
    "with open('match_header_custom_results.json') as f:\n",
    "    custom_header_results = json.load(f)"
   ]
  },
  {
   "cell_type": "code",
   "execution_count": 159,
   "metadata": {},
   "outputs": [],
   "source": [
    "#tranlate ES keys to true rule section names, MAINTAINING ORDER\n",
    "for key, value in custom_header_results.items():\n",
    "    value_list = []\n",
    "    for val_idx, score in value.items():\n",
    "        for true_key in truth_keys:\n",
    "            if true_key in val_idx and true_key not in value_list: \n",
    "                value_list.append(true_key)\n",
    "        custom_header_results[key]={true_key: score for (val_idx, score), true_key in zip(value.items(),value_list)}     "
   ]
  },
  {
   "cell_type": "markdown",
   "metadata": {},
   "source": [
    "### Normalize scores (divide by mean)"
   ]
  },
  {
   "cell_type": "code",
   "execution_count": 160,
   "metadata": {},
   "outputs": [],
   "source": [
    "normalized_results = {}\n",
    "for comment_idx, result in custom_header_results.items():\n",
    "    score_mean = np.mean(list(result.values()))\n",
    "    score_dict = {}\n",
    "    for rule_idx, score in result.items():\n",
    "        score_dict[rule_idx] = score/score_mean\n",
    "    normalized_results[comment_idx] = score_dict"
   ]
  },
  {
   "cell_type": "code",
   "execution_count": 161,
   "metadata": {},
   "outputs": [],
   "source": [
    "normalized_lists = {comment_idx:list(score_dict.items()) for comment_idx, score_dict in normalized_results.items()}"
   ]
  },
  {
   "cell_type": "markdown",
   "metadata": {},
   "source": [
    "### Merge results for same comment chunks"
   ]
  },
  {
   "cell_type": "code",
   "execution_count": 162,
   "metadata": {},
   "outputs": [],
   "source": [
    "merged_results = {}\n",
    "for key in unique_truth_dict.keys():\n",
    "    merged_list = []\n",
    "    for comment_idx, result_list in normalized_lists.items():\n",
    "        if key in comment_idx:\n",
    "            merged_list.extend(result_list)\n",
    "    merged_results[key] = merged_list\n",
    "merged_results = {comment_idx:sorted(result, key=lambda x:x[1], reverse=True) for comment_idx, result in merged_results.items()}"
   ]
  },
  {
   "cell_type": "code",
   "execution_count": 163,
   "metadata": {},
   "outputs": [],
   "source": [
    "for comment_idx, tup_list in merged_results.items():\n",
    "    score_dict = {}\n",
    "    for tup in tup_list:\n",
    "        if tup[0] in score_dict.keys():\n",
    "            score_dict[tup[0]] += tup[1]\n",
    "        else:\n",
    "            score_dict[tup[0]] = tup[1]\n",
    "    merged_results[comment_idx] = score_dict"
   ]
  },
  {
   "cell_type": "code",
   "execution_count": 164,
   "metadata": {},
   "outputs": [],
   "source": [
    "merged_results = {comment_idx:dict(sorted(result.items(), key = lambda x:x[1], reverse=True))\\\n",
    "                  for comment_idx, result in merged_results.items()}"
   ]
  },
  {
   "cell_type": "markdown",
   "metadata": {},
   "source": [
    "### Sklearn"
   ]
  },
  {
   "cell_type": "code",
   "execution_count": 165,
   "metadata": {},
   "outputs": [],
   "source": [
    "#create truth dict with values equal to sparse array length=29, binary\n",
    "unique_truth_dict_all = unique_truth_dict.copy()\n",
    "for key, value in unique_truth_dict.items():\n",
    "    new_value_list = np.zeros(len(truth_keys))\n",
    "    for val in value:\n",
    "        for i in range(len(truth_keys)):\n",
    "            if val == truth_keys[i]:\n",
    "                new_value_list[i] = 1\n",
    "    unique_truth_dict_all[key] = new_value_list"
   ]
  },
  {
   "cell_type": "code",
   "execution_count": 166,
   "metadata": {},
   "outputs": [],
   "source": [
    "#create header results dict with values equal to sparse array length=29, (discounted and binary versions)\n",
    "custom_header_results_all = custom_header_results.copy()\n",
    "custom_binary_header_results_all = custom_header_results.copy()\n",
    "for key, value in custom_header_results.items():\n",
    "    new_value_list_discounted = np.zeros(len(truth_keys))\n",
    "    new_value_list_binary = np.zeros(len(truth_keys))\n",
    "    counter = 1\n",
    "    for rule_section in value.keys():\n",
    "        for i in range(len(truth_keys)):\n",
    "            if rule_section == truth_keys[i]:\n",
    "                counter += 1\n",
    "                new_value_list_discounted[i] = 1/math.log(counter, 2)\n",
    "                new_value_list_binary[i] = 1\n",
    "    custom_header_results_all[key] = new_value_list_discounted\n",
    "    custom_binary_header_results_all[key] = new_value_list_binary"
   ]
  },
  {
   "cell_type": "code",
   "execution_count": 167,
   "metadata": {},
   "outputs": [],
   "source": [
    "custom_headers_ndcg = {}\n",
    "custom_headers_ap = {}\n",
    "custom_headers_f1 = {}\n",
    "for (true_key, true_value), (es_key, es_value) in zip(unique_truth_dict_all.items(), custom_header_results_all.items()):\n",
    "    custom_headers_ndcg[true_key] = ndcg_score([true_value], [es_value])\n",
    "    custom_headers_ap[true_key] = average_precision_score(true_value, es_value, pos_label=0)\n",
    "for (true_key, true_value), (es_key, es_value) in zip(unique_truth_dict_all.items(), custom_binary_header_results_all.items()):\n",
    "    custom_headers_f1[true_key] = f1_score(true_value, es_value, zero_division=0, pos_label=0)"
   ]
  },
  {
   "cell_type": "code",
   "execution_count": 168,
   "metadata": {},
   "outputs": [],
   "source": [
    "custom_headers_eval = pd.DataFrame(data=[custom_headers_ndcg, custom_headers_ap, custom_headers_f1]).T\n",
    "custom_headers_eval = custom_headers_eval.rename({0:\"NDCG\", 1:\"AP\", 2:\"F1\"}, axis=1)"
   ]
  },
  {
   "cell_type": "code",
   "execution_count": 169,
   "metadata": {},
   "outputs": [
    {
     "data": {
      "text/html": [
       "<div>\n",
       "<style scoped>\n",
       "    .dataframe tbody tr th:only-of-type {\n",
       "        vertical-align: middle;\n",
       "    }\n",
       "\n",
       "    .dataframe tbody tr th {\n",
       "        vertical-align: top;\n",
       "    }\n",
       "\n",
       "    .dataframe thead th {\n",
       "        text-align: right;\n",
       "    }\n",
       "</style>\n",
       "<table border=\"1\" class=\"dataframe\">\n",
       "  <thead>\n",
       "    <tr style=\"text-align: right;\">\n",
       "      <th></th>\n",
       "      <th>NDCG</th>\n",
       "      <th>AP</th>\n",
       "      <th>F1</th>\n",
       "    </tr>\n",
       "  </thead>\n",
       "  <tbody>\n",
       "    <tr>\n",
       "      <th>count</th>\n",
       "      <td>94.000000</td>\n",
       "      <td>94.000000</td>\n",
       "      <td>94.000000</td>\n",
       "    </tr>\n",
       "    <tr>\n",
       "      <th>mean</th>\n",
       "      <td>0.476730</td>\n",
       "      <td>0.822186</td>\n",
       "      <td>0.727433</td>\n",
       "    </tr>\n",
       "    <tr>\n",
       "      <th>std</th>\n",
       "      <td>0.247750</td>\n",
       "      <td>0.195957</td>\n",
       "      <td>0.103417</td>\n",
       "    </tr>\n",
       "    <tr>\n",
       "      <th>min</th>\n",
       "      <td>0.000000</td>\n",
       "      <td>0.068966</td>\n",
       "      <td>0.190476</td>\n",
       "    </tr>\n",
       "    <tr>\n",
       "      <th>25%</th>\n",
       "      <td>0.285028</td>\n",
       "      <td>0.758282</td>\n",
       "      <td>0.704805</td>\n",
       "    </tr>\n",
       "    <tr>\n",
       "      <th>50%</th>\n",
       "      <td>0.475692</td>\n",
       "      <td>0.920062</td>\n",
       "      <td>0.761905</td>\n",
       "    </tr>\n",
       "    <tr>\n",
       "      <th>75%</th>\n",
       "      <td>0.662396</td>\n",
       "      <td>0.956577</td>\n",
       "      <td>0.788675</td>\n",
       "    </tr>\n",
       "    <tr>\n",
       "      <th>max</th>\n",
       "      <td>0.993542</td>\n",
       "      <td>1.000000</td>\n",
       "      <td>0.826087</td>\n",
       "    </tr>\n",
       "  </tbody>\n",
       "</table>\n",
       "</div>"
      ],
      "text/plain": [
       "            NDCG         AP         F1\n",
       "count  94.000000  94.000000  94.000000\n",
       "mean    0.476730   0.822186   0.727433\n",
       "std     0.247750   0.195957   0.103417\n",
       "min     0.000000   0.068966   0.190476\n",
       "25%     0.285028   0.758282   0.704805\n",
       "50%     0.475692   0.920062   0.761905\n",
       "75%     0.662396   0.956577   0.788675\n",
       "max     0.993542   1.000000   0.826087"
      ]
     },
     "execution_count": 169,
     "metadata": {},
     "output_type": "execute_result"
    }
   ],
   "source": [
    "custom_headers_eval.describe()"
   ]
  },
  {
   "cell_type": "code",
   "execution_count": 170,
   "metadata": {},
   "outputs": [
    {
     "data": {
      "image/png": "[encoded data removed]",
      "text/plain": [
       "<Figure size 576x360 with 1 Axes>"
      ]
     },
     "metadata": {
      "needs_background": "light"
     },
     "output_type": "display_data"
    }
   ],
   "source": [
    "plt.figure(figsize = (8,5))\n",
    "sns.kdeplot(custom_headers_eval.NDCG, alpha=.1, shade=True, label='NDCG')\n",
    "sns.kdeplot(custom_headers_eval.AP, alpha=.1, shade=True,label='AP')\n",
    "sns.kdeplot(custom_headers_eval.F1,  alpha=.1, shade=True,label='F1')\n",
    "plt.legend()\n",
    "plt.title('Ranking Metric Performance, Custom Headers Index', fontsize=20)\n",
    "plt.xlabel('Score Distribution', fontsize=16)\n",
    "plt.ylabel('Score Density', fontsize=16)\n",
    "plt.xlim(0,1);"
   ]
  },
  {
   "cell_type": "markdown",
   "metadata": {},
   "source": [
    "## Hybrid Standard Index Testing"
   ]
  },
  {
   "cell_type": "code",
   "execution_count": 182,
   "metadata": {},
   "outputs": [],
   "source": [
    "with open('match_hybrid_results.json') as f1:\n",
    "    unique_hybrid_results = json.load(f1)"
   ]
  },
  {
   "cell_type": "code",
   "execution_count": 183,
   "metadata": {},
   "outputs": [],
   "source": [
    "#tranlate ES keys to true rule section names, MAINTAINING ORDER\n",
    "for key, value in unique_hybrid_results.items():\n",
    "    value_list = []\n",
    "    for val_idx in value:\n",
    "        for true_key in truth_keys:\n",
    "            if true_key in val_idx[0:4]:\n",
    "                    value_list.append(true_key)\n",
    "        unique_hybrid_results[key]=[(true_key, score) for (val_idx, score), true_key in zip(value.items(),value_list)]"
   ]
  },
  {
   "cell_type": "code",
   "execution_count": 184,
   "metadata": {},
   "outputs": [],
   "source": [
    "for comment_idx, tup_list in unique_hybrid_results.items():\n",
    "    score_dict = {}\n",
    "    for tup in tup_list:\n",
    "        if tup[0] in score_dict.keys():\n",
    "            score_dict[tup[0]] += tup[1]\n",
    "        else:\n",
    "            score_dict[tup[0]] = tup[1]\n",
    "    unique_hybrid_results[comment_idx] = score_dict"
   ]
  },
  {
   "cell_type": "markdown",
   "metadata": {},
   "source": [
    "### Normalize scores (divide by mean)"
   ]
  },
  {
   "cell_type": "code",
   "execution_count": 185,
   "metadata": {},
   "outputs": [],
   "source": [
    "normalized_results = {}\n",
    "for comment_idx, result in unique_hybrid_results.items():\n",
    "    score_mean = np.mean(list(result.values()))\n",
    "    score_dict = {}\n",
    "    for rule_idx, score in result.items():\n",
    "        score_dict[rule_idx] = score/score_mean\n",
    "    normalized_results[comment_idx] = score_dict"
   ]
  },
  {
   "cell_type": "code",
   "execution_count": 186,
   "metadata": {},
   "outputs": [],
   "source": [
    "normalized_lists = {comment_idx:list(score_dict.items()) for comment_idx, score_dict in normalized_results.items()}"
   ]
  },
  {
   "cell_type": "markdown",
   "metadata": {},
   "source": [
    "### Merge results for same comment chunks"
   ]
  },
  {
   "cell_type": "code",
   "execution_count": 187,
   "metadata": {},
   "outputs": [],
   "source": [
    "merged_results = {}\n",
    "for key in unique_truth_dict.keys():\n",
    "    merged_list = []\n",
    "    for comment_idx, result_list in normalized_lists.items():\n",
    "        if key in comment_idx:\n",
    "            merged_list.extend(result_list)\n",
    "    merged_results[key] = merged_list\n",
    "merged_results = {comment_idx:sorted(result, key=lambda x:x[1], reverse=True) for comment_idx, result in merged_results.items()}"
   ]
  },
  {
   "cell_type": "code",
   "execution_count": 188,
   "metadata": {},
   "outputs": [],
   "source": [
    "for comment_idx, tup_list in merged_results.items():\n",
    "    score_dict = {}\n",
    "    for tup in tup_list:\n",
    "        if tup[0] in score_dict.keys():\n",
    "            score_dict[tup[0]] += tup[1]\n",
    "        else:\n",
    "            score_dict[tup[0]] = tup[1]\n",
    "    merged_results[comment_idx] = score_dict"
   ]
  },
  {
   "cell_type": "code",
   "execution_count": 189,
   "metadata": {},
   "outputs": [],
   "source": [
    "merged_results = {comment_idx:dict(sorted(result.items(), key = lambda x:x[1], reverse=True))\\\n",
    "                  for comment_idx, result in merged_results.items()}"
   ]
  },
  {
   "cell_type": "markdown",
   "metadata": {},
   "source": [
    "### Sklearn"
   ]
  },
  {
   "cell_type": "code",
   "execution_count": 190,
   "metadata": {},
   "outputs": [],
   "source": [
    "#create truth dict with values equal to sparse array length=29, binary\n",
    "unique_truth_dict_all = unique_truth_dict.copy()\n",
    "for key, value in unique_truth_dict.items():\n",
    "    new_value_list = np.zeros(len(truth_keys))\n",
    "    for val in value:\n",
    "        for i in range(len(truth_keys)):\n",
    "            if val == truth_keys[i]:\n",
    "                new_value_list[i] = 1\n",
    "    unique_truth_dict_all[key] = new_value_list"
   ]
  },
  {
   "cell_type": "code",
   "execution_count": 191,
   "metadata": {},
   "outputs": [],
   "source": [
    "#create header results dict with values equal to sparse array length=29, (discounted and binary versions)\n",
    "unique_hybrid_results_all = unique_hybrid_results.copy()\n",
    "unique_binary_hybrid_results_all = unique_hybrid_results.copy()\n",
    "for key, value in unique_hybrid_results.items():\n",
    "    new_value_list_discounted = np.zeros(len(truth_keys))\n",
    "    new_value_list_binary = np.zeros(len(truth_keys))\n",
    "    counter = 1\n",
    "    for rule_section in value.keys():\n",
    "        for i in range(len(truth_keys)):\n",
    "            if rule_section == truth_keys[i]:\n",
    "                counter += 1\n",
    "                new_value_list_discounted[i] = 1/math.log(counter, 2)\n",
    "                new_value_list_binary[i] = 1\n",
    "    unique_hybrid_results_all[key] = new_value_list_discounted\n",
    "    unique_binary_hybrid_results_all[key] = new_value_list_binary"
   ]
  },
  {
   "cell_type": "code",
   "execution_count": 192,
   "metadata": {},
   "outputs": [],
   "source": [
    "unique_hybrid_ndcg = {}\n",
    "unique_hybrid_ap = {}\n",
    "unique_hybrid_f1 = {}\n",
    "for (true_key, true_value), (es_key, es_value) in zip(unique_truth_dict_all.items(), unique_hybrid_results_all.items()):\n",
    "    unique_hybrid_ndcg[true_key] = ndcg_score([true_value], [es_value])\n",
    "    unique_hybrid_ap[true_key] = average_precision_score(true_value, es_value, pos_label=0)\n",
    "for (true_key, true_value), (es_key, es_value) in zip(unique_truth_dict_all.items(), unique_binary_hybrid_results_all.items()):\n",
    "    unique_hybrid_f1[true_key] = f1_score(true_value, es_value, zero_division=0, pos_label=0)"
   ]
  },
  {
   "cell_type": "code",
   "execution_count": 193,
   "metadata": {},
   "outputs": [],
   "source": [
    "unique_hybrid_eval = pd.DataFrame(data=[unique_hybrid_ndcg, unique_hybrid_ap, unique_hybrid_f1]).T\n",
    "unique_hybrid_eval = unique_hybrid_eval.rename({0:\"NDCG\", 1:\"AP\", 2:\"F1\"}, axis=1)"
   ]
  },
  {
   "cell_type": "code",
   "execution_count": 194,
   "metadata": {},
   "outputs": [
    {
     "data": {
      "text/html": [
       "<div>\n",
       "<style scoped>\n",
       "    .dataframe tbody tr th:only-of-type {\n",
       "        vertical-align: middle;\n",
       "    }\n",
       "\n",
       "    .dataframe tbody tr th {\n",
       "        vertical-align: top;\n",
       "    }\n",
       "\n",
       "    .dataframe thead th {\n",
       "        text-align: right;\n",
       "    }\n",
       "</style>\n",
       "<table border=\"1\" class=\"dataframe\">\n",
       "  <thead>\n",
       "    <tr style=\"text-align: right;\">\n",
       "      <th></th>\n",
       "      <th>NDCG</th>\n",
       "      <th>AP</th>\n",
       "      <th>F1</th>\n",
       "    </tr>\n",
       "  </thead>\n",
       "  <tbody>\n",
       "    <tr>\n",
       "      <th>count</th>\n",
       "      <td>94.000000</td>\n",
       "      <td>94.000000</td>\n",
       "      <td>94.000000</td>\n",
       "    </tr>\n",
       "    <tr>\n",
       "      <th>mean</th>\n",
       "      <td>0.469845</td>\n",
       "      <td>0.822173</td>\n",
       "      <td>0.814973</td>\n",
       "    </tr>\n",
       "    <tr>\n",
       "      <th>std</th>\n",
       "      <td>0.251079</td>\n",
       "      <td>0.195252</td>\n",
       "      <td>0.141223</td>\n",
       "    </tr>\n",
       "    <tr>\n",
       "      <th>min</th>\n",
       "      <td>0.000000</td>\n",
       "      <td>0.068966</td>\n",
       "      <td>0.153846</td>\n",
       "    </tr>\n",
       "    <tr>\n",
       "      <th>25%</th>\n",
       "      <td>0.255925</td>\n",
       "      <td>0.759264</td>\n",
       "      <td>0.808511</td>\n",
       "    </tr>\n",
       "    <tr>\n",
       "      <th>50%</th>\n",
       "      <td>0.463493</td>\n",
       "      <td>0.918435</td>\n",
       "      <td>0.862745</td>\n",
       "    </tr>\n",
       "    <tr>\n",
       "      <th>75%</th>\n",
       "      <td>0.645953</td>\n",
       "      <td>0.970443</td>\n",
       "      <td>0.884615</td>\n",
       "    </tr>\n",
       "    <tr>\n",
       "      <th>max</th>\n",
       "      <td>0.989322</td>\n",
       "      <td>1.000000</td>\n",
       "      <td>0.943396</td>\n",
       "    </tr>\n",
       "  </tbody>\n",
       "</table>\n",
       "</div>"
      ],
      "text/plain": [
       "            NDCG         AP         F1\n",
       "count  94.000000  94.000000  94.000000\n",
       "mean    0.469845   0.822173   0.814973\n",
       "std     0.251079   0.195252   0.141223\n",
       "min     0.000000   0.068966   0.153846\n",
       "25%     0.255925   0.759264   0.808511\n",
       "50%     0.463493   0.918435   0.862745\n",
       "75%     0.645953   0.970443   0.884615\n",
       "max     0.989322   1.000000   0.943396"
      ]
     },
     "execution_count": 194,
     "metadata": {},
     "output_type": "execute_result"
    }
   ],
   "source": [
    "unique_hybrid_eval.describe()"
   ]
  },
  {
   "cell_type": "code",
   "execution_count": 195,
   "metadata": {},
   "outputs": [
    {
     "data": {
      "image/png": "[encoded data removed]",
      "text/plain": [
       "<Figure size 576x360 with 1 Axes>"
      ]
     },
     "metadata": {
      "needs_background": "light"
     },
     "output_type": "display_data"
    }
   ],
   "source": [
    "plt.figure(figsize = (8,5))\n",
    "sns.kdeplot(unique_hybrid_eval.NDCG, alpha=.1, shade=True, label='NDCG')\n",
    "sns.kdeplot(unique_hybrid_eval.AP, alpha=.1, shade=True,label='AP')\n",
    "sns.kdeplot(unique_hybrid_eval.F1,  alpha=.1, shade=True,label='F1')\n",
    "plt.legend()\n",
    "plt.title('Ranking Metric Performance, Hybrid Index', fontsize=20)\n",
    "plt.xlabel('Score Distribution', fontsize=16)\n",
    "plt.ylabel('Score Density', fontsize=16)\n",
    "plt.xlim(0,1);"
   ]
  },
  {
   "cell_type": "markdown",
   "metadata": {},
   "source": [
    "### Which comments were scored poorly?"
   ]
  },
  {
   "cell_type": "code",
   "execution_count": 196,
   "metadata": {},
   "outputs": [],
   "source": [
    "with open('expanded.json') as f1:\n",
    "    comments = json.load(f1)"
   ]
  },
  {
   "cell_type": "code",
   "execution_count": 197,
   "metadata": {},
   "outputs": [
    {
     "data": {
      "text/html": [
       "<div>\n",
       "<style scoped>\n",
       "    .dataframe tbody tr th:only-of-type {\n",
       "        vertical-align: middle;\n",
       "    }\n",
       "\n",
       "    .dataframe tbody tr th {\n",
       "        vertical-align: top;\n",
       "    }\n",
       "\n",
       "    .dataframe thead th {\n",
       "        text-align: right;\n",
       "    }\n",
       "</style>\n",
       "<table border=\"1\" class=\"dataframe\">\n",
       "  <thead>\n",
       "    <tr style=\"text-align: right;\">\n",
       "      <th></th>\n",
       "      <th>NDCG</th>\n",
       "      <th>AP</th>\n",
       "      <th>F1</th>\n",
       "    </tr>\n",
       "  </thead>\n",
       "  <tbody>\n",
       "    <tr>\n",
       "      <th>0110</th>\n",
       "      <td>0.0</td>\n",
       "      <td>1.0</td>\n",
       "      <td>0.905660</td>\n",
       "    </tr>\n",
       "    <tr>\n",
       "      <th>0126</th>\n",
       "      <td>0.0</td>\n",
       "      <td>1.0</td>\n",
       "      <td>0.925926</td>\n",
       "    </tr>\n",
       "    <tr>\n",
       "      <th>0240</th>\n",
       "      <td>0.0</td>\n",
       "      <td>1.0</td>\n",
       "      <td>0.925926</td>\n",
       "    </tr>\n",
       "    <tr>\n",
       "      <th>0256</th>\n",
       "      <td>0.0</td>\n",
       "      <td>1.0</td>\n",
       "      <td>0.925926</td>\n",
       "    </tr>\n",
       "    <tr>\n",
       "      <th>0287</th>\n",
       "      <td>0.0</td>\n",
       "      <td>1.0</td>\n",
       "      <td>0.925926</td>\n",
       "    </tr>\n",
       "    <tr>\n",
       "      <th>0408</th>\n",
       "      <td>0.0</td>\n",
       "      <td>1.0</td>\n",
       "      <td>0.905660</td>\n",
       "    </tr>\n",
       "    <tr>\n",
       "      <th>0467</th>\n",
       "      <td>0.0</td>\n",
       "      <td>1.0</td>\n",
       "      <td>0.925926</td>\n",
       "    </tr>\n",
       "  </tbody>\n",
       "</table>\n",
       "</div>"
      ],
      "text/plain": [
       "      NDCG   AP        F1\n",
       "0110   0.0  1.0  0.905660\n",
       "0126   0.0  1.0  0.925926\n",
       "0240   0.0  1.0  0.925926\n",
       "0256   0.0  1.0  0.925926\n",
       "0287   0.0  1.0  0.925926\n",
       "0408   0.0  1.0  0.905660\n",
       "0467   0.0  1.0  0.925926"
      ]
     },
     "execution_count": 197,
     "metadata": {},
     "output_type": "execute_result"
    }
   ],
   "source": [
    "unique_hybrid_eval.query(\"NDCG == 0\")"
   ]
  },
  {
   "cell_type": "code",
   "execution_count": 198,
   "metadata": {},
   "outputs": [],
   "source": [
    "poorf1 = unique_hybrid_eval.query(\"F1 < 0.5\").F1\n",
    "#poorf1"
   ]
  },
  {
   "cell_type": "code",
   "execution_count": 199,
   "metadata": {},
   "outputs": [],
   "source": [
    "poorndcg = unique_hybrid_eval.query(\"NDCG < 0.3 & NDCG > 0\").NDCG\n",
    "#poorndcg"
   ]
  },
  {
   "cell_type": "code",
   "execution_count": 200,
   "metadata": {},
   "outputs": [],
   "source": [
    "poorf1_comments = {key:comment for key, comment in comments.items() if key[0:4] in poorf1}\n",
    "#{key:len(comment) for key, comment in poorf1_comments.items()}"
   ]
  },
  {
   "cell_type": "code",
   "execution_count": 201,
   "metadata": {},
   "outputs": [],
   "source": [
    "poorf1_comments_truth = {key:matches for key, matches in truth_dict.items() if key in poorf1}\n",
    "#poorf1_comments_truth"
   ]
  },
  {
   "cell_type": "code",
   "execution_count": 202,
   "metadata": {},
   "outputs": [],
   "source": [
    "poorndcg_comments = {key:comment for key, comment in comments.items() if key in poorndcg}\n",
    "#{key:len(comment) for key, comment in poorndcg_comments.items()}"
   ]
  },
  {
   "cell_type": "code",
   "execution_count": 203,
   "metadata": {},
   "outputs": [],
   "source": [
    "poorndcg_comments_truth = {key:matches for key, matches in truth_dict.items() if key in poorndcg}\n",
    "#poorndcg_comments_truth"
   ]
  },
  {
   "cell_type": "markdown",
   "metadata": {},
   "source": [
    "## Hybrid Custom Index Testing"
   ]
  },
  {
   "cell_type": "code",
   "execution_count": 237,
   "metadata": {},
   "outputs": [],
   "source": [
    "with open('match_hybrid_custom_results.json') as f1:\n",
    "    custom_hybrid_results = json.load(f1)"
   ]
  },
  {
   "cell_type": "code",
   "execution_count": 238,
   "metadata": {},
   "outputs": [],
   "source": [
    "#tranlate ES keys to true rule section names, MAINTAINING ORDER\n",
    "for key, value in custom_hybrid_results.items():\n",
    "    value_list = []\n",
    "    for val_idx in value:\n",
    "        for true_key in truth_keys:\n",
    "            if true_key in val_idx[0:4]:\n",
    "                    value_list.append(true_key)\n",
    "        custom_hybrid_results[key]=[(true_key, score) for (val_idx, score), true_key in zip(value.items(),value_list)]"
   ]
  },
  {
   "cell_type": "code",
   "execution_count": 239,
   "metadata": {},
   "outputs": [],
   "source": [
    "for comment_idx, tup_list in custom_hybrid_results.items():\n",
    "    score_dict = {}\n",
    "    for tup in tup_list:\n",
    "        if tup[0] in score_dict.keys():\n",
    "            score_dict[tup[0]] += tup[1]\n",
    "        else:\n",
    "            score_dict[tup[0]] = tup[1]\n",
    "    custom_hybrid_results[comment_idx] = score_dict"
   ]
  },
  {
   "cell_type": "markdown",
   "metadata": {},
   "source": [
    "### Normalize scores (divide by mean)"
   ]
  },
  {
   "cell_type": "code",
   "execution_count": 240,
   "metadata": {},
   "outputs": [],
   "source": [
    "normalized_results = {}\n",
    "for comment_idx, result in custom_hybrid_results.items():\n",
    "    score_mean = np.mean(list(result.values()))\n",
    "    score_dict = {}\n",
    "    for rule_idx, score in result.items():\n",
    "        score_dict[rule_idx] = score/score_mean\n",
    "    normalized_results[comment_idx] = score_dict"
   ]
  },
  {
   "cell_type": "code",
   "execution_count": 241,
   "metadata": {},
   "outputs": [],
   "source": [
    "normalized_lists = {comment_idx:list(score_dict.items()) for comment_idx, score_dict in normalized_results.items()}"
   ]
  },
  {
   "cell_type": "markdown",
   "metadata": {},
   "source": [
    "### Merge results for same comment chunks"
   ]
  },
  {
   "cell_type": "code",
   "execution_count": 242,
   "metadata": {},
   "outputs": [],
   "source": [
    "merged_results = {}\n",
    "for key in unique_truth_dict.keys():\n",
    "    merged_list = []\n",
    "    for comment_idx, result_list in normalized_lists.items():\n",
    "        if key in comment_idx:\n",
    "            merged_list.extend(result_list)\n",
    "    merged_results[key] = merged_list\n",
    "merged_results = {comment_idx:sorted(result, key=lambda x:x[1], reverse=True) for comment_idx, result in merged_results.items()}"
   ]
  },
  {
   "cell_type": "code",
   "execution_count": 243,
   "metadata": {},
   "outputs": [],
   "source": [
    "for comment_idx, tup_list in merged_results.items():\n",
    "    score_dict = {}\n",
    "    for tup in tup_list:\n",
    "        if tup[0] in score_dict.keys():\n",
    "            score_dict[tup[0]] += tup[1]\n",
    "        else:\n",
    "            score_dict[tup[0]] = tup[1]\n",
    "    merged_results[comment_idx] = score_dict"
   ]
  },
  {
   "cell_type": "code",
   "execution_count": 244,
   "metadata": {},
   "outputs": [],
   "source": [
    "merged_results = {comment_idx:dict(sorted(result.items(), key = lambda x:x[1], reverse=True))\\\n",
    "                  for comment_idx, result in merged_results.items()}"
   ]
  },
  {
   "cell_type": "markdown",
   "metadata": {},
   "source": [
    "### Sklearn"
   ]
  },
  {
   "cell_type": "code",
   "execution_count": 245,
   "metadata": {},
   "outputs": [],
   "source": [
    "#create truth dict with values equal to sparse array length=29, binary\n",
    "unique_truth_dict_all = unique_truth_dict.copy()\n",
    "for key, value in unique_truth_dict.items():\n",
    "    new_value_list = np.zeros(len(truth_keys))\n",
    "    for val in value:\n",
    "        for i in range(len(truth_keys)):\n",
    "            if val == truth_keys[i]:\n",
    "                new_value_list[i] = 1\n",
    "    unique_truth_dict_all[key] = new_value_list"
   ]
  },
  {
   "cell_type": "code",
   "execution_count": 246,
   "metadata": {},
   "outputs": [],
   "source": [
    "#create header results dict with values equal to sparse array length=29, (discounted and binary versions)\n",
    "custom_hybrid_results_all = custom_hybrid_results.copy()\n",
    "custom_binary_hybrid_results_all = custom_hybrid_results.copy()\n",
    "for key, value in custom_hybrid_results.items():\n",
    "    new_value_list_discounted = np.zeros(len(truth_keys))\n",
    "    new_value_list_binary = np.zeros(len(truth_keys))\n",
    "    counter = 1\n",
    "    for rule_section in value.keys():\n",
    "        for i in range(len(truth_keys)):\n",
    "            if rule_section == truth_keys[i]:\n",
    "                counter += 1\n",
    "                new_value_list_discounted[i] = 1/math.log(counter, 2)\n",
    "                new_value_list_binary[i] = 1\n",
    "    custom_hybrid_results_all[key] = new_value_list_discounted\n",
    "    custom_binary_hybrid_results_all[key] = new_value_list_binary"
   ]
  },
  {
   "cell_type": "code",
   "execution_count": 247,
   "metadata": {},
   "outputs": [],
   "source": [
    "custom_hybrid_ndcg = {}\n",
    "custom_hybrid_ap = {}\n",
    "custom_hybrid_f1 = {}\n",
    "for (true_key, true_value), (es_key, es_value) in zip(unique_truth_dict_all.items(), custom_hybrid_results_all.items()):\n",
    "    custom_hybrid_ndcg[true_key] = ndcg_score([true_value], [es_value])\n",
    "    custom_hybrid_ap[true_key] = average_precision_score(true_value, es_value, pos_label=0)\n",
    "for (true_key, true_value), (es_key, es_value) in zip(unique_truth_dict_all.items(), custom_binary_hybrid_results_all.items()):\n",
    "    custom_hybrid_f1[true_key] = f1_score(true_value, es_value, zero_division=0, pos_label=0)"
   ]
  },
  {
   "cell_type": "code",
   "execution_count": 248,
   "metadata": {},
   "outputs": [],
   "source": [
    "custom_hybrid_eval = pd.DataFrame(data=[custom_hybrid_ndcg, custom_hybrid_ap, custom_hybrid_f1]).T\n",
    "custom_hybrid_eval = custom_hybrid_eval.rename({0:\"NDCG\", 1:\"AP\", 2:\"F1\"}, axis=1)"
   ]
  },
  {
   "cell_type": "code",
   "execution_count": 249,
   "metadata": {},
   "outputs": [
    {
     "data": {
      "text/html": [
       "<div>\n",
       "<style scoped>\n",
       "    .dataframe tbody tr th:only-of-type {\n",
       "        vertical-align: middle;\n",
       "    }\n",
       "\n",
       "    .dataframe tbody tr th {\n",
       "        vertical-align: top;\n",
       "    }\n",
       "\n",
       "    .dataframe thead th {\n",
       "        text-align: right;\n",
       "    }\n",
       "</style>\n",
       "<table border=\"1\" class=\"dataframe\">\n",
       "  <thead>\n",
       "    <tr style=\"text-align: right;\">\n",
       "      <th></th>\n",
       "      <th>NDCG</th>\n",
       "      <th>AP</th>\n",
       "      <th>F1</th>\n",
       "    </tr>\n",
       "  </thead>\n",
       "  <tbody>\n",
       "    <tr>\n",
       "      <th>count</th>\n",
       "      <td>94.000000</td>\n",
       "      <td>94.000000</td>\n",
       "      <td>94.000000</td>\n",
       "    </tr>\n",
       "    <tr>\n",
       "      <th>mean</th>\n",
       "      <td>0.474273</td>\n",
       "      <td>0.825382</td>\n",
       "      <td>0.809659</td>\n",
       "    </tr>\n",
       "    <tr>\n",
       "      <th>std</th>\n",
       "      <td>0.250667</td>\n",
       "      <td>0.187883</td>\n",
       "      <td>0.147131</td>\n",
       "    </tr>\n",
       "    <tr>\n",
       "      <th>min</th>\n",
       "      <td>0.000000</td>\n",
       "      <td>0.068966</td>\n",
       "      <td>0.148148</td>\n",
       "    </tr>\n",
       "    <tr>\n",
       "      <th>25%</th>\n",
       "      <td>0.301512</td>\n",
       "      <td>0.754867</td>\n",
       "      <td>0.795878</td>\n",
       "    </tr>\n",
       "    <tr>\n",
       "      <th>50%</th>\n",
       "      <td>0.432337</td>\n",
       "      <td>0.912467</td>\n",
       "      <td>0.862745</td>\n",
       "    </tr>\n",
       "    <tr>\n",
       "      <th>75%</th>\n",
       "      <td>0.675642</td>\n",
       "      <td>0.969212</td>\n",
       "      <td>0.884615</td>\n",
       "    </tr>\n",
       "    <tr>\n",
       "      <th>max</th>\n",
       "      <td>1.000000</td>\n",
       "      <td>1.000000</td>\n",
       "      <td>0.943396</td>\n",
       "    </tr>\n",
       "  </tbody>\n",
       "</table>\n",
       "</div>"
      ],
      "text/plain": [
       "            NDCG         AP         F1\n",
       "count  94.000000  94.000000  94.000000\n",
       "mean    0.474273   0.825382   0.809659\n",
       "std     0.250667   0.187883   0.147131\n",
       "min     0.000000   0.068966   0.148148\n",
       "25%     0.301512   0.754867   0.795878\n",
       "50%     0.432337   0.912467   0.862745\n",
       "75%     0.675642   0.969212   0.884615\n",
       "max     1.000000   1.000000   0.943396"
      ]
     },
     "execution_count": 249,
     "metadata": {},
     "output_type": "execute_result"
    }
   ],
   "source": [
    "custom_hybrid_eval.describe()"
   ]
  },
  {
   "cell_type": "code",
   "execution_count": 250,
   "metadata": {},
   "outputs": [
    {
     "data": {
      "image/png": "[encoded data removed]",
      "text/plain": [
       "<Figure size 576x360 with 1 Axes>"
      ]
     },
     "metadata": {
      "needs_background": "light"
     },
     "output_type": "display_data"
    }
   ],
   "source": [
    "plt.figure(figsize = (8,5))\n",
    "sns.kdeplot(custom_hybrid_eval.NDCG, alpha=.1, shade=True, label='NDCG')\n",
    "sns.kdeplot(custom_hybrid_eval.AP, alpha=.1, shade=True,label='AP')\n",
    "sns.kdeplot(custom_hybrid_eval.F1,  alpha=.1, shade=True,label='F1')\n",
    "plt.legend()\n",
    "plt.title('Ranking Metric Performance, Custom Hybrid Index', fontsize=20)\n",
    "plt.xlabel('Score Distribution', fontsize=16)\n",
    "plt.ylabel('Score Density', fontsize=16)\n",
    "plt.xlim(0,1);"
   ]
  },
  {
   "cell_type": "markdown",
   "metadata": {},
   "source": [
    "## Compare different indices"
   ]
  },
  {
   "cell_type": "code",
   "execution_count": 251,
   "metadata": {},
   "outputs": [],
   "source": [
    "df_list = [unique_headers_eval, custom_headers_eval, unique_hybrid_eval, custom_hybrid_eval]\n",
    "mean_df_list = [df.mean() for df in df_list]"
   ]
  },
  {
   "cell_type": "code",
   "execution_count": 256,
   "metadata": {},
   "outputs": [
    {
     "data": {
      "text/html": [
       "<div>\n",
       "<style scoped>\n",
       "    .dataframe tbody tr th:only-of-type {\n",
       "        vertical-align: middle;\n",
       "    }\n",
       "\n",
       "    .dataframe tbody tr th {\n",
       "        vertical-align: top;\n",
       "    }\n",
       "\n",
       "    .dataframe thead th {\n",
       "        text-align: right;\n",
       "    }\n",
       "</style>\n",
       "<table border=\"1\" class=\"dataframe\">\n",
       "  <thead>\n",
       "    <tr style=\"text-align: right;\">\n",
       "      <th></th>\n",
       "      <th>Std Hdr</th>\n",
       "      <th>Cst Hdr</th>\n",
       "      <th>Std Hyb</th>\n",
       "      <th>Cst Hyb</th>\n",
       "    </tr>\n",
       "  </thead>\n",
       "  <tbody>\n",
       "    <tr>\n",
       "      <th>NDCG</th>\n",
       "      <td>0.497798</td>\n",
       "      <td>0.476730</td>\n",
       "      <td>0.469845</td>\n",
       "      <td>0.474273</td>\n",
       "    </tr>\n",
       "    <tr>\n",
       "      <th>MAP</th>\n",
       "      <td>0.813862</td>\n",
       "      <td>0.822186</td>\n",
       "      <td>0.822173</td>\n",
       "      <td>0.825382</td>\n",
       "    </tr>\n",
       "    <tr>\n",
       "      <th>F1</th>\n",
       "      <td>0.739395</td>\n",
       "      <td>0.727433</td>\n",
       "      <td>0.814973</td>\n",
       "      <td>0.809659</td>\n",
       "    </tr>\n",
       "  </tbody>\n",
       "</table>\n",
       "</div>"
      ],
      "text/plain": [
       "       Std Hdr   Cst Hdr   Std Hyb   Cst Hyb\n",
       "NDCG  0.497798  0.476730  0.469845  0.474273\n",
       "MAP   0.813862  0.822186  0.822173  0.825382\n",
       "F1    0.739395  0.727433  0.814973  0.809659"
      ]
     },
     "execution_count": 256,
     "metadata": {},
     "output_type": "execute_result"
    }
   ],
   "source": [
    "comparison = pd.DataFrame(mean_df_list).T.rename({i:df for i, df in enumerate([\"Std Hdr\", \"Cst Hdr\", \"Std Hyb\", \"Cst Hyb\"])},\\\n",
    "                                                 axis=1).rename({\"AP\":\"MAP\"})\n",
    "comparison"
   ]
  }
 ],
 "metadata": {
  "kernelspec": {
   "display_name": "Python 3",
   "language": "python",
   "name": "python3"
  },
  "language_info": {
   "codemirror_mode": {
    "name": "ipython",
    "version": 3
   },
   "file_extension": ".py",
   "mimetype": "text/x-python",
   "name": "python",
   "nbconvert_exporter": "python",
   "pygments_lexer": "ipython3",
   "version": "3.8.3"
  }
 },
 "nbformat": 4,
 "nbformat_minor": 4
}
