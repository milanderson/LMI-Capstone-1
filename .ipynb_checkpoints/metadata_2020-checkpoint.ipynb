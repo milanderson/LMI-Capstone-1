{
 "cells": [
  {
   "cell_type": "markdown",
   "metadata": {},
   "source": [
    "# 2020 Data\n",
    "### LMI Capstone Team\n",
    "### Summer Chambers | Steve Morris | Kaleb Shikur"
   ]
  },
  {
   "cell_type": "markdown",
   "metadata": {},
   "source": [
    "## Setup"
   ]
  },
  {
   "cell_type": "code",
   "execution_count": null,
   "metadata": {},
   "outputs": [],
   "source": [
    "import pandas as pd\n",
    "import numpy as np\n",
    "import json\n",
    "import math\n",
    "from statistics import mode\n",
    "from sklearn.metrics import ndcg_score, f1_score, average_precision_score\n",
    "from matplotlib import pyplot as plt\n",
    "import seaborn as sns\n",
    "import elasticsearch\n",
    "from elasticsearch import Elasticsearch, RequestsHttpConnection, ElasticsearchException\n",
    "import regex as re\n",
    "from bs4 import BeautifulSoup\n",
    "import requests #gets urls\n",
    "import time\n",
    "import csv\n",
    "import os\n",
    "import sys\n",
    "import string"
   ]
  },
  {
   "cell_type": "code",
   "execution_count": 87,
   "metadata": {},
   "outputs": [],
   "source": [
    "metadata_url = \"https://mikeanders.org/data/CMS/CMS-2020-0088-1604/CMS-2020-0088-1604%20Comment%20MetaData.xlsx\"\n",
    "data = pd.read_excel(metadata_url)\n",
    "data[\"comment_id\"] = [i for i, comment in enumerate(data.Primary)]"
   ]
  },
  {
   "cell_type": "code",
   "execution_count": 90,
   "metadata": {},
   "outputs": [
    {
     "data": {
      "text/html": [
       "<div>\n",
       "<style scoped>\n",
       "    .dataframe tbody tr th:only-of-type {\n",
       "        vertical-align: middle;\n",
       "    }\n",
       "\n",
       "    .dataframe tbody tr th {\n",
       "        vertical-align: top;\n",
       "    }\n",
       "\n",
       "    .dataframe thead th {\n",
       "        text-align: right;\n",
       "    }\n",
       "</style>\n",
       "<table border=\"1\" class=\"dataframe\">\n",
       "  <thead>\n",
       "    <tr style=\"text-align: right;\">\n",
       "      <th></th>\n",
       "      <th>Primary</th>\n",
       "      <th>Tracking Number</th>\n",
       "      <th>Organization</th>\n",
       "      <th>Topic</th>\n",
       "      <th>Supportive?</th>\n",
       "      <th>Comment text</th>\n",
       "      <th>Unique Flag</th>\n",
       "      <th>HeavyHitter</th>\n",
       "      <th>Modified</th>\n",
       "      <th>Form Letter?</th>\n",
       "      <th>FormLetter Y/N</th>\n",
       "      <th>Sheet Name</th>\n",
       "      <th>comment_id</th>\n",
       "    </tr>\n",
       "  </thead>\n",
       "  <tbody>\n",
       "    <tr>\n",
       "      <th>0</th>\n",
       "      <td>CMS-2020-0088-9495</td>\n",
       "      <td>1k4-9ivz-162j</td>\n",
       "      <td>MarsdenAdvisors</td>\n",
       "      <td>Applying the APM APP to SSP ACOs</td>\n",
       "      <td>Mixed</td>\n",
       "      <td>We are part of a MIPS APM that consistently sc...</td>\n",
       "      <td>1</td>\n",
       "      <td>NaN</td>\n",
       "      <td>2020-09-14 14:32:16</td>\n",
       "      <td>NaN</td>\n",
       "      <td>NaN</td>\n",
       "      <td>Liz Tracker</td>\n",
       "      <td>0</td>\n",
       "    </tr>\n",
       "    <tr>\n",
       "      <th>1</th>\n",
       "      <td>CMS-2020-0088-9494</td>\n",
       "      <td>1k4-9ivz-50bx</td>\n",
       "      <td>MarsdenAdvisors</td>\n",
       "      <td>Applying the APM APP to SSP ACOs</td>\n",
       "      <td>Mixed</td>\n",
       "      <td>We are part of a MIPS APM that consistently sc...</td>\n",
       "      <td>1</td>\n",
       "      <td>NaN</td>\n",
       "      <td>2020-09-14 14:32:16</td>\n",
       "      <td>NaN</td>\n",
       "      <td>NaN</td>\n",
       "      <td>Liz Tracker</td>\n",
       "      <td>1</td>\n",
       "    </tr>\n",
       "    <tr>\n",
       "      <th>2</th>\n",
       "      <td>CMS-2020-0088-8582</td>\n",
       "      <td>kev-e48h-ghk4</td>\n",
       "      <td>Kari Kerstetter</td>\n",
       "      <td>Applying the APM APP to SSP ACOs</td>\n",
       "      <td>Opposed</td>\n",
       "      <td>Thank you for the opportunity to provide publi...</td>\n",
       "      <td>1</td>\n",
       "      <td>NaN</td>\n",
       "      <td>2020-10-09 11:23:30</td>\n",
       "      <td>NaN</td>\n",
       "      <td>NaN</td>\n",
       "      <td>Dylan Tracker</td>\n",
       "      <td>2</td>\n",
       "    </tr>\n",
       "    <tr>\n",
       "      <th>3</th>\n",
       "      <td>CMS-2020-0088-8582</td>\n",
       "      <td>kev-e48h-ghk4</td>\n",
       "      <td>Kari Kerstetter</td>\n",
       "      <td>Revising the SSP Quality Performance Standard</td>\n",
       "      <td>Opposed</td>\n",
       "      <td>...In addition, the move to a 4th decile ACO q...</td>\n",
       "      <td>0</td>\n",
       "      <td>NaN</td>\n",
       "      <td>2020-10-09 11:23:30</td>\n",
       "      <td>NaN</td>\n",
       "      <td>NaN</td>\n",
       "      <td>Dylan Tracker</td>\n",
       "      <td>3</td>\n",
       "    </tr>\n",
       "    <tr>\n",
       "      <th>4</th>\n",
       "      <td>CMS-2020-0088-31162</td>\n",
       "      <td>1k4-9jcr-57bp</td>\n",
       "      <td>PBACO Holding, LLC (PBACO)</td>\n",
       "      <td>Applying the APM APP to SSP ACOs</td>\n",
       "      <td>Opposed</td>\n",
       "      <td>We respectfully decline from supporting CMS pr...</td>\n",
       "      <td>1</td>\n",
       "      <td>NaN</td>\n",
       "      <td>2020-10-08 18:18:49</td>\n",
       "      <td>NaN</td>\n",
       "      <td>NaN</td>\n",
       "      <td>Eric Tracker</td>\n",
       "      <td>4</td>\n",
       "    </tr>\n",
       "  </tbody>\n",
       "</table>\n",
       "</div>"
      ],
      "text/plain": [
       "               Primary Tracking Number                Organization  \\\n",
       "0   CMS-2020-0088-9495   1k4-9ivz-162j             MarsdenAdvisors   \n",
       "1   CMS-2020-0088-9494   1k4-9ivz-50bx             MarsdenAdvisors   \n",
       "2   CMS-2020-0088-8582   kev-e48h-ghk4             Kari Kerstetter   \n",
       "3   CMS-2020-0088-8582   kev-e48h-ghk4             Kari Kerstetter   \n",
       "4  CMS-2020-0088-31162   1k4-9jcr-57bp  PBACO Holding, LLC (PBACO)   \n",
       "\n",
       "                                           Topic Supportive?  \\\n",
       "0               Applying the APM APP to SSP ACOs       Mixed   \n",
       "1               Applying the APM APP to SSP ACOs       Mixed   \n",
       "2               Applying the APM APP to SSP ACOs     Opposed   \n",
       "3  Revising the SSP Quality Performance Standard     Opposed   \n",
       "4               Applying the APM APP to SSP ACOs     Opposed   \n",
       "\n",
       "                                        Comment text  Unique Flag  \\\n",
       "0  We are part of a MIPS APM that consistently sc...            1   \n",
       "1  We are part of a MIPS APM that consistently sc...            1   \n",
       "2  Thank you for the opportunity to provide publi...            1   \n",
       "3  ...In addition, the move to a 4th decile ACO q...            0   \n",
       "4  We respectfully decline from supporting CMS pr...            1   \n",
       "\n",
       "   HeavyHitter            Modified  Form Letter?  FormLetter Y/N  \\\n",
       "0          NaN 2020-09-14 14:32:16           NaN             NaN   \n",
       "1          NaN 2020-09-14 14:32:16           NaN             NaN   \n",
       "2          NaN 2020-10-09 11:23:30           NaN             NaN   \n",
       "3          NaN 2020-10-09 11:23:30           NaN             NaN   \n",
       "4          NaN 2020-10-08 18:18:49           NaN             NaN   \n",
       "\n",
       "      Sheet Name  comment_id  \n",
       "0    Liz Tracker           0  \n",
       "1    Liz Tracker           1  \n",
       "2  Dylan Tracker           2  \n",
       "3  Dylan Tracker           3  \n",
       "4   Eric Tracker           4  "
      ]
     },
     "execution_count": 90,
     "metadata": {},
     "output_type": "execute_result"
    }
   ],
   "source": [
    "data.head()"
   ]
  },
  {
   "cell_type": "code",
   "execution_count": 91,
   "metadata": {},
   "outputs": [],
   "source": [
    "comments2020 = {num:text for num, text in zip(data[\"comment_id\"], data[\"Comment text\"])}"
   ]
  },
  {
   "cell_type": "code",
   "execution_count": 49,
   "metadata": {},
   "outputs": [
    {
     "data": {
      "text/plain": [
       "Applying the APM APP to SSP ACOs                                                             245\n",
       "Revising the SSP Quality Performance Standard                                                 71\n",
       "Updating Primary Care Services Definition for Assignment                                      48\n",
       "Comment Solicitation: EUC Policy for 2020                                                     41\n",
       "Proposed Changes to CAHPS for 2020                                                            33\n",
       "Other: Unsolicited                                                                            25\n",
       "EUC Policy for 2021                                                                           21\n",
       "Quality Redesign: Use of ACO Quality Performance in Determining Shared Savings and Losses     16\n",
       "Revising Policy for Determining the Amount of Repayment Mechanism                             15\n",
       "Comment Solicitation: EUC Policy for 2022 and beyond                                           8\n",
       "Applicability of Policies to Track 1+ Model ACOs                                               4\n",
       "Quality Redesign: Compliance with the Quality Performance Standard                             3\n",
       "Updating the Process Used to validate ACO Quality Data Reporting                               2\n",
       "Quality Redesign: Proposed Technical Changes to Quality Regulation Text                        1\n",
       "Name: Topic, dtype: int64"
      ]
     },
     "execution_count": 49,
     "metadata": {},
     "output_type": "execute_result"
    }
   ],
   "source": [
    "data.Topic.value_counts()"
   ]
  },
  {
   "cell_type": "markdown",
   "metadata": {},
   "source": [
    "### Scrape comments - is this necessary?"
   ]
  },
  {
   "cell_type": "code",
   "execution_count": null,
   "metadata": {},
   "outputs": [],
   "source": [
    "comment_url = \"https://mikeanders.org/data/CMS/CMS-2020-0088-1604/Comments/\""
   ]
  },
  {
   "cell_type": "code",
   "execution_count": null,
   "metadata": {},
   "outputs": [],
   "source": [
    "response = requests.get(comment_url)\n",
    "soup = BeautifulSoup(response.text, 'html.parser')\n",
    "a_tags = soup.findAll(\"a\")\n",
    "links = [tag[\"href\"] for tag in a_tags]\n",
    "txt_links = [link for link in links if '.txt' in link]\n",
    "comments = {}\n",
    "for suffix in txt_links[0:10]:\n",
    "    comments[suffix] = requests.get(comment_url+suffix).text.lower()\n",
    "    print(f\"scraping comment {suffix}\")"
   ]
  },
  {
   "cell_type": "code",
   "execution_count": null,
   "metadata": {},
   "outputs": [],
   "source": [
    "comments"
   ]
  }
 ],
 "metadata": {
  "kernelspec": {
   "display_name": "Python 3",
   "language": "python",
   "name": "python3"
  },
  "language_info": {
   "codemirror_mode": {
    "name": "ipython",
    "version": 3
   },
   "file_extension": ".py",
   "mimetype": "text/x-python",
   "name": "python",
   "nbconvert_exporter": "python",
   "pygments_lexer": "ipython3",
   "version": "3.8.3"
  }
 },
 "nbformat": 4,
 "nbformat_minor": 4
}
