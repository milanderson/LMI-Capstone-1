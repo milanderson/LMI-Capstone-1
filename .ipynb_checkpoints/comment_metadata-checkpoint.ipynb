{
 "cells": [
  {
   "cell_type": "markdown",
   "metadata": {},
   "source": [
    "# Scoring Elaticsearch Results\n",
    "### LMI Capstone Team\n",
    "### Summer Chambers | Steve Morris | Kaleb Shikur"
   ]
  },
  {
   "cell_type": "markdown",
   "metadata": {},
   "source": [
    "## Setup"
   ]
  },
  {
   "cell_type": "code",
   "execution_count": 1,
   "metadata": {},
   "outputs": [],
   "source": [
    "import pandas as pd\n",
    "import numpy as np\n",
    "import json\n",
    "import math\n",
    "from statistics import mode\n",
    "from sklearn.metrics import ndcg_score, f1_score, average_precision_score\n",
    "from matplotlib import pyplot as plt\n",
    "import seaborn as sns"
   ]
  },
  {
   "cell_type": "code",
   "execution_count": 2,
   "metadata": {},
   "outputs": [],
   "source": [
    "metadata_url = \"https://mikeanders.org/data/CMS/CMS-2018-0101-0001/CMS-1701-P%20Comment%20MetaData.csv\"\n",
    "data = pd.read_csv(metadata_url, usecols=range(0,36))[:468] #ignore last few columns and blank rows at end of csv \n",
    "data = data.rename(columns=lambda x: x.strip()) #strip whitespace from columns"
   ]
  },
  {
   "cell_type": "code",
   "execution_count": 3,
   "metadata": {},
   "outputs": [],
   "source": [
    "data10 = data.fillna(0) #fill NaN with 0\n",
    "\n",
    "section_cols = data10.columns[3:] \n",
    "data10[section_cols] = data10[section_cols].replace([\"Y\"], 1) #replace Y with 1 in approriate columns\n",
    "data11 = data10.copy()\n",
    "section_cols1  = data11.columns[3:] \n",
    "data11[section_cols1] = np.where((data11[section_cols1]  != 1), 0, data11[section_cols1])\n",
    "\n",
    "# Combining columns for index matching: (A6b, A6b.1, = A6b),  (C3b, C3b.1'= C3b) ('A7', 'A7.1', 'A7.2', = A7b, a7c),  (F = F2, F3)\n",
    "\n",
    "data11['A6b'] = (data11['A6b'] + data11['A6b.1'])\n",
    "data11['A6b'] = data11['A6b'].replace(2,1)\n",
    "data11['C3b'] = (data11['C3b'] + data11['C3b.1'])\n",
    "data11['C3b'] = data11['C3b'].replace(2,1)\n",
    "data11['A7'] = (data11['A7'] + data11['A7.1'] + data11['A7.2'])\n",
    "data11['A7'] = data11['A7'].replace(2,1)\n",
    "data11['A7'] = data11['A7'].replace(3,1)\n",
    "\n",
    "data11 = data11.drop(['A6b.1', 'C3b.1', 'A7.1', 'A7.2'], axis=1)\n",
    "data11.Name = [name.split('DRAFT-')[1].split('-')[0] for name in data11.Name]\n",
    "data11 = data11.rename(columns=lambda x: x.lower())\n",
    "section_cols1 = data11.columns[3:]"
   ]
  },
  {
   "cell_type": "code",
   "execution_count": 4,
   "metadata": {},
   "outputs": [
    {
     "data": {
      "text/html": [
       "<div>\n",
       "<style scoped>\n",
       "    .dataframe tbody tr th:only-of-type {\n",
       "        vertical-align: middle;\n",
       "    }\n",
       "\n",
       "    .dataframe tbody tr th {\n",
       "        vertical-align: top;\n",
       "    }\n",
       "\n",
       "    .dataframe thead th {\n",
       "        text-align: right;\n",
       "    }\n",
       "</style>\n",
       "<table border=\"1\" class=\"dataframe\">\n",
       "  <thead>\n",
       "    <tr style=\"text-align: right;\">\n",
       "      <th></th>\n",
       "      <th>name</th>\n",
       "      <th>organization name / submitter name</th>\n",
       "      <th>submitter state</th>\n",
       "      <th>a2</th>\n",
       "      <th>a3</th>\n",
       "      <th>a4b</th>\n",
       "      <th>a4c</th>\n",
       "      <th>a5b</th>\n",
       "      <th>a5c</th>\n",
       "      <th>a5d</th>\n",
       "      <th>...</th>\n",
       "      <th>d3c</th>\n",
       "      <th>d3d</th>\n",
       "      <th>d4</th>\n",
       "      <th>e2</th>\n",
       "      <th>e3</th>\n",
       "      <th>e4</th>\n",
       "      <th>e5</th>\n",
       "      <th>e6</th>\n",
       "      <th>e7</th>\n",
       "      <th>f</th>\n",
       "    </tr>\n",
       "  </thead>\n",
       "  <tbody>\n",
       "    <tr>\n",
       "      <th>0</th>\n",
       "      <td>0002</td>\n",
       "      <td>Erick Meleher</td>\n",
       "      <td>NC</td>\n",
       "      <td>0</td>\n",
       "      <td>0</td>\n",
       "      <td>0</td>\n",
       "      <td>0</td>\n",
       "      <td>0</td>\n",
       "      <td>0</td>\n",
       "      <td>0</td>\n",
       "      <td>...</td>\n",
       "      <td>0</td>\n",
       "      <td>0</td>\n",
       "      <td>0</td>\n",
       "      <td>0</td>\n",
       "      <td>0</td>\n",
       "      <td>0</td>\n",
       "      <td>0</td>\n",
       "      <td>0</td>\n",
       "      <td>0</td>\n",
       "      <td>0</td>\n",
       "    </tr>\n",
       "    <tr>\n",
       "      <th>1</th>\n",
       "      <td>0003</td>\n",
       "      <td>Mayank Shah</td>\n",
       "      <td>IL</td>\n",
       "      <td>0</td>\n",
       "      <td>0</td>\n",
       "      <td>0</td>\n",
       "      <td>0</td>\n",
       "      <td>0</td>\n",
       "      <td>0</td>\n",
       "      <td>0</td>\n",
       "      <td>...</td>\n",
       "      <td>1</td>\n",
       "      <td>0</td>\n",
       "      <td>0</td>\n",
       "      <td>0</td>\n",
       "      <td>0</td>\n",
       "      <td>0</td>\n",
       "      <td>1</td>\n",
       "      <td>0</td>\n",
       "      <td>0</td>\n",
       "      <td>0</td>\n",
       "    </tr>\n",
       "    <tr>\n",
       "      <th>2</th>\n",
       "      <td>0004</td>\n",
       "      <td>Mayank Shah</td>\n",
       "      <td>IL</td>\n",
       "      <td>0</td>\n",
       "      <td>0</td>\n",
       "      <td>0</td>\n",
       "      <td>0</td>\n",
       "      <td>0</td>\n",
       "      <td>0</td>\n",
       "      <td>0</td>\n",
       "      <td>...</td>\n",
       "      <td>0</td>\n",
       "      <td>0</td>\n",
       "      <td>0</td>\n",
       "      <td>0</td>\n",
       "      <td>0</td>\n",
       "      <td>0</td>\n",
       "      <td>0</td>\n",
       "      <td>0</td>\n",
       "      <td>0</td>\n",
       "      <td>0</td>\n",
       "    </tr>\n",
       "    <tr>\n",
       "      <th>3</th>\n",
       "      <td>0005</td>\n",
       "      <td>Morey Menacker</td>\n",
       "      <td>NJ</td>\n",
       "      <td>0</td>\n",
       "      <td>0</td>\n",
       "      <td>0</td>\n",
       "      <td>0</td>\n",
       "      <td>1</td>\n",
       "      <td>0</td>\n",
       "      <td>0</td>\n",
       "      <td>...</td>\n",
       "      <td>0</td>\n",
       "      <td>0</td>\n",
       "      <td>0</td>\n",
       "      <td>0</td>\n",
       "      <td>0</td>\n",
       "      <td>0</td>\n",
       "      <td>0</td>\n",
       "      <td>0</td>\n",
       "      <td>0</td>\n",
       "      <td>0</td>\n",
       "    </tr>\n",
       "    <tr>\n",
       "      <th>4</th>\n",
       "      <td>0006</td>\n",
       "      <td>Todd Rapoza</td>\n",
       "      <td>MA</td>\n",
       "      <td>0</td>\n",
       "      <td>0</td>\n",
       "      <td>0</td>\n",
       "      <td>0</td>\n",
       "      <td>0</td>\n",
       "      <td>0</td>\n",
       "      <td>0</td>\n",
       "      <td>...</td>\n",
       "      <td>0</td>\n",
       "      <td>0</td>\n",
       "      <td>0</td>\n",
       "      <td>0</td>\n",
       "      <td>0</td>\n",
       "      <td>0</td>\n",
       "      <td>0</td>\n",
       "      <td>0</td>\n",
       "      <td>0</td>\n",
       "      <td>1</td>\n",
       "    </tr>\n",
       "    <tr>\n",
       "      <th>...</th>\n",
       "      <td>...</td>\n",
       "      <td>...</td>\n",
       "      <td>...</td>\n",
       "      <td>...</td>\n",
       "      <td>...</td>\n",
       "      <td>...</td>\n",
       "      <td>...</td>\n",
       "      <td>...</td>\n",
       "      <td>...</td>\n",
       "      <td>...</td>\n",
       "      <td>...</td>\n",
       "      <td>...</td>\n",
       "      <td>...</td>\n",
       "      <td>...</td>\n",
       "      <td>...</td>\n",
       "      <td>...</td>\n",
       "      <td>...</td>\n",
       "      <td>...</td>\n",
       "      <td>...</td>\n",
       "      <td>...</td>\n",
       "      <td>...</td>\n",
       "    </tr>\n",
       "    <tr>\n",
       "      <th>463</th>\n",
       "      <td>0465</td>\n",
       "      <td>Morehouse Choice Accountable Care Organization...</td>\n",
       "      <td>GA</td>\n",
       "      <td>1</td>\n",
       "      <td>1</td>\n",
       "      <td>0</td>\n",
       "      <td>0</td>\n",
       "      <td>1</td>\n",
       "      <td>0</td>\n",
       "      <td>1</td>\n",
       "      <td>...</td>\n",
       "      <td>1</td>\n",
       "      <td>0</td>\n",
       "      <td>0</td>\n",
       "      <td>0</td>\n",
       "      <td>0</td>\n",
       "      <td>0</td>\n",
       "      <td>0</td>\n",
       "      <td>1</td>\n",
       "      <td>0</td>\n",
       "      <td>0</td>\n",
       "    </tr>\n",
       "    <tr>\n",
       "      <th>464</th>\n",
       "      <td>0466</td>\n",
       "      <td>Liberty ACO</td>\n",
       "      <td>TX</td>\n",
       "      <td>0</td>\n",
       "      <td>1</td>\n",
       "      <td>0</td>\n",
       "      <td>0</td>\n",
       "      <td>0</td>\n",
       "      <td>0</td>\n",
       "      <td>0</td>\n",
       "      <td>...</td>\n",
       "      <td>0</td>\n",
       "      <td>0</td>\n",
       "      <td>0</td>\n",
       "      <td>0</td>\n",
       "      <td>0</td>\n",
       "      <td>0</td>\n",
       "      <td>0</td>\n",
       "      <td>0</td>\n",
       "      <td>0</td>\n",
       "      <td>0</td>\n",
       "    </tr>\n",
       "    <tr>\n",
       "      <th>465</th>\n",
       "      <td>0467</td>\n",
       "      <td>Washington State Hospital Association</td>\n",
       "      <td>WA</td>\n",
       "      <td>0</td>\n",
       "      <td>0</td>\n",
       "      <td>0</td>\n",
       "      <td>0</td>\n",
       "      <td>0</td>\n",
       "      <td>0</td>\n",
       "      <td>0</td>\n",
       "      <td>...</td>\n",
       "      <td>0</td>\n",
       "      <td>0</td>\n",
       "      <td>0</td>\n",
       "      <td>0</td>\n",
       "      <td>0</td>\n",
       "      <td>0</td>\n",
       "      <td>0</td>\n",
       "      <td>0</td>\n",
       "      <td>0</td>\n",
       "      <td>0</td>\n",
       "    </tr>\n",
       "    <tr>\n",
       "      <th>466</th>\n",
       "      <td>0468</td>\n",
       "      <td>Think Whole Person Healthcare</td>\n",
       "      <td>NE</td>\n",
       "      <td>1</td>\n",
       "      <td>0</td>\n",
       "      <td>0</td>\n",
       "      <td>0</td>\n",
       "      <td>0</td>\n",
       "      <td>0</td>\n",
       "      <td>0</td>\n",
       "      <td>...</td>\n",
       "      <td>0</td>\n",
       "      <td>0</td>\n",
       "      <td>0</td>\n",
       "      <td>0</td>\n",
       "      <td>0</td>\n",
       "      <td>0</td>\n",
       "      <td>0</td>\n",
       "      <td>0</td>\n",
       "      <td>0</td>\n",
       "      <td>0</td>\n",
       "    </tr>\n",
       "    <tr>\n",
       "      <th>467</th>\n",
       "      <td>0469</td>\n",
       "      <td>Palm Beach Accountable Care Organization</td>\n",
       "      <td>FL</td>\n",
       "      <td>0</td>\n",
       "      <td>1</td>\n",
       "      <td>0</td>\n",
       "      <td>1</td>\n",
       "      <td>1</td>\n",
       "      <td>1</td>\n",
       "      <td>0</td>\n",
       "      <td>...</td>\n",
       "      <td>1</td>\n",
       "      <td>0</td>\n",
       "      <td>0</td>\n",
       "      <td>0</td>\n",
       "      <td>1</td>\n",
       "      <td>1</td>\n",
       "      <td>0</td>\n",
       "      <td>1</td>\n",
       "      <td>0</td>\n",
       "      <td>0</td>\n",
       "    </tr>\n",
       "  </tbody>\n",
       "</table>\n",
       "<p>468 rows × 32 columns</p>\n",
       "</div>"
      ],
      "text/plain": [
       "     name                 organization name / submitter name submitter state  \\\n",
       "0    0002                                      Erick Meleher              NC   \n",
       "1    0003                                        Mayank Shah              IL   \n",
       "2    0004                                        Mayank Shah              IL   \n",
       "3    0005                                     Morey Menacker              NJ   \n",
       "4    0006                                        Todd Rapoza              MA   \n",
       "..    ...                                                ...             ...   \n",
       "463  0465  Morehouse Choice Accountable Care Organization...              GA   \n",
       "464  0466                                        Liberty ACO              TX   \n",
       "465  0467              Washington State Hospital Association              WA   \n",
       "466  0468                      Think Whole Person Healthcare              NE   \n",
       "467  0469           Palm Beach Accountable Care Organization              FL   \n",
       "\n",
       "     a2  a3  a4b  a4c  a5b  a5c  a5d  ...  d3c  d3d  d4  e2  e3  e4  e5  e6  \\\n",
       "0     0   0    0    0    0    0    0  ...    0    0   0   0   0   0   0   0   \n",
       "1     0   0    0    0    0    0    0  ...    1    0   0   0   0   0   1   0   \n",
       "2     0   0    0    0    0    0    0  ...    0    0   0   0   0   0   0   0   \n",
       "3     0   0    0    0    1    0    0  ...    0    0   0   0   0   0   0   0   \n",
       "4     0   0    0    0    0    0    0  ...    0    0   0   0   0   0   0   0   \n",
       "..   ..  ..  ...  ...  ...  ...  ...  ...  ...  ...  ..  ..  ..  ..  ..  ..   \n",
       "463   1   1    0    0    1    0    1  ...    1    0   0   0   0   0   0   1   \n",
       "464   0   1    0    0    0    0    0  ...    0    0   0   0   0   0   0   0   \n",
       "465   0   0    0    0    0    0    0  ...    0    0   0   0   0   0   0   0   \n",
       "466   1   0    0    0    0    0    0  ...    0    0   0   0   0   0   0   0   \n",
       "467   0   1    0    1    1    1    0  ...    1    0   0   0   1   1   0   1   \n",
       "\n",
       "     e7  f  \n",
       "0     0  0  \n",
       "1     0  0  \n",
       "2     0  0  \n",
       "3     0  0  \n",
       "4     0  1  \n",
       "..   .. ..  \n",
       "463   0  0  \n",
       "464   0  0  \n",
       "465   0  0  \n",
       "466   0  0  \n",
       "467   0  0  \n",
       "\n",
       "[468 rows x 32 columns]"
      ]
     },
     "execution_count": 4,
     "metadata": {},
     "output_type": "execute_result"
    }
   ],
   "source": [
    "data11"
   ]
  },
  {
   "cell_type": "code",
   "execution_count": 5,
   "metadata": {},
   "outputs": [],
   "source": [
    "truth_dict = {} # initiate dict\n",
    "for i, name in enumerate(data11.name): # iterate through Comment Names\n",
    "    dict1 = {col:data11[col].iloc[i] for col in section_cols1} # locate this row's values for each column\n",
    "    list1 = [key for key,value in dict1.items() if value==1] # create list of matching sections for this row\n",
    "    truth_dict[name] = list1 # add Comment Name and list of matching sections to dict"
   ]
  },
  {
   "cell_type": "code",
   "execution_count": 6,
   "metadata": {},
   "outputs": [],
   "source": [
    "with open(\"unique_comments2018.json\") as f:\n",
    "    unique_comments2018 = json.load(f)"
   ]
  },
  {
   "cell_type": "code",
   "execution_count": 7,
   "metadata": {},
   "outputs": [],
   "source": [
    "unique_data = data11.loc[data11['name'].isin(unique_comments2018.keys())]"
   ]
  },
  {
   "cell_type": "code",
   "execution_count": 8,
   "metadata": {},
   "outputs": [],
   "source": [
    "unique_truth_dict = {} # initiate dict\n",
    "for i, name in enumerate(unique_data.name): # iterate through Comment Names\n",
    "    dict1 = {col:unique_data[col].iloc[i] for col in section_cols1} # locate this row's values for each column\n",
    "    list1 = [key for key,value in dict1.items() if value==1] # create list of matching sections for this row\n",
    "    unique_truth_dict[name] = list1 # add Comment Name and list of matching sections to dict"
   ]
  },
  {
   "cell_type": "code",
   "execution_count": 9,
   "metadata": {},
   "outputs": [],
   "source": [
    "dump = json.dumps(unique_truth_dict)\n",
    "f = open('unique_truth_dict.json','w')\n",
    "f.write(dump)\n",
    "f.close()"
   ]
  },
  {
   "cell_type": "code",
   "execution_count": 10,
   "metadata": {},
   "outputs": [],
   "source": [
    "#define true rule section names\n",
    "truth_keys = list(section_cols1)\n",
    "truth_keys = [key1.lower() for key1 in truth_keys]"
   ]
  },
  {
   "cell_type": "markdown",
   "metadata": {},
   "source": [
    "## Headers Unique Index Testing"
   ]
  },
  {
   "cell_type": "code",
   "execution_count": 11,
   "metadata": {},
   "outputs": [],
   "source": [
    "with open('match_header_results.json') as f:\n",
    "    unique_header_results = json.load(f)"
   ]
  },
  {
   "cell_type": "code",
   "execution_count": 12,
   "metadata": {},
   "outputs": [],
   "source": [
    "#tranlate ES keys to true rule section names, MAINTAINING ORDER\n",
    "for key, value in unique_header_results.items():\n",
    "    value_list = []\n",
    "    for val_idx, score in value.items():\n",
    "        for true_key in truth_keys:\n",
    "            if true_key in val_idx and true_key not in value_list: \n",
    "                value_list.append(true_key)\n",
    "        unique_header_results[key]={true_key: score for (val_idx, score), true_key in zip(value.items(),value_list)}     "
   ]
  },
  {
   "cell_type": "markdown",
   "metadata": {},
   "source": [
    "### Normalize scores (divide by mean)"
   ]
  },
  {
   "cell_type": "code",
   "execution_count": 13,
   "metadata": {},
   "outputs": [],
   "source": [
    "normalized_results = {}\n",
    "for comment_idx, result in unique_header_results.items():\n",
    "    score_mean = np.mean(list(result.values()))\n",
    "    score_dict = {}\n",
    "    for rule_idx, score in result.items():\n",
    "        score_dict[rule_idx] = score/score_mean\n",
    "    normalized_results[comment_idx] = score_dict"
   ]
  },
  {
   "cell_type": "code",
   "execution_count": 14,
   "metadata": {},
   "outputs": [],
   "source": [
    "normalized_lists = {comment_idx:list(score_dict.items()) for comment_idx, score_dict in normalized_results.items()}"
   ]
  },
  {
   "cell_type": "markdown",
   "metadata": {},
   "source": [
    "### Merge results for same comment chunks"
   ]
  },
  {
   "cell_type": "code",
   "execution_count": 15,
   "metadata": {},
   "outputs": [],
   "source": [
    "merged_results = {}\n",
    "for key in unique_truth_dict.keys():\n",
    "    merged_list = []\n",
    "    for comment_idx, result_list in normalized_lists.items():\n",
    "        if key in comment_idx:\n",
    "            merged_list.extend(result_list)\n",
    "    merged_results[key] = merged_list\n",
    "merged_results = {comment_idx:sorted(result, key=lambda x:x[1], reverse=True) for comment_idx, result in merged_results.items()}"
   ]
  },
  {
   "cell_type": "code",
   "execution_count": 16,
   "metadata": {},
   "outputs": [],
   "source": [
    "for comment_idx, tup_list in merged_results.items():\n",
    "    score_dict = {}\n",
    "    for tup in tup_list:\n",
    "        if tup[0] in score_dict.keys():\n",
    "            score_dict[tup[0]] += tup[1]\n",
    "        else:\n",
    "            score_dict[tup[0]] = tup[1]\n",
    "    merged_results[comment_idx] = score_dict"
   ]
  },
  {
   "cell_type": "code",
   "execution_count": 17,
   "metadata": {},
   "outputs": [],
   "source": [
    "merged_results = {comment_idx:dict(sorted(result.items(), key = lambda x:x[1], reverse=True))\\\n",
    "                  for comment_idx, result in merged_results.items()}"
   ]
  },
  {
   "cell_type": "markdown",
   "metadata": {},
   "source": [
    "### Sklearn"
   ]
  },
  {
   "cell_type": "code",
   "execution_count": 18,
   "metadata": {},
   "outputs": [],
   "source": [
    "#create truth dict with values equal to sparse array length=29, binary\n",
    "unique_truth_dict_all = unique_truth_dict.copy()\n",
    "for key, value in unique_truth_dict.items():\n",
    "    new_value_list = np.zeros(len(truth_keys))\n",
    "    for val in value:\n",
    "        for i in range(len(truth_keys)):\n",
    "            if val == truth_keys[i]:\n",
    "                new_value_list[i] = 1\n",
    "    unique_truth_dict_all[key] = new_value_list"
   ]
  },
  {
   "cell_type": "code",
   "execution_count": 19,
   "metadata": {},
   "outputs": [],
   "source": [
    "#create header results dict with values equal to sparse array length=29, (discounted and binary versions)\n",
    "unique_header_results_all = unique_header_results.copy()\n",
    "unique_binary_header_results_all = unique_header_results.copy()\n",
    "for key, value in unique_header_results.items():\n",
    "    new_value_list_discounted = np.zeros(len(truth_keys))\n",
    "    new_value_list_binary = np.zeros(len(truth_keys))\n",
    "    counter = 1\n",
    "    for rule_section in value.keys():\n",
    "        for i in range(len(truth_keys)):\n",
    "            if rule_section == truth_keys[i]:\n",
    "                counter += 1\n",
    "                new_value_list_discounted[i] = 1/math.log(counter, 2)\n",
    "                new_value_list_binary[i] = 1\n",
    "    unique_header_results_all[key] = new_value_list_discounted\n",
    "    unique_binary_header_results_all[key] = new_value_list_binary"
   ]
  },
  {
   "cell_type": "code",
   "execution_count": 20,
   "metadata": {},
   "outputs": [],
   "source": [
    "unique_headers_ndcg = {}\n",
    "unique_headers_ap = {}\n",
    "unique_headers_f1 = {}\n",
    "for (true_key, true_value), (es_key, es_value) in zip(unique_truth_dict_all.items(), unique_header_results_all.items()):\n",
    "    unique_headers_ndcg[true_key] = ndcg_score([true_value], [es_value])\n",
    "    unique_headers_ap[true_key] = average_precision_score(true_value, es_value, pos_label=0)\n",
    "for (true_key, true_value), (es_key, es_value) in zip(unique_truth_dict_all.items(), unique_binary_header_results_all.items()):\n",
    "    unique_headers_f1[true_key] = f1_score(true_value, es_value, zero_division=0, pos_label=0)"
   ]
  },
  {
   "cell_type": "code",
   "execution_count": 21,
   "metadata": {},
   "outputs": [],
   "source": [
    "unique_headers_eval = pd.DataFrame(data=[unique_headers_ndcg, unique_headers_ap, unique_headers_f1]).T\n",
    "unique_headers_eval = unique_headers_eval.rename({0:\"NDCG\", 1:\"AP\", 2:\"F1\"}, axis=1)"
   ]
  },
  {
   "cell_type": "code",
   "execution_count": 22,
   "metadata": {},
   "outputs": [
    {
     "data": {
      "text/html": [
       "<div>\n",
       "<style scoped>\n",
       "    .dataframe tbody tr th:only-of-type {\n",
       "        vertical-align: middle;\n",
       "    }\n",
       "\n",
       "    .dataframe tbody tr th {\n",
       "        vertical-align: top;\n",
       "    }\n",
       "\n",
       "    .dataframe thead th {\n",
       "        text-align: right;\n",
       "    }\n",
       "</style>\n",
       "<table border=\"1\" class=\"dataframe\">\n",
       "  <thead>\n",
       "    <tr style=\"text-align: right;\">\n",
       "      <th></th>\n",
       "      <th>NDCG</th>\n",
       "      <th>AP</th>\n",
       "      <th>F1</th>\n",
       "    </tr>\n",
       "  </thead>\n",
       "  <tbody>\n",
       "    <tr>\n",
       "      <th>count</th>\n",
       "      <td>94.000000</td>\n",
       "      <td>94.000000</td>\n",
       "      <td>94.000000</td>\n",
       "    </tr>\n",
       "    <tr>\n",
       "      <th>mean</th>\n",
       "      <td>0.497221</td>\n",
       "      <td>0.813408</td>\n",
       "      <td>0.736632</td>\n",
       "    </tr>\n",
       "    <tr>\n",
       "      <th>std</th>\n",
       "      <td>0.261710</td>\n",
       "      <td>0.203330</td>\n",
       "      <td>0.110134</td>\n",
       "    </tr>\n",
       "    <tr>\n",
       "      <th>min</th>\n",
       "      <td>0.000000</td>\n",
       "      <td>0.068966</td>\n",
       "      <td>0.190476</td>\n",
       "    </tr>\n",
       "    <tr>\n",
       "      <th>25%</th>\n",
       "      <td>0.292056</td>\n",
       "      <td>0.748587</td>\n",
       "      <td>0.732991</td>\n",
       "    </tr>\n",
       "    <tr>\n",
       "      <th>50%</th>\n",
       "      <td>0.490997</td>\n",
       "      <td>0.886338</td>\n",
       "      <td>0.765957</td>\n",
       "    </tr>\n",
       "    <tr>\n",
       "      <th>75%</th>\n",
       "      <td>0.698549</td>\n",
       "      <td>0.963322</td>\n",
       "      <td>0.791667</td>\n",
       "    </tr>\n",
       "    <tr>\n",
       "      <th>max</th>\n",
       "      <td>0.993542</td>\n",
       "      <td>1.000000</td>\n",
       "      <td>0.863636</td>\n",
       "    </tr>\n",
       "  </tbody>\n",
       "</table>\n",
       "</div>"
      ],
      "text/plain": [
       "            NDCG         AP         F1\n",
       "count  94.000000  94.000000  94.000000\n",
       "mean    0.497221   0.813408   0.736632\n",
       "std     0.261710   0.203330   0.110134\n",
       "min     0.000000   0.068966   0.190476\n",
       "25%     0.292056   0.748587   0.732991\n",
       "50%     0.490997   0.886338   0.765957\n",
       "75%     0.698549   0.963322   0.791667\n",
       "max     0.993542   1.000000   0.863636"
      ]
     },
     "execution_count": 22,
     "metadata": {},
     "output_type": "execute_result"
    }
   ],
   "source": [
    "unique_headers_eval.describe()"
   ]
  },
  {
   "cell_type": "code",
   "execution_count": 23,
   "metadata": {},
   "outputs": [
    {
     "data": {
      "image/png": "[encoded data removed]",
      "text/plain": [
       "<Figure size 576x360 with 1 Axes>"
      ]
     },
     "metadata": {
      "needs_background": "light"
     },
     "output_type": "display_data"
    }
   ],
   "source": [
    "plt.figure(figsize = (8,5))\n",
    "sns.kdeplot(unique_headers_eval.NDCG, alpha=.1, shade=True, label='NDCG')\n",
    "sns.kdeplot(unique_headers_eval.AP, alpha=.1, shade=True,label='AP')\n",
    "sns.kdeplot(unique_headers_eval.F1,  alpha=.1, shade=True,label='F1')\n",
    "plt.legend()\n",
    "plt.title('Ranking Metric Performance, Headers Index', fontsize=20)\n",
    "plt.xlabel('Score Distribution', fontsize=16)\n",
    "plt.ylabel('Score Density', fontsize=16)\n",
    "plt.xlim(0,1);"
   ]
  },
  {
   "cell_type": "markdown",
   "metadata": {},
   "source": [
    "### Which comments were scored poorly?"
   ]
  },
  {
   "cell_type": "code",
   "execution_count": 24,
   "metadata": {},
   "outputs": [],
   "source": [
    "with open('expanded.json') as f1:\n",
    "    comments = json.load(f1)"
   ]
  },
  {
   "cell_type": "code",
   "execution_count": 25,
   "metadata": {},
   "outputs": [
    {
     "data": {
      "text/html": [
       "<div>\n",
       "<style scoped>\n",
       "    .dataframe tbody tr th:only-of-type {\n",
       "        vertical-align: middle;\n",
       "    }\n",
       "\n",
       "    .dataframe tbody tr th {\n",
       "        vertical-align: top;\n",
       "    }\n",
       "\n",
       "    .dataframe thead th {\n",
       "        text-align: right;\n",
       "    }\n",
       "</style>\n",
       "<table border=\"1\" class=\"dataframe\">\n",
       "  <thead>\n",
       "    <tr style=\"text-align: right;\">\n",
       "      <th></th>\n",
       "      <th>NDCG</th>\n",
       "      <th>AP</th>\n",
       "      <th>F1</th>\n",
       "    </tr>\n",
       "  </thead>\n",
       "  <tbody>\n",
       "    <tr>\n",
       "      <th>0110</th>\n",
       "      <td>0.0</td>\n",
       "      <td>1.0</td>\n",
       "      <td>0.791667</td>\n",
       "    </tr>\n",
       "    <tr>\n",
       "      <th>0126</th>\n",
       "      <td>0.0</td>\n",
       "      <td>1.0</td>\n",
       "      <td>0.791667</td>\n",
       "    </tr>\n",
       "    <tr>\n",
       "      <th>0240</th>\n",
       "      <td>0.0</td>\n",
       "      <td>1.0</td>\n",
       "      <td>0.791667</td>\n",
       "    </tr>\n",
       "    <tr>\n",
       "      <th>0256</th>\n",
       "      <td>0.0</td>\n",
       "      <td>1.0</td>\n",
       "      <td>0.791667</td>\n",
       "    </tr>\n",
       "    <tr>\n",
       "      <th>0287</th>\n",
       "      <td>0.0</td>\n",
       "      <td>1.0</td>\n",
       "      <td>0.791667</td>\n",
       "    </tr>\n",
       "    <tr>\n",
       "      <th>0408</th>\n",
       "      <td>0.0</td>\n",
       "      <td>1.0</td>\n",
       "      <td>0.791667</td>\n",
       "    </tr>\n",
       "    <tr>\n",
       "      <th>0467</th>\n",
       "      <td>0.0</td>\n",
       "      <td>1.0</td>\n",
       "      <td>0.791667</td>\n",
       "    </tr>\n",
       "  </tbody>\n",
       "</table>\n",
       "</div>"
      ],
      "text/plain": [
       "      NDCG   AP        F1\n",
       "0110   0.0  1.0  0.791667\n",
       "0126   0.0  1.0  0.791667\n",
       "0240   0.0  1.0  0.791667\n",
       "0256   0.0  1.0  0.791667\n",
       "0287   0.0  1.0  0.791667\n",
       "0408   0.0  1.0  0.791667\n",
       "0467   0.0  1.0  0.791667"
      ]
     },
     "execution_count": 25,
     "metadata": {},
     "output_type": "execute_result"
    }
   ],
   "source": [
    "unique_headers_eval.query(\"NDCG == 0\")"
   ]
  },
  {
   "cell_type": "code",
   "execution_count": 26,
   "metadata": {},
   "outputs": [
    {
     "data": {
      "text/plain": [
       "0212    0.400000\n",
       "0326    0.320000\n",
       "0357    0.428571\n",
       "0386    0.190476\n",
       "Name: F1, dtype: float64"
      ]
     },
     "execution_count": 26,
     "metadata": {},
     "output_type": "execute_result"
    }
   ],
   "source": [
    "poorf1 = unique_headers_eval.query(\"F1 < 0.5\").F1\n",
    "poorf1"
   ]
  },
  {
   "cell_type": "code",
   "execution_count": 27,
   "metadata": {},
   "outputs": [
    {
     "data": {
      "text/plain": [
       "0002    0.232430\n",
       "0004    0.232430\n",
       "0006    0.232430\n",
       "0007    0.232430\n",
       "0016    0.232430\n",
       "0042    0.232430\n",
       "0077    0.285028\n",
       "0115    0.232430\n",
       "0191    0.232430\n",
       "0233    0.232430\n",
       "0234    0.285028\n",
       "0243    0.232430\n",
       "0254    0.232430\n",
       "0265    0.232430\n",
       "0297    0.289065\n",
       "0304    0.285028\n",
       "0419    0.285028\n",
       "Name: NDCG, dtype: float64"
      ]
     },
     "execution_count": 27,
     "metadata": {},
     "output_type": "execute_result"
    }
   ],
   "source": [
    "poorndcg = unique_headers_eval.query(\"NDCG < 0.3 & NDCG > 0\").NDCG\n",
    "poorndcg"
   ]
  },
  {
   "cell_type": "code",
   "execution_count": 28,
   "metadata": {},
   "outputs": [
    {
     "data": {
      "text/plain": [
       "{'0212_0': 5262,\n",
       " '0212_1': 4865,\n",
       " '0212_2': 4858,\n",
       " '0212_3': 3172,\n",
       " '0326_0': 5054,\n",
       " '0326_1': 5360,\n",
       " '0326_2': 4803,\n",
       " '0326_3': 4949,\n",
       " '0326_4': 4995,\n",
       " '0326_5': 4872,\n",
       " '0326_6': 5009,\n",
       " '0326_7': 5512,\n",
       " '0326_8': 5443,\n",
       " '0326_9': 5668,\n",
       " '0326_10': 3574,\n",
       " '0357_0': 4992,\n",
       " '0357_1': 5068,\n",
       " '0357_2': 5559,\n",
       " '0357_3': 6051,\n",
       " '0357_4': 5431,\n",
       " '0357_5': 5197,\n",
       " '0357_6': 5129,\n",
       " '0357_7': 4937,\n",
       " '0357_8': 5417,\n",
       " '0357_9': 5231,\n",
       " '0357_10': 2912,\n",
       " '0386_0': 5076,\n",
       " '0386_1': 4849,\n",
       " '0386_2': 6643,\n",
       " '0386_3': 4809,\n",
       " '0386_4': 5003,\n",
       " '0386_5': 5585,\n",
       " '0386_6': 4791,\n",
       " '0386_7': 5697,\n",
       " '0386_8': 4887,\n",
       " '0386_9': 6161,\n",
       " '0386_10': 5436,\n",
       " '0386_11': 5254,\n",
       " '0386_12': 5683,\n",
       " '0386_13': 5566,\n",
       " '0386_14': 4986,\n",
       " '0386_15': 4764,\n",
       " '0386_16': 5135,\n",
       " '0386_17': 5001,\n",
       " '0386_18': 6360,\n",
       " '0386_19': 6204,\n",
       " '0386_20': 5969,\n",
       " '0386_21': 5077,\n",
       " '0386_22': 5044,\n",
       " '0386_23': 5113,\n",
       " '0386_24': 4836,\n",
       " '0386_25': 4767,\n",
       " '0386_26': 5424,\n",
       " '0386_27': 4150}"
      ]
     },
     "execution_count": 28,
     "metadata": {},
     "output_type": "execute_result"
    }
   ],
   "source": [
    "poorf1_comments = {key:comment for key, comment in comments.items() if key[0:4] in poorf1}\n",
    "{key:len(comment) for key, comment in poorf1_comments.items()}"
   ]
  },
  {
   "cell_type": "code",
   "execution_count": 29,
   "metadata": {},
   "outputs": [
    {
     "data": {
      "text/plain": [
       "{'0212': ['a2',\n",
       "  'a3',\n",
       "  'a4b',\n",
       "  'a4c',\n",
       "  'a5b',\n",
       "  'a5c',\n",
       "  'a5d',\n",
       "  'a6b',\n",
       "  'a6c',\n",
       "  'a6d3',\n",
       "  'a7',\n",
       "  'b2a',\n",
       "  'b2b',\n",
       "  'c2',\n",
       "  'c3a',\n",
       "  'c3b',\n",
       "  'd2',\n",
       "  'd3b',\n",
       "  'e2',\n",
       "  'e3',\n",
       "  'e5',\n",
       "  'e6',\n",
       "  'e7'],\n",
       " '0326': ['a2',\n",
       "  'a3',\n",
       "  'a4b',\n",
       "  'a4c',\n",
       "  'a5b',\n",
       "  'a5c',\n",
       "  'a5d',\n",
       "  'a6b',\n",
       "  'a7',\n",
       "  'b2a',\n",
       "  'b2b',\n",
       "  'c2',\n",
       "  'c3a',\n",
       "  'c3b',\n",
       "  'd2',\n",
       "  'd3b',\n",
       "  'd3c',\n",
       "  'e2',\n",
       "  'e3',\n",
       "  'e4',\n",
       "  'e5',\n",
       "  'e6',\n",
       "  'e7'],\n",
       " '0357': ['a3',\n",
       "  'a4c',\n",
       "  'a5b',\n",
       "  'a5c',\n",
       "  'a5d',\n",
       "  'a6b',\n",
       "  'a7',\n",
       "  'b2a',\n",
       "  'b2b',\n",
       "  'c2',\n",
       "  'c3b',\n",
       "  'd2',\n",
       "  'd3b',\n",
       "  'd3c',\n",
       "  'e2',\n",
       "  'e3',\n",
       "  'e4',\n",
       "  'e5',\n",
       "  'e6',\n",
       "  'e7'],\n",
       " '0386': ['a2',\n",
       "  'a3',\n",
       "  'a4b',\n",
       "  'a4c',\n",
       "  'a5b',\n",
       "  'a5c',\n",
       "  'a5d',\n",
       "  'a6b',\n",
       "  'a6c',\n",
       "  'a6d2',\n",
       "  'a6d3',\n",
       "  'a7',\n",
       "  'b2a',\n",
       "  'b2b',\n",
       "  'c2',\n",
       "  'c3a',\n",
       "  'c3b',\n",
       "  'd2',\n",
       "  'd3b',\n",
       "  'd3c',\n",
       "  'd3d',\n",
       "  'd4',\n",
       "  'e2',\n",
       "  'e3',\n",
       "  'e4',\n",
       "  'e5',\n",
       "  'e6']}"
      ]
     },
     "execution_count": 29,
     "metadata": {},
     "output_type": "execute_result"
    }
   ],
   "source": [
    "poorf1_comments_truth = {key:matches for key, matches in truth_dict.items() if key in poorf1}\n",
    "poorf1_comments_truth"
   ]
  },
  {
   "cell_type": "code",
   "execution_count": 30,
   "metadata": {},
   "outputs": [
    {
     "data": {
      "text/plain": [
       "{'0002': 1884,\n",
       " '0004': 1061,\n",
       " '0006': 517,\n",
       " '0007': 2686,\n",
       " '0016': 4034,\n",
       " '0042': 66,\n",
       " '0077': 1641,\n",
       " '0115': 2041,\n",
       " '0191': 714,\n",
       " '0233': 665,\n",
       " '0265': 1512,\n",
       " '0297': 138,\n",
       " '0419': 333}"
      ]
     },
     "execution_count": 30,
     "metadata": {},
     "output_type": "execute_result"
    }
   ],
   "source": [
    "poorndcg_comments = {key:comment for key, comment in comments.items() if key in poorndcg}\n",
    "{key:len(comment) for key, comment in poorndcg_comments.items()}"
   ]
  },
  {
   "cell_type": "code",
   "execution_count": 31,
   "metadata": {},
   "outputs": [
    {
     "data": {
      "text/plain": [
       "{'0002': ['d2'],\n",
       " '0004': ['a7'],\n",
       " '0006': ['f'],\n",
       " '0007': ['e3'],\n",
       " '0016': ['e5'],\n",
       " '0042': ['a5c'],\n",
       " '0077': ['e6', 'f'],\n",
       " '0115': ['e2'],\n",
       " '0191': ['a7'],\n",
       " '0233': ['a3'],\n",
       " '0234': ['e5', 'e7'],\n",
       " '0243': ['e5'],\n",
       " '0254': ['a3'],\n",
       " '0265': ['d2'],\n",
       " '0297': ['a5c'],\n",
       " '0304': ['e5', 'e7'],\n",
       " '0419': ['e5', 'e7']}"
      ]
     },
     "execution_count": 31,
     "metadata": {},
     "output_type": "execute_result"
    }
   ],
   "source": [
    "poorndcg_comments_truth = {key:matches for key, matches in truth_dict.items() if key in poorndcg}\n",
    "poorndcg_comments_truth"
   ]
  },
  {
   "cell_type": "markdown",
   "metadata": {},
   "source": [
    "## Custom Headers Index Testing"
   ]
  },
  {
   "cell_type": "code",
   "execution_count": 32,
   "metadata": {},
   "outputs": [],
   "source": [
    "with open('match_header_custom_results.json') as f:\n",
    "    custom_header_results = json.load(f)"
   ]
  },
  {
   "cell_type": "code",
   "execution_count": 33,
   "metadata": {},
   "outputs": [],
   "source": [
    "#tranlate ES keys to true rule section names, MAINTAINING ORDER\n",
    "for key, value in custom_header_results.items():\n",
    "    value_list = []\n",
    "    for val_idx, score in value.items():\n",
    "        for true_key in truth_keys:\n",
    "            if true_key in val_idx and true_key not in value_list: \n",
    "                value_list.append(true_key)\n",
    "        custom_header_results[key]={true_key: score for (val_idx, score), true_key in zip(value.items(),value_list)}     "
   ]
  },
  {
   "cell_type": "markdown",
   "metadata": {},
   "source": [
    "### Normalize scores (divide by mean)"
   ]
  },
  {
   "cell_type": "code",
   "execution_count": 34,
   "metadata": {},
   "outputs": [],
   "source": [
    "normalized_results = {}\n",
    "for comment_idx, result in custom_header_results.items():\n",
    "    score_mean = np.mean(list(result.values()))\n",
    "    score_dict = {}\n",
    "    for rule_idx, score in result.items():\n",
    "        score_dict[rule_idx] = score/score_mean\n",
    "    normalized_results[comment_idx] = score_dict"
   ]
  },
  {
   "cell_type": "code",
   "execution_count": 35,
   "metadata": {},
   "outputs": [],
   "source": [
    "normalized_lists = {comment_idx:list(score_dict.items()) for comment_idx, score_dict in normalized_results.items()}"
   ]
  },
  {
   "cell_type": "markdown",
   "metadata": {},
   "source": [
    "### Merge results for same comment chunks"
   ]
  },
  {
   "cell_type": "code",
   "execution_count": 36,
   "metadata": {},
   "outputs": [],
   "source": [
    "merged_results = {}\n",
    "for key in unique_truth_dict.keys():\n",
    "    merged_list = []\n",
    "    for comment_idx, result_list in normalized_lists.items():\n",
    "        if key in comment_idx:\n",
    "            merged_list.extend(result_list)\n",
    "    merged_results[key] = merged_list\n",
    "merged_results = {comment_idx:sorted(result, key=lambda x:x[1], reverse=True) for comment_idx, result in merged_results.items()}"
   ]
  },
  {
   "cell_type": "code",
   "execution_count": 37,
   "metadata": {},
   "outputs": [],
   "source": [
    "for comment_idx, tup_list in merged_results.items():\n",
    "    score_dict = {}\n",
    "    for tup in tup_list:\n",
    "        if tup[0] in score_dict.keys():\n",
    "            score_dict[tup[0]] += tup[1]\n",
    "        else:\n",
    "            score_dict[tup[0]] = tup[1]\n",
    "    merged_results[comment_idx] = score_dict"
   ]
  },
  {
   "cell_type": "code",
   "execution_count": 38,
   "metadata": {},
   "outputs": [],
   "source": [
    "merged_results = {comment_idx:dict(sorted(result.items(), key = lambda x:x[1], reverse=True))\\\n",
    "                  for comment_idx, result in merged_results.items()}"
   ]
  },
  {
   "cell_type": "markdown",
   "metadata": {},
   "source": [
    "### Sklearn"
   ]
  },
  {
   "cell_type": "code",
   "execution_count": 39,
   "metadata": {},
   "outputs": [],
   "source": [
    "#create truth dict with values equal to sparse array length=29, binary\n",
    "unique_truth_dict_all = unique_truth_dict.copy()\n",
    "for key, value in unique_truth_dict.items():\n",
    "    new_value_list = np.zeros(len(truth_keys))\n",
    "    for val in value:\n",
    "        for i in range(len(truth_keys)):\n",
    "            if val == truth_keys[i]:\n",
    "                new_value_list[i] = 1\n",
    "    unique_truth_dict_all[key] = new_value_list"
   ]
  },
  {
   "cell_type": "code",
   "execution_count": 40,
   "metadata": {},
   "outputs": [],
   "source": [
    "#create header results dict with values equal to sparse array length=29, (discounted and binary versions)\n",
    "custom_header_results_all = custom_header_results.copy()\n",
    "custom_binary_header_results_all = custom_header_results.copy()\n",
    "for key, value in custom_header_results.items():\n",
    "    new_value_list_discounted = np.zeros(len(truth_keys))\n",
    "    new_value_list_binary = np.zeros(len(truth_keys))\n",
    "    counter = 1\n",
    "    for rule_section in value.keys():\n",
    "        for i in range(len(truth_keys)):\n",
    "            if rule_section == truth_keys[i]:\n",
    "                counter += 1\n",
    "                new_value_list_discounted[i] = 1/math.log(counter, 2)\n",
    "                new_value_list_binary[i] = 1\n",
    "    custom_header_results_all[key] = new_value_list_discounted\n",
    "    custom_binary_header_results_all[key] = new_value_list_binary"
   ]
  },
  {
   "cell_type": "code",
   "execution_count": 41,
   "metadata": {},
   "outputs": [],
   "source": [
    "custom_headers_ndcg = {}\n",
    "custom_headers_ap = {}\n",
    "custom_headers_f1 = {}\n",
    "for (true_key, true_value), (es_key, es_value) in zip(unique_truth_dict_all.items(), custom_header_results_all.items()):\n",
    "    custom_headers_ndcg[true_key] = ndcg_score([true_value], [es_value])\n",
    "    custom_headers_ap[true_key] = average_precision_score(true_value, es_value, pos_label=0)\n",
    "for (true_key, true_value), (es_key, es_value) in zip(unique_truth_dict_all.items(), custom_binary_header_results_all.items()):\n",
    "    custom_headers_f1[true_key] = f1_score(true_value, es_value, zero_division=0, pos_label=0)"
   ]
  },
  {
   "cell_type": "code",
   "execution_count": 42,
   "metadata": {},
   "outputs": [],
   "source": [
    "custom_headers_eval = pd.DataFrame(data=[custom_headers_ndcg, custom_headers_ap, custom_headers_f1]).T\n",
    "custom_headers_eval = custom_headers_eval.rename({0:\"NDCG\", 1:\"AP\", 2:\"F1\"}, axis=1)"
   ]
  },
  {
   "cell_type": "code",
   "execution_count": 43,
   "metadata": {},
   "outputs": [
    {
     "data": {
      "text/html": [
       "<div>\n",
       "<style scoped>\n",
       "    .dataframe tbody tr th:only-of-type {\n",
       "        vertical-align: middle;\n",
       "    }\n",
       "\n",
       "    .dataframe tbody tr th {\n",
       "        vertical-align: top;\n",
       "    }\n",
       "\n",
       "    .dataframe thead th {\n",
       "        text-align: right;\n",
       "    }\n",
       "</style>\n",
       "<table border=\"1\" class=\"dataframe\">\n",
       "  <thead>\n",
       "    <tr style=\"text-align: right;\">\n",
       "      <th></th>\n",
       "      <th>NDCG</th>\n",
       "      <th>AP</th>\n",
       "      <th>F1</th>\n",
       "    </tr>\n",
       "  </thead>\n",
       "  <tbody>\n",
       "    <tr>\n",
       "      <th>count</th>\n",
       "      <td>94.000000</td>\n",
       "      <td>94.000000</td>\n",
       "      <td>94.000000</td>\n",
       "    </tr>\n",
       "    <tr>\n",
       "      <th>mean</th>\n",
       "      <td>0.501630</td>\n",
       "      <td>0.811213</td>\n",
       "      <td>0.743768</td>\n",
       "    </tr>\n",
       "    <tr>\n",
       "      <th>std</th>\n",
       "      <td>0.258456</td>\n",
       "      <td>0.202562</td>\n",
       "      <td>0.105294</td>\n",
       "    </tr>\n",
       "    <tr>\n",
       "      <th>min</th>\n",
       "      <td>0.000000</td>\n",
       "      <td>0.068966</td>\n",
       "      <td>0.181818</td>\n",
       "    </tr>\n",
       "    <tr>\n",
       "      <th>25%</th>\n",
       "      <td>0.295665</td>\n",
       "      <td>0.747843</td>\n",
       "      <td>0.731707</td>\n",
       "    </tr>\n",
       "    <tr>\n",
       "      <th>50%</th>\n",
       "      <td>0.508220</td>\n",
       "      <td>0.877718</td>\n",
       "      <td>0.765957</td>\n",
       "    </tr>\n",
       "    <tr>\n",
       "      <th>75%</th>\n",
       "      <td>0.697107</td>\n",
       "      <td>0.958766</td>\n",
       "      <td>0.808511</td>\n",
       "    </tr>\n",
       "    <tr>\n",
       "      <th>max</th>\n",
       "      <td>0.992879</td>\n",
       "      <td>1.000000</td>\n",
       "      <td>0.837209</td>\n",
       "    </tr>\n",
       "  </tbody>\n",
       "</table>\n",
       "</div>"
      ],
      "text/plain": [
       "            NDCG         AP         F1\n",
       "count  94.000000  94.000000  94.000000\n",
       "mean    0.501630   0.811213   0.743768\n",
       "std     0.258456   0.202562   0.105294\n",
       "min     0.000000   0.068966   0.181818\n",
       "25%     0.295665   0.747843   0.731707\n",
       "50%     0.508220   0.877718   0.765957\n",
       "75%     0.697107   0.958766   0.808511\n",
       "max     0.992879   1.000000   0.837209"
      ]
     },
     "execution_count": 43,
     "metadata": {},
     "output_type": "execute_result"
    }
   ],
   "source": [
    "custom_headers_eval.describe()"
   ]
  },
  {
   "cell_type": "code",
   "execution_count": 44,
   "metadata": {},
   "outputs": [
    {
     "data": {
      "image/png": "[encoded data removed]",
      "text/plain": [
       "<Figure size 576x360 with 1 Axes>"
      ]
     },
     "metadata": {
      "needs_background": "light"
     },
     "output_type": "display_data"
    }
   ],
   "source": [
    "plt.figure(figsize = (8,5))\n",
    "sns.kdeplot(custom_headers_eval.NDCG, alpha=.1, shade=True, label='NDCG')\n",
    "sns.kdeplot(custom_headers_eval.AP, alpha=.1, shade=True,label='AP')\n",
    "sns.kdeplot(custom_headers_eval.F1,  alpha=.1, shade=True,label='F1')\n",
    "plt.legend()\n",
    "plt.title('Ranking Metric Performance, Custom Headers Index', fontsize=20)\n",
    "plt.xlabel('Score Distribution', fontsize=16)\n",
    "plt.ylabel('Score Density', fontsize=16)\n",
    "plt.xlim(0,1);"
   ]
  },
  {
   "cell_type": "markdown",
   "metadata": {},
   "source": [
    "## Hybrid Unique Index Testing"
   ]
  },
  {
   "cell_type": "code",
   "execution_count": 45,
   "metadata": {},
   "outputs": [],
   "source": [
    "with open('match_hybrid_results.json') as f1:\n",
    "    unique_hybrid_results = json.load(f1)"
   ]
  },
  {
   "cell_type": "code",
   "execution_count": 46,
   "metadata": {},
   "outputs": [],
   "source": [
    "#tranlate ES keys to true rule section names, MAINTAINING ORDER\n",
    "for key, value in unique_hybrid_results.items():\n",
    "    value_list = []\n",
    "    for val_idx in value:\n",
    "        for true_key in truth_keys:\n",
    "            if true_key in val_idx[0:4]:\n",
    "                    value_list.append(true_key)\n",
    "        unique_hybrid_results[key]=[(true_key, score) for (val_idx, score), true_key in zip(value.items(),value_list)]"
   ]
  },
  {
   "cell_type": "code",
   "execution_count": 47,
   "metadata": {},
   "outputs": [],
   "source": [
    "for comment_idx, tup_list in unique_hybrid_results.items():\n",
    "    score_dict = {}\n",
    "    for tup in tup_list:\n",
    "        if tup[0] in score_dict.keys():\n",
    "            score_dict[tup[0]] += tup[1]\n",
    "        else:\n",
    "            score_dict[tup[0]] = tup[1]\n",
    "    unique_hybrid_results[comment_idx] = score_dict"
   ]
  },
  {
   "cell_type": "markdown",
   "metadata": {},
   "source": [
    "### Normalize scores (divide by mean)"
   ]
  },
  {
   "cell_type": "code",
   "execution_count": 48,
   "metadata": {},
   "outputs": [],
   "source": [
    "normalized_results = {}\n",
    "for comment_idx, result in unique_hybrid_results.items():\n",
    "    score_mean = np.mean(list(result.values()))\n",
    "    score_dict = {}\n",
    "    for rule_idx, score in result.items():\n",
    "        score_dict[rule_idx] = score/score_mean\n",
    "    normalized_results[comment_idx] = score_dict"
   ]
  },
  {
   "cell_type": "code",
   "execution_count": 49,
   "metadata": {},
   "outputs": [],
   "source": [
    "normalized_lists = {comment_idx:list(score_dict.items()) for comment_idx, score_dict in normalized_results.items()}"
   ]
  },
  {
   "cell_type": "markdown",
   "metadata": {},
   "source": [
    "### Merge results for same comment chunks"
   ]
  },
  {
   "cell_type": "code",
   "execution_count": 50,
   "metadata": {},
   "outputs": [],
   "source": [
    "merged_results = {}\n",
    "for key in unique_truth_dict.keys():\n",
    "    merged_list = []\n",
    "    for comment_idx, result_list in normalized_lists.items():\n",
    "        if key in comment_idx:\n",
    "            merged_list.extend(result_list)\n",
    "    merged_results[key] = merged_list\n",
    "merged_results = {comment_idx:sorted(result, key=lambda x:x[1], reverse=True) for comment_idx, result in merged_results.items()}"
   ]
  },
  {
   "cell_type": "code",
   "execution_count": 51,
   "metadata": {},
   "outputs": [],
   "source": [
    "for comment_idx, tup_list in merged_results.items():\n",
    "    score_dict = {}\n",
    "    for tup in tup_list:\n",
    "        if tup[0] in score_dict.keys():\n",
    "            score_dict[tup[0]] += tup[1]\n",
    "        else:\n",
    "            score_dict[tup[0]] = tup[1]\n",
    "    merged_results[comment_idx] = score_dict"
   ]
  },
  {
   "cell_type": "code",
   "execution_count": 52,
   "metadata": {},
   "outputs": [],
   "source": [
    "merged_results = {comment_idx:dict(sorted(result.items(), key = lambda x:x[1], reverse=True))\\\n",
    "                  for comment_idx, result in merged_results.items()}"
   ]
  },
  {
   "cell_type": "markdown",
   "metadata": {},
   "source": [
    "### Sklearn"
   ]
  },
  {
   "cell_type": "code",
   "execution_count": 53,
   "metadata": {},
   "outputs": [],
   "source": [
    "#create truth dict with values equal to sparse array length=29, binary\n",
    "unique_truth_dict_all = unique_truth_dict.copy()\n",
    "for key, value in unique_truth_dict.items():\n",
    "    new_value_list = np.zeros(len(truth_keys))\n",
    "    for val in value:\n",
    "        for i in range(len(truth_keys)):\n",
    "            if val == truth_keys[i]:\n",
    "                new_value_list[i] = 1\n",
    "    unique_truth_dict_all[key] = new_value_list"
   ]
  },
  {
   "cell_type": "code",
   "execution_count": 54,
   "metadata": {},
   "outputs": [],
   "source": [
    "#create header results dict with values equal to sparse array length=29, (discounted and binary versions)\n",
    "unique_hybrid_results_all = unique_hybrid_results.copy()\n",
    "unique_binary_hybrid_results_all = unique_hybrid_results.copy()\n",
    "for key, value in unique_hybrid_results.items():\n",
    "    new_value_list_discounted = np.zeros(len(truth_keys))\n",
    "    new_value_list_binary = np.zeros(len(truth_keys))\n",
    "    counter = 1\n",
    "    for rule_section in value.keys():\n",
    "        for i in range(len(truth_keys)):\n",
    "            if rule_section == truth_keys[i]:\n",
    "                counter += 1\n",
    "                new_value_list_discounted[i] = 1/math.log(counter, 2)\n",
    "                new_value_list_binary[i] = 1\n",
    "    unique_hybrid_results_all[key] = new_value_list_discounted\n",
    "    unique_binary_hybrid_results_all[key] = new_value_list_binary"
   ]
  },
  {
   "cell_type": "code",
   "execution_count": 55,
   "metadata": {},
   "outputs": [],
   "source": [
    "unique_hybrid_ndcg = {}\n",
    "unique_hybrid_ap = {}\n",
    "unique_hybrid_f1 = {}\n",
    "for (true_key, true_value), (es_key, es_value) in zip(unique_truth_dict_all.items(), unique_hybrid_results_all.items()):\n",
    "    unique_hybrid_ndcg[true_key] = ndcg_score([true_value], [es_value])\n",
    "    unique_hybrid_ap[true_key] = average_precision_score(true_value, es_value, pos_label=0)\n",
    "for (true_key, true_value), (es_key, es_value) in zip(unique_truth_dict_all.items(), unique_binary_hybrid_results_all.items()):\n",
    "    unique_hybrid_f1[true_key] = f1_score(true_value, es_value, zero_division=0, pos_label=0)"
   ]
  },
  {
   "cell_type": "code",
   "execution_count": 56,
   "metadata": {},
   "outputs": [],
   "source": [
    "unique_hybrid_eval = pd.DataFrame(data=[unique_hybrid_ndcg, unique_hybrid_ap, unique_hybrid_f1]).T\n",
    "unique_hybrid_eval = unique_hybrid_eval.rename({0:\"NDCG\", 1:\"AP\", 2:\"F1\"}, axis=1)"
   ]
  },
  {
   "cell_type": "code",
   "execution_count": 57,
   "metadata": {},
   "outputs": [
    {
     "data": {
      "text/html": [
       "<div>\n",
       "<style scoped>\n",
       "    .dataframe tbody tr th:only-of-type {\n",
       "        vertical-align: middle;\n",
       "    }\n",
       "\n",
       "    .dataframe tbody tr th {\n",
       "        vertical-align: top;\n",
       "    }\n",
       "\n",
       "    .dataframe thead th {\n",
       "        text-align: right;\n",
       "    }\n",
       "</style>\n",
       "<table border=\"1\" class=\"dataframe\">\n",
       "  <thead>\n",
       "    <tr style=\"text-align: right;\">\n",
       "      <th></th>\n",
       "      <th>NDCG</th>\n",
       "      <th>AP</th>\n",
       "      <th>F1</th>\n",
       "    </tr>\n",
       "  </thead>\n",
       "  <tbody>\n",
       "    <tr>\n",
       "      <th>count</th>\n",
       "      <td>94.000000</td>\n",
       "      <td>94.000000</td>\n",
       "      <td>94.000000</td>\n",
       "    </tr>\n",
       "    <tr>\n",
       "      <th>mean</th>\n",
       "      <td>0.489903</td>\n",
       "      <td>0.817862</td>\n",
       "      <td>0.815874</td>\n",
       "    </tr>\n",
       "    <tr>\n",
       "      <th>std</th>\n",
       "      <td>0.266856</td>\n",
       "      <td>0.199891</td>\n",
       "      <td>0.139913</td>\n",
       "    </tr>\n",
       "    <tr>\n",
       "      <th>min</th>\n",
       "      <td>0.000000</td>\n",
       "      <td>0.068966</td>\n",
       "      <td>0.153846</td>\n",
       "    </tr>\n",
       "    <tr>\n",
       "      <th>25%</th>\n",
       "      <td>0.262646</td>\n",
       "      <td>0.751622</td>\n",
       "      <td>0.808511</td>\n",
       "    </tr>\n",
       "    <tr>\n",
       "      <th>50%</th>\n",
       "      <td>0.494090</td>\n",
       "      <td>0.912353</td>\n",
       "      <td>0.862745</td>\n",
       "    </tr>\n",
       "    <tr>\n",
       "      <th>75%</th>\n",
       "      <td>0.696591</td>\n",
       "      <td>0.969212</td>\n",
       "      <td>0.899875</td>\n",
       "    </tr>\n",
       "    <tr>\n",
       "      <th>max</th>\n",
       "      <td>1.000000</td>\n",
       "      <td>1.000000</td>\n",
       "      <td>0.943396</td>\n",
       "    </tr>\n",
       "  </tbody>\n",
       "</table>\n",
       "</div>"
      ],
      "text/plain": [
       "            NDCG         AP         F1\n",
       "count  94.000000  94.000000  94.000000\n",
       "mean    0.489903   0.817862   0.815874\n",
       "std     0.266856   0.199891   0.139913\n",
       "min     0.000000   0.068966   0.153846\n",
       "25%     0.262646   0.751622   0.808511\n",
       "50%     0.494090   0.912353   0.862745\n",
       "75%     0.696591   0.969212   0.899875\n",
       "max     1.000000   1.000000   0.943396"
      ]
     },
     "execution_count": 57,
     "metadata": {},
     "output_type": "execute_result"
    }
   ],
   "source": [
    "unique_hybrid_eval.describe()"
   ]
  },
  {
   "cell_type": "code",
   "execution_count": 58,
   "metadata": {},
   "outputs": [
    {
     "data": {
      "image/png": "[encoded data removed]",
      "text/plain": [
       "<Figure size 576x360 with 1 Axes>"
      ]
     },
     "metadata": {
      "needs_background": "light"
     },
     "output_type": "display_data"
    }
   ],
   "source": [
    "plt.figure(figsize = (8,5))\n",
    "sns.kdeplot(unique_hybrid_eval.NDCG, alpha=.1, shade=True, label='NDCG')\n",
    "sns.kdeplot(unique_hybrid_eval.AP, alpha=.1, shade=True,label='AP')\n",
    "sns.kdeplot(unique_hybrid_eval.F1,  alpha=.1, shade=True,label='F1')\n",
    "plt.legend()\n",
    "plt.title('Ranking Metric Performance, Hybrid Index', fontsize=20)\n",
    "plt.xlabel('Score Distribution', fontsize=16)\n",
    "plt.ylabel('Score Density', fontsize=16)\n",
    "plt.xlim(0,1);"
   ]
  },
  {
   "cell_type": "markdown",
   "metadata": {},
   "source": [
    "### Which comments were scored poorly?"
   ]
  },
  {
   "cell_type": "code",
   "execution_count": 59,
   "metadata": {},
   "outputs": [],
   "source": [
    "with open('expanded.json') as f1:\n",
    "    comments = json.load(f1)"
   ]
  },
  {
   "cell_type": "code",
   "execution_count": 60,
   "metadata": {},
   "outputs": [
    {
     "data": {
      "text/html": [
       "<div>\n",
       "<style scoped>\n",
       "    .dataframe tbody tr th:only-of-type {\n",
       "        vertical-align: middle;\n",
       "    }\n",
       "\n",
       "    .dataframe tbody tr th {\n",
       "        vertical-align: top;\n",
       "    }\n",
       "\n",
       "    .dataframe thead th {\n",
       "        text-align: right;\n",
       "    }\n",
       "</style>\n",
       "<table border=\"1\" class=\"dataframe\">\n",
       "  <thead>\n",
       "    <tr style=\"text-align: right;\">\n",
       "      <th></th>\n",
       "      <th>NDCG</th>\n",
       "      <th>AP</th>\n",
       "      <th>F1</th>\n",
       "    </tr>\n",
       "  </thead>\n",
       "  <tbody>\n",
       "    <tr>\n",
       "      <th>0110</th>\n",
       "      <td>0.0</td>\n",
       "      <td>1.0</td>\n",
       "      <td>0.925926</td>\n",
       "    </tr>\n",
       "    <tr>\n",
       "      <th>0126</th>\n",
       "      <td>0.0</td>\n",
       "      <td>1.0</td>\n",
       "      <td>0.925926</td>\n",
       "    </tr>\n",
       "    <tr>\n",
       "      <th>0240</th>\n",
       "      <td>0.0</td>\n",
       "      <td>1.0</td>\n",
       "      <td>0.884615</td>\n",
       "    </tr>\n",
       "    <tr>\n",
       "      <th>0256</th>\n",
       "      <td>0.0</td>\n",
       "      <td>1.0</td>\n",
       "      <td>0.925926</td>\n",
       "    </tr>\n",
       "    <tr>\n",
       "      <th>0287</th>\n",
       "      <td>0.0</td>\n",
       "      <td>1.0</td>\n",
       "      <td>0.905660</td>\n",
       "    </tr>\n",
       "    <tr>\n",
       "      <th>0408</th>\n",
       "      <td>0.0</td>\n",
       "      <td>1.0</td>\n",
       "      <td>0.905660</td>\n",
       "    </tr>\n",
       "    <tr>\n",
       "      <th>0467</th>\n",
       "      <td>0.0</td>\n",
       "      <td>1.0</td>\n",
       "      <td>0.905660</td>\n",
       "    </tr>\n",
       "  </tbody>\n",
       "</table>\n",
       "</div>"
      ],
      "text/plain": [
       "      NDCG   AP        F1\n",
       "0110   0.0  1.0  0.925926\n",
       "0126   0.0  1.0  0.925926\n",
       "0240   0.0  1.0  0.884615\n",
       "0256   0.0  1.0  0.925926\n",
       "0287   0.0  1.0  0.905660\n",
       "0408   0.0  1.0  0.905660\n",
       "0467   0.0  1.0  0.905660"
      ]
     },
     "execution_count": 60,
     "metadata": {},
     "output_type": "execute_result"
    }
   ],
   "source": [
    "unique_hybrid_eval.query(\"NDCG == 0\")"
   ]
  },
  {
   "cell_type": "code",
   "execution_count": 61,
   "metadata": {},
   "outputs": [
    {
     "data": {
      "text/plain": [
       "0212    0.428571\n",
       "0326    0.258065\n",
       "0357    0.411765\n",
       "0386    0.153846\n",
       "Name: F1, dtype: float64"
      ]
     },
     "execution_count": 61,
     "metadata": {},
     "output_type": "execute_result"
    }
   ],
   "source": [
    "poorf1 = unique_hybrid_eval.query(\"F1 < 0.5\").F1\n",
    "poorf1"
   ]
  },
  {
   "cell_type": "code",
   "execution_count": 62,
   "metadata": {},
   "outputs": [
    {
     "data": {
      "text/plain": [
       "0002    0.250470\n",
       "0004    0.245872\n",
       "0005    0.241897\n",
       "0006    0.262646\n",
       "0007    0.255925\n",
       "0008    0.245872\n",
       "0016    0.255925\n",
       "0042    0.250470\n",
       "0115    0.250470\n",
       "0189    0.255925\n",
       "0191    0.245872\n",
       "0205    0.250470\n",
       "0233    0.255925\n",
       "0243    0.262646\n",
       "0254    0.262646\n",
       "0265    0.250470\n",
       "0271    0.250470\n",
       "0297    0.250470\n",
       "0385    0.241897\n",
       "Name: NDCG, dtype: float64"
      ]
     },
     "execution_count": 62,
     "metadata": {},
     "output_type": "execute_result"
    }
   ],
   "source": [
    "poorndcg = unique_hybrid_eval.query(\"NDCG < 0.3 & NDCG > 0\").NDCG\n",
    "poorndcg"
   ]
  },
  {
   "cell_type": "code",
   "execution_count": 63,
   "metadata": {},
   "outputs": [
    {
     "data": {
      "text/plain": [
       "{'0212_0': 5262,\n",
       " '0212_1': 4865,\n",
       " '0212_2': 4858,\n",
       " '0212_3': 3172,\n",
       " '0326_0': 5054,\n",
       " '0326_1': 5360,\n",
       " '0326_2': 4803,\n",
       " '0326_3': 4949,\n",
       " '0326_4': 4995,\n",
       " '0326_5': 4872,\n",
       " '0326_6': 5009,\n",
       " '0326_7': 5512,\n",
       " '0326_8': 5443,\n",
       " '0326_9': 5668,\n",
       " '0326_10': 3574,\n",
       " '0357_0': 4992,\n",
       " '0357_1': 5068,\n",
       " '0357_2': 5559,\n",
       " '0357_3': 6051,\n",
       " '0357_4': 5431,\n",
       " '0357_5': 5197,\n",
       " '0357_6': 5129,\n",
       " '0357_7': 4937,\n",
       " '0357_8': 5417,\n",
       " '0357_9': 5231,\n",
       " '0357_10': 2912,\n",
       " '0386_0': 5076,\n",
       " '0386_1': 4849,\n",
       " '0386_2': 6643,\n",
       " '0386_3': 4809,\n",
       " '0386_4': 5003,\n",
       " '0386_5': 5585,\n",
       " '0386_6': 4791,\n",
       " '0386_7': 5697,\n",
       " '0386_8': 4887,\n",
       " '0386_9': 6161,\n",
       " '0386_10': 5436,\n",
       " '0386_11': 5254,\n",
       " '0386_12': 5683,\n",
       " '0386_13': 5566,\n",
       " '0386_14': 4986,\n",
       " '0386_15': 4764,\n",
       " '0386_16': 5135,\n",
       " '0386_17': 5001,\n",
       " '0386_18': 6360,\n",
       " '0386_19': 6204,\n",
       " '0386_20': 5969,\n",
       " '0386_21': 5077,\n",
       " '0386_22': 5044,\n",
       " '0386_23': 5113,\n",
       " '0386_24': 4836,\n",
       " '0386_25': 4767,\n",
       " '0386_26': 5424,\n",
       " '0386_27': 4150}"
      ]
     },
     "execution_count": 63,
     "metadata": {},
     "output_type": "execute_result"
    }
   ],
   "source": [
    "poorf1_comments = {key:comment for key, comment in comments.items() if key[0:4] in poorf1}\n",
    "{key:len(comment) for key, comment in poorf1_comments.items()}"
   ]
  },
  {
   "cell_type": "code",
   "execution_count": 64,
   "metadata": {},
   "outputs": [
    {
     "data": {
      "text/plain": [
       "{'0212': ['a2',\n",
       "  'a3',\n",
       "  'a4b',\n",
       "  'a4c',\n",
       "  'a5b',\n",
       "  'a5c',\n",
       "  'a5d',\n",
       "  'a6b',\n",
       "  'a6c',\n",
       "  'a6d3',\n",
       "  'a7',\n",
       "  'b2a',\n",
       "  'b2b',\n",
       "  'c2',\n",
       "  'c3a',\n",
       "  'c3b',\n",
       "  'd2',\n",
       "  'd3b',\n",
       "  'e2',\n",
       "  'e3',\n",
       "  'e5',\n",
       "  'e6',\n",
       "  'e7'],\n",
       " '0326': ['a2',\n",
       "  'a3',\n",
       "  'a4b',\n",
       "  'a4c',\n",
       "  'a5b',\n",
       "  'a5c',\n",
       "  'a5d',\n",
       "  'a6b',\n",
       "  'a7',\n",
       "  'b2a',\n",
       "  'b2b',\n",
       "  'c2',\n",
       "  'c3a',\n",
       "  'c3b',\n",
       "  'd2',\n",
       "  'd3b',\n",
       "  'd3c',\n",
       "  'e2',\n",
       "  'e3',\n",
       "  'e4',\n",
       "  'e5',\n",
       "  'e6',\n",
       "  'e7'],\n",
       " '0357': ['a3',\n",
       "  'a4c',\n",
       "  'a5b',\n",
       "  'a5c',\n",
       "  'a5d',\n",
       "  'a6b',\n",
       "  'a7',\n",
       "  'b2a',\n",
       "  'b2b',\n",
       "  'c2',\n",
       "  'c3b',\n",
       "  'd2',\n",
       "  'd3b',\n",
       "  'd3c',\n",
       "  'e2',\n",
       "  'e3',\n",
       "  'e4',\n",
       "  'e5',\n",
       "  'e6',\n",
       "  'e7'],\n",
       " '0386': ['a2',\n",
       "  'a3',\n",
       "  'a4b',\n",
       "  'a4c',\n",
       "  'a5b',\n",
       "  'a5c',\n",
       "  'a5d',\n",
       "  'a6b',\n",
       "  'a6c',\n",
       "  'a6d2',\n",
       "  'a6d3',\n",
       "  'a7',\n",
       "  'b2a',\n",
       "  'b2b',\n",
       "  'c2',\n",
       "  'c3a',\n",
       "  'c3b',\n",
       "  'd2',\n",
       "  'd3b',\n",
       "  'd3c',\n",
       "  'd3d',\n",
       "  'd4',\n",
       "  'e2',\n",
       "  'e3',\n",
       "  'e4',\n",
       "  'e5',\n",
       "  'e6']}"
      ]
     },
     "execution_count": 64,
     "metadata": {},
     "output_type": "execute_result"
    }
   ],
   "source": [
    "poorf1_comments_truth = {key:matches for key, matches in truth_dict.items() if key in poorf1}\n",
    "poorf1_comments_truth"
   ]
  },
  {
   "cell_type": "code",
   "execution_count": 65,
   "metadata": {},
   "outputs": [
    {
     "data": {
      "text/plain": [
       "{'0002': 1884,\n",
       " '0004': 1061,\n",
       " '0005': 3738,\n",
       " '0006': 517,\n",
       " '0007': 2686,\n",
       " '0008': 1419,\n",
       " '0016': 4034,\n",
       " '0042': 66,\n",
       " '0115': 2041,\n",
       " '0191': 714,\n",
       " '0205': 3954,\n",
       " '0233': 665,\n",
       " '0265': 1512,\n",
       " '0271': 1163,\n",
       " '0297': 138,\n",
       " '0385': 902}"
      ]
     },
     "execution_count": 65,
     "metadata": {},
     "output_type": "execute_result"
    }
   ],
   "source": [
    "poorndcg_comments = {key:comment for key, comment in comments.items() if key in poorndcg}\n",
    "{key:len(comment) for key, comment in poorndcg_comments.items()}"
   ]
  },
  {
   "cell_type": "code",
   "execution_count": 66,
   "metadata": {},
   "outputs": [
    {
     "data": {
      "text/plain": [
       "{'0002': ['d2'],\n",
       " '0004': ['a7'],\n",
       " '0005': ['a5b'],\n",
       " '0006': ['f'],\n",
       " '0007': ['e3'],\n",
       " '0008': ['c3b'],\n",
       " '0016': ['e5'],\n",
       " '0042': ['a5c'],\n",
       " '0115': ['e2'],\n",
       " '0189': ['e6'],\n",
       " '0191': ['a7'],\n",
       " '0205': ['b2b'],\n",
       " '0233': ['a3'],\n",
       " '0243': ['e5'],\n",
       " '0254': ['a3'],\n",
       " '0265': ['d2'],\n",
       " '0271': ['a5c'],\n",
       " '0297': ['a5c'],\n",
       " '0385': ['e3']}"
      ]
     },
     "execution_count": 66,
     "metadata": {},
     "output_type": "execute_result"
    }
   ],
   "source": [
    "poorndcg_comments_truth = {key:matches for key, matches in truth_dict.items() if key in poorndcg}\n",
    "poorndcg_comments_truth"
   ]
  },
  {
   "cell_type": "markdown",
   "metadata": {},
   "source": [
    "## Hybrid Custom Index Testing"
   ]
  },
  {
   "cell_type": "code",
   "execution_count": 67,
   "metadata": {},
   "outputs": [],
   "source": [
    "with open('match_hybrid_custom_results.json') as f1:\n",
    "    custom_hybrid_results = json.load(f1)"
   ]
  },
  {
   "cell_type": "code",
   "execution_count": 68,
   "metadata": {},
   "outputs": [],
   "source": [
    "#tranlate ES keys to true rule section names, MAINTAINING ORDER\n",
    "for key, value in custom_hybrid_results.items():\n",
    "    value_list = []\n",
    "    for val_idx in value:\n",
    "        for true_key in truth_keys:\n",
    "            if true_key in val_idx[0:4]:\n",
    "                    value_list.append(true_key)\n",
    "        custom_hybrid_results[key]=[(true_key, score) for (val_idx, score), true_key in zip(value.items(),value_list)]"
   ]
  },
  {
   "cell_type": "code",
   "execution_count": 69,
   "metadata": {},
   "outputs": [],
   "source": [
    "for comment_idx, tup_list in custom_hybrid_results.items():\n",
    "    score_dict = {}\n",
    "    for tup in tup_list:\n",
    "        if tup[0] in score_dict.keys():\n",
    "            score_dict[tup[0]] += tup[1]\n",
    "        else:\n",
    "            score_dict[tup[0]] = tup[1]\n",
    "    custom_hybrid_results[comment_idx] = score_dict"
   ]
  },
  {
   "cell_type": "markdown",
   "metadata": {},
   "source": [
    "### Normalize scores (divide by mean)"
   ]
  },
  {
   "cell_type": "code",
   "execution_count": 70,
   "metadata": {},
   "outputs": [],
   "source": [
    "normalized_results = {}\n",
    "for comment_idx, result in custom_hybrid_results.items():\n",
    "    score_mean = np.mean(list(result.values()))\n",
    "    score_dict = {}\n",
    "    for rule_idx, score in result.items():\n",
    "        score_dict[rule_idx] = score/score_mean\n",
    "    normalized_results[comment_idx] = score_dict"
   ]
  },
  {
   "cell_type": "code",
   "execution_count": 71,
   "metadata": {},
   "outputs": [],
   "source": [
    "normalized_lists = {comment_idx:list(score_dict.items()) for comment_idx, score_dict in normalized_results.items()}"
   ]
  },
  {
   "cell_type": "markdown",
   "metadata": {},
   "source": [
    "### Merge results for same comment chunks"
   ]
  },
  {
   "cell_type": "code",
   "execution_count": 72,
   "metadata": {},
   "outputs": [],
   "source": [
    "merged_results = {}\n",
    "for key in unique_truth_dict.keys():\n",
    "    merged_list = []\n",
    "    for comment_idx, result_list in normalized_lists.items():\n",
    "        if key in comment_idx:\n",
    "            merged_list.extend(result_list)\n",
    "    merged_results[key] = merged_list\n",
    "merged_results = {comment_idx:sorted(result, key=lambda x:x[1], reverse=True) for comment_idx, result in merged_results.items()}"
   ]
  },
  {
   "cell_type": "code",
   "execution_count": 73,
   "metadata": {},
   "outputs": [],
   "source": [
    "for comment_idx, tup_list in merged_results.items():\n",
    "    score_dict = {}\n",
    "    for tup in tup_list:\n",
    "        if tup[0] in score_dict.keys():\n",
    "            score_dict[tup[0]] += tup[1]\n",
    "        else:\n",
    "            score_dict[tup[0]] = tup[1]\n",
    "    merged_results[comment_idx] = score_dict"
   ]
  },
  {
   "cell_type": "code",
   "execution_count": 74,
   "metadata": {},
   "outputs": [],
   "source": [
    "merged_results = {comment_idx:dict(sorted(result.items(), key = lambda x:x[1], reverse=True))\\\n",
    "                  for comment_idx, result in merged_results.items()}"
   ]
  },
  {
   "cell_type": "markdown",
   "metadata": {},
   "source": [
    "### Sklearn"
   ]
  },
  {
   "cell_type": "code",
   "execution_count": 75,
   "metadata": {},
   "outputs": [],
   "source": [
    "#create truth dict with values equal to sparse array length=29, binary\n",
    "unique_truth_dict_all = unique_truth_dict.copy()\n",
    "for key, value in unique_truth_dict.items():\n",
    "    new_value_list = np.zeros(len(truth_keys))\n",
    "    for val in value:\n",
    "        for i in range(len(truth_keys)):\n",
    "            if val == truth_keys[i]:\n",
    "                new_value_list[i] = 1\n",
    "    unique_truth_dict_all[key] = new_value_list"
   ]
  },
  {
   "cell_type": "code",
   "execution_count": 76,
   "metadata": {},
   "outputs": [],
   "source": [
    "#create header results dict with values equal to sparse array length=29, (discounted and binary versions)\n",
    "custom_hybrid_results_all = custom_hybrid_results.copy()\n",
    "custom_binary_hybrid_results_all = custom_hybrid_results.copy()\n",
    "for key, value in custom_hybrid_results.items():\n",
    "    new_value_list_discounted = np.zeros(len(truth_keys))\n",
    "    new_value_list_binary = np.zeros(len(truth_keys))\n",
    "    counter = 1\n",
    "    for rule_section in value.keys():\n",
    "        for i in range(len(truth_keys)):\n",
    "            if rule_section == truth_keys[i]:\n",
    "                counter += 1\n",
    "                new_value_list_discounted[i] = 1/math.log(counter, 2)\n",
    "                new_value_list_binary[i] = 1\n",
    "    custom_hybrid_results_all[key] = new_value_list_discounted\n",
    "    custom_binary_hybrid_results_all[key] = new_value_list_binary"
   ]
  },
  {
   "cell_type": "code",
   "execution_count": 77,
   "metadata": {},
   "outputs": [],
   "source": [
    "custom_hybrid_ndcg = {}\n",
    "custom_hybrid_ap = {}\n",
    "custom_hybrid_f1 = {}\n",
    "for (true_key, true_value), (es_key, es_value) in zip(unique_truth_dict_all.items(), custom_hybrid_results_all.items()):\n",
    "    custom_hybrid_ndcg[true_key] = ndcg_score([true_value], [es_value])\n",
    "    custom_hybrid_ap[true_key] = average_precision_score(true_value, es_value, pos_label=0)\n",
    "for (true_key, true_value), (es_key, es_value) in zip(unique_truth_dict_all.items(), custom_binary_hybrid_results_all.items()):\n",
    "    custom_hybrid_f1[true_key] = f1_score(true_value, es_value, zero_division=0, pos_label=0)"
   ]
  },
  {
   "cell_type": "code",
   "execution_count": 78,
   "metadata": {},
   "outputs": [],
   "source": [
    "custom_hybrid_eval = pd.DataFrame(data=[custom_hybrid_ndcg, custom_hybrid_ap, custom_hybrid_f1]).T\n",
    "custom_hybrid_eval = custom_hybrid_eval.rename({0:\"NDCG\", 1:\"AP\", 2:\"F1\"}, axis=1)"
   ]
  },
  {
   "cell_type": "code",
   "execution_count": 79,
   "metadata": {},
   "outputs": [
    {
     "data": {
      "text/html": [
       "<div>\n",
       "<style scoped>\n",
       "    .dataframe tbody tr th:only-of-type {\n",
       "        vertical-align: middle;\n",
       "    }\n",
       "\n",
       "    .dataframe tbody tr th {\n",
       "        vertical-align: top;\n",
       "    }\n",
       "\n",
       "    .dataframe thead th {\n",
       "        text-align: right;\n",
       "    }\n",
       "</style>\n",
       "<table border=\"1\" class=\"dataframe\">\n",
       "  <thead>\n",
       "    <tr style=\"text-align: right;\">\n",
       "      <th></th>\n",
       "      <th>NDCG</th>\n",
       "      <th>AP</th>\n",
       "      <th>F1</th>\n",
       "    </tr>\n",
       "  </thead>\n",
       "  <tbody>\n",
       "    <tr>\n",
       "      <th>count</th>\n",
       "      <td>94.000000</td>\n",
       "      <td>94.000000</td>\n",
       "      <td>94.000000</td>\n",
       "    </tr>\n",
       "    <tr>\n",
       "      <th>mean</th>\n",
       "      <td>0.485239</td>\n",
       "      <td>0.819608</td>\n",
       "      <td>0.809310</td>\n",
       "    </tr>\n",
       "    <tr>\n",
       "      <th>std</th>\n",
       "      <td>0.262184</td>\n",
       "      <td>0.196398</td>\n",
       "      <td>0.147469</td>\n",
       "    </tr>\n",
       "    <tr>\n",
       "      <th>min</th>\n",
       "      <td>0.000000</td>\n",
       "      <td>0.068966</td>\n",
       "      <td>0.148148</td>\n",
       "    </tr>\n",
       "    <tr>\n",
       "      <th>25%</th>\n",
       "      <td>0.272363</td>\n",
       "      <td>0.758470</td>\n",
       "      <td>0.808511</td>\n",
       "    </tr>\n",
       "    <tr>\n",
       "      <th>50%</th>\n",
       "      <td>0.478919</td>\n",
       "      <td>0.908873</td>\n",
       "      <td>0.862745</td>\n",
       "    </tr>\n",
       "    <tr>\n",
       "      <th>75%</th>\n",
       "      <td>0.694994</td>\n",
       "      <td>0.969212</td>\n",
       "      <td>0.884615</td>\n",
       "    </tr>\n",
       "    <tr>\n",
       "      <th>max</th>\n",
       "      <td>1.000000</td>\n",
       "      <td>1.000000</td>\n",
       "      <td>0.943396</td>\n",
       "    </tr>\n",
       "  </tbody>\n",
       "</table>\n",
       "</div>"
      ],
      "text/plain": [
       "            NDCG         AP         F1\n",
       "count  94.000000  94.000000  94.000000\n",
       "mean    0.485239   0.819608   0.809310\n",
       "std     0.262184   0.196398   0.147469\n",
       "min     0.000000   0.068966   0.148148\n",
       "25%     0.272363   0.758470   0.808511\n",
       "50%     0.478919   0.908873   0.862745\n",
       "75%     0.694994   0.969212   0.884615\n",
       "max     1.000000   1.000000   0.943396"
      ]
     },
     "execution_count": 79,
     "metadata": {},
     "output_type": "execute_result"
    }
   ],
   "source": [
    "custom_hybrid_eval.describe()"
   ]
  },
  {
   "cell_type": "code",
   "execution_count": 80,
   "metadata": {},
   "outputs": [
    {
     "data": {
      "image/png": "[encoded data removed]",
      "text/plain": [
       "<Figure size 576x360 with 1 Axes>"
      ]
     },
     "metadata": {
      "needs_background": "light"
     },
     "output_type": "display_data"
    }
   ],
   "source": [
    "plt.figure(figsize = (8,5))\n",
    "sns.kdeplot(custom_hybrid_eval.NDCG, alpha=.1, shade=True, label='NDCG')\n",
    "sns.kdeplot(custom_hybrid_eval.AP, alpha=.1, shade=True,label='AP')\n",
    "sns.kdeplot(custom_hybrid_eval.F1,  alpha=.1, shade=True,label='F1')\n",
    "plt.legend()\n",
    "plt.title('Ranking Metric Performance, Custom Hybrid Index', fontsize=20)\n",
    "plt.xlabel('Score Distribution', fontsize=16)\n",
    "plt.ylabel('Score Density', fontsize=16)\n",
    "plt.xlim(0,1);"
   ]
  }
 ],
 "metadata": {
  "kernelspec": {
   "display_name": "Python 3",
   "language": "python",
   "name": "python3"
  },
  "language_info": {
   "codemirror_mode": {
    "name": "ipython",
    "version": 3
   },
   "file_extension": ".py",
   "mimetype": "text/x-python",
   "name": "python",
   "nbconvert_exporter": "python",
   "pygments_lexer": "ipython3",
   "version": "3.8.3"
  }
 },
 "nbformat": 4,
 "nbformat_minor": 4
}
