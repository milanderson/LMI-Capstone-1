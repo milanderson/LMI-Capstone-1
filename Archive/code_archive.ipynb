{
 "cells": [
  {
   "cell_type": "markdown",
   "metadata": {},
   "source": [
    "# From comment_metadata.ipynb:"
   ]
  },
  {
   "cell_type": "markdown",
   "metadata": {},
   "source": [
    "## Header Index Testing"
   ]
  },
  {
   "cell_type": "code",
   "execution_count": 13,
   "metadata": {},
   "outputs": [],
   "source": [
    "with open('header_results.json') as f:\n",
    "    header_results_json = json.load(f)"
   ]
  },
  {
   "cell_type": "code",
   "execution_count": 14,
   "metadata": {},
   "outputs": [],
   "source": [
    "#tranlate ES keys to true rule section names, MAINTAINING ORDER\n",
    "for key, value in header_results_json.items():\n",
    "    value_list = []\n",
    "    for val_idx in value:\n",
    "        for true_key in truth_keys:\n",
    "            if true_key in val_idx and true_key not in value_list: \n",
    "                value_list.append(true_key)\n",
    "        header_results_json[key]=value_list     "
   ]
  },
  {
   "cell_type": "code",
   "execution_count": null,
   "metadata": {},
   "outputs": [],
   "source": [
    "# match_dict shows all true positives, without penalty to false categorization\n",
    "match_dict= {}\n",
    "for (key1, value1), (key2,value2) in zip(truth_dict.items(), header_results_json.items()):\n",
    "    match_count = 0\n",
    "    for val_idx in value1:\n",
    "        if val_idx in value2:\n",
    "            match_count += 1\n",
    "        match_dict[key1]=match_count/len(value1)"
   ]
  },
  {
   "cell_type": "code",
   "execution_count": null,
   "metadata": {},
   "outputs": [],
   "source": [
    "# unpenalized accuracy of true positives\n",
    "meanvals = np.mean(list(match_dict.values()))\n",
    "meanvals"
   ]
  },
  {
   "cell_type": "code",
   "execution_count": null,
   "metadata": {},
   "outputs": [],
   "source": [
    "# match_dict1 shows all true positives, with penalty to false categorization\n",
    "match_dict1= {}\n",
    "for (key1, value1), (key2,value2) in zip(truth_dict.items(), header_results_json.items()):\n",
    "    match_count = 0\n",
    "    for val_idx in value2:\n",
    "        if val_idx in value1:\n",
    "            match_count += 1\n",
    "        match_dict1[key1]=match_count/len(value2)"
   ]
  },
  {
   "cell_type": "code",
   "execution_count": null,
   "metadata": {},
   "outputs": [],
   "source": [
    "# penalized accuracy of true positives\n",
    "meanvals1 = np.mean(list(match_dict1.values()))\n",
    "meanvals1"
   ]
  },
  {
   "cell_type": "code",
   "execution_count": null,
   "metadata": {},
   "outputs": [],
   "source": [
    "np.mean([meanvals,meanvals1])"
   ]
  },
  {
   "cell_type": "markdown",
   "metadata": {},
   "source": [
    "### Sklearn NDCG Headers"
   ]
  },
  {
   "cell_type": "code",
   "execution_count": null,
   "metadata": {},
   "outputs": [],
   "source": [
    "#create truth dict with values equal to sparse array length=29, binary\n",
    "truth_dict_all = truth_dict.copy()\n",
    "for key, value in truth_dict.items():\n",
    "    new_value_list = np.zeros(len(truth_keys))\n",
    "    for val in value:\n",
    "        for i in range(len(truth_keys)):\n",
    "            if val == truth_keys[i]:\n",
    "                new_value_list[i] = 1\n",
    "    truth_dict_all[key] = new_value_list"
   ]
  },
  {
   "cell_type": "code",
   "execution_count": null,
   "metadata": {},
   "outputs": [],
   "source": [
    "#create header results dict with values equal to sparse array length=29, binary\n",
    "binary_header_results_all = header_results_json.copy()\n",
    "for key, value in header_results_json.items():\n",
    "    new_value_list = np.zeros(len(truth_keys))\n",
    "    counter = 1\n",
    "    for val in value:\n",
    "        for i in range(len(truth_keys)):\n",
    "            if val == truth_keys[i]:\n",
    "                counter += 1\n",
    "                new_value_list[i] = 1\n",
    "    binary_header_results_all[key] = new_value_list"
   ]
  },
  {
   "cell_type": "code",
   "execution_count": null,
   "metadata": {},
   "outputs": [],
   "source": [
    "#create header results dict with values equal to sparse array length=29, (discounted)\n",
    "header_results_all = header_results_json.copy()\n",
    "for key, value in header_results_json.items():\n",
    "    new_value_list = np.zeros(len(truth_keys))\n",
    "    counter = 1\n",
    "    for val in value:\n",
    "        for i in range(len(truth_keys)):\n",
    "            if val == truth_keys[i]:\n",
    "                counter += 1\n",
    "                new_value_list[i] = 1/math.log(counter, 2)\n",
    "    header_results_all[key] = new_value_list"
   ]
  },
  {
   "cell_type": "code",
   "execution_count": null,
   "metadata": {},
   "outputs": [],
   "source": [
    "headers_ndcg = {}\n",
    "headers_ap = {}\n",
    "headers_f1 = {}\n",
    "for (true_key, true_value), (es_key, es_value) in zip(truth_dict_all.items(), header_results_all.items()):\n",
    "    headers_ndcg[true_key] = ndcg_score([true_value], [es_value])\n",
    "    headers_ap[true_key] = average_precision_score(true_value, es_value, pos_label=0)\n",
    "for (true_key, true_value), (es_key, es_value) in zip(truth_dict_all.items(), binary_header_results_all.items()):\n",
    "    headers_f1[true_key] = f1_score(true_value, es_value, zero_division=0, pos_label=0)"
   ]
  },
  {
   "cell_type": "code",
   "execution_count": null,
   "metadata": {},
   "outputs": [],
   "source": [
    "headers_eval = pd.DataFrame(data=[headers_ndcg, headers_ap, headers_f1]).T\n",
    "headers_eval = headers_eval.rename({0:\"NDCG\", 1:\"AP\", 2:\"F1\"}, axis=1)"
   ]
  },
  {
   "cell_type": "code",
   "execution_count": null,
   "metadata": {},
   "outputs": [],
   "source": [
    "plt.figure(figsize = (14,10))\n",
    "sns.kdeplot(headers_eval.NDCG, alpha=.1, shade=True, label='NDCG')\n",
    "sns.kdeplot(headers_eval.AP, alpha=.1, shade=True,label='AP')\n",
    "sns.kdeplot(headers_eval.F1,  alpha=.1, shade=True,label='F1')\n",
    "plt.legend()\n",
    "plt.title('Ranking Metric Performance, Headers Index', fontsize=20)\n",
    "plt.xlabel('Score Distribution', fontsize=16)\n",
    "plt.ylabel('Score Density', fontsize=16)\n",
    "plt.xlim(0,1);"
   ]
  },
  {
   "cell_type": "markdown",
   "metadata": {},
   "source": [
    "### NDCG"
   ]
  },
  {
   "cell_type": "code",
   "execution_count": null,
   "metadata": {},
   "outputs": [],
   "source": [
    "def Cummulative_gain(truth, pred):\n",
    "    counter = 0\n",
    "    for i in truth:\n",
    "        if i in pred:\n",
    "            counter +=1\n",
    "    return counter\n",
    "def Discounted_Cummulative_gain(truth, pred):\n",
    "    DCG = 0\n",
    "    for i,j in enumerate(pred):\n",
    "        if j in truth:\n",
    "            DCG += (1/(math.log(i+2,2)))\n",
    "    return DCG\n",
    "def Ideal_discounted_cummulative_gain(truth, pred):\n",
    "    counter = 0\n",
    "    IDCG = 0\n",
    "    for i in truth:\n",
    "        if i in pred:\n",
    "            counter +=1\n",
    "    for i in range(counter):\n",
    "        IDCG += (1/(math.log(i+2,2)))\n",
    "    return IDCG\n",
    "def nDiscounted_Cummulative_gain(truth, pred):\n",
    "    x = Ideal_discounted_cummulative_gain(truth, pred)\n",
    "    y = Discounted_Cummulative_gain(truth, pred)\n",
    "    return y/(x+0.0001)"
   ]
  },
  {
   "cell_type": "markdown",
   "metadata": {},
   "source": [
    "## Average Precision"
   ]
  },
  {
   "cell_type": "code",
   "execution_count": null,
   "metadata": {},
   "outputs": [],
   "source": [
    "def average_precision(truth, pred):\n",
    "    runn = 0\n",
    "    cum_gain = 0\n",
    "    for i, j in enumerate(truth):\n",
    "        if j in pred:\n",
    "            cum_gain +=1\n",
    "            runn = runn + cum_gain/(i+1)\n",
    "    average_pred = runn / (cum_gain + 0.0001)\n",
    "    return average_pred"
   ]
  },
  {
   "cell_type": "markdown",
   "metadata": {},
   "source": [
    "## F1 Score"
   ]
  },
  {
   "cell_type": "code",
   "execution_count": null,
   "metadata": {},
   "outputs": [],
   "source": [
    "def F_1_score(truth, pred):\n",
    "    AP = average_precision(truth, pred)\n",
    "    F_1 = AP/(AP + 1)\n",
    "    return 2*F_1"
   ]
  },
  {
   "cell_type": "markdown",
   "metadata": {},
   "source": [
    "## Headers Scoring"
   ]
  },
  {
   "cell_type": "code",
   "execution_count": null,
   "metadata": {},
   "outputs": [],
   "source": [
    "CG = {}\n",
    "DCG = {}\n",
    "iDCG = {}\n",
    "nDCG = {}\n",
    "AP = {}\n",
    "F_1 = {}\n",
    "MAP = 0\n",
    "count = 0\n",
    "for (i,(k,j)) in zip(truth_dict.values(),header_results_json.items()):\n",
    "    CG[k] = Cummulative_gain(i,j)\n",
    "    DCG[k] = Discounted_Cummulative_gain(i,j)\n",
    "    iDCG[k] = Ideal_discounted_cummulative_gain(i,j)\n",
    "    nDCG[k] = nDiscounted_Cummulative_gain(i,j)\n",
    "    AP[k] = average_precision(i,j)\n",
    "    F_1[k] = F_1_score(i,j)\n",
    "    count +=1\n",
    "    MAP +=AP[k]\n",
    "Model_eval = pd.DataFrame(data=[CG, DCG, iDCG, nDCG, AP, F_1])\n",
    "MAP/count"
   ]
  },
  {
   "cell_type": "code",
   "execution_count": null,
   "metadata": {},
   "outputs": [],
   "source": [
    "Model_eval = Model_eval.transpose().rename({0:'CG',1:'DCG',2:'iDCG',3:'nDCG',4:'AP',5:'F1'}, axis=1)\n",
    "Model_eval"
   ]
  },
  {
   "cell_type": "code",
   "execution_count": null,
   "metadata": {},
   "outputs": [],
   "source": [
    "Mean_scores = Model_eval.mean()\n",
    "Mean_scores"
   ]
  },
  {
   "cell_type": "code",
   "execution_count": null,
   "metadata": {},
   "outputs": [],
   "source": []
  },
  {
   "cell_type": "code",
   "execution_count": null,
   "metadata": {},
   "outputs": [],
   "source": [
    "plt.figure(figsize = (14,10))\n",
    "\n",
    "sns.kdeplot(Model_eval.nDCG, alpha=.1, shade=True, label='nDCG')\n",
    "sns.kdeplot(Model_eval.AP, alpha=.1, shade=True,label='AP')\n",
    "sns.kdeplot(Model_eval.F1,  alpha=.1, shade=True,label='F1')\n",
    "plt.legend()\n",
    "plt.title('Ranking Metric Performance, Headers Index', fontsize=20)\n",
    "plt.xlabel('Score Distribution', fontsize=16)\n",
    "plt.ylabel('Score Density', fontsize=16)\n",
    "plt.xlim(0,1);"
   ]
  },
  {
   "cell_type": "markdown",
   "metadata": {},
   "source": [
    "## Hybrid Scoring"
   ]
  },
  {
   "cell_type": "code",
   "execution_count": null,
   "metadata": {},
   "outputs": [],
   "source": [
    "CG = {}\n",
    "DCG = {}\n",
    "iDCG = {}\n",
    "nDCG = {}\n",
    "AP = {}\n",
    "F_1 = {}\n",
    "MAP = 0\n",
    "count = 0\n",
    "for (i,(k,j)) in zip(truth_dict.values(),hybrid_results_json.items()):\n",
    "    CG[k] = Cummulative_gain(i,j)\n",
    "    DCG[k] = Discounted_Cummulative_gain(i,j)\n",
    "    iDCG[k] = Ideal_discounted_cummulative_gain(i,j)\n",
    "    nDCG[k] = nDiscounted_Cummulative_gain(i,j)\n",
    "    AP[k] = average_precision(i,j)\n",
    "    F_1[k] = F_1_score(i,j)\n",
    "    count += 1\n",
    "    MAP += AP[k]\n",
    "Model_eval2 = pd.DataFrame(data=[CG, DCG, iDCG, nDCG, AP, F_1])\n",
    "MAP/count"
   ]
  },
  {
   "cell_type": "code",
   "execution_count": null,
   "metadata": {},
   "outputs": [],
   "source": [
    "Model_eval2 = Model_eval2.transpose().rename({0:'CG',1:'DCG',2:'iDCG',3:'nDCG',4:'AP',5:'F1'}, axis=1)\n",
    "Model_eval2"
   ]
  },
  {
   "cell_type": "code",
   "execution_count": null,
   "metadata": {},
   "outputs": [],
   "source": [
    "Mean_scores2 = Model_eval2.mean()\n",
    "Mean_scores2"
   ]
  },
  {
   "cell_type": "code",
   "execution_count": null,
   "metadata": {},
   "outputs": [],
   "source": [
    "mean_df = pd.DataFrame(data=[Mean_scores, Mean_scores2])\n",
    "mean_df=mean_df.rename({0:'headers',1:'hybrid'},axis=0)\n",
    "mean_df"
   ]
  },
  {
   "cell_type": "code",
   "execution_count": null,
   "metadata": {},
   "outputs": [],
   "source": [
    "plt.figure(figsize = (14,10))\n",
    "\n",
    "sns.kdeplot(Model_eval2.nDCG, alpha=.1, shade=True, label='nDCG')\n",
    "sns.kdeplot(Model_eval2.AP, alpha=.1, shade=True, label='AP')\n",
    "sns.kdeplot(Model_eval2.F1,  alpha=.1, shade=True, label='F1')\n",
    "plt.legend()\n",
    "plt.title('Ranking Metric Performance, Hybrid Index', fontsize=20)\n",
    "plt.xlabel('Score Distribution', fontsize=16)\n",
    "plt.ylabel('Score Density', fontsize=16)\n",
    "plt.xlim(0,1);"
   ]
  },
  {
   "cell_type": "markdown",
   "metadata": {},
   "source": [
    "# From es_upload.ipynb"
   ]
  },
  {
   "cell_type": "code",
   "execution_count": null,
   "metadata": {},
   "outputs": [],
   "source": [
    "#Updated Character-Count Split\n",
    "\n",
    "def splitRule_line_chars(rule_url):\n",
    "    #get rule\n",
    "    alltxt = requests.get(rule_url).text.lower()#.encode('unicode_escape').decode() #encodes like raw strings\n",
    "\n",
    "    #Isolate Section 2\n",
    "    initialsplit = alltxt.split(\"ii. provisions of the proposed regulations\") #split before section 2\n",
    "    sec2andon = initialsplit[1] #choose latter half\n",
    "    sec2list = sec2andon.split(\"iii. collection of information requirements\") #split before section 3\n",
    "    splitlist = sec2list[0] #choose first half\n",
    "    \n",
    "    #Split on new paragraphs\n",
    "    paragraphs = splitlist.split('\\r\\n')\n",
    "    \n",
    "    #add new lines while under 2000 characters\n",
    "    for i in range(len(paragraphs) - 1):\n",
    "        while i < (len(paragraphs)-1) and len(paragraphs[i]) < 2000:\n",
    "            paragraphs[i] += paragraphs[i+1]\n",
    "            del(paragraphs[i+1])\n",
    "\n",
    "    #add to dictionary\n",
    "    rulechunks = {}\n",
    "    keys = range(len(paragraphs))\n",
    "    for i in keys:\n",
    "        rulechunks[i] = {\"text\": paragraphs[i]}\n",
    "\n",
    "    return rulechunks"
   ]
  },
  {
   "cell_type": "code",
   "execution_count": null,
   "metadata": {},
   "outputs": [],
   "source": [
    "def splitRule_chars(rule_url):\n",
    "    alltxt = requests.get(rule_url).text.lower()#.encode('unicode_escape').decode() #encodes like raw strings\n",
    "    \n",
    "    #Isolate Section 2\n",
    "    initialsplit = alltxt.split(\"ii. provisions of the proposed regulations\") #split before section 2\n",
    "    sec2andon = initialsplit[1] #choose latter half\n",
    "    sec2list = sec2andon.split(\"iii. collection of information requirements\") #split before section 3\n",
    "    splitlist = sec2list[0] #choose first half\n",
    "    \n",
    "    #chunk by num chars\n",
    "    #chunklist = []\n",
    "    \n",
    "    chunklist = [(splitlist[i:i+8000]) for i in range(0, len(splitlist), 8000)]\n",
    "    \n",
    "    #make dict\n",
    "    rulechunks = {}\n",
    "    keys = range(len(chunklist))\n",
    "    for i in keys:\n",
    "        rulechunks[i] = {\"text\": chunklist[i]}\n",
    "\n",
    "    return rulechunks"
   ]
  },
  {
   "cell_type": "code",
   "execution_count": null,
   "metadata": {},
   "outputs": [],
   "source": [
    "def splitRule_headchars(rule_url):\n",
    "    chunks = splitRule_headers(rule_url) #call first method\n",
    "    for key, value in chunks.items():\n",
    "        if len(value[\"text\"]) > 50000: #check to see if chunk is really long\n",
    "            smalldict = {}\n",
    "            chunklist = [value[\"text\"][i:i+25000] for i in range(0, len(value[\"text\"]), 25000)] #split chunk\n",
    "            keys = range(len(chunklist))\n",
    "            for i in keys:\n",
    "                smalldict[key+str(i)] = {\"text\": chunklist[i]} #add to sub-dictionary\n",
    "            chunks[key] = smalldict #add to big dictionary\n",
    "        else:\n",
    "            chunks[key] = {key+str(0): value} #add to big dictionary\n",
    "    return chunks"
   ]
  },
  {
   "cell_type": "code",
   "execution_count": null,
   "metadata": {},
   "outputs": [],
   "source": [
    "def ruletoES_hybrid(rulechunks, es_index, idnum):\n",
    "    for key, value in rulechunks.items():\n",
    "        for small_key, small_value in value.items():\n",
    "            res = es.index(index=es_index, id=idnum, body={small_key:small_value})\n",
    "            idnum += 1\n",
    "            es.indices.refresh(index=es_index)\n",
    "    print(f\"Last id uploaded: {idnum-1}\")"
   ]
  },
  {
   "cell_type": "markdown",
   "metadata": {},
   "source": [
    "#### CHARCTER Full dictionary Query"
   ]
  },
  {
   "cell_type": "code",
   "execution_count": null,
   "metadata": {},
   "outputs": [],
   "source": [
    "# CHARACTER Full dictionary Query\n",
    "char_results = run_large_query(comments2018, \"char_25000\")"
   ]
  },
  {
   "cell_type": "code",
   "execution_count": null,
   "metadata": {},
   "outputs": [],
   "source": [
    "# Capture CHARACTER results in CSV\n",
    "w = csv.writer(open('char_results.csv', 'w'))\n",
    "for key, val in results.items():\n",
    "    w.writerow([key,val])"
   ]
  },
  {
   "cell_type": "code",
   "execution_count": null,
   "metadata": {},
   "outputs": [],
   "source": [
    "# Capture CHARACTER results in JSON\n",
    "json = json.dumps(results)\n",
    "f = open('char_results.json','w')\n",
    "f.write(json)\n",
    "f.close()"
   ]
  },
  {
   "cell_type": "markdown",
   "metadata": {},
   "source": [
    "#### HEADERS Full dictionary Query"
   ]
  },
  {
   "cell_type": "code",
   "execution_count": null,
   "metadata": {},
   "outputs": [],
   "source": [
    "header_results = run_large_query(comments2018, \"headers_new\")"
   ]
  },
  {
   "cell_type": "code",
   "execution_count": null,
   "metadata": {},
   "outputs": [],
   "source": [
    "w = csv.writer(open('header_results2.csv', 'w'))\n",
    "for key, val in results.items():\n",
    "    w.writerow([key,val])"
   ]
  },
  {
   "cell_type": "code",
   "execution_count": null,
   "metadata": {},
   "outputs": [],
   "source": [
    "json = json.dumps(results)\n",
    "f = open('header_results2.json','w')\n",
    "f.write(json)\n",
    "f.close()"
   ]
  },
  {
   "cell_type": "markdown",
   "metadata": {},
   "source": [
    "#### HYBRID Full dictionary Query"
   ]
  },
  {
   "cell_type": "code",
   "execution_count": null,
   "metadata": {},
   "outputs": [],
   "source": [
    "hybrid_results = run_large_query(comments2018, \"hybrid_6000\")"
   ]
  },
  {
   "cell_type": "code",
   "execution_count": null,
   "metadata": {},
   "outputs": [],
   "source": [
    "# Capture HYBRID results in CSV\n",
    "w = csv.writer(open('hybrid_results.csv', 'w'))\n",
    "for key, val in hybrid_results.items():\n",
    "    w.writerow([key,val])"
   ]
  },
  {
   "cell_type": "code",
   "execution_count": null,
   "metadata": {},
   "outputs": [],
   "source": [
    "# Capture HYBRID results in JSON\n",
    "json = json.dumps(hybrid_results)\n",
    "f = open('hybrid_results.json','w')\n",
    "f.write(json)\n",
    "f.close()"
   ]
  }
 ],
 "metadata": {
  "kernelspec": {
   "display_name": "Python 3",
   "language": "python",
   "name": "python3"
  },
  "language_info": {
   "codemirror_mode": {
    "name": "ipython",
    "version": 3
   },
   "file_extension": ".py",
   "mimetype": "text/x-python",
   "name": "python",
   "nbconvert_exporter": "python",
   "pygments_lexer": "ipython3",
   "version": "3.8.3"
  }
 },
 "nbformat": 4,
 "nbformat_minor": 4
}
